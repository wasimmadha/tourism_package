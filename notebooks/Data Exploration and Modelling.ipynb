{
 "cells": [
  {
   "cell_type": "code",
   "execution_count": 79,
   "id": "70766037",
   "metadata": {},
   "outputs": [],
   "source": [
    "import pandas as pd\n",
    "import numpy as np\n",
    "import matplotlib.pyplot as plt\n",
    "import seaborn as sns\n",
    "import plotly.express as px\n",
    "import warnings\n",
    "\n",
    "from sklearn.naive_bayes import GaussianNB\n",
    "from sklearn.ensemble import RandomForestClassifier, GradientBoostingClassifier, AdaBoostClassifier\n",
    "from sklearn.linear_model import LogisticRegression\n",
    "from sklearn.neighbors import KNeighborsClassifier\n",
    "from sklearn.metrics import accuracy_score, classification_report,ConfusionMatrixDisplay, \\\n",
    "                            precision_score, recall_score, f1_score, confusion_matrix\n",
    "from sklearn.svm import SVC\n",
    "from sklearn.tree import DecisionTreeClassifier\n",
    "from xgboost import XGBClassifier\n",
    "from catboost import CatBoostClassifier\n",
    "from sklearn.model_selection import train_test_split, GridSearchCV,cross_val_score\n",
    "from sklearn.compose import ColumnTransformer, make_column_transformer\n",
    "from sklearn.pipeline import Pipeline\n",
    "\n",
    "\n",
    "warnings.filterwarnings(\"ignore\")\n",
    "\n",
    "%matplotlib inline"
   ]
  },
  {
   "cell_type": "code",
   "execution_count": 80,
   "id": "14ec7a34",
   "metadata": {},
   "outputs": [],
   "source": [
    "df = pd.read_csv(r\"C:\\Users\\wasim\\tourism_package\\packagePrediction\\data\\Travel.csv\")"
   ]
  },
  {
   "cell_type": "code",
   "execution_count": 81,
   "id": "06956938",
   "metadata": {
    "scrolled": true
   },
   "outputs": [
    {
     "data": {
      "text/plain": [
       "(4888, 20)"
      ]
     },
     "execution_count": 81,
     "metadata": {},
     "output_type": "execute_result"
    }
   ],
   "source": [
    "df.shape"
   ]
  },
  {
   "cell_type": "code",
   "execution_count": 82,
   "id": "4ef0dab1",
   "metadata": {},
   "outputs": [
    {
     "data": {
      "application/vnd.plotly.v1+json": {
       "config": {
        "plotlyServerURL": "https://plot.ly"
       },
       "data": [
        {
         "domain": {
          "x": [
           0,
           1
          ],
          "y": [
           0,
           1
          ]
         },
         "hovertemplate": "label=%{label}<br>value=%{value}<extra></extra>",
         "labels": [
          "Not-Bought",
          "Bought"
         ],
         "legendgroup": "",
         "name": "",
         "showlegend": true,
         "textinfo": "percent+label",
         "textposition": "inside",
         "type": "pie",
         "values": [
          81.17839607201309,
          18.821603927986907
         ]
        }
       ],
       "layout": {
        "legend": {
         "tracegroupgap": 0
        },
        "margin": {
         "b": 50,
         "l": 50,
         "r": 50,
         "t": 50
        },
        "template": {
         "data": {
          "bar": [
           {
            "error_x": {
             "color": "#2a3f5f"
            },
            "error_y": {
             "color": "#2a3f5f"
            },
            "marker": {
             "line": {
              "color": "#E5ECF6",
              "width": 0.5
             },
             "pattern": {
              "fillmode": "overlay",
              "size": 10,
              "solidity": 0.2
             }
            },
            "type": "bar"
           }
          ],
          "barpolar": [
           {
            "marker": {
             "line": {
              "color": "#E5ECF6",
              "width": 0.5
             },
             "pattern": {
              "fillmode": "overlay",
              "size": 10,
              "solidity": 0.2
             }
            },
            "type": "barpolar"
           }
          ],
          "carpet": [
           {
            "aaxis": {
             "endlinecolor": "#2a3f5f",
             "gridcolor": "white",
             "linecolor": "white",
             "minorgridcolor": "white",
             "startlinecolor": "#2a3f5f"
            },
            "baxis": {
             "endlinecolor": "#2a3f5f",
             "gridcolor": "white",
             "linecolor": "white",
             "minorgridcolor": "white",
             "startlinecolor": "#2a3f5f"
            },
            "type": "carpet"
           }
          ],
          "choropleth": [
           {
            "colorbar": {
             "outlinewidth": 0,
             "ticks": ""
            },
            "type": "choropleth"
           }
          ],
          "contour": [
           {
            "colorbar": {
             "outlinewidth": 0,
             "ticks": ""
            },
            "colorscale": [
             [
              0,
              "#0d0887"
             ],
             [
              0.1111111111111111,
              "#46039f"
             ],
             [
              0.2222222222222222,
              "#7201a8"
             ],
             [
              0.3333333333333333,
              "#9c179e"
             ],
             [
              0.4444444444444444,
              "#bd3786"
             ],
             [
              0.5555555555555556,
              "#d8576b"
             ],
             [
              0.6666666666666666,
              "#ed7953"
             ],
             [
              0.7777777777777778,
              "#fb9f3a"
             ],
             [
              0.8888888888888888,
              "#fdca26"
             ],
             [
              1,
              "#f0f921"
             ]
            ],
            "type": "contour"
           }
          ],
          "contourcarpet": [
           {
            "colorbar": {
             "outlinewidth": 0,
             "ticks": ""
            },
            "type": "contourcarpet"
           }
          ],
          "heatmap": [
           {
            "colorbar": {
             "outlinewidth": 0,
             "ticks": ""
            },
            "colorscale": [
             [
              0,
              "#0d0887"
             ],
             [
              0.1111111111111111,
              "#46039f"
             ],
             [
              0.2222222222222222,
              "#7201a8"
             ],
             [
              0.3333333333333333,
              "#9c179e"
             ],
             [
              0.4444444444444444,
              "#bd3786"
             ],
             [
              0.5555555555555556,
              "#d8576b"
             ],
             [
              0.6666666666666666,
              "#ed7953"
             ],
             [
              0.7777777777777778,
              "#fb9f3a"
             ],
             [
              0.8888888888888888,
              "#fdca26"
             ],
             [
              1,
              "#f0f921"
             ]
            ],
            "type": "heatmap"
           }
          ],
          "heatmapgl": [
           {
            "colorbar": {
             "outlinewidth": 0,
             "ticks": ""
            },
            "colorscale": [
             [
              0,
              "#0d0887"
             ],
             [
              0.1111111111111111,
              "#46039f"
             ],
             [
              0.2222222222222222,
              "#7201a8"
             ],
             [
              0.3333333333333333,
              "#9c179e"
             ],
             [
              0.4444444444444444,
              "#bd3786"
             ],
             [
              0.5555555555555556,
              "#d8576b"
             ],
             [
              0.6666666666666666,
              "#ed7953"
             ],
             [
              0.7777777777777778,
              "#fb9f3a"
             ],
             [
              0.8888888888888888,
              "#fdca26"
             ],
             [
              1,
              "#f0f921"
             ]
            ],
            "type": "heatmapgl"
           }
          ],
          "histogram": [
           {
            "marker": {
             "pattern": {
              "fillmode": "overlay",
              "size": 10,
              "solidity": 0.2
             }
            },
            "type": "histogram"
           }
          ],
          "histogram2d": [
           {
            "colorbar": {
             "outlinewidth": 0,
             "ticks": ""
            },
            "colorscale": [
             [
              0,
              "#0d0887"
             ],
             [
              0.1111111111111111,
              "#46039f"
             ],
             [
              0.2222222222222222,
              "#7201a8"
             ],
             [
              0.3333333333333333,
              "#9c179e"
             ],
             [
              0.4444444444444444,
              "#bd3786"
             ],
             [
              0.5555555555555556,
              "#d8576b"
             ],
             [
              0.6666666666666666,
              "#ed7953"
             ],
             [
              0.7777777777777778,
              "#fb9f3a"
             ],
             [
              0.8888888888888888,
              "#fdca26"
             ],
             [
              1,
              "#f0f921"
             ]
            ],
            "type": "histogram2d"
           }
          ],
          "histogram2dcontour": [
           {
            "colorbar": {
             "outlinewidth": 0,
             "ticks": ""
            },
            "colorscale": [
             [
              0,
              "#0d0887"
             ],
             [
              0.1111111111111111,
              "#46039f"
             ],
             [
              0.2222222222222222,
              "#7201a8"
             ],
             [
              0.3333333333333333,
              "#9c179e"
             ],
             [
              0.4444444444444444,
              "#bd3786"
             ],
             [
              0.5555555555555556,
              "#d8576b"
             ],
             [
              0.6666666666666666,
              "#ed7953"
             ],
             [
              0.7777777777777778,
              "#fb9f3a"
             ],
             [
              0.8888888888888888,
              "#fdca26"
             ],
             [
              1,
              "#f0f921"
             ]
            ],
            "type": "histogram2dcontour"
           }
          ],
          "mesh3d": [
           {
            "colorbar": {
             "outlinewidth": 0,
             "ticks": ""
            },
            "type": "mesh3d"
           }
          ],
          "parcoords": [
           {
            "line": {
             "colorbar": {
              "outlinewidth": 0,
              "ticks": ""
             }
            },
            "type": "parcoords"
           }
          ],
          "pie": [
           {
            "automargin": true,
            "type": "pie"
           }
          ],
          "scatter": [
           {
            "marker": {
             "colorbar": {
              "outlinewidth": 0,
              "ticks": ""
             }
            },
            "type": "scatter"
           }
          ],
          "scatter3d": [
           {
            "line": {
             "colorbar": {
              "outlinewidth": 0,
              "ticks": ""
             }
            },
            "marker": {
             "colorbar": {
              "outlinewidth": 0,
              "ticks": ""
             }
            },
            "type": "scatter3d"
           }
          ],
          "scattercarpet": [
           {
            "marker": {
             "colorbar": {
              "outlinewidth": 0,
              "ticks": ""
             }
            },
            "type": "scattercarpet"
           }
          ],
          "scattergeo": [
           {
            "marker": {
             "colorbar": {
              "outlinewidth": 0,
              "ticks": ""
             }
            },
            "type": "scattergeo"
           }
          ],
          "scattergl": [
           {
            "marker": {
             "colorbar": {
              "outlinewidth": 0,
              "ticks": ""
             }
            },
            "type": "scattergl"
           }
          ],
          "scattermapbox": [
           {
            "marker": {
             "colorbar": {
              "outlinewidth": 0,
              "ticks": ""
             }
            },
            "type": "scattermapbox"
           }
          ],
          "scatterpolar": [
           {
            "marker": {
             "colorbar": {
              "outlinewidth": 0,
              "ticks": ""
             }
            },
            "type": "scatterpolar"
           }
          ],
          "scatterpolargl": [
           {
            "marker": {
             "colorbar": {
              "outlinewidth": 0,
              "ticks": ""
             }
            },
            "type": "scatterpolargl"
           }
          ],
          "scatterternary": [
           {
            "marker": {
             "colorbar": {
              "outlinewidth": 0,
              "ticks": ""
             }
            },
            "type": "scatterternary"
           }
          ],
          "surface": [
           {
            "colorbar": {
             "outlinewidth": 0,
             "ticks": ""
            },
            "colorscale": [
             [
              0,
              "#0d0887"
             ],
             [
              0.1111111111111111,
              "#46039f"
             ],
             [
              0.2222222222222222,
              "#7201a8"
             ],
             [
              0.3333333333333333,
              "#9c179e"
             ],
             [
              0.4444444444444444,
              "#bd3786"
             ],
             [
              0.5555555555555556,
              "#d8576b"
             ],
             [
              0.6666666666666666,
              "#ed7953"
             ],
             [
              0.7777777777777778,
              "#fb9f3a"
             ],
             [
              0.8888888888888888,
              "#fdca26"
             ],
             [
              1,
              "#f0f921"
             ]
            ],
            "type": "surface"
           }
          ],
          "table": [
           {
            "cells": {
             "fill": {
              "color": "#EBF0F8"
             },
             "line": {
              "color": "white"
             }
            },
            "header": {
             "fill": {
              "color": "#C8D4E3"
             },
             "line": {
              "color": "white"
             }
            },
            "type": "table"
           }
          ]
         },
         "layout": {
          "annotationdefaults": {
           "arrowcolor": "#2a3f5f",
           "arrowhead": 0,
           "arrowwidth": 1
          },
          "autotypenumbers": "strict",
          "coloraxis": {
           "colorbar": {
            "outlinewidth": 0,
            "ticks": ""
           }
          },
          "colorscale": {
           "diverging": [
            [
             0,
             "#8e0152"
            ],
            [
             0.1,
             "#c51b7d"
            ],
            [
             0.2,
             "#de77ae"
            ],
            [
             0.3,
             "#f1b6da"
            ],
            [
             0.4,
             "#fde0ef"
            ],
            [
             0.5,
             "#f7f7f7"
            ],
            [
             0.6,
             "#e6f5d0"
            ],
            [
             0.7,
             "#b8e186"
            ],
            [
             0.8,
             "#7fbc41"
            ],
            [
             0.9,
             "#4d9221"
            ],
            [
             1,
             "#276419"
            ]
           ],
           "sequential": [
            [
             0,
             "#0d0887"
            ],
            [
             0.1111111111111111,
             "#46039f"
            ],
            [
             0.2222222222222222,
             "#7201a8"
            ],
            [
             0.3333333333333333,
             "#9c179e"
            ],
            [
             0.4444444444444444,
             "#bd3786"
            ],
            [
             0.5555555555555556,
             "#d8576b"
            ],
            [
             0.6666666666666666,
             "#ed7953"
            ],
            [
             0.7777777777777778,
             "#fb9f3a"
            ],
            [
             0.8888888888888888,
             "#fdca26"
            ],
            [
             1,
             "#f0f921"
            ]
           ],
           "sequentialminus": [
            [
             0,
             "#0d0887"
            ],
            [
             0.1111111111111111,
             "#46039f"
            ],
            [
             0.2222222222222222,
             "#7201a8"
            ],
            [
             0.3333333333333333,
             "#9c179e"
            ],
            [
             0.4444444444444444,
             "#bd3786"
            ],
            [
             0.5555555555555556,
             "#d8576b"
            ],
            [
             0.6666666666666666,
             "#ed7953"
            ],
            [
             0.7777777777777778,
             "#fb9f3a"
            ],
            [
             0.8888888888888888,
             "#fdca26"
            ],
            [
             1,
             "#f0f921"
            ]
           ]
          },
          "colorway": [
           "#636efa",
           "#EF553B",
           "#00cc96",
           "#ab63fa",
           "#FFA15A",
           "#19d3f3",
           "#FF6692",
           "#B6E880",
           "#FF97FF",
           "#FECB52"
          ],
          "font": {
           "color": "#2a3f5f"
          },
          "geo": {
           "bgcolor": "white",
           "lakecolor": "white",
           "landcolor": "#E5ECF6",
           "showlakes": true,
           "showland": true,
           "subunitcolor": "white"
          },
          "hoverlabel": {
           "align": "left"
          },
          "hovermode": "closest",
          "mapbox": {
           "style": "light"
          },
          "paper_bgcolor": "white",
          "plot_bgcolor": "#E5ECF6",
          "polar": {
           "angularaxis": {
            "gridcolor": "white",
            "linecolor": "white",
            "ticks": ""
           },
           "bgcolor": "#E5ECF6",
           "radialaxis": {
            "gridcolor": "white",
            "linecolor": "white",
            "ticks": ""
           }
          },
          "scene": {
           "xaxis": {
            "backgroundcolor": "#E5ECF6",
            "gridcolor": "white",
            "gridwidth": 2,
            "linecolor": "white",
            "showbackground": true,
            "ticks": "",
            "zerolinecolor": "white"
           },
           "yaxis": {
            "backgroundcolor": "#E5ECF6",
            "gridcolor": "white",
            "gridwidth": 2,
            "linecolor": "white",
            "showbackground": true,
            "ticks": "",
            "zerolinecolor": "white"
           },
           "zaxis": {
            "backgroundcolor": "#E5ECF6",
            "gridcolor": "white",
            "gridwidth": 2,
            "linecolor": "white",
            "showbackground": true,
            "ticks": "",
            "zerolinecolor": "white"
           }
          },
          "shapedefaults": {
           "line": {
            "color": "#2a3f5f"
           }
          },
          "ternary": {
           "aaxis": {
            "gridcolor": "white",
            "linecolor": "white",
            "ticks": ""
           },
           "baxis": {
            "gridcolor": "white",
            "linecolor": "white",
            "ticks": ""
           },
           "bgcolor": "#E5ECF6",
           "caxis": {
            "gridcolor": "white",
            "linecolor": "white",
            "ticks": ""
           }
          },
          "title": {
           "x": 0.05
          },
          "xaxis": {
           "automargin": true,
           "gridcolor": "white",
           "linecolor": "white",
           "ticks": "",
           "title": {
            "standoff": 15
           },
           "zerolinecolor": "white",
           "zerolinewidth": 2
          },
          "yaxis": {
           "automargin": true,
           "gridcolor": "white",
           "linecolor": "white",
           "ticks": "",
           "title": {
            "standoff": 15
           },
           "zerolinecolor": "white",
           "zerolinewidth": 2
          }
         }
        },
        "title": {
         "text": "Percentage of package bought and not bought"
        }
       }
      }
     },
     "metadata": {},
     "output_type": "display_data"
    }
   ],
   "source": [
    "percentage = df.ProdTaken.value_counts(normalize=True)*100\n",
    "pielabels = [\"Not-Bought\",\"Bought\"]\n",
    "\n",
    "# Plot PieChart with Ploty library\n",
    "f1 = px.pie(values= percentage, names= pielabels, title=\"Percentage of package bought and not bought\")\n",
    "f1.update_traces(textposition=\"inside\", textinfo=\"percent+label\")\n",
    "f1.update_layout(margin={\"r\":50,\"t\":50,\"l\":50,\"b\":50})\n",
    "f1.show()"
   ]
  },
  {
   "cell_type": "code",
   "execution_count": 83,
   "id": "0b0f5833",
   "metadata": {},
   "outputs": [],
   "source": [
    "# Age\n",
    "df['Age'].fillna(df['Age'].mean(), inplace=True)\n",
    "\n",
    "# TypeofContact\n",
    "df['TypeofContact'].fillna(df['TypeofContact'].mode()[0], inplace=True)\n",
    "\n",
    "# DurationOfPitch\n",
    "df['DurationOfPitch'].fillna(df['DurationOfPitch'].median(), inplace=True)\n",
    "\n",
    "# NumberOfFollowups\n",
    "df['NumberOfFollowups'].fillna(df['NumberOfFollowups'].mode()[0], inplace=True)\n",
    "\n",
    "# PreferredPropertyStar\n",
    "df['PreferredPropertyStar'].fillna(df['PreferredPropertyStar'].mode()[0], inplace=True)\n",
    "\n",
    "# NumberOfTrips\n",
    "df['NumberOfTrips'].fillna(0, inplace=True)\n",
    "\n",
    "# NumberOfChildrenVisiting\n",
    "df['NumberOfChildrenVisiting'].fillna(df['NumberOfChildrenVisiting'].mode()[0], inplace=True)\n",
    "\n",
    "# MonthlyIncome\n",
    "df['MonthlyIncome'].fillna(df['MonthlyIncome'].median(), inplace=True)"
   ]
  },
  {
   "cell_type": "code",
   "execution_count": 84,
   "id": "c9c05ab3",
   "metadata": {},
   "outputs": [
    {
     "name": "stdout",
     "output_type": "stream",
     "text": [
      "['Age', 'TypeofContact', 'CityTier', 'DurationOfPitch', 'NumberOfPersonVisiting', 'NumberOfFollowups', 'PreferredPropertyStar', 'NumberOfTrips', 'Passport', 'PitchSatisfactionScore', 'OwnCar', 'NumberOfChildrenVisiting', 'MonthlyIncome']\n"
     ]
    }
   ],
   "source": [
    "from sklearn.preprocessing import OneHotEncoder, OrdinalEncoder\n",
    "\n",
    "\n",
    "numerical_columns = ['Age', 'TypeofContact', 'CityTier',\n",
    "                            'DurationOfPitch', 'NumberOfPersonVisiting',\n",
    "                            'NumberOfFollowups', 'PreferredPropertyStar',\n",
    "                            'NumberOfTrips', 'Passport', 'PitchSatisfactionScore',\n",
    "                            'OwnCar', 'NumberOfChildrenVisiting', 'MonthlyIncome']\n",
    "categorical_columns = ['TypeofContact', 'Occupation', 'Gender', 'ProductPitched',\n",
    "                 'MaritalStatus', 'Designation']\n",
    "\n",
    "continuous_columns = [i for i in df.columns if df[i].nunique() > 8]\n",
    "continuous_columns.remove(\"CustomerID\")\n",
    "\n",
    "enc = OrdinalEncoder()\n",
    "df[categorical_columns] = enc.fit_transform(df[categorical_columns])\n",
    "\n",
    "print(numerical_columns)"
   ]
  },
  {
   "cell_type": "code",
   "execution_count": 85,
   "id": "d7364d34",
   "metadata": {},
   "outputs": [
    {
     "name": "stdout",
     "output_type": "stream",
     "text": [
      "Counter({0: 3968, 1: 920})\n",
      "Counter({1: 3968, 0: 3968})\n"
     ]
    },
    {
     "data": {
      "text/plain": [
       "((7936, 18), (7936,))"
      ]
     },
     "execution_count": 85,
     "metadata": {},
     "output_type": "execute_result"
    }
   ],
   "source": [
    "from collections import Counter\n",
    "from imblearn.over_sampling import SMOTE, RandomOverSampler  \n",
    "\n",
    "X = df.drop(columns=['ProdTaken', 'CustomerID'], axis=1)\n",
    "y = df['ProdTaken']\n",
    "\n",
    "# summarize class distribution\n",
    "counter = Counter(y)\n",
    "print(counter)\n",
    "# define pipeline\n",
    "over = RandomOverSampler(random_state=42)\n",
    "\n",
    "# transform the dataset\n",
    "X, y = over.fit_resample(X, y)\n",
    "# summarize the new class distribution\n",
    "counter = Counter(y)\n",
    "print(counter)\n",
    "\n",
    "X.shape, y.shape"
   ]
  },
  {
   "cell_type": "code",
   "execution_count": 86,
   "id": "b943e8b9",
   "metadata": {},
   "outputs": [
    {
     "name": "stdout",
     "output_type": "stream",
     "text": [
      "(7142, 18) (794, 18)\n"
     ]
    }
   ],
   "source": [
    "import math\n",
    "from sklearn.model_selection import StratifiedShuffleSplit\n",
    "\n",
    "X[X.columns] = X[X.columns].apply(np.ceil) \n",
    "sss = StratifiedShuffleSplit(n_splits=10, test_size=0.1, random_state=42)\n",
    "for train_index, test_index in sss.split(X, y):\n",
    "    X_train, X_test = X.iloc[train_index], X.iloc[test_index]\n",
    "    y_train, y_test = y.iloc[train_index], y.iloc[test_index]\n",
    "\n",
    "print(X_train.shape, X_test.shape)\n",
    "\n",
    "df = pd.concat([X_train, y_train], axis=1)\n",
    "\n",
    "test_df = pd.concat([X_test, y_test], axis=1)\n",
    "test_df.to_csv(r'C:\\Users\\wasim\\tourism_package\\packagePrediction\\data\\test_df.csv', index=False)"
   ]
  },
  {
   "cell_type": "markdown",
   "id": "eea0e8ff",
   "metadata": {},
   "source": [
    "### Column Information\n",
    "- TypeofContact: How customer was contacted (Company Invited or Self Inquiry)\n",
    "- DurationOfPitch: Duration of the pitch by a salesperson to the customer\n",
    "- NumberOfFollowups: Total number of follow-ups has been done by the salesperson after the sales pitch\n",
    "- ProductPitched: Product pitched by the salesperson\n",
    "- PreferredPropertyStar: Preferred hotel property rating by customer"
   ]
  },
  {
   "cell_type": "markdown",
   "id": "1f8a606d",
   "metadata": {},
   "source": [
    "# Exploratory Data Analysis "
   ]
  },
  {
   "cell_type": "markdown",
   "id": "09c31718",
   "metadata": {},
   "source": [
    "## Descriptive Analysis\n",
    "- Number of rows and columns\n",
    "- Data type of features and does it makes sense\n",
    "- Distribution\n",
    "- Outliers?\n",
    "- Mean and variance\n",
    "- Understand Values"
   ]
  },
  {
   "cell_type": "code",
   "execution_count": 87,
   "id": "e4b62664",
   "metadata": {},
   "outputs": [
    {
     "data": {
      "text/plain": [
       "(7142, 19)"
      ]
     },
     "execution_count": 87,
     "metadata": {},
     "output_type": "execute_result"
    }
   ],
   "source": [
    "df.shape"
   ]
  },
  {
   "cell_type": "code",
   "execution_count": 88,
   "id": "c49cf8e8",
   "metadata": {},
   "outputs": [
    {
     "data": {
      "text/plain": [
       "Age                         float64\n",
       "TypeofContact               float64\n",
       "CityTier                    float64\n",
       "DurationOfPitch             float64\n",
       "Occupation                  float64\n",
       "Gender                      float64\n",
       "NumberOfPersonVisiting      float64\n",
       "NumberOfFollowups           float64\n",
       "ProductPitched              float64\n",
       "PreferredPropertyStar       float64\n",
       "MaritalStatus               float64\n",
       "NumberOfTrips               float64\n",
       "Passport                    float64\n",
       "PitchSatisfactionScore      float64\n",
       "OwnCar                      float64\n",
       "NumberOfChildrenVisiting    float64\n",
       "Designation                 float64\n",
       "MonthlyIncome               float64\n",
       "ProdTaken                     int64\n",
       "dtype: object"
      ]
     },
     "execution_count": 88,
     "metadata": {},
     "output_type": "execute_result"
    }
   ],
   "source": [
    "df.dtypes"
   ]
  },
  {
   "cell_type": "markdown",
   "id": "c91a1971",
   "metadata": {},
   "source": [
    "**Note: All the floats values can be converted to the int as it does not have any values after decimal point**"
   ]
  },
  {
   "cell_type": "code",
   "execution_count": 89,
   "id": "167ee616",
   "metadata": {},
   "outputs": [
    {
     "data": {
      "text/plain": [
       "Age                         0\n",
       "TypeofContact               0\n",
       "CityTier                    0\n",
       "DurationOfPitch             0\n",
       "Occupation                  0\n",
       "Gender                      0\n",
       "NumberOfPersonVisiting      0\n",
       "NumberOfFollowups           0\n",
       "ProductPitched              0\n",
       "PreferredPropertyStar       0\n",
       "MaritalStatus               0\n",
       "NumberOfTrips               0\n",
       "Passport                    0\n",
       "PitchSatisfactionScore      0\n",
       "OwnCar                      0\n",
       "NumberOfChildrenVisiting    0\n",
       "Designation                 0\n",
       "MonthlyIncome               0\n",
       "ProdTaken                   0\n",
       "dtype: int64"
      ]
     },
     "execution_count": 89,
     "metadata": {},
     "output_type": "execute_result"
    }
   ],
   "source": [
    "df.isnull().sum()"
   ]
  },
  {
   "cell_type": "markdown",
   "id": "0d5e36aa",
   "metadata": {},
   "source": [
    "\n",
    "**Note: There are 8 columns which has null values, so it will be fun to handle them**"
   ]
  },
  {
   "cell_type": "markdown",
   "id": "0d345c0c",
   "metadata": {},
   "source": [
    "### Distribution and skewness"
   ]
  },
  {
   "cell_type": "code",
   "execution_count": 90,
   "id": "62c150a3",
   "metadata": {},
   "outputs": [
    {
     "name": "stdout",
     "output_type": "stream",
     "text": [
      "['Age', 'DurationOfPitch', 'NumberOfTrips', 'MonthlyIncome']\n"
     ]
    }
   ],
   "source": [
    "print(continuous_columns)\n",
    "# plt.figure(figsize=(17,75))\n",
    "\n",
    "# for i in range(len(continuous_columns)):\n",
    "#     plt.subplot(18,1,i+1)\n",
    "#     sns.distplot(df[continuous_columns[i]])\n",
    "#     plt.tight_layout()\n",
    "#     plt.title(continuous_columns[i],fontsize=25)\n",
    "    \n",
    "# plt.show()\n"
   ]
  },
  {
   "cell_type": "code",
   "execution_count": 91,
   "id": "d040429b",
   "metadata": {},
   "outputs": [
    {
     "name": "stdout",
     "output_type": "stream",
     "text": [
      "Age 0.42317275924986236\n",
      "DurationOfPitch 1.4354214812471655\n",
      "NumberOfTrips 1.492917528287139\n",
      "MonthlyIncome 1.9543882477065895\n"
     ]
    }
   ],
   "source": [
    "for col in continuous_columns:\n",
    "    print(col,df[col].skew())"
   ]
  },
  {
   "cell_type": "markdown",
   "id": "16ad1181",
   "metadata": {},
   "source": [
    "- Positiviely Skewed : DurationOfPitch, NumberOfTrips"
   ]
  },
  {
   "cell_type": "code",
   "execution_count": 92,
   "id": "560871d8",
   "metadata": {},
   "outputs": [
    {
     "data": {
      "text/html": [
       "<div>\n",
       "<style scoped>\n",
       "    .dataframe tbody tr th:only-of-type {\n",
       "        vertical-align: middle;\n",
       "    }\n",
       "\n",
       "    .dataframe tbody tr th {\n",
       "        vertical-align: top;\n",
       "    }\n",
       "\n",
       "    .dataframe thead th {\n",
       "        text-align: right;\n",
       "    }\n",
       "</style>\n",
       "<table border=\"1\" class=\"dataframe\">\n",
       "  <thead>\n",
       "    <tr style=\"text-align: right;\">\n",
       "      <th></th>\n",
       "      <th>Age</th>\n",
       "      <th>TypeofContact</th>\n",
       "      <th>CityTier</th>\n",
       "      <th>DurationOfPitch</th>\n",
       "      <th>Occupation</th>\n",
       "      <th>Gender</th>\n",
       "      <th>NumberOfPersonVisiting</th>\n",
       "      <th>NumberOfFollowups</th>\n",
       "      <th>ProductPitched</th>\n",
       "      <th>PreferredPropertyStar</th>\n",
       "      <th>MaritalStatus</th>\n",
       "      <th>NumberOfTrips</th>\n",
       "      <th>Passport</th>\n",
       "      <th>PitchSatisfactionScore</th>\n",
       "      <th>OwnCar</th>\n",
       "      <th>NumberOfChildrenVisiting</th>\n",
       "      <th>Designation</th>\n",
       "      <th>MonthlyIncome</th>\n",
       "      <th>ProdTaken</th>\n",
       "    </tr>\n",
       "  </thead>\n",
       "  <tbody>\n",
       "    <tr>\n",
       "      <th>count</th>\n",
       "      <td>7142.000000</td>\n",
       "      <td>7142.000000</td>\n",
       "      <td>7142.000000</td>\n",
       "      <td>7142.000000</td>\n",
       "      <td>7142.000000</td>\n",
       "      <td>7142.000000</td>\n",
       "      <td>7142.000000</td>\n",
       "      <td>7142.000000</td>\n",
       "      <td>7142.000000</td>\n",
       "      <td>7142.000000</td>\n",
       "      <td>7142.000000</td>\n",
       "      <td>7142.000000</td>\n",
       "      <td>7142.000000</td>\n",
       "      <td>7142.000000</td>\n",
       "      <td>7142.000000</td>\n",
       "      <td>7142.000000</td>\n",
       "      <td>7142.000000</td>\n",
       "      <td>7142.000000</td>\n",
       "      <td>7142.000000</td>\n",
       "    </tr>\n",
       "    <tr>\n",
       "      <th>mean</th>\n",
       "      <td>36.501960</td>\n",
       "      <td>0.696864</td>\n",
       "      <td>1.707925</td>\n",
       "      <td>15.836320</td>\n",
       "      <td>2.315878</td>\n",
       "      <td>1.574209</td>\n",
       "      <td>2.912069</td>\n",
       "      <td>3.795435</td>\n",
       "      <td>1.001960</td>\n",
       "      <td>3.649258</td>\n",
       "      <td>1.384206</td>\n",
       "      <td>3.182162</td>\n",
       "      <td>0.382946</td>\n",
       "      <td>3.126575</td>\n",
       "      <td>0.614814</td>\n",
       "      <td>1.187623</td>\n",
       "      <td>1.643517</td>\n",
       "      <td>22941.156679</td>\n",
       "      <td>0.500000</td>\n",
       "    </tr>\n",
       "    <tr>\n",
       "      <th>std</th>\n",
       "      <td>9.523734</td>\n",
       "      <td>0.459646</td>\n",
       "      <td>0.932142</td>\n",
       "      <td>8.353498</td>\n",
       "      <td>0.656251</td>\n",
       "      <td>0.554819</td>\n",
       "      <td>0.715208</td>\n",
       "      <td>1.004829</td>\n",
       "      <td>1.234112</td>\n",
       "      <td>0.827715</td>\n",
       "      <td>0.942971</td>\n",
       "      <td>1.961612</td>\n",
       "      <td>0.486139</td>\n",
       "      <td>1.356370</td>\n",
       "      <td>0.486673</td>\n",
       "      <td>0.858786</td>\n",
       "      <td>0.907298</td>\n",
       "      <td>5024.354622</td>\n",
       "      <td>0.500035</td>\n",
       "    </tr>\n",
       "    <tr>\n",
       "      <th>min</th>\n",
       "      <td>18.000000</td>\n",
       "      <td>0.000000</td>\n",
       "      <td>1.000000</td>\n",
       "      <td>5.000000</td>\n",
       "      <td>0.000000</td>\n",
       "      <td>0.000000</td>\n",
       "      <td>1.000000</td>\n",
       "      <td>1.000000</td>\n",
       "      <td>0.000000</td>\n",
       "      <td>3.000000</td>\n",
       "      <td>0.000000</td>\n",
       "      <td>0.000000</td>\n",
       "      <td>0.000000</td>\n",
       "      <td>1.000000</td>\n",
       "      <td>0.000000</td>\n",
       "      <td>0.000000</td>\n",
       "      <td>0.000000</td>\n",
       "      <td>1000.000000</td>\n",
       "      <td>0.000000</td>\n",
       "    </tr>\n",
       "    <tr>\n",
       "      <th>25%</th>\n",
       "      <td>30.000000</td>\n",
       "      <td>0.000000</td>\n",
       "      <td>1.000000</td>\n",
       "      <td>9.000000</td>\n",
       "      <td>2.000000</td>\n",
       "      <td>1.000000</td>\n",
       "      <td>2.000000</td>\n",
       "      <td>3.000000</td>\n",
       "      <td>0.000000</td>\n",
       "      <td>3.000000</td>\n",
       "      <td>1.000000</td>\n",
       "      <td>2.000000</td>\n",
       "      <td>0.000000</td>\n",
       "      <td>2.000000</td>\n",
       "      <td>0.000000</td>\n",
       "      <td>1.000000</td>\n",
       "      <td>1.000000</td>\n",
       "      <td>19941.000000</td>\n",
       "      <td>0.000000</td>\n",
       "    </tr>\n",
       "    <tr>\n",
       "      <th>50%</th>\n",
       "      <td>36.000000</td>\n",
       "      <td>1.000000</td>\n",
       "      <td>1.000000</td>\n",
       "      <td>13.000000</td>\n",
       "      <td>2.000000</td>\n",
       "      <td>2.000000</td>\n",
       "      <td>3.000000</td>\n",
       "      <td>4.000000</td>\n",
       "      <td>1.000000</td>\n",
       "      <td>3.000000</td>\n",
       "      <td>1.000000</td>\n",
       "      <td>3.000000</td>\n",
       "      <td>0.000000</td>\n",
       "      <td>3.000000</td>\n",
       "      <td>1.000000</td>\n",
       "      <td>1.000000</td>\n",
       "      <td>1.000000</td>\n",
       "      <td>21804.000000</td>\n",
       "      <td>0.500000</td>\n",
       "    </tr>\n",
       "    <tr>\n",
       "      <th>75%</th>\n",
       "      <td>42.000000</td>\n",
       "      <td>1.000000</td>\n",
       "      <td>3.000000</td>\n",
       "      <td>21.000000</td>\n",
       "      <td>3.000000</td>\n",
       "      <td>2.000000</td>\n",
       "      <td>3.000000</td>\n",
       "      <td>4.000000</td>\n",
       "      <td>1.000000</td>\n",
       "      <td>4.000000</td>\n",
       "      <td>2.000000</td>\n",
       "      <td>4.000000</td>\n",
       "      <td>1.000000</td>\n",
       "      <td>4.000000</td>\n",
       "      <td>1.000000</td>\n",
       "      <td>2.000000</td>\n",
       "      <td>2.000000</td>\n",
       "      <td>24850.000000</td>\n",
       "      <td>1.000000</td>\n",
       "    </tr>\n",
       "    <tr>\n",
       "      <th>max</th>\n",
       "      <td>61.000000</td>\n",
       "      <td>1.000000</td>\n",
       "      <td>3.000000</td>\n",
       "      <td>127.000000</td>\n",
       "      <td>3.000000</td>\n",
       "      <td>2.000000</td>\n",
       "      <td>5.000000</td>\n",
       "      <td>6.000000</td>\n",
       "      <td>4.000000</td>\n",
       "      <td>5.000000</td>\n",
       "      <td>3.000000</td>\n",
       "      <td>22.000000</td>\n",
       "      <td>1.000000</td>\n",
       "      <td>5.000000</td>\n",
       "      <td>1.000000</td>\n",
       "      <td>3.000000</td>\n",
       "      <td>4.000000</td>\n",
       "      <td>98678.000000</td>\n",
       "      <td>1.000000</td>\n",
       "    </tr>\n",
       "  </tbody>\n",
       "</table>\n",
       "</div>"
      ],
      "text/plain": [
       "               Age  TypeofContact     CityTier  DurationOfPitch   Occupation  \\\n",
       "count  7142.000000    7142.000000  7142.000000      7142.000000  7142.000000   \n",
       "mean     36.501960       0.696864     1.707925        15.836320     2.315878   \n",
       "std       9.523734       0.459646     0.932142         8.353498     0.656251   \n",
       "min      18.000000       0.000000     1.000000         5.000000     0.000000   \n",
       "25%      30.000000       0.000000     1.000000         9.000000     2.000000   \n",
       "50%      36.000000       1.000000     1.000000        13.000000     2.000000   \n",
       "75%      42.000000       1.000000     3.000000        21.000000     3.000000   \n",
       "max      61.000000       1.000000     3.000000       127.000000     3.000000   \n",
       "\n",
       "            Gender  NumberOfPersonVisiting  NumberOfFollowups  ProductPitched  \\\n",
       "count  7142.000000             7142.000000        7142.000000     7142.000000   \n",
       "mean      1.574209                2.912069           3.795435        1.001960   \n",
       "std       0.554819                0.715208           1.004829        1.234112   \n",
       "min       0.000000                1.000000           1.000000        0.000000   \n",
       "25%       1.000000                2.000000           3.000000        0.000000   \n",
       "50%       2.000000                3.000000           4.000000        1.000000   \n",
       "75%       2.000000                3.000000           4.000000        1.000000   \n",
       "max       2.000000                5.000000           6.000000        4.000000   \n",
       "\n",
       "       PreferredPropertyStar  MaritalStatus  NumberOfTrips     Passport  \\\n",
       "count            7142.000000    7142.000000    7142.000000  7142.000000   \n",
       "mean                3.649258       1.384206       3.182162     0.382946   \n",
       "std                 0.827715       0.942971       1.961612     0.486139   \n",
       "min                 3.000000       0.000000       0.000000     0.000000   \n",
       "25%                 3.000000       1.000000       2.000000     0.000000   \n",
       "50%                 3.000000       1.000000       3.000000     0.000000   \n",
       "75%                 4.000000       2.000000       4.000000     1.000000   \n",
       "max                 5.000000       3.000000      22.000000     1.000000   \n",
       "\n",
       "       PitchSatisfactionScore       OwnCar  NumberOfChildrenVisiting  \\\n",
       "count             7142.000000  7142.000000               7142.000000   \n",
       "mean                 3.126575     0.614814                  1.187623   \n",
       "std                  1.356370     0.486673                  0.858786   \n",
       "min                  1.000000     0.000000                  0.000000   \n",
       "25%                  2.000000     0.000000                  1.000000   \n",
       "50%                  3.000000     1.000000                  1.000000   \n",
       "75%                  4.000000     1.000000                  2.000000   \n",
       "max                  5.000000     1.000000                  3.000000   \n",
       "\n",
       "       Designation  MonthlyIncome    ProdTaken  \n",
       "count  7142.000000    7142.000000  7142.000000  \n",
       "mean      1.643517   22941.156679     0.500000  \n",
       "std       0.907298    5024.354622     0.500035  \n",
       "min       0.000000    1000.000000     0.000000  \n",
       "25%       1.000000   19941.000000     0.000000  \n",
       "50%       1.000000   21804.000000     0.500000  \n",
       "75%       2.000000   24850.000000     1.000000  \n",
       "max       4.000000   98678.000000     1.000000  "
      ]
     },
     "execution_count": 92,
     "metadata": {},
     "output_type": "execute_result"
    }
   ],
   "source": [
    "df.describe()"
   ]
  },
  {
   "cell_type": "markdown",
   "id": "5d5dd3bb",
   "metadata": {},
   "source": [
    "### Exploration of Values"
   ]
  },
  {
   "cell_type": "code",
   "execution_count": 93,
   "id": "8cdad335",
   "metadata": {},
   "outputs": [
    {
     "name": "stdout",
     "output_type": "stream",
     "text": [
      "(3571, 19)\n"
     ]
    },
    {
     "data": {
      "text/plain": [
       "Age\n",
       "(18, 25]    0.754795\n",
       "(25, 35]    0.547542\n",
       "(35, 45]    0.394483\n",
       "(45, 55]    0.390293\n",
       "(55, 60]    0.566225\n",
       "Name: ProdTaken, dtype: float64"
      ]
     },
     "execution_count": 93,
     "metadata": {},
     "output_type": "execute_result"
    }
   ],
   "source": [
    "ranges = [18, 25, 35, 45, 55, 60]\n",
    "\n",
    "not_taken_data = df[df['ProdTaken'] == 1]\n",
    "print(not_taken_data.shape)\n",
    "\n",
    "not_taken_cancelled = not_taken_data[\"ProdTaken\"].groupby(pd.cut(df.Age, ranges)).count()\n",
    "age_range_total = df[\"ProdTaken\"].groupby(pd.cut(df.Age, ranges)).count()\n",
    "\n",
    "not_taken_cancelled/age_range_total"
   ]
  },
  {
   "cell_type": "markdown",
   "id": "ae35d8af",
   "metadata": {},
   "source": [
    "#### Note: \n",
    "- Age group of 18 to 25 buy most package\n",
    "- Age between  35 to 55 is lowest, as in these age groups mostly there"
   ]
  },
  {
   "cell_type": "code",
   "execution_count": 94,
   "id": "69586e49",
   "metadata": {},
   "outputs": [
    {
     "data": {
      "image/png": "[encoded data removed]",
      "text/plain": [
       "<Figure size 936x504 with 1 Axes>"
      ]
     },
     "metadata": {
      "needs_background": "light"
     },
     "output_type": "display_data"
    }
   ],
   "source": [
    "plt.subplots(figsize=(13,7))\n",
    "sns.countplot(x=\"TypeofContact\",hue=\"ProdTaken\", data= df,ec = \"black\",palette=\"rainbow_r\")\n",
    "plt.title(\"TypeofContact vs Package taken?\", weight=\"bold\",fontsize=20, pad=20)\n",
    "plt.ylabel(\"Package Count\", weight=\"bold\", fontsize=20)\n",
    "plt.xlabel(\"TypeofContact?\", weight=\"bold\", fontsize=16)\n",
    "plt.show()"
   ]
  },
  {
   "cell_type": "markdown",
   "id": "984d1bc0",
   "metadata": {},
   "source": [
    "**Note:**\n",
    "- The Self inquiry are much more than Company Invited, company just need to capitalized on self inquiry"
   ]
  },
  {
   "cell_type": "code",
   "execution_count": 95,
   "id": "088f18b0",
   "metadata": {},
   "outputs": [
    {
     "data": {
      "text/plain": [
       "1.0    4450\n",
       "3.0    2364\n",
       "2.0     328\n",
       "Name: CityTier, dtype: int64"
      ]
     },
     "execution_count": 95,
     "metadata": {},
     "output_type": "execute_result"
    }
   ],
   "source": [
    "df['CityTier'].value_counts()"
   ]
  },
  {
   "cell_type": "code",
   "execution_count": 96,
   "id": "4e02f0e3",
   "metadata": {},
   "outputs": [
    {
     "data": {
      "image/png": "[encoded data removed]",
      "text/plain": [
       "<Figure size 936x504 with 1 Axes>"
      ]
     },
     "metadata": {
      "needs_background": "light"
     },
     "output_type": "display_data"
    }
   ],
   "source": [
    "plt.subplots(figsize=(13,7))\n",
    "sns.countplot(x=\"CityTier\",hue=\"ProdTaken\", data= df,ec = \"black\",palette=\"rainbow_r\")\n",
    "plt.title(\"CityTier vs Package taken?\", weight=\"bold\",fontsize=20, pad=20)\n",
    "plt.ylabel(\"Package Count\", weight=\"bold\", fontsize=20)\n",
    "plt.xlabel(\"CityTier\", weight=\"bold\", fontsize=16)\n",
    "plt.show()"
   ]
  },
  {
   "cell_type": "markdown",
   "id": "2fc55830",
   "metadata": {},
   "source": [
    "- Intresting to see that, there are more package taken from the third tier than second tier.\n",
    "- It shows how middle class lives"
   ]
  },
  {
   "cell_type": "code",
   "execution_count": 97,
   "id": "2a1653b7",
   "metadata": {},
   "outputs": [
    {
     "name": "stdout",
     "output_type": "stream",
     "text": [
      "Total 2018 talks for less than 10 minutes and only 898 were bought which is about 0.4449950445986125\n",
      "Total 4024 talks for between 10 and 30 minutes and only 2074 were bought which is about 0.5154075546719682\n",
      "Total 568 talks for more than 30 minutes and only 304 were bought which is about 0.5352112676056338\n",
      "\n",
      "\n",
      "Out of total 3571 packages, 0.25147017642117053 comes from talking less than 10 minutes, 0.5807896947633716 comes from talking between 10 minutes and 30 minutes, and 0.08513021562587511 comes from talking more than 30 minutes\n"
     ]
    }
   ],
   "source": [
    "pitch_less_10_and_taken = (df.loc[(df['DurationOfPitch']<10) & (df['ProdTaken'] == 1 )]).shape[0]\n",
    "pitch_less_10_and_not_taken = (df.loc[(df['DurationOfPitch']<10) & (df['ProdTaken'] == 0 )]).shape[0]\n",
    "\n",
    "pitch_between_10_30_and_taken = df.loc[(df['DurationOfPitch']<30) & (df['ProdTaken'] == 1 ) & (df['DurationOfPitch']>10)].shape[0]\n",
    "pitch_between_10_30_and_not_taken = df.loc[(df['DurationOfPitch']<30) & (df['ProdTaken'] == 0) & (df['DurationOfPitch']>10)].shape[0]\n",
    "\n",
    "pitch_more_than_30_and_taken = df.loc[(df['DurationOfPitch']>30) & (df['ProdTaken'] == 1 )].shape[0]\n",
    "pitch_more_than_30_and_not_taken = df.loc[(df['DurationOfPitch']>30) & (df['ProdTaken'] == 0)].shape[0]\n",
    "\n",
    "\n",
    "total_package_taken = (df.loc[(df['ProdTaken'] == 1 )]).shape[0]\n",
    "\n",
    "print(f\"Total {pitch_less_10_and_taken + pitch_less_10_and_not_taken} talks for less than 10 minutes and only {pitch_less_10_and_taken} were bought which is about {pitch_less_10_and_taken/(pitch_less_10_and_taken + pitch_less_10_and_not_taken)}\")\n",
    "print(f\"Total {pitch_between_10_30_and_taken + pitch_between_10_30_and_not_taken} talks for between 10 and 30 minutes and only {pitch_between_10_30_and_taken} were bought which is about {pitch_between_10_30_and_taken/(pitch_between_10_30_and_taken + pitch_between_10_30_and_not_taken)}\")\n",
    "print(f\"Total {pitch_more_than_30_and_taken + pitch_more_than_30_and_not_taken} talks for more than 30 minutes and only {pitch_more_than_30_and_taken} were bought which is about {pitch_more_than_30_and_taken/(pitch_more_than_30_and_taken + pitch_more_than_30_and_not_taken)}\")\n",
    "print('\\n')\n",
    "print(f\"Out of total {total_package_taken} packages, {pitch_less_10_and_taken/total_package_taken} comes from talking less than 10 minutes, {pitch_between_10_30_and_taken/total_package_taken} comes from talking between 10 minutes and 30 minutes, and {pitch_more_than_30_and_taken/total_package_taken} comes from talking more than 30 minutes\")"
   ]
  },
  {
   "cell_type": "markdown",
   "id": "6c66f7f2",
   "metadata": {},
   "source": [
    "**Note:**\n",
    "- It's obvious to see very few people talk more than 30 minutes and still they are talking more than 30 minutes, buying ratio is same\n",
    "- Most people talk between 10 minutes, in which most might be genuine customer and this pitch time range covers more than 50% of total package taken "
   ]
  },
  {
   "cell_type": "code",
   "execution_count": 98,
   "id": "97fbee8d",
   "metadata": {},
   "outputs": [
    {
     "data": {
      "image/png": "[encoded data removed]",
      "text/plain": [
       "<Figure size 936x504 with 1 Axes>"
      ]
     },
     "metadata": {
      "needs_background": "light"
     },
     "output_type": "display_data"
    }
   ],
   "source": [
    "plt.subplots(figsize=(13,7))\n",
    "sns.countplot(x=\"Occupation\",hue=\"ProdTaken\", data= df,ec = \"black\",palette=\"rainbow_r\")\n",
    "plt.title(\"Occupation vs Package taken?\", weight=\"bold\",fontsize=20, pad=20)\n",
    "plt.ylabel(\"Package Count\", weight=\"bold\", fontsize=20)\n",
    "plt.xlabel(\"Occupation\", weight=\"bold\", fontsize=16)\n",
    "plt.show()"
   ]
  },
  {
   "cell_type": "markdown",
   "id": "b20151cf",
   "metadata": {},
   "source": [
    "**Note:**\n",
    "- All these results, seems like we have seen them in real life\n",
    "- Salaried people are most, as they are secured and want some break\n",
    "- We all know most of the small business owner have the policy of earn and live a life\n",
    "- In the Large Business, there are very few package taken, but they seems to be sorted and their ratio of total inquiry seems to be more\n",
    "- Company is lacking Freelancer inquiries, really need to work on that"
   ]
  },
  {
   "cell_type": "code",
   "execution_count": 99,
   "id": "11f818fe",
   "metadata": {},
   "outputs": [
    {
     "data": {
      "image/png": "[encoded data removed]",
      "text/plain": [
       "<Figure size 936x504 with 1 Axes>"
      ]
     },
     "metadata": {
      "needs_background": "light"
     },
     "output_type": "display_data"
    }
   ],
   "source": [
    "\"\"\"\n",
    "I don't think gender would have more bias on buying package, but let's check\n",
    "\"\"\"\n",
    "\n",
    "plt.subplots(figsize=(13,7))\n",
    "sns.countplot(x=\"Gender\",hue=\"ProdTaken\", data= df,ec = \"black\",palette=\"rainbow_r\")\n",
    "plt.title(\"Gender vs Package taken?\", weight=\"bold\",fontsize=20, pad=20)\n",
    "plt.ylabel(\"Package Count\", weight=\"bold\", fontsize=20)\n",
    "plt.xlabel(\"Gender\", weight=\"bold\", fontsize=16)\n",
    "plt.show()"
   ]
  },
  {
   "cell_type": "markdown",
   "id": "d1e5492e",
   "metadata": {},
   "source": [
    "- For female, it seem that it has two values, need to replace it and then replot it "
   ]
  },
  {
   "cell_type": "code",
   "execution_count": 100,
   "id": "a3fc06ea",
   "metadata": {},
   "outputs": [],
   "source": [
    "df['Gender'].replace({'Fe Male': 'Female'}, inplace=True)"
   ]
  },
  {
   "cell_type": "code",
   "execution_count": 101,
   "id": "4430821d",
   "metadata": {},
   "outputs": [
    {
     "data": {
      "image/png": "[encoded data removed]",
      "text/plain": [
       "<Figure size 936x504 with 1 Axes>"
      ]
     },
     "metadata": {
      "needs_background": "light"
     },
     "output_type": "display_data"
    }
   ],
   "source": [
    "plt.subplots(figsize=(13,7))\n",
    "sns.countplot(x=\"Gender\",hue=\"ProdTaken\", data= df,ec = \"black\",palette=\"rainbow_r\")\n",
    "plt.title(\"Gender vs Package taken?\", weight=\"bold\",fontsize=20, pad=20)\n",
    "plt.ylabel(\"Package Count\", weight=\"bold\", fontsize=20)\n",
    "plt.xlabel(\"Gender\", weight=\"bold\", fontsize=16)\n",
    "plt.show()"
   ]
  },
  {
   "cell_type": "markdown",
   "id": "20dd6f11",
   "metadata": {},
   "source": [
    "**Note:**\n",
    "- As it can be seen, there doesn't seem to difference in ration of package bought by male or female\n",
    "- But we can see, amount of inquiry by female is less than male, sexism "
   ]
  },
  {
   "cell_type": "code",
   "execution_count": 102,
   "id": "7374851b",
   "metadata": {},
   "outputs": [
    {
     "data": {
      "text/plain": [
       "3.0    3542\n",
       "2.0    2066\n",
       "4.0    1498\n",
       "1.0      33\n",
       "5.0       3\n",
       "Name: NumberOfPersonVisiting, dtype: int64"
      ]
     },
     "execution_count": 102,
     "metadata": {},
     "output_type": "execute_result"
    }
   ],
   "source": [
    "df['NumberOfPersonVisiting'].value_counts()"
   ]
  },
  {
   "cell_type": "code",
   "execution_count": 103,
   "id": "a31708b2",
   "metadata": {},
   "outputs": [
    {
     "data": {
      "image/png": "[encoded data removed]",
      "text/plain": [
       "<Figure size 936x504 with 1 Axes>"
      ]
     },
     "metadata": {
      "needs_background": "light"
     },
     "output_type": "display_data"
    }
   ],
   "source": [
    "plt.subplots(figsize=(13,7))\n",
    "sns.countplot(x=\"NumberOfPersonVisiting\",hue=\"ProdTaken\", data= df,ec = \"black\",palette=\"rainbow_r\")\n",
    "plt.title(\"NumberOfPersonVisiting vs Package taken?\", weight=\"bold\",fontsize=20, pad=20)\n",
    "plt.ylabel(\"Package Count\", weight=\"bold\", fontsize=20)\n",
    "plt.xlabel(\"Number Of Person Visiting\", weight=\"bold\", fontsize=16)\n",
    "plt.show()"
   ]
  },
  {
   "cell_type": "markdown",
   "id": "731b7d77",
   "metadata": {},
   "source": [
    "**Note:**\n",
    "- This data also shows that most inquiries has 3 people, really need to control Population.\n",
    "- Out of more than 4500 records, only 39 people has one child "
   ]
  },
  {
   "cell_type": "code",
   "execution_count": 104,
   "id": "0dae9c8b",
   "metadata": {},
   "outputs": [
    {
     "data": {
      "image/png": "[encoded data removed]",
      "text/plain": [
       "<Figure size 1224x576 with 1 Axes>"
      ]
     },
     "metadata": {
      "needs_background": "light"
     },
     "output_type": "display_data"
    }
   ],
   "source": [
    "plt.subplots(figsize=(17,8))\n",
    "sns.countplot(x=\"NumberOfFollowups\",hue=\"ProdTaken\", data= df,ec = \"black\",palette=\"rainbow_r\")\n",
    "plt.title(\"NumberOfFollowups vs Package taken?\", weight=\"bold\",fontsize=20, pad=20)\n",
    "plt.ylabel(\"Package Count\", weight=\"bold\", fontsize=20)\n",
    "plt.xlabel(\"Number Of Followups by Sales Person\", weight=\"bold\", fontsize=16)\n",
    "plt.show()"
   ]
  },
  {
   "cell_type": "markdown",
   "id": "adfcc685",
   "metadata": {},
   "source": [
    "I want to see like if sales person is making 4 follow ups, then Is the ratio of buying is more and graph unable to show that"
   ]
  },
  {
   "cell_type": "code",
   "execution_count": 105,
   "id": "6c8c1394",
   "metadata": {},
   "outputs": [
    {
     "name": "stdout",
     "output_type": "stream",
     "text": [
      "For the follow up 1, total number is 220 and ratio is 0.34545454545454546\n",
      "For the follow up 2, total number is 279 and ratio is 0.30824372759856633\n",
      "For the follow up 3, total number is 2062 and ratio is 0.4684772065955383\n",
      "For the follow up 4, total number is 3028 and ratio is 0.4914134742404227\n",
      "For the follow up 5, total number is 1287 and ratio is 0.5928515928515928\n",
      "For the follow up 6, total number is 266 and ratio is 0.7218045112781954\n"
     ]
    }
   ],
   "source": [
    "for i in range(1, 7):\n",
    "    followup_taken = df.loc[(df['NumberOfFollowups'] == i) & (df['ProdTaken'] == 1)].shape[0]\n",
    "    followup_all= df.loc[(df['NumberOfFollowups'] == i)].shape[0]\n",
    "\n",
    "    followup_ratio = followup_taken/followup_all\n",
    "\n",
    "    print(f\"For the follow up {i}, total number is {followup_all} and ratio is {followup_ratio}\")\n"
   ]
  },
  {
   "cell_type": "markdown",
   "id": "bf2a01e7",
   "metadata": {},
   "source": [
    "**Note:**\n",
    "- Very Few inquiries has been followed for 6 times, and they have the highest ratio\n",
    "- It seem like in the second followups, people confused people has said no\n",
    "- It really good to see very few people went after just 1 follow up, it shows sales team is working well"
   ]
  },
  {
   "cell_type": "markdown",
   "id": "fb48fe71",
   "metadata": {},
   "source": []
  },
  {
   "cell_type": "code",
   "execution_count": 106,
   "id": "7bccb5c5",
   "metadata": {},
   "outputs": [
    {
     "data": {
      "image/png": "[encoded data removed]",
      "text/plain": [
       "<Figure size 1224x576 with 1 Axes>"
      ]
     },
     "metadata": {
      "needs_background": "light"
     },
     "output_type": "display_data"
    }
   ],
   "source": [
    "plt.subplots(figsize=(17,8))\n",
    "sns.countplot(x=\"ProductPitched\",hue=\"ProdTaken\", data= df,ec = \"black\",palette=\"rainbow_r\")\n",
    "plt.title(\"Product Pitched vs Package taken?\", weight=\"bold\",fontsize=20, pad=20)\n",
    "plt.ylabel(\"Package Count\", weight=\"bold\", fontsize=20)\n",
    "plt.xlabel(\"Product Pitched\", weight=\"bold\", fontsize=16)\n",
    "plt.show()"
   ]
  },
  {
   "cell_type": "markdown",
   "id": "b5a10f57",
   "metadata": {},
   "source": [
    "**Note:**\n",
    "- Super Deluxe and King are pitched very less and their buying count seems to be very low, need to work on this\n",
    "- Deluxe is pitched maximum but not bought and Basic is pitched less and count of buying is also good.\n",
    "- So, need to pitched more standard, super Deluxe and King. And less focus on Deluxe"
   ]
  },
  {
   "cell_type": "code",
   "execution_count": 107,
   "id": "2f81f4e0",
   "metadata": {},
   "outputs": [
    {
     "data": {
      "image/png": "[encoded data removed]",
      "text/plain": [
       "<Figure size 1224x576 with 1 Axes>"
      ]
     },
     "metadata": {
      "needs_background": "light"
     },
     "output_type": "display_data"
    }
   ],
   "source": [
    "plt.subplots(figsize=(17,8))\n",
    "sns.countplot(x=\"PreferredPropertyStar\",hue=\"ProdTaken\", data= df,ec = \"black\",palette=\"rainbow_r\")\n",
    "plt.title(\"Preferred Property Star vs Package taken?\", weight=\"bold\",fontsize=20, pad=20)\n",
    "plt.ylabel(\"Package Count\", weight=\"bold\", fontsize=20)\n",
    "plt.xlabel(\"Preferred Property Star\", weight=\"bold\", fontsize=16)\n",
    "plt.show()"
   ]
  },
  {
   "cell_type": "markdown",
   "id": "4abb41cd",
   "metadata": {},
   "source": [
    "One thing one can do is compare preferred property star and product pitched"
   ]
  },
  {
   "cell_type": "code",
   "execution_count": 108,
   "id": "71d61084",
   "metadata": {},
   "outputs": [
    {
     "name": "stdout",
     "output_type": "stream",
     "text": [
      "Product pitched for property 3\n",
      "0.0    1833\n",
      "1.0    1340\n",
      "3.0     587\n",
      "4.0     215\n",
      "2.0     163\n",
      "Name: ProductPitched, dtype: int64\n",
      "\n",
      "\n",
      "Product pitched for property 4\n",
      "0.0    695\n",
      "1.0    386\n",
      "3.0    166\n",
      "4.0     67\n",
      "2.0     57\n",
      "Name: ProductPitched, dtype: int64\n",
      "\n",
      "\n",
      "Product pitched for property 5\n",
      "0.0    812\n",
      "1.0    454\n",
      "3.0    261\n",
      "4.0     77\n",
      "2.0     29\n",
      "Name: ProductPitched, dtype: int64\n",
      "\n",
      "\n"
     ]
    }
   ],
   "source": [
    "for i in range(3, 6):\n",
    "    property_count = df['ProductPitched'].loc[(df['PreferredPropertyStar'] == i)]\n",
    "    print(f\"Product pitched for property {i}\")\n",
    "    print(property_count.value_counts()) \n",
    "    print('\\n')"
   ]
  },
  {
   "cell_type": "markdown",
   "id": "7428a3b7",
   "metadata": {},
   "source": [
    "**Note:**\n",
    "- One thing I am finding strange is suggesting Basic and deluxe\n",
    "- For business to improve, need to suggest Super Deluxe and King to the client who prefer 5 stars"
   ]
  },
  {
   "cell_type": "code",
   "execution_count": 109,
   "id": "213f8796",
   "metadata": {},
   "outputs": [
    {
     "data": {
      "image/png": "[encoded data removed]",
      "text/plain": [
       "<Figure size 1224x576 with 1 Axes>"
      ]
     },
     "metadata": {
      "needs_background": "light"
     },
     "output_type": "display_data"
    }
   ],
   "source": [
    "plt.subplots(figsize=(17,8))\n",
    "sns.countplot(x=\"MaritalStatus\",hue=\"ProdTaken\", data= df,ec = \"black\",palette=\"rainbow_r\")\n",
    "plt.title(\"Marital Status vs Package taken?\", weight=\"bold\",fontsize=20, pad=20)\n",
    "plt.ylabel(\"Package Count\", weight=\"bold\", fontsize=20)\n",
    "plt.xlabel(\"Marital Status\", weight=\"bold\", fontsize=16)\n",
    "plt.show()"
   ]
  },
  {
   "cell_type": "markdown",
   "id": "28e6245e",
   "metadata": {},
   "source": [
    "**Note:**\n",
    "- Single person with job is an ideal inquirer \n",
    "- Married person seemed to be confused and so they are inquiring but don't buy it\n",
    "- Sales team need to work on to handle married inquirer "
   ]
  },
  {
   "cell_type": "code",
   "execution_count": 110,
   "id": "26c9caf4",
   "metadata": {},
   "outputs": [
    {
     "data": {
      "image/png": "[encoded data removed]",
      "text/plain": [
       "<Figure size 1224x576 with 1 Axes>"
      ]
     },
     "metadata": {
      "needs_background": "light"
     },
     "output_type": "display_data"
    }
   ],
   "source": [
    "plt.subplots(figsize=(17,8))\n",
    "sns.countplot(x=\"Passport\",hue=\"ProdTaken\", data= df,ec = \"black\",palette=\"rainbow_r\")\n",
    "plt.title(\"Passport vs Package taken?\", weight=\"bold\",fontsize=20, pad=20)\n",
    "plt.ylabel(\"Package Count\", weight=\"bold\", fontsize=20)\n",
    "plt.xlabel(\"Passport\", weight=\"bold\", fontsize=16)\n",
    "plt.show()"
   ]
  },
  {
   "cell_type": "markdown",
   "id": "5ef2e5f3",
   "metadata": {},
   "source": [
    "**Note:**\n",
    "- Some outliers can be seen from this graph\n",
    "- Company seems to be new as very few seems to be taken trips more than 5\n",
    "- And they are achieving the customers, so 2 and 3 number of trips taken are more"
   ]
  },
  {
   "cell_type": "code",
   "execution_count": 111,
   "id": "c1083707",
   "metadata": {},
   "outputs": [
    {
     "data": {
      "image/png": "[encoded data removed]",
      "text/plain": [
       "<Figure size 1224x576 with 1 Axes>"
      ]
     },
     "metadata": {
      "needs_background": "light"
     },
     "output_type": "display_data"
    }
   ],
   "source": [
    "plt.subplots(figsize=(17,8))\n",
    "sns.countplot(x=\"PitchSatisfactionScore\",hue=\"ProdTaken\", data= df,ec = \"black\",palette=\"rainbow_r\")\n",
    "plt.title(\"Pitch Satisfaction Score vs Package taken?\", weight=\"bold\",fontsize=20, pad=20)\n",
    "plt.ylabel(\"Package Count\", weight=\"bold\", fontsize=20)\n",
    "plt.xlabel(\"Pitch Satisfaction Score\", weight=\"bold\", fontsize=16)\n",
    "plt.show()\n"
   ]
  },
  {
   "cell_type": "markdown",
   "id": "724c6959",
   "metadata": {},
   "source": [
    "Many customers are giving pitch score less than or equal to three, need to understand more about it"
   ]
  },
  {
   "cell_type": "code",
   "execution_count": 112,
   "id": "67325e5c",
   "metadata": {},
   "outputs": [
    {
     "name": "stdout",
     "output_type": "stream",
     "text": [
      "Ratio for the person with pitch less than or equal to 2 pitch rating score and buying package is 0.4444973797046212\n",
      "Ratio for the person with pitch more than or equal to 3 pitch rating score and buying package is 0.5231013285742614\n"
     ]
    }
   ],
   "source": [
    "pitch_score_less_equal_3_taken = df.loc[(df['PitchSatisfactionScore'] <= 2) & (df['ProdTaken'] == 1)].shape[0]\n",
    "pitch_score_less_equal_3_all = df.loc[(df['PitchSatisfactionScore'] <= 2)].shape[0]\n",
    "\n",
    "pitch_score_more_3_taken = df.loc[(df['PitchSatisfactionScore'] >= 3) & (df['ProdTaken'] == 1)].shape[0]\n",
    "pitch_score_more_3_all = df.loc[(df['PitchSatisfactionScore'] >= 3)].shape[0]\n",
    "\n",
    "print(f\"Ratio for the person with pitch less than or equal to 2 pitch rating score and buying package is {pitch_score_less_equal_3_taken/pitch_score_less_equal_3_all}\")\n",
    "print(f\"Ratio for the person with pitch more than or equal to 3 pitch rating score and buying package is {pitch_score_more_3_taken/pitch_score_more_3_all}\")\n"
   ]
  },
  {
   "cell_type": "markdown",
   "id": "0e71d1bd",
   "metadata": {},
   "source": [
    "**Note:**\n",
    "- There are many ratings score less than or equal to 2, and there is difference of around 5% in the buying ration\n",
    "- Sales team really need to put on efforts"
   ]
  },
  {
   "cell_type": "code",
   "execution_count": 113,
   "id": "843e6051",
   "metadata": {},
   "outputs": [
    {
     "data": {
      "image/png": "[encoded data removed]",
      "text/plain": [
       "<Figure size 1224x576 with 1 Axes>"
      ]
     },
     "metadata": {
      "needs_background": "light"
     },
     "output_type": "display_data"
    }
   ],
   "source": [
    "plt.subplots(figsize=(17,8))\n",
    "sns.countplot(x=\"OwnCar\",hue=\"ProdTaken\", data= df,ec = \"black\",palette=\"rainbow_r\")\n",
    "plt.title(\"Own Car vs Package taken?\", weight=\"bold\",fontsize=20, pad=20)\n",
    "plt.ylabel(\"Package Count\", weight=\"bold\", fontsize=20)\n",
    "plt.xlabel(\"Own Car\", weight=\"bold\", fontsize=16)\n",
    "plt.show()\n"
   ]
  },
  {
   "cell_type": "markdown",
   "id": "25db852a",
   "metadata": {},
   "source": [
    "**Note:**\n",
    "- There has been many inquiries from the customer who can afford car, but we are unable to capitalized on them "
   ]
  },
  {
   "cell_type": "code",
   "execution_count": 114,
   "id": "6ad259fe",
   "metadata": {},
   "outputs": [
    {
     "data": {
      "image/png": "[encoded data removed]",
      "text/plain": [
       "<Figure size 1224x576 with 1 Axes>"
      ]
     },
     "metadata": {
      "needs_background": "light"
     },
     "output_type": "display_data"
    }
   ],
   "source": [
    "plt.subplots(figsize=(17,8))\n",
    "sns.countplot(x=\"NumberOfChildrenVisiting\",hue=\"ProdTaken\", data= df,ec = \"black\",palette=\"rainbow_r\")\n",
    "plt.title(\"Number Of Children Planning vs Package taken?\", weight=\"bold\",fontsize=20, pad=20)\n",
    "plt.ylabel(\"Package Count\", weight=\"bold\", fontsize=20)\n",
    "plt.xlabel(\"Number Of Children Visiting\", weight=\"bold\", fontsize=16)\n",
    "plt.show()"
   ]
  },
  {
   "cell_type": "markdown",
   "id": "009eb352",
   "metadata": {},
   "source": [
    "**Note:**\n",
    "- Don't think the number of children visiting affect the person buying the package, but will try to analyse more in correlation part"
   ]
  },
  {
   "cell_type": "code",
   "execution_count": 115,
   "id": "80f1047e",
   "metadata": {},
   "outputs": [
    {
     "data": {
      "image/png": "[encoded data removed]",
      "text/plain": [
       "<Figure size 1224x576 with 1 Axes>"
      ]
     },
     "metadata": {
      "needs_background": "light"
     },
     "output_type": "display_data"
    }
   ],
   "source": [
    "plt.subplots(figsize=(17,8))\n",
    "sns.countplot(x=\"Designation\",hue=\"ProdTaken\", data= df,ec = \"black\",palette=\"rainbow_r\")\n",
    "plt.title(\"Designation vs Package taken?\", weight=\"bold\",fontsize=20, pad=20)\n",
    "plt.ylabel(\"Package Count\", weight=\"bold\", fontsize=20)\n",
    "plt.xlabel(\"Designation\", weight=\"bold\", fontsize=16)\n",
    "plt.show()"
   ]
  },
  {
   "cell_type": "code",
   "execution_count": null,
   "id": "64ca308a",
   "metadata": {},
   "outputs": [],
   "source": []
  },
  {
   "cell_type": "markdown",
   "id": "67b38f09",
   "metadata": {},
   "source": [
    "**Note:**\n",
    "- Company is getting the most inquiries from Manager and executive. "
   ]
  },
  {
   "cell_type": "code",
   "execution_count": 116,
   "id": "948c28c3",
   "metadata": {},
   "outputs": [
    {
     "data": {
      "image/png": "[encoded data removed]",
      "text/plain": [
       "<Figure size 1440x720 with 2 Axes>"
      ]
     },
     "metadata": {
      "needs_background": "light"
     },
     "output_type": "display_data"
    }
   ],
   "source": [
    "import seaborn as sns\n",
    "    \n",
    "plt.figure(figsize=(20,10))\n",
    "ax = sns.heatmap(df.corr(), annot=True)"
   ]
  },
  {
   "cell_type": "code",
   "execution_count": 117,
   "id": "a63c42ed",
   "metadata": {},
   "outputs": [],
   "source": [
    "from statsmodels.stats.outliers_influence import variance_inflation_factor\n",
    "def compute_vif(considered_features, df):\n",
    "    \n",
    "    X = df[considered_features]\n",
    "    # the calculation of variance inflation requires a constant\n",
    "    X['intercept'] = 1\n",
    "    \n",
    "    # create dataframe to store vif values\n",
    "    vif = pd.DataFrame()\n",
    "    vif[\"Variable\"] = X.columns\n",
    "    vif[\"VIF\"] = [variance_inflation_factor(X.values, i) for i in range(X.shape[1])]\n",
    "    vif = vif[vif['Variable']!='intercept']\n",
    "    return vif"
   ]
  },
  {
   "cell_type": "code",
   "execution_count": 118,
   "id": "22052402",
   "metadata": {},
   "outputs": [
    {
     "data": {
      "text/html": [
       "<div>\n",
       "<style scoped>\n",
       "    .dataframe tbody tr th:only-of-type {\n",
       "        vertical-align: middle;\n",
       "    }\n",
       "\n",
       "    .dataframe tbody tr th {\n",
       "        vertical-align: top;\n",
       "    }\n",
       "\n",
       "    .dataframe thead th {\n",
       "        text-align: right;\n",
       "    }\n",
       "</style>\n",
       "<table border=\"1\" class=\"dataframe\">\n",
       "  <thead>\n",
       "    <tr style=\"text-align: right;\">\n",
       "      <th></th>\n",
       "      <th>Variable</th>\n",
       "      <th>VIF</th>\n",
       "    </tr>\n",
       "  </thead>\n",
       "  <tbody>\n",
       "    <tr>\n",
       "      <th>0</th>\n",
       "      <td>Age</td>\n",
       "      <td>1.406050</td>\n",
       "    </tr>\n",
       "    <tr>\n",
       "      <th>1</th>\n",
       "      <td>TypeofContact</td>\n",
       "      <td>1.019588</td>\n",
       "    </tr>\n",
       "    <tr>\n",
       "      <th>2</th>\n",
       "      <td>CityTier</td>\n",
       "      <td>1.107656</td>\n",
       "    </tr>\n",
       "    <tr>\n",
       "      <th>3</th>\n",
       "      <td>DurationOfPitch</td>\n",
       "      <td>1.036658</td>\n",
       "    </tr>\n",
       "    <tr>\n",
       "      <th>4</th>\n",
       "      <td>Occupation</td>\n",
       "      <td>1.046224</td>\n",
       "    </tr>\n",
       "    <tr>\n",
       "      <th>5</th>\n",
       "      <td>Gender</td>\n",
       "      <td>1.035559</td>\n",
       "    </tr>\n",
       "    <tr>\n",
       "      <th>6</th>\n",
       "      <td>NumberOfPersonVisiting</td>\n",
       "      <td>1.724781</td>\n",
       "    </tr>\n",
       "    <tr>\n",
       "      <th>7</th>\n",
       "      <td>NumberOfFollowups</td>\n",
       "      <td>1.212349</td>\n",
       "    </tr>\n",
       "    <tr>\n",
       "      <th>8</th>\n",
       "      <td>ProductPitched</td>\n",
       "      <td>2.239146</td>\n",
       "    </tr>\n",
       "    <tr>\n",
       "      <th>9</th>\n",
       "      <td>PreferredPropertyStar</td>\n",
       "      <td>1.033981</td>\n",
       "    </tr>\n",
       "    <tr>\n",
       "      <th>10</th>\n",
       "      <td>MaritalStatus</td>\n",
       "      <td>1.081778</td>\n",
       "    </tr>\n",
       "    <tr>\n",
       "      <th>11</th>\n",
       "      <td>NumberOfTrips</td>\n",
       "      <td>1.062607</td>\n",
       "    </tr>\n",
       "    <tr>\n",
       "      <th>12</th>\n",
       "      <td>Passport</td>\n",
       "      <td>1.120946</td>\n",
       "    </tr>\n",
       "    <tr>\n",
       "      <th>13</th>\n",
       "      <td>PitchSatisfactionScore</td>\n",
       "      <td>1.025372</td>\n",
       "    </tr>\n",
       "    <tr>\n",
       "      <th>14</th>\n",
       "      <td>OwnCar</td>\n",
       "      <td>1.023256</td>\n",
       "    </tr>\n",
       "    <tr>\n",
       "      <th>15</th>\n",
       "      <td>NumberOfChildrenVisiting</td>\n",
       "      <td>1.663075</td>\n",
       "    </tr>\n",
       "    <tr>\n",
       "      <th>16</th>\n",
       "      <td>Designation</td>\n",
       "      <td>1.327507</td>\n",
       "    </tr>\n",
       "    <tr>\n",
       "      <th>17</th>\n",
       "      <td>MonthlyIncome</td>\n",
       "      <td>2.294664</td>\n",
       "    </tr>\n",
       "    <tr>\n",
       "      <th>18</th>\n",
       "      <td>ProdTaken</td>\n",
       "      <td>1.304046</td>\n",
       "    </tr>\n",
       "  </tbody>\n",
       "</table>\n",
       "</div>"
      ],
      "text/plain": [
       "                    Variable       VIF\n",
       "0                        Age  1.406050\n",
       "1              TypeofContact  1.019588\n",
       "2                   CityTier  1.107656\n",
       "3            DurationOfPitch  1.036658\n",
       "4                 Occupation  1.046224\n",
       "5                     Gender  1.035559\n",
       "6     NumberOfPersonVisiting  1.724781\n",
       "7          NumberOfFollowups  1.212349\n",
       "8             ProductPitched  2.239146\n",
       "9      PreferredPropertyStar  1.033981\n",
       "10             MaritalStatus  1.081778\n",
       "11             NumberOfTrips  1.062607\n",
       "12                  Passport  1.120946\n",
       "13    PitchSatisfactionScore  1.025372\n",
       "14                    OwnCar  1.023256\n",
       "15  NumberOfChildrenVisiting  1.663075\n",
       "16               Designation  1.327507\n",
       "17             MonthlyIncome  2.294664\n",
       "18                 ProdTaken  1.304046"
      ]
     },
     "execution_count": 118,
     "metadata": {},
     "output_type": "execute_result"
    }
   ],
   "source": [
    "compute_vif(df.columns, df)"
   ]
  },
  {
   "cell_type": "code",
   "execution_count": 119,
   "id": "cfa18699",
   "metadata": {},
   "outputs": [],
   "source": [
    "true_df = df.loc[df['ProdTaken'] == 0]\n",
    "true_df.drop(columns=['ProdTaken'], inplace=True)\n",
    "\n",
    "true_df.to_csv('colGan_False.csv', index=False)"
   ]
  },
  {
   "cell_type": "code",
   "execution_count": 120,
   "id": "73a1f429",
   "metadata": {},
   "outputs": [
    {
     "data": {
      "text/plain": [
       "((7142, 18), (7142,))"
      ]
     },
     "execution_count": 120,
     "metadata": {},
     "output_type": "execute_result"
    }
   ],
   "source": [
    "X = df.drop(columns=['ProdTaken'], axis=1)\n",
    "y = df['ProdTaken']\n",
    "X.shape, y.shape"
   ]
  },
  {
   "cell_type": "code",
   "execution_count": 121,
   "id": "93b959f2",
   "metadata": {},
   "outputs": [
    {
     "name": "stdout",
     "output_type": "stream",
     "text": [
      "(7142, 19)\n"
     ]
    }
   ],
   "source": [
    "from sklearn.naive_bayes import GaussianNB\n",
    "from sklearn.ensemble import RandomForestClassifier, GradientBoostingClassifier, AdaBoostClassifier\n",
    "from sklearn.linear_model import LogisticRegression\n",
    "from sklearn.neighbors import KNeighborsClassifier\n",
    "from sklearn.metrics import accuracy_score, classification_report,ConfusionMatrixDisplay, \\\n",
    "                            precision_score, recall_score, f1_score\n",
    "from sklearn.svm import SVC\n",
    "from sklearn.tree import DecisionTreeClassifier\n",
    "from xgboost import XGBClassifier\n",
    "from catboost import CatBoostClassifier\n",
    "from sklearn.model_selection import train_test_split\n",
    "from sklearn.preprocessing import StandardScaler\n",
    "\n",
    "# separate dataset into train and test\n",
    "X_train, X_test, y_train, y_test = train_test_split(X,y,test_size=0.1,random_state=36)\n",
    "X_train.shape, X_test.shape\n",
    "\n",
    "scaler = StandardScaler()\n",
    "X_train = scaler.fit_transform(X_train)\n",
    "X_test = scaler.transform(X_test)\n",
    "\n",
    "print(df.shape)"
   ]
  },
  {
   "cell_type": "code",
   "execution_count": 122,
   "id": "92f3fa95",
   "metadata": {},
   "outputs": [
    {
     "name": "stdout",
     "output_type": "stream",
     "text": [
      "Random Forest\n",
      "Model performance for Training set\n",
      "- Accuracy: 1.0000\n",
      "- F1 score: 1.0000\n",
      "- Precision: 1.0000\n",
      "- Recall: 1.0000\n",
      "----------------------------------\n",
      "Model performance for Test set\n",
      "- Accuracy: 0.9846\n",
      "- F1 score: 0.9846\n",
      "- Precision: 0.9729\n",
      "- Recall: 0.9972\n",
      "              precision    recall  f1-score   support\n",
      "\n",
      "           0       1.00      0.97      0.98       355\n",
      "           1       0.97      1.00      0.98       360\n",
      "\n",
      "    accuracy                           0.98       715\n",
      "   macro avg       0.99      0.98      0.98       715\n",
      "weighted avg       0.98      0.98      0.98       715\n",
      "\n",
      "[0.98446031 0.98194036 0.97815126]\n",
      "===================================\n",
      "\n",
      "\n",
      "Naive Bayes\n",
      "Model performance for Training set\n",
      "- Accuracy: 0.6855\n",
      "- F1 score: 0.6841\n",
      "- Precision: 0.6631\n",
      "- Recall: 0.7533\n",
      "----------------------------------\n",
      "Model performance for Test set\n",
      "- Accuracy: 0.6657\n",
      "- F1 score: 0.6629\n",
      "- Precision: 0.6430\n",
      "- Recall: 0.7556\n",
      "              precision    recall  f1-score   support\n",
      "\n",
      "           0       0.70      0.57      0.63       355\n",
      "           1       0.64      0.76      0.69       360\n",
      "\n",
      "    accuracy                           0.67       715\n",
      "   macro avg       0.67      0.67      0.66       715\n",
      "weighted avg       0.67      0.67      0.66       715\n",
      "\n",
      "[0.6698866  0.66778664 0.6907563 ]\n",
      "===================================\n",
      "\n",
      "\n",
      "Gradient Boosting\n",
      "Model performance for Training set\n",
      "- Accuracy: 0.8298\n",
      "- F1 score: 0.8297\n",
      "- Precision: 0.8454\n",
      "- Recall: 0.8069\n",
      "----------------------------------\n",
      "Model performance for Test set\n",
      "- Accuracy: 0.8224\n",
      "- F1 score: 0.8224\n",
      "- Precision: 0.8209\n",
      "- Recall: 0.8278\n",
      "              precision    recall  f1-score   support\n",
      "\n",
      "           0       0.82      0.82      0.82       355\n",
      "           1       0.82      0.83      0.82       360\n",
      "\n",
      "    accuracy                           0.82       715\n",
      "   macro avg       0.82      0.82      0.82       715\n",
      "weighted avg       0.82      0.82      0.82       715\n",
      "\n",
      "[0.80848383 0.81058379 0.82689076]\n",
      "===================================\n",
      "\n",
      "\n",
      "Logistic Regression\n",
      "Model performance for Training set\n",
      "- Accuracy: 0.7178\n",
      "- F1 score: 0.7177\n",
      "- Precision: 0.7228\n",
      "- Recall: 0.7057\n",
      "----------------------------------\n",
      "Model performance for Test set\n",
      "- Accuracy: 0.7231\n",
      "- F1 score: 0.7231\n",
      "- Precision: 0.7250\n",
      "- Recall: 0.7250\n",
      "              precision    recall  f1-score   support\n",
      "\n",
      "           0       0.72      0.72      0.72       355\n",
      "           1       0.72      0.72      0.73       360\n",
      "\n",
      "    accuracy                           0.72       715\n",
      "   macro avg       0.72      0.72      0.72       715\n",
      "weighted avg       0.72      0.72      0.72       715\n",
      "\n",
      "[0.67828643 0.68878622 0.6907563 ]\n",
      "===================================\n",
      "\n",
      "\n",
      "K-Neighbors Classifier\n",
      "Model performance for Training set\n",
      "- Accuracy: 0.9532\n",
      "- F1 score: 0.9531\n",
      "- Precision: 0.9171\n",
      "- Recall: 0.9963\n",
      "----------------------------------\n",
      "Model performance for Test set\n",
      "- Accuracy: 0.9133\n",
      "- F1 score: 0.9127\n",
      "- Precision: 0.8582\n",
      "- Recall: 0.9917\n",
      "              precision    recall  f1-score   support\n",
      "\n",
      "           0       0.99      0.83      0.91       355\n",
      "           1       0.86      0.99      0.92       360\n",
      "\n",
      "    accuracy                           0.91       715\n",
      "   macro avg       0.92      0.91      0.91       715\n",
      "weighted avg       0.92      0.91      0.91       715\n",
      "\n",
      "[0.75136497 0.77236455 0.76932773]\n",
      "===================================\n",
      "\n",
      "\n",
      "XGBClassifier\n",
      "Model performance for Training set\n",
      "- Accuracy: 1.0000\n",
      "- F1 score: 1.0000\n",
      "- Precision: 1.0000\n",
      "- Recall: 1.0000\n",
      "----------------------------------\n",
      "Model performance for Test set\n",
      "- Accuracy: 0.9706\n",
      "- F1 score: 0.9706\n",
      "- Precision: 0.9472\n",
      "- Recall: 0.9972\n",
      "              precision    recall  f1-score   support\n",
      "\n",
      "           0       1.00      0.94      0.97       355\n",
      "           1       0.95      1.00      0.97       360\n",
      "\n",
      "    accuracy                           0.97       715\n",
      "   macro avg       0.97      0.97      0.97       715\n",
      "weighted avg       0.97      0.97      0.97       715\n",
      "\n",
      "[0.97396052 0.97228055 0.97731092]\n",
      "===================================\n",
      "\n",
      "\n",
      "CatBoosting Classifier\n",
      "Model performance for Training set\n",
      "- Accuracy: 0.9919\n",
      "- F1 score: 0.9919\n",
      "- Precision: 0.9901\n",
      "- Recall: 0.9938\n",
      "----------------------------------\n",
      "Model performance for Test set\n",
      "- Accuracy: 0.9650\n",
      "- F1 score: 0.9650\n",
      "- Precision: 0.9491\n",
      "- Recall: 0.9833\n",
      "              precision    recall  f1-score   support\n",
      "\n",
      "           0       0.98      0.95      0.96       355\n",
      "           1       0.95      0.98      0.97       360\n",
      "\n",
      "    accuracy                           0.97       715\n",
      "   macro avg       0.97      0.96      0.97       715\n",
      "weighted avg       0.97      0.97      0.97       715\n",
      "\n",
      "[0.95716086 0.95926081 0.95      ]\n",
      "===================================\n",
      "\n",
      "\n",
      "Support Vector Classifier\n",
      "Model performance for Training set\n",
      "- Accuracy: 0.9308\n",
      "- F1 score: 0.9307\n",
      "- Precision: 0.9148\n",
      "- Recall: 0.9499\n",
      "----------------------------------\n",
      "Model performance for Test set\n",
      "- Accuracy: 0.9049\n",
      "- F1 score: 0.9047\n",
      "- Precision: 0.8782\n",
      "- Recall: 0.9417\n",
      "              precision    recall  f1-score   support\n",
      "\n",
      "           0       0.94      0.87      0.90       355\n",
      "           1       0.88      0.94      0.91       360\n",
      "\n",
      "    accuracy                           0.90       715\n",
      "   macro avg       0.91      0.90      0.90       715\n",
      "weighted avg       0.91      0.90      0.90       715\n",
      "\n",
      "[0.58252835 0.59974801 0.60462185]\n",
      "===================================\n",
      "\n",
      "\n",
      "AdaBoost Classifier\n",
      "Model performance for Training set\n",
      "- Accuracy: 0.7540\n",
      "- F1 score: 0.7540\n",
      "- Precision: 0.7545\n",
      "- Recall: 0.7524\n",
      "----------------------------------\n",
      "Model performance for Test set\n",
      "- Accuracy: 0.7580\n",
      "- F1 score: 0.7580\n",
      "- Precision: 0.7520\n",
      "- Recall: 0.7750\n",
      "              precision    recall  f1-score   support\n",
      "\n",
      "           0       0.76      0.74      0.75       355\n",
      "           1       0.75      0.78      0.76       360\n",
      "\n",
      "    accuracy                           0.76       715\n",
      "   macro avg       0.76      0.76      0.76       715\n",
      "weighted avg       0.76      0.76      0.76       715\n",
      "\n",
      "[0.74086518 0.75346493 0.74663866]\n",
      "===================================\n",
      "\n",
      "\n"
     ]
    }
   ],
   "source": [
    "models = {\n",
    "    \"Random Forest\": RandomForestClassifier(n_estimators=1000, min_samples_split=2, max_features= 'auto', max_depth= 20),\n",
    "    \"Naive Bayes\": GaussianNB(),\n",
    "    \"Gradient Boosting\": GradientBoostingClassifier(),\n",
    "    \"Logistic Regression\": LogisticRegression(),\n",
    "    \"K-Neighbors Classifier\": KNeighborsClassifier(),\n",
    "    \"XGBClassifier\": XGBClassifier(), \n",
    "    \"CatBoosting Classifier\": CatBoostClassifier(verbose=False),\n",
    "    \"Support Vector Classifier\": SVC(),\n",
    "    \"AdaBoost Classifier\": AdaBoostClassifier()\n",
    "}\n",
    "\n",
    "for i in range(len(list(models))):\n",
    "    model = list(models.values())[i]\n",
    "    model.fit(X_train, y_train) # Train model\n",
    "    \n",
    "    # Make predictions\n",
    "    y_train_pred = model.predict(X_train)\n",
    "    y_test_pred = model.predict(X_test)\n",
    "\n",
    "    # Training set performance\n",
    "    model_train_accuracy = accuracy_score(y_train, y_train_pred) # Calculate Accuracy\n",
    "    model_train_f1 = f1_score(y_train, y_train_pred, average='weighted') # Calculate F1-score\n",
    "    model_train_precision = precision_score(y_train, y_train_pred) # Calculate Precision\n",
    "    model_train_recall = recall_score(y_train, y_train_pred) # Calculate Recall\n",
    "\n",
    "\n",
    "    # Test set performance\n",
    "    model_test_accuracy = accuracy_score(y_test, y_test_pred) # Calculate Accuracy\n",
    "    model_test_f1 = f1_score(y_test, y_test_pred, average='weighted') # Calculate F1-score\n",
    "    model_test_precision = precision_score(y_test, y_test_pred) # Calculate Precision\n",
    "    model_test_recall = recall_score(y_test, y_test_pred) # Calculate Recall\n",
    "\n",
    "\n",
    "    print(list(models.keys())[i])\n",
    "    \n",
    "    print('Model performance for Training set')\n",
    "    print(\"- Accuracy: {:.4f}\".format(model_train_accuracy))\n",
    "    print('- F1 score: {:.4f}'.format(model_train_f1))\n",
    "    print('- Precision: {:.4f}'.format(model_train_precision))\n",
    "    print('- Recall: {:.4f}'.format(model_train_recall))\n",
    "    \n",
    "    print('----------------------------------')\n",
    "    \n",
    "    print('Model performance for Test set')\n",
    "    print('- Accuracy: {:.4f}'.format(model_test_accuracy))\n",
    "    print('- F1 score: {:.4f}'.format(model_test_f1))\n",
    "    print('- Precision: {:.4f}'.format(model_test_precision))\n",
    "    print('- Recall: {:.4f}'.format(model_test_recall))\n",
    "\n",
    "    print(classification_report(y_test, y_test_pred))\n",
    "    print(cross_val_score(model, X, y, cv=3))\n",
    "    \n",
    "    print('='*35)\n",
    "    print('\\n')"
   ]
  },
  {
   "cell_type": "code",
   "execution_count": 123,
   "id": "e6296875",
   "metadata": {},
   "outputs": [
    {
     "data": {
      "text/plain": [
       "(6427, 18)"
      ]
     },
     "execution_count": 123,
     "metadata": {},
     "output_type": "execute_result"
    }
   ],
   "source": [
    "X_train.shape "
   ]
  },
  {
   "cell_type": "code",
   "execution_count": 124,
   "id": "dabf0130",
   "metadata": {},
   "outputs": [
    {
     "name": "stdout",
     "output_type": "stream",
     "text": [
      "['TypeofContact', 'Occupation', 'Gender', 'ProductPitched', 'MaritalStatus', 'Designation']\n"
     ]
    }
   ],
   "source": [
    "X_train, X_test, y_train, y_test = train_test_split(X,y,test_size=0.1,random_state=36)\n",
    "X_train.shape, X_test.shape\n",
    "\n",
    "numeric_transformer = StandardScaler()\n",
    "oh_transformer = OneHotEncoder()\n",
    "\n",
    "preprocessor = make_column_transformer(\n",
    "    (StandardScaler(), numerical_columns),\n",
    "    (OneHotEncoder(), categorical_columns)\n",
    ")\n",
    "\n",
    "clf = Pipeline(\n",
    "    steps=[(\"preprocessor\", preprocessor), (\"classifier\", RandomForestClassifier())]\n",
    ")\n",
    "\n",
    "\n",
    "clf.fit(X_train, y_train)\n",
    "# print(\"model score: %.3f\" % clf.score(X_test, y_test))\n",
    "\n",
    "print(categorical_columns)"
   ]
  },
  {
   "cell_type": "code",
   "execution_count": 125,
   "id": "4d64a724",
   "metadata": {},
   "outputs": [],
   "source": [
    "df_test = pd.read_csv(r'C:\\Users\\wasim\\tourism_package\\packagePrediction\\data\\test_df.csv')"
   ]
  },
  {
   "cell_type": "code",
   "execution_count": 126,
   "id": "a702aa11",
   "metadata": {},
   "outputs": [
    {
     "data": {
      "text/html": [
       "<div>\n",
       "<style scoped>\n",
       "    .dataframe tbody tr th:only-of-type {\n",
       "        vertical-align: middle;\n",
       "    }\n",
       "\n",
       "    .dataframe tbody tr th {\n",
       "        vertical-align: top;\n",
       "    }\n",
       "\n",
       "    .dataframe thead th {\n",
       "        text-align: right;\n",
       "    }\n",
       "</style>\n",
       "<table border=\"1\" class=\"dataframe\">\n",
       "  <thead>\n",
       "    <tr style=\"text-align: right;\">\n",
       "      <th></th>\n",
       "      <th>Age</th>\n",
       "      <th>TypeofContact</th>\n",
       "      <th>CityTier</th>\n",
       "      <th>DurationOfPitch</th>\n",
       "      <th>Occupation</th>\n",
       "      <th>Gender</th>\n",
       "      <th>NumberOfPersonVisiting</th>\n",
       "      <th>NumberOfFollowups</th>\n",
       "      <th>ProductPitched</th>\n",
       "      <th>PreferredPropertyStar</th>\n",
       "      <th>MaritalStatus</th>\n",
       "      <th>NumberOfTrips</th>\n",
       "      <th>Passport</th>\n",
       "      <th>PitchSatisfactionScore</th>\n",
       "      <th>OwnCar</th>\n",
       "      <th>NumberOfChildrenVisiting</th>\n",
       "      <th>Designation</th>\n",
       "      <th>MonthlyIncome</th>\n",
       "    </tr>\n",
       "  </thead>\n",
       "  <tbody>\n",
       "    <tr>\n",
       "      <th>6684</th>\n",
       "      <td>21.0</td>\n",
       "      <td>1.0</td>\n",
       "      <td>1.0</td>\n",
       "      <td>18.0</td>\n",
       "      <td>3.0</td>\n",
       "      <td>1.0</td>\n",
       "      <td>4.0</td>\n",
       "      <td>5.0</td>\n",
       "      <td>0.0</td>\n",
       "      <td>5.0</td>\n",
       "      <td>3.0</td>\n",
       "      <td>3.0</td>\n",
       "      <td>1.0</td>\n",
       "      <td>3.0</td>\n",
       "      <td>1.0</td>\n",
       "      <td>3.0</td>\n",
       "      <td>1.0</td>\n",
       "      <td>21278.0</td>\n",
       "    </tr>\n",
       "  </tbody>\n",
       "</table>\n",
       "</div>"
      ],
      "text/plain": [
       "       Age  TypeofContact  CityTier  DurationOfPitch  Occupation  Gender  \\\n",
       "6684  21.0            1.0       1.0             18.0         3.0     1.0   \n",
       "\n",
       "      NumberOfPersonVisiting  NumberOfFollowups  ProductPitched  \\\n",
       "6684                     4.0                5.0             0.0   \n",
       "\n",
       "      PreferredPropertyStar  MaritalStatus  NumberOfTrips  Passport  \\\n",
       "6684                    5.0            3.0            3.0       1.0   \n",
       "\n",
       "      PitchSatisfactionScore  OwnCar  NumberOfChildrenVisiting  Designation  \\\n",
       "6684                     3.0     1.0                       3.0          1.0   \n",
       "\n",
       "      MonthlyIncome  \n",
       "6684        21278.0  "
      ]
     },
     "execution_count": 126,
     "metadata": {},
     "output_type": "execute_result"
    }
   ],
   "source": [
    "df_test.columns\n",
    "\n",
    "X_test_raw = df.drop(columns=['ProdTaken'])\n",
    "y_test_raw = df['ProdTaken']\n",
    "\n",
    "X_test.iloc[[0]]"
   ]
  },
  {
   "cell_type": "code",
   "execution_count": 127,
   "id": "41a3301c",
   "metadata": {},
   "outputs": [
    {
     "data": {
      "text/plain": [
       "0.9985998319798376"
      ]
     },
     "execution_count": 127,
     "metadata": {},
     "output_type": "execute_result"
    }
   ],
   "source": [
    "clf.score(X_test_raw, y_test_raw)"
   ]
  },
  {
   "cell_type": "code",
   "execution_count": 128,
   "id": "1dbdba23",
   "metadata": {},
   "outputs": [],
   "source": [
    "df = pd.DataFrame(columns=X_train.columns)\n",
    "df.loc[0] = [46.0,1.0,1.0,13.0,2.0,1.0,3.0,4.0,1.0,5.0,1.0,1.0,1.0,2.0,1.0,2.0,2.0,19615.0]\n"
   ]
  },
  {
   "cell_type": "code",
   "execution_count": 129,
   "id": "93370e15",
   "metadata": {},
   "outputs": [
    {
     "data": {
      "text/html": [
       "<div>\n",
       "<style scoped>\n",
       "    .dataframe tbody tr th:only-of-type {\n",
       "        vertical-align: middle;\n",
       "    }\n",
       "\n",
       "    .dataframe tbody tr th {\n",
       "        vertical-align: top;\n",
       "    }\n",
       "\n",
       "    .dataframe thead th {\n",
       "        text-align: right;\n",
       "    }\n",
       "</style>\n",
       "<table border=\"1\" class=\"dataframe\">\n",
       "  <thead>\n",
       "    <tr style=\"text-align: right;\">\n",
       "      <th></th>\n",
       "      <th>Age</th>\n",
       "      <th>TypeofContact</th>\n",
       "      <th>CityTier</th>\n",
       "      <th>DurationOfPitch</th>\n",
       "      <th>Occupation</th>\n",
       "      <th>Gender</th>\n",
       "      <th>NumberOfPersonVisiting</th>\n",
       "      <th>NumberOfFollowups</th>\n",
       "      <th>ProductPitched</th>\n",
       "      <th>PreferredPropertyStar</th>\n",
       "      <th>MaritalStatus</th>\n",
       "      <th>NumberOfTrips</th>\n",
       "      <th>Passport</th>\n",
       "      <th>PitchSatisfactionScore</th>\n",
       "      <th>OwnCar</th>\n",
       "      <th>NumberOfChildrenVisiting</th>\n",
       "      <th>Designation</th>\n",
       "      <th>MonthlyIncome</th>\n",
       "    </tr>\n",
       "  </thead>\n",
       "  <tbody>\n",
       "    <tr>\n",
       "      <th>0</th>\n",
       "      <td>46.0</td>\n",
       "      <td>1.0</td>\n",
       "      <td>1.0</td>\n",
       "      <td>13.0</td>\n",
       "      <td>2.0</td>\n",
       "      <td>1.0</td>\n",
       "      <td>3.0</td>\n",
       "      <td>4.0</td>\n",
       "      <td>1.0</td>\n",
       "      <td>5.0</td>\n",
       "      <td>1.0</td>\n",
       "      <td>1.0</td>\n",
       "      <td>1.0</td>\n",
       "      <td>2.0</td>\n",
       "      <td>1.0</td>\n",
       "      <td>2.0</td>\n",
       "      <td>2.0</td>\n",
       "      <td>19615.0</td>\n",
       "    </tr>\n",
       "  </tbody>\n",
       "</table>\n",
       "</div>"
      ],
      "text/plain": [
       "    Age  TypeofContact  CityTier  DurationOfPitch  Occupation  Gender  \\\n",
       "0  46.0            1.0       1.0             13.0         2.0     1.0   \n",
       "\n",
       "   NumberOfPersonVisiting  NumberOfFollowups  ProductPitched  \\\n",
       "0                     3.0                4.0             1.0   \n",
       "\n",
       "   PreferredPropertyStar  MaritalStatus  NumberOfTrips  Passport  \\\n",
       "0                    5.0            1.0            1.0       1.0   \n",
       "\n",
       "   PitchSatisfactionScore  OwnCar  NumberOfChildrenVisiting  Designation  \\\n",
       "0                     2.0     1.0                       2.0          2.0   \n",
       "\n",
       "   MonthlyIncome  \n",
       "0        19615.0  "
      ]
     },
     "execution_count": 129,
     "metadata": {},
     "output_type": "execute_result"
    }
   ],
   "source": [
    "df"
   ]
  },
  {
   "cell_type": "code",
   "execution_count": 130,
   "id": "929dea12",
   "metadata": {},
   "outputs": [
    {
     "name": "stdout",
     "output_type": "stream",
     "text": [
      "1.4.2\n"
     ]
    }
   ],
   "source": [
    "print(pd.__version__)"
   ]
  },
  {
   "cell_type": "code",
   "execution_count": 132,
   "id": "c9ddd80a",
   "metadata": {},
   "outputs": [
    {
     "data": {
      "text/plain": [
       "['43.0,1.0,3.0,8.0,3.0,2.0,3.0,3.0,1.0,3.0,1.0,2.0,1.0,3.0,0.0,0.0,2.0,22847.0,0\\n',\n",
       " '46.0,1.0,1.0,13.0,2.0,1.0,3.0,4.0,1.0,5.0,1.0,1.0,1.0,2.0,1.0,2.0,2.0,19615.0,0\\n',\n",
       " '41.0,1.0,1.0,18.0,1.0,1.0,2.0,3.0,2.0,3.0,0.0,2.0,0.0,4.0,1.0,0.0,4.0,34545.0,1\\n',\n",
       " '36.0,1.0,1.0,21.0,2.0,2.0,3.0,5.0,0.0,4.0,1.0,3.0,1.0,5.0,1.0,2.0,1.0,22421.0,1\\n',\n",
       " '28.0,1.0,1.0,12.0,1.0,2.0,3.0,5.0,3.0,3.0,1.0,3.0,1.0,3.0,0.0,1.0,3.0,31486.0,0\\n',\n",
       " '24.0,0.0,3.0,16.0,3.0,2.0,3.0,4.0,0.0,5.0,1.0,3.0,0.0,5.0,1.0,1.0,1.0,20468.0,1\\n',\n",
       " '58.0,1.0,3.0,16.0,3.0,2.0,2.0,3.0,4.0,3.0,2.0,1.0,0.0,3.0,0.0,1.0,0.0,28872.0,0\\n',\n",
       " '32.0,0.0,3.0,9.0,2.0,1.0,3.0,4.0,3.0,3.0,1.0,3.0,1.0,1.0,1.0,1.0,3.0,28530.0,0\\n',\n",
       " '50.0,0.0,1.0,6.0,2.0,1.0,3.0,3.0,2.0,4.0,1.0,4.0,1.0,1.0,0.0,2.0,4.0,33172.0,0\\n',\n",
       " '39.0,1.0,1.0,13.0,1.0,1.0,3.0,4.0,1.0,3.0,2.0,2.0,0.0,2.0,1.0,0.0,2.0,19553.0,0\\n',\n",
       " '39.0,1.0,3.0,13.0,2.0,2.0,3.0,3.0,0.0,3.0,1.0,2.0,1.0,1.0,1.0,2.0,1.0,19534.0,1\\n',\n",
       " '41.0,0.0,1.0,13.0,2.0,1.0,2.0,5.0,2.0,3.0,1.0,2.0,0.0,4.0,1.0,1.0,4.0,34973.0,0\\n',\n",
       " '36.0,1.0,1.0,13.0,2.0,2.0,2.0,3.0,1.0,3.0,1.0,1.0,0.0,4.0,0.0,1.0,2.0,19834.0,1\\n',\n",
       " '43.0,0.0,1.0,15.0,2.0,2.0,2.0,3.0,0.0,3.0,2.0,5.0,0.0,3.0,0.0,1.0,1.0,17438.0,0\\n',\n",
       " '21.0,1.0,3.0,9.0,3.0,1.0,3.0,5.0,0.0,3.0,2.0,3.0,0.0,4.0,1.0,1.0,1.0,20722.0,1\\n',\n",
       " '33.0,1.0,3.0,14.0,3.0,2.0,2.0,3.0,1.0,3.0,1.0,1.0,0.0,1.0,0.0,0.0,2.0,22104.0,0\\n',\n",
       " '46.0,1.0,3.0,9.0,3.0,2.0,2.0,3.0,4.0,3.0,0.0,4.0,0.0,2.0,1.0,0.0,0.0,32465.0,0\\n',\n",
       " '41.0,1.0,3.0,29.0,3.0,2.0,4.0,5.0,1.0,3.0,1.0,4.0,1.0,3.0,1.0,1.0,2.0,25058.0,1\\n',\n",
       " '31.0,1.0,1.0,14.0,2.0,1.0,2.0,4.0,0.0,4.0,2.0,2.0,0.0,4.0,0.0,1.0,1.0,16261.0,1\\n',\n",
       " '36.0,1.0,1.0,14.0,2.0,2.0,3.0,4.0,3.0,3.0,2.0,5.0,0.0,3.0,0.0,2.0,3.0,28899.0,0\\n',\n",
       " '22.0,1.0,1.0,14.0,3.0,1.0,3.0,3.0,0.0,5.0,1.0,2.0,1.0,3.0,0.0,1.0,1.0,17398.0,1\\n',\n",
       " '51.0,1.0,3.0,16.0,2.0,1.0,3.0,3.0,3.0,4.0,1.0,6.0,0.0,1.0,1.0,2.0,3.0,28142.0,1\\n',\n",
       " '27.0,1.0,3.0,15.0,1.0,2.0,3.0,5.0,1.0,5.0,3.0,8.0,0.0,3.0,1.0,2.0,2.0,24004.0,1\\n',\n",
       " '38.0,1.0,1.0,15.0,3.0,2.0,3.0,4.0,0.0,3.0,1.0,1.0,1.0,1.0,1.0,2.0,1.0,18388.0,1\\n',\n",
       " '38.0,1.0,1.0,6.0,2.0,1.0,2.0,3.0,0.0,5.0,2.0,4.0,0.0,1.0,0.0,1.0,1.0,17619.0,0\\n',\n",
       " '41.0,1.0,3.0,12.0,2.0,1.0,3.0,3.0,3.0,3.0,2.0,4.0,1.0,1.0,0.0,0.0,3.0,28591.0,0\\n',\n",
       " '39.0,1.0,3.0,17.0,3.0,2.0,4.0,5.0,3.0,3.0,1.0,2.0,1.0,3.0,1.0,2.0,3.0,27418.0,0\\n',\n",
       " '44.0,1.0,1.0,9.0,2.0,2.0,2.0,3.0,2.0,3.0,1.0,5.0,1.0,1.0,0.0,1.0,4.0,34513.0,0\\n',\n",
       " '51.0,0.0,1.0,14.0,2.0,2.0,2.0,5.0,3.0,3.0,3.0,3.0,0.0,2.0,0.0,1.0,3.0,25650.0,1\\n',\n",
       " '30.0,1.0,1.0,7.0,2.0,1.0,3.0,5.0,0.0,5.0,1.0,3.0,1.0,1.0,0.0,1.0,1.0,20997.0,1\\n',\n",
       " '39.0,1.0,3.0,7.0,2.0,0.0,3.0,5.0,1.0,3.0,3.0,6.0,0.0,2.0,1.0,2.0,2.0,27364.0,0\\n',\n",
       " '38.0,1.0,1.0,17.0,3.0,2.0,3.0,4.0,1.0,5.0,3.0,3.0,0.0,4.0,0.0,1.0,2.0,22891.0,1\\n',\n",
       " '18.0,0.0,1.0,11.0,2.0,2.0,3.0,3.0,0.0,3.0,2.0,2.0,0.0,1.0,0.0,1.0,1.0,16051.0,0\\n',\n",
       " '32.0,0.0,3.0,9.0,2.0,1.0,3.0,5.0,0.0,3.0,3.0,2.0,0.0,5.0,0.0,2.0,1.0,21463.0,1\\n',\n",
       " '28.0,0.0,1.0,8.0,3.0,2.0,2.0,4.0,0.0,5.0,2.0,1.0,0.0,4.0,0.0,0.0,1.0,17561.0,1\\n',\n",
       " '37.0,1.0,1.0,13.0,2.0,1.0,3.0,3.0,1.0,3.0,0.0,5.0,0.0,2.0,0.0,1.0,2.0,21716.0,0\\n',\n",
       " '19.0,1.0,1.0,8.0,2.0,2.0,2.0,4.0,0.0,3.0,2.0,2.0,0.0,5.0,0.0,0.0,1.0,16102.0,1\\n',\n",
       " '55.0,1.0,1.0,14.0,3.0,1.0,2.0,3.0,4.0,3.0,1.0,3.0,1.0,3.0,1.0,1.0,0.0,29756.0,0\\n',\n",
       " '27.0,1.0,3.0,16.0,3.0,1.0,3.0,4.0,1.0,3.0,0.0,2.0,1.0,3.0,1.0,2.0,2.0,20769.0,0\\n',\n",
       " '25.0,0.0,1.0,18.0,2.0,1.0,4.0,3.0,1.0,3.0,1.0,2.0,0.0,3.0,1.0,3.0,2.0,22689.0,0\\n',\n",
       " '41.0,1.0,1.0,17.0,2.0,1.0,3.0,2.0,0.0,3.0,1.0,5.0,1.0,3.0,0.0,2.0,1.0,20891.0,0\\n',\n",
       " '32.0,0.0,3.0,33.0,3.0,2.0,4.0,4.0,1.0,3.0,1.0,3.0,1.0,3.0,0.0,2.0,2.0,24295.0,1\\n',\n",
       " '38.0,0.0,1.0,11.0,2.0,2.0,2.0,1.0,1.0,5.0,1.0,2.0,0.0,5.0,1.0,1.0,2.0,22347.0,0\\n',\n",
       " '33.0,1.0,1.0,14.0,2.0,2.0,4.0,4.0,1.0,3.0,0.0,3.0,0.0,3.0,1.0,2.0,2.0,23561.0,1\\n',\n",
       " '30.0,0.0,1.0,11.0,3.0,1.0,2.0,3.0,0.0,4.0,2.0,1.0,0.0,3.0,0.0,0.0,1.0,17422.0,1\\n',\n",
       " '20.0,0.0,3.0,15.0,3.0,1.0,2.0,3.0,0.0,3.0,2.0,2.0,1.0,4.0,0.0,0.0,1.0,17323.0,1\\n',\n",
       " '39.0,1.0,1.0,6.0,2.0,1.0,3.0,4.0,4.0,3.0,1.0,2.0,0.0,3.0,1.0,0.0,0.0,27742.0,0\\n',\n",
       " '42.0,1.0,1.0,8.0,2.0,2.0,2.0,3.0,2.0,3.0,1.0,6.0,0.0,3.0,1.0,1.0,4.0,33880.0,0\\n',\n",
       " '36.0,1.0,3.0,14.0,2.0,2.0,4.0,4.0,0.0,3.0,0.0,3.0,0.0,3.0,1.0,1.0,1.0,21082.0,0\\n',\n",
       " '38.0,1.0,1.0,9.0,3.0,2.0,3.0,3.0,0.0,5.0,0.0,6.0,0.0,5.0,1.0,1.0,1.0,22347.0,1\\n',\n",
       " '19.0,1.0,1.0,10.0,3.0,2.0,3.0,4.0,0.0,3.0,2.0,3.0,0.0,4.0,1.0,1.0,1.0,20098.0,1\\n',\n",
       " '27.0,0.0,2.0,28.0,2.0,1.0,2.0,4.0,0.0,4.0,1.0,2.0,0.0,1.0,1.0,0.0,1.0,17863.0,1\\n',\n",
       " '56.0,1.0,1.0,20.0,2.0,1.0,3.0,4.0,0.0,4.0,0.0,1.0,1.0,5.0,1.0,1.0,1.0,19963.0,1\\n',\n",
       " '34.0,1.0,1.0,9.0,2.0,1.0,3.0,4.0,0.0,5.0,1.0,2.0,0.0,3.0,1.0,2.0,1.0,21385.0,1\\n',\n",
       " '46.0,1.0,3.0,15.0,3.0,2.0,3.0,4.0,3.0,3.0,3.0,2.0,0.0,5.0,1.0,2.0,3.0,24619.0,1\\n',\n",
       " '40.0,1.0,1.0,13.0,3.0,2.0,4.0,4.0,0.0,5.0,1.0,2.0,1.0,1.0,1.0,2.0,1.0,21082.0,1\\n',\n",
       " '33.0,1.0,3.0,22.0,3.0,1.0,3.0,3.0,1.0,5.0,2.0,6.0,0.0,3.0,1.0,0.0,2.0,20324.0,1\\n',\n",
       " '32.0,0.0,3.0,27.0,2.0,2.0,4.0,2.0,0.0,3.0,1.0,2.0,0.0,5.0,1.0,1.0,1.0,21469.0,0\\n',\n",
       " '37.0,1.0,1.0,13.0,3.0,1.0,3.0,5.0,1.0,4.0,0.0,6.0,0.0,4.0,1.0,0.0,2.0,19777.0,1\\n',\n",
       " '32.0,1.0,3.0,13.0,2.0,2.0,3.0,3.0,1.0,3.0,1.0,3.0,0.0,2.0,0.0,0.0,2.0,22347.0,0\\n',\n",
       " '55.0,1.0,1.0,24.0,1.0,1.0,3.0,4.0,3.0,3.0,1.0,2.0,0.0,5.0,0.0,1.0,3.0,29417.0,0\\n',\n",
       " '19.0,0.0,3.0,12.0,3.0,2.0,4.0,4.0,0.0,4.0,2.0,3.0,1.0,4.0,1.0,1.0,1.0,20556.0,1\\n',\n",
       " '30.0,1.0,1.0,11.0,1.0,1.0,4.0,5.0,0.0,5.0,1.0,3.0,0.0,4.0,0.0,1.0,1.0,20787.0,0\\n',\n",
       " '29.0,1.0,1.0,31.0,2.0,2.0,3.0,5.0,0.0,3.0,2.0,7.0,1.0,1.0,0.0,1.0,1.0,20706.0,1\\n',\n",
       " '45.0,0.0,1.0,31.0,2.0,2.0,3.0,4.0,0.0,3.0,1.0,5.0,1.0,5.0,0.0,2.0,1.0,21839.0,1\\n',\n",
       " '22.0,1.0,1.0,22.0,2.0,2.0,4.0,4.0,0.0,3.0,2.0,3.0,0.0,3.0,1.0,2.0,1.0,19910.0,0\\n',\n",
       " '26.0,1.0,1.0,13.0,3.0,1.0,2.0,4.0,3.0,5.0,1.0,1.0,1.0,4.0,1.0,1.0,3.0,17875.0,1\\n',\n",
       " '49.0,1.0,1.0,24.0,2.0,2.0,2.0,4.0,2.0,3.0,1.0,2.0,1.0,3.0,1.0,0.0,4.0,34502.0,0\\n',\n",
       " '38.0,0.0,1.0,16.0,3.0,2.0,3.0,3.0,0.0,3.0,0.0,1.0,0.0,5.0,0.0,2.0,1.0,17684.0,0\\n',\n",
       " '58.0,1.0,1.0,6.0,3.0,1.0,3.0,3.0,2.0,5.0,0.0,4.0,1.0,1.0,1.0,1.0,4.0,34701.0,0\\n',\n",
       " '28.0,1.0,1.0,7.0,3.0,2.0,3.0,4.0,0.0,4.0,1.0,3.0,0.0,3.0,0.0,1.0,1.0,22494.0,0\\n',\n",
       " '34.0,1.0,1.0,12.0,3.0,2.0,2.0,3.0,0.0,5.0,2.0,3.0,0.0,4.0,0.0,0.0,1.0,17960.0,1\\n',\n",
       " '30.0,0.0,3.0,9.0,2.0,2.0,3.0,4.0,1.0,3.0,3.0,3.0,0.0,1.0,0.0,2.0,2.0,23232.0,0\\n',\n",
       " '37.0,1.0,1.0,16.0,3.0,2.0,4.0,5.0,0.0,3.0,1.0,2.0,1.0,1.0,1.0,3.0,1.0,22066.0,1\\n',\n",
       " '54.0,1.0,1.0,30.0,2.0,1.0,4.0,4.0,4.0,3.0,2.0,8.0,0.0,5.0,1.0,2.0,0.0,32953.0,0\\n',\n",
       " '47.0,1.0,2.0,32.0,2.0,1.0,3.0,3.0,2.0,3.0,1.0,4.0,0.0,4.0,1.0,1.0,4.0,34658.0,0\\n',\n",
       " '32.0,0.0,3.0,7.0,2.0,1.0,3.0,4.0,0.0,3.0,2.0,3.0,0.0,3.0,1.0,2.0,1.0,20037.0,1\\n',\n",
       " '38.0,1.0,1.0,6.0,2.0,2.0,2.0,4.0,0.0,3.0,1.0,2.0,1.0,1.0,1.0,1.0,1.0,18622.0,0\\n',\n",
       " '40.0,0.0,3.0,11.0,2.0,2.0,2.0,4.0,3.0,5.0,1.0,6.0,1.0,5.0,0.0,0.0,3.0,25475.0,0\\n',\n",
       " '45.0,1.0,1.0,34.0,1.0,1.0,2.0,4.0,4.0,4.0,2.0,2.0,0.0,3.0,1.0,0.0,0.0,31704.0,0\\n',\n",
       " '34.0,0.0,3.0,17.0,3.0,2.0,3.0,5.0,1.0,3.0,3.0,5.0,0.0,3.0,1.0,1.0,2.0,23360.0,0\\n',\n",
       " '42.0,1.0,1.0,15.0,3.0,1.0,4.0,4.0,0.0,5.0,1.0,3.0,1.0,3.0,0.0,3.0,1.0,22781.0,1\\n',\n",
       " '27.0,0.0,1.0,10.0,1.0,2.0,4.0,4.0,0.0,5.0,3.0,2.0,0.0,3.0,0.0,3.0,1.0,21780.0,1\\n',\n",
       " '52.0,1.0,3.0,34.0,2.0,2.0,3.0,4.0,1.0,3.0,2.0,3.0,1.0,5.0,1.0,2.0,2.0,32704.0,1\\n',\n",
       " '31.0,0.0,2.0,15.0,2.0,1.0,4.0,5.0,0.0,3.0,1.0,8.0,0.0,5.0,1.0,3.0,1.0,20858.0,1\\n',\n",
       " '30.0,1.0,3.0,11.0,3.0,1.0,1.0,4.0,1.0,3.0,1.0,2.0,0.0,2.0,0.0,0.0,2.0,21118.0,0\\n',\n",
       " '36.0,1.0,1.0,34.0,3.0,1.0,3.0,5.0,0.0,5.0,2.0,3.0,0.0,4.0,1.0,2.0,1.0,21237.0,0\\n',\n",
       " '44.0,1.0,1.0,10.0,3.0,2.0,2.0,3.0,1.0,4.0,2.0,1.0,0.0,1.0,1.0,1.0,2.0,20933.0,0\\n',\n",
       " '43.0,0.0,1.0,26.0,3.0,2.0,3.0,3.0,0.0,3.0,1.0,8.0,1.0,3.0,1.0,2.0,1.0,21437.0,1\\n',\n",
       " '58.0,1.0,1.0,15.0,3.0,1.0,3.0,4.0,0.0,4.0,1.0,5.0,1.0,1.0,1.0,1.0,1.0,18346.0,0\\n',\n",
       " '44.0,1.0,3.0,23.0,3.0,1.0,4.0,4.0,4.0,3.0,0.0,7.0,1.0,3.0,0.0,1.0,0.0,34742.0,0\\n',\n",
       " '19.0,1.0,1.0,8.0,2.0,2.0,2.0,4.0,0.0,3.0,2.0,2.0,0.0,5.0,0.0,0.0,1.0,16102.0,1\\n',\n",
       " '31.0,0.0,3.0,32.0,3.0,2.0,3.0,3.0,1.0,3.0,1.0,2.0,1.0,3.0,0.0,1.0,2.0,20617.0,1\\n',\n",
       " '40.0,1.0,3.0,31.0,3.0,2.0,2.0,4.0,3.0,4.0,3.0,3.0,1.0,5.0,0.0,1.0,3.0,24094.0,1\\n',\n",
       " '30.0,1.0,3.0,34.0,3.0,1.0,3.0,4.0,3.0,3.0,0.0,3.0,0.0,3.0,1.0,2.0,3.0,26317.0,1\\n',\n",
       " '54.0,1.0,1.0,8.0,1.0,1.0,2.0,3.0,3.0,3.0,0.0,1.0,0.0,4.0,1.0,0.0,3.0,28549.0,0\\n',\n",
       " '59.0,1.0,1.0,8.0,2.0,1.0,3.0,4.0,4.0,3.0,2.0,4.0,1.0,5.0,1.0,0.0,0.0,28726.0,0\\n',\n",
       " '44.0,0.0,3.0,9.0,2.0,2.0,4.0,4.0,1.0,3.0,1.0,3.0,0.0,3.0,1.0,3.0,2.0,24353.0,0\\n',\n",
       " '38.0,1.0,3.0,6.0,3.0,2.0,2.0,1.0,1.0,5.0,1.0,2.0,0.0,4.0,0.0,0.0,2.0,22347.0,0\\n',\n",
       " '50.0,1.0,3.0,18.0,3.0,1.0,4.0,4.0,1.0,3.0,3.0,5.0,0.0,4.0,0.0,2.0,2.0,23185.0,0\\n',\n",
       " '20.0,0.0,3.0,15.0,3.0,1.0,2.0,3.0,0.0,3.0,2.0,2.0,1.0,4.0,1.0,0.0,1.0,17323.0,1\\n',\n",
       " '41.0,0.0,3.0,35.0,2.0,2.0,3.0,6.0,3.0,5.0,1.0,5.0,0.0,5.0,1.0,1.0,3.0,29610.0,0\\n',\n",
       " '48.0,1.0,1.0,6.0,2.0,2.0,3.0,4.0,3.0,3.0,2.0,1.0,1.0,5.0,0.0,0.0,3.0,20381.0,1\\n',\n",
       " '31.0,0.0,1.0,6.0,2.0,1.0,3.0,1.0,3.0,4.0,3.0,2.0,0.0,3.0,1.0,2.0,3.0,22446.0,1\\n',\n",
       " '33.0,0.0,3.0,13.0,3.0,2.0,2.0,4.0,1.0,3.0,2.0,4.0,0.0,3.0,1.0,1.0,2.0,19682.0,0\\n',\n",
       " '34.0,0.0,3.0,32.0,3.0,1.0,3.0,4.0,1.0,3.0,0.0,3.0,0.0,3.0,0.0,2.0,2.0,23217.0,0\\n',\n",
       " '29.0,0.0,1.0,7.0,3.0,2.0,3.0,5.0,0.0,4.0,1.0,3.0,0.0,4.0,0.0,1.0,1.0,21274.0,1\\n',\n",
       " '46.0,1.0,1.0,28.0,3.0,2.0,3.0,3.0,1.0,3.0,1.0,2.0,1.0,5.0,1.0,2.0,2.0,33789.0,1\\n',\n",
       " '30.0,1.0,3.0,17.0,3.0,1.0,3.0,5.0,1.0,4.0,1.0,3.0,1.0,5.0,1.0,1.0,2.0,26946.0,0\\n',\n",
       " '40.0,1.0,1.0,9.0,2.0,1.0,4.0,4.0,0.0,5.0,1.0,0.0,1.0,1.0,1.0,1.0,1.0,35801.0,1\\n',\n",
       " '29.0,0.0,1.0,13.0,1.0,2.0,2.0,3.0,1.0,3.0,1.0,2.0,0.0,3.0,0.0,0.0,2.0,22347.0,0\\n',\n",
       " '29.0,1.0,1.0,28.0,3.0,2.0,3.0,4.0,0.0,3.0,1.0,3.0,0.0,1.0,0.0,1.0,1.0,21391.0,0\\n',\n",
       " '43.0,0.0,3.0,32.0,2.0,2.0,3.0,3.0,4.0,3.0,1.0,2.0,1.0,1.0,1.0,0.0,0.0,31959.0,0\\n',\n",
       " '27.0,1.0,1.0,11.0,1.0,2.0,2.0,4.0,3.0,3.0,1.0,2.0,1.0,3.0,1.0,1.0,3.0,27808.0,0\\n',\n",
       " '52.0,1.0,3.0,8.0,3.0,1.0,2.0,5.0,2.0,3.0,0.0,2.0,0.0,3.0,1.0,1.0,4.0,34845.0,1\\n',\n",
       " '34.0,1.0,3.0,20.0,1.0,1.0,2.0,3.0,0.0,3.0,1.0,2.0,1.0,5.0,1.0,1.0,1.0,17579.0,0\\n',\n",
       " '31.0,0.0,2.0,15.0,2.0,1.0,4.0,5.0,0.0,3.0,1.0,8.0,0.0,5.0,1.0,3.0,1.0,20858.0,1\\n',\n",
       " '50.0,1.0,1.0,12.0,1.0,2.0,4.0,4.0,1.0,3.0,0.0,4.0,0.0,3.0,0.0,1.0,2.0,25329.0,0\\n',\n",
       " '30.0,1.0,3.0,7.0,3.0,1.0,3.0,5.0,0.0,3.0,1.0,8.0,1.0,2.0,0.0,2.0,1.0,21478.0,1\\n',\n",
       " '38.0,0.0,1.0,16.0,3.0,2.0,3.0,4.0,0.0,3.0,0.0,3.0,1.0,2.0,0.0,1.0,1.0,21004.0,0\\n',\n",
       " '23.0,1.0,1.0,12.0,2.0,2.0,3.0,1.0,0.0,5.0,0.0,2.0,1.0,3.0,1.0,2.0,1.0,16601.0,1\\n',\n",
       " '45.0,1.0,2.0,7.0,3.0,2.0,4.0,5.0,3.0,5.0,0.0,2.0,0.0,4.0,1.0,1.0,3.0,29160.0,1\\n',\n",
       " '49.0,1.0,1.0,13.0,3.0,1.0,2.0,4.0,1.0,5.0,0.0,5.0,0.0,3.0,1.0,1.0,2.0,19789.0,0\\n',\n",
       " '38.0,1.0,1.0,10.0,3.0,1.0,2.0,4.0,0.0,4.0,0.0,1.0,0.0,1.0,0.0,0.0,1.0,22347.0,0\\n',\n",
       " '50.0,1.0,3.0,15.0,1.0,2.0,3.0,5.0,4.0,4.0,1.0,8.0,0.0,4.0,1.0,2.0,0.0,31798.0,0\\n',\n",
       " '29.0,1.0,3.0,15.0,3.0,1.0,2.0,5.0,0.0,4.0,2.0,2.0,0.0,1.0,1.0,1.0,1.0,17760.0,1\\n',\n",
       " '19.0,1.0,2.0,8.0,1.0,2.0,2.0,4.0,0.0,3.0,2.0,2.0,0.0,3.0,0.0,0.0,1.0,17564.0,1\\n',\n",
       " '29.0,1.0,1.0,24.0,3.0,2.0,2.0,4.0,0.0,3.0,2.0,2.0,1.0,3.0,0.0,1.0,1.0,17389.0,1\\n',\n",
       " '27.0,1.0,3.0,8.0,3.0,2.0,2.0,3.0,0.0,5.0,1.0,1.0,0.0,5.0,0.0,1.0,1.0,18041.0,1\\n',\n",
       " '38.0,1.0,1.0,8.0,2.0,2.0,3.0,3.0,0.0,3.0,2.0,3.0,0.0,4.0,1.0,1.0,1.0,18485.0,1\\n',\n",
       " '32.0,1.0,1.0,15.0,2.0,1.0,3.0,4.0,0.0,4.0,2.0,3.0,0.0,4.0,0.0,2.0,1.0,19939.0,1\\n',\n",
       " '36.0,1.0,1.0,9.0,2.0,1.0,4.0,4.0,0.0,5.0,1.0,3.0,1.0,1.0,1.0,2.0,1.0,20752.0,1\\n',\n",
       " '33.0,0.0,1.0,23.0,2.0,1.0,4.0,6.0,0.0,5.0,3.0,3.0,1.0,4.0,1.0,3.0,1.0,22597.0,1\\n',\n",
       " '47.0,1.0,1.0,14.0,3.0,2.0,4.0,4.0,3.0,3.0,1.0,8.0,0.0,2.0,0.0,3.0,3.0,29523.0,0\\n',\n",
       " '27.0,1.0,1.0,12.0,2.0,2.0,2.0,4.0,0.0,3.0,1.0,2.0,0.0,1.0,1.0,1.0,1.0,17539.0,0\\n',\n",
       " '25.0,1.0,1.0,24.0,3.0,1.0,3.0,5.0,1.0,3.0,1.0,3.0,0.0,3.0,0.0,1.0,2.0,23055.0,0\\n',\n",
       " '55.0,1.0,1.0,26.0,3.0,1.0,4.0,4.0,1.0,5.0,1.0,2.0,1.0,3.0,0.0,1.0,2.0,24163.0,0\\n',\n",
       " '38.0,1.0,1.0,18.0,3.0,1.0,4.0,6.0,1.0,4.0,0.0,7.0,0.0,4.0,1.0,1.0,2.0,23455.0,1\\n',\n",
       " '56.0,1.0,3.0,16.0,3.0,1.0,3.0,6.0,0.0,4.0,2.0,0.0,0.0,1.0,1.0,2.0,1.0,37865.0,1\\n',\n",
       " '45.0,0.0,1.0,12.0,2.0,2.0,3.0,5.0,0.0,3.0,3.0,5.0,0.0,1.0,0.0,2.0,1.0,21840.0,0\\n',\n",
       " '53.0,1.0,3.0,9.0,3.0,1.0,3.0,6.0,2.0,3.0,1.0,3.0,0.0,3.0,1.0,2.0,4.0,38523.0,1\\n',\n",
       " '35.0,0.0,1.0,10.0,2.0,2.0,3.0,4.0,1.0,3.0,3.0,2.0,0.0,2.0,1.0,1.0,2.0,26434.0,0\\n',\n",
       " '26.0,1.0,1.0,11.0,1.0,2.0,3.0,4.0,0.0,3.0,1.0,3.0,1.0,3.0,1.0,2.0,1.0,22369.0,1\\n',\n",
       " '23.0,1.0,1.0,15.0,3.0,2.0,2.0,3.0,0.0,5.0,0.0,2.0,0.0,3.0,0.0,1.0,1.0,17500.0,0\\n',\n",
       " '28.0,1.0,1.0,15.0,3.0,1.0,3.0,2.0,0.0,3.0,1.0,2.0,0.0,4.0,0.0,1.0,1.0,22195.0,0\\n',\n",
       " '20.0,1.0,1.0,17.0,3.0,1.0,3.0,4.0,0.0,5.0,2.0,2.0,1.0,3.0,0.0,1.0,1.0,17600.0,1\\n',\n",
       " '30.0,0.0,1.0,9.0,2.0,1.0,4.0,4.0,0.0,4.0,0.0,2.0,0.0,5.0,0.0,3.0,1.0,21858.0,0\\n',\n",
       " '56.0,1.0,1.0,7.0,3.0,2.0,3.0,4.0,2.0,5.0,2.0,0.0,1.0,1.0,1.0,2.0,4.0,37723.0,0\\n',\n",
       " '32.0,1.0,1.0,14.0,3.0,0.0,3.0,4.0,3.0,3.0,3.0,3.0,1.0,4.0,1.0,2.0,3.0,25821.0,0\\n',\n",
       " '38.0,0.0,1.0,15.0,2.0,2.0,3.0,3.0,1.0,5.0,1.0,5.0,0.0,3.0,0.0,2.0,2.0,21893.0,1\\n',\n",
       " '26.0,1.0,3.0,26.0,3.0,2.0,3.0,5.0,0.0,4.0,0.0,3.0,1.0,2.0,0.0,1.0,1.0,21091.0,1\\n',\n",
       " '39.0,1.0,1.0,6.0,3.0,1.0,3.0,3.0,0.0,3.0,1.0,1.0,0.0,3.0,1.0,0.0,1.0,17232.0,0\\n',\n",
       " '29.0,0.0,1.0,8.0,3.0,2.0,2.0,4.0,0.0,5.0,2.0,1.0,0.0,4.0,1.0,1.0,1.0,18339.0,1\\n',\n",
       " '38.0,1.0,2.0,26.0,3.0,1.0,3.0,3.0,0.0,4.0,1.0,1.0,1.0,3.0,0.0,1.0,1.0,18669.0,1\\n',\n",
       " '30.0,1.0,1.0,22.0,2.0,2.0,3.0,4.0,0.0,3.0,2.0,3.0,0.0,3.0,1.0,2.0,1.0,21018.0,0\\n',\n",
       " '30.0,1.0,3.0,8.0,1.0,2.0,3.0,3.0,0.0,4.0,1.0,2.0,0.0,3.0,1.0,0.0,1.0,17476.0,0\\n',\n",
       " '58.0,1.0,1.0,8.0,2.0,2.0,2.0,3.0,2.0,4.0,2.0,1.0,1.0,3.0,1.0,1.0,4.0,34246.0,1\\n',\n",
       " '38.0,1.0,1.0,14.0,3.0,2.0,2.0,4.0,3.0,3.0,2.0,6.0,0.0,1.0,0.0,1.0,3.0,32342.0,0\\n',\n",
       " '47.0,1.0,3.0,17.0,2.0,1.0,4.0,4.0,3.0,4.0,1.0,7.0,0.0,1.0,0.0,3.0,3.0,25992.0,1\\n',\n",
       " '29.0,0.0,1.0,9.0,3.0,2.0,3.0,5.0,0.0,5.0,2.0,2.0,0.0,4.0,0.0,1.0,1.0,21239.0,1\\n',\n",
       " '38.0,0.0,1.0,22.0,2.0,1.0,3.0,5.0,0.0,5.0,2.0,2.0,1.0,4.0,0.0,0.0,1.0,22347.0,1\\n',\n",
       " '38.0,1.0,1.0,35.0,3.0,2.0,3.0,3.0,1.0,5.0,1.0,1.0,1.0,3.0,1.0,2.0,2.0,21673.0,1\\n',\n",
       " '29.0,1.0,1.0,12.0,1.0,2.0,3.0,4.0,0.0,3.0,3.0,3.0,1.0,2.0,1.0,1.0,1.0,22119.0,1\\n',\n",
       " '28.0,1.0,1.0,13.0,3.0,2.0,2.0,3.0,0.0,3.0,2.0,7.0,0.0,3.0,1.0,1.0,1.0,22347.0,1\\n',\n",
       " '34.0,1.0,2.0,9.0,2.0,2.0,3.0,4.0,0.0,3.0,0.0,3.0,0.0,2.0,0.0,1.0,1.0,22278.0,0\\n',\n",
       " '30.0,1.0,1.0,17.0,2.0,1.0,4.0,5.0,0.0,5.0,2.0,8.0,1.0,5.0,1.0,2.0,1.0,21082.0,1\\n',\n",
       " '37.0,1.0,3.0,10.0,3.0,1.0,4.0,5.0,3.0,3.0,1.0,2.0,0.0,3.0,1.0,1.0,3.0,26322.0,0\\n',\n",
       " '29.0,0.0,3.0,30.0,1.0,2.0,2.0,1.0,0.0,5.0,2.0,2.0,0.0,3.0,1.0,1.0,1.0,16091.0,1\\n',\n",
       " '47.0,1.0,1.0,11.0,2.0,2.0,2.0,3.0,2.0,3.0,1.0,5.0,0.0,1.0,1.0,0.0,4.0,33300.0,0\\n',\n",
       " '49.0,0.0,1.0,13.0,2.0,2.0,3.0,4.0,1.0,5.0,2.0,4.0,0.0,3.0,0.0,1.0,2.0,22347.0,1\\n',\n",
       " '36.0,1.0,1.0,13.0,2.0,1.0,3.0,3.0,1.0,3.0,1.0,1.0,1.0,1.0,0.0,2.0,2.0,19663.0,0\\n',\n",
       " '33.0,1.0,1.0,14.0,2.0,2.0,4.0,4.0,1.0,3.0,0.0,3.0,0.0,3.0,1.0,2.0,2.0,23561.0,1\\n',\n",
       " '40.0,1.0,3.0,28.0,3.0,2.0,3.0,4.0,1.0,3.0,0.0,3.0,1.0,3.0,1.0,1.0,2.0,21380.0,1\\n',\n",
       " '33.0,1.0,1.0,6.0,2.0,2.0,3.0,3.0,0.0,3.0,2.0,2.0,1.0,3.0,1.0,0.0,1.0,17686.0,1\\n',\n",
       " '46.0,1.0,1.0,7.0,2.0,2.0,4.0,2.0,2.0,3.0,1.0,0.0,0.0,4.0,1.0,2.0,4.0,37880.0,0\\n',\n",
       " '24.0,1.0,3.0,9.0,2.0,1.0,2.0,4.0,1.0,3.0,0.0,1.0,0.0,4.0,1.0,0.0,2.0,19999.0,0\\n',\n",
       " '25.0,1.0,1.0,7.0,3.0,2.0,4.0,4.0,0.0,3.0,1.0,4.0,1.0,3.0,0.0,3.0,1.0,20971.0,1\\n',\n",
       " '39.0,1.0,3.0,9.0,2.0,1.0,3.0,4.0,1.0,5.0,1.0,5.0,0.0,4.0,0.0,2.0,2.0,25571.0,0\\n',\n",
       " '46.0,1.0,1.0,8.0,1.0,2.0,2.0,3.0,1.0,3.0,1.0,3.0,0.0,1.0,0.0,0.0,2.0,22379.0,0\\n',\n",
       " '20.0,1.0,1.0,32.0,2.0,1.0,3.0,2.0,0.0,3.0,3.0,3.0,1.0,5.0,1.0,1.0,1.0,21672.0,0\\n',\n",
       " '30.0,1.0,1.0,14.0,1.0,1.0,3.0,4.0,0.0,3.0,1.0,5.0,1.0,4.0,1.0,1.0,1.0,34802.0,1\\n',\n",
       " '38.0,1.0,1.0,8.0,3.0,2.0,3.0,3.0,0.0,3.0,1.0,7.0,1.0,4.0,0.0,2.0,1.0,18057.0,0\\n',\n",
       " '35.0,1.0,3.0,7.0,3.0,2.0,4.0,2.0,1.0,3.0,1.0,2.0,0.0,5.0,0.0,2.0,2.0,28403.0,0\\n',\n",
       " '50.0,0.0,1.0,8.0,3.0,1.0,1.0,3.0,4.0,5.0,0.0,3.0,0.0,3.0,1.0,0.0,0.0,32856.0,0\\n',\n",
       " '45.0,1.0,1.0,7.0,3.0,2.0,3.0,4.0,0.0,3.0,2.0,8.0,1.0,4.0,0.0,2.0,1.0,21114.0,0\\n',\n",
       " '46.0,1.0,3.0,9.0,3.0,1.0,4.0,6.0,2.0,4.0,2.0,0.0,1.0,5.0,0.0,3.0,4.0,37502.0,1\\n',\n",
       " '29.0,1.0,1.0,13.0,1.0,1.0,2.0,3.0,0.0,3.0,1.0,4.0,1.0,4.0,1.0,1.0,1.0,18339.0,1\\n',\n",
       " '42.0,1.0,1.0,6.0,2.0,1.0,2.0,4.0,1.0,3.0,1.0,1.0,1.0,3.0,0.0,0.0,2.0,21062.0,0\\n',\n",
       " '29.0,1.0,1.0,8.0,1.0,2.0,4.0,5.0,0.0,5.0,2.0,8.0,0.0,3.0,1.0,2.0,1.0,20758.0,1\\n',\n",
       " '25.0,1.0,2.0,29.0,2.0,2.0,3.0,6.0,0.0,3.0,1.0,3.0,0.0,1.0,0.0,2.0,1.0,20233.0,1\\n',\n",
       " '31.0,1.0,1.0,15.0,2.0,2.0,2.0,4.0,0.0,4.0,2.0,1.0,1.0,3.0,1.0,0.0,1.0,17657.0,0\\n',\n",
       " '31.0,1.0,1.0,27.0,2.0,2.0,3.0,4.0,1.0,5.0,0.0,2.0,0.0,4.0,1.0,1.0,2.0,28635.0,0\\n',\n",
       " '45.0,1.0,1.0,17.0,2.0,2.0,4.0,4.0,0.0,3.0,3.0,3.0,1.0,3.0,1.0,1.0,1.0,21614.0,1\\n',\n",
       " '23.0,1.0,1.0,15.0,3.0,1.0,4.0,4.0,0.0,5.0,1.0,3.0,1.0,3.0,0.0,2.0,1.0,21076.0,1\\n',\n",
       " '43.0,0.0,2.0,15.0,2.0,1.0,4.0,5.0,0.0,3.0,1.0,0.0,0.0,5.0,1.0,2.0,1.0,36539.0,1\\n',\n",
       " '39.0,1.0,3.0,11.0,1.0,2.0,2.0,3.0,1.0,3.0,0.0,4.0,0.0,2.0,0.0,1.0,2.0,17086.0,1\\n',\n",
       " '32.0,1.0,3.0,6.0,3.0,2.0,3.0,4.0,0.0,4.0,1.0,1.0,0.0,1.0,0.0,2.0,1.0,17269.0,0\\n',\n",
       " '31.0,1.0,1.0,10.0,1.0,1.0,3.0,4.0,0.0,5.0,3.0,7.0,1.0,4.0,1.0,2.0,1.0,21335.0,1\\n',\n",
       " '46.0,0.0,3.0,33.0,2.0,1.0,4.0,4.0,1.0,5.0,0.0,4.0,0.0,2.0,0.0,1.0,2.0,22964.0,1\\n',\n",
       " '36.0,1.0,2.0,19.0,2.0,2.0,2.0,3.0,0.0,4.0,1.0,5.0,0.0,3.0,1.0,1.0,1.0,17143.0,0\\n',\n",
       " '45.0,1.0,3.0,8.0,2.0,2.0,3.0,6.0,1.0,4.0,2.0,8.0,0.0,3.0,0.0,2.0,2.0,21040.0,1\\n',\n",
       " '27.0,1.0,3.0,14.0,3.0,1.0,2.0,3.0,1.0,4.0,0.0,2.0,0.0,2.0,0.0,0.0,2.0,21214.0,0\\n',\n",
       " '35.0,0.0,1.0,17.0,3.0,2.0,3.0,4.0,3.0,5.0,1.0,3.0,1.0,5.0,1.0,2.0,3.0,24884.0,0\\n',\n",
       " '41.0,1.0,3.0,32.0,3.0,2.0,3.0,5.0,3.0,4.0,3.0,4.0,1.0,5.0,0.0,2.0,3.0,27772.0,1\\n',\n",
       " '44.0,1.0,1.0,16.0,2.0,2.0,2.0,3.0,1.0,3.0,0.0,3.0,1.0,3.0,1.0,1.0,2.0,21465.0,0\\n',\n",
       " '35.0,1.0,3.0,14.0,1.0,2.0,3.0,4.0,0.0,3.0,1.0,2.0,1.0,1.0,0.0,2.0,1.0,20986.0,0\\n',\n",
       " '36.0,0.0,3.0,18.0,3.0,2.0,3.0,4.0,1.0,3.0,1.0,3.0,0.0,5.0,1.0,2.0,2.0,23646.0,0\\n',\n",
       " '32.0,1.0,3.0,13.0,2.0,2.0,3.0,4.0,1.0,3.0,1.0,2.0,0.0,3.0,1.0,0.0,2.0,20484.0,0\\n',\n",
       " '34.0,0.0,1.0,36.0,3.0,1.0,3.0,5.0,1.0,3.0,3.0,3.0,0.0,5.0,1.0,1.0,2.0,23186.0,1\\n',\n",
       " '43.0,1.0,1.0,9.0,2.0,2.0,3.0,5.0,2.0,3.0,1.0,4.0,0.0,5.0,1.0,1.0,4.0,34740.0,0\\n',\n",
       " '46.0,1.0,3.0,9.0,3.0,1.0,4.0,6.0,2.0,4.0,2.0,0.0,1.0,5.0,0.0,3.0,4.0,37502.0,1\\n',\n",
       " '22.0,1.0,1.0,25.0,2.0,1.0,4.0,4.0,0.0,3.0,3.0,3.0,0.0,3.0,1.0,3.0,1.0,21371.0,1\\n',\n",
       " '39.0,1.0,1.0,10.0,1.0,1.0,3.0,4.0,1.0,3.0,3.0,5.0,1.0,5.0,1.0,1.0,2.0,22995.0,0\\n',\n",
       " '42.0,1.0,1.0,16.0,2.0,2.0,4.0,4.0,0.0,5.0,1.0,4.0,0.0,1.0,0.0,1.0,1.0,20916.0,0\\n',\n",
       " '31.0,1.0,3.0,12.0,2.0,1.0,3.0,4.0,3.0,3.0,1.0,4.0,0.0,4.0,1.0,2.0,3.0,28097.0,0\\n',\n",
       " '41.0,1.0,3.0,15.0,2.0,2.0,3.0,3.0,3.0,3.0,1.0,4.0,1.0,2.0,0.0,1.0,3.0,23189.0,0\\n',\n",
       " '22.0,0.0,1.0,9.0,2.0,2.0,2.0,4.0,0.0,3.0,1.0,1.0,1.0,3.0,0.0,1.0,1.0,17853.0,1\\n',\n",
       " '25.0,1.0,3.0,34.0,2.0,2.0,2.0,4.0,1.0,3.0,0.0,3.0,0.0,4.0,0.0,0.0,2.0,23639.0,0\\n',\n",
       " '29.0,1.0,1.0,14.0,2.0,2.0,3.0,5.0,0.0,5.0,1.0,2.0,1.0,3.0,0.0,1.0,1.0,17119.0,1\\n',\n",
       " '46.0,1.0,3.0,9.0,3.0,2.0,2.0,3.0,4.0,3.0,1.0,4.0,0.0,1.0,1.0,0.0,0.0,32465.0,0\\n',\n",
       " '38.0,1.0,1.0,13.0,1.0,1.0,2.0,1.0,0.0,3.0,1.0,2.0,0.0,3.0,0.0,0.0,1.0,18376.0,0\\n',\n",
       " '59.0,1.0,1.0,16.0,3.0,1.0,4.0,5.0,0.0,4.0,1.0,6.0,1.0,1.0,1.0,2.0,1.0,22024.0,0\\n',\n",
       " '52.0,1.0,1.0,14.0,3.0,2.0,3.0,5.0,1.0,3.0,1.0,4.0,0.0,3.0,1.0,2.0,2.0,24810.0,0\\n',\n",
       " '41.0,0.0,1.0,7.0,2.0,2.0,4.0,5.0,4.0,4.0,1.0,3.0,0.0,1.0,1.0,2.0,0.0,32181.0,0\\n',\n",
       " '31.0,1.0,1.0,14.0,3.0,2.0,3.0,5.0,0.0,4.0,1.0,3.0,0.0,5.0,0.0,1.0,1.0,20819.0,0\\n',\n",
       " '30.0,1.0,1.0,7.0,2.0,1.0,3.0,5.0,0.0,5.0,0.0,3.0,1.0,2.0,0.0,1.0,1.0,20997.0,1\\n',\n",
       " '48.0,1.0,1.0,12.0,2.0,2.0,3.0,4.0,2.0,3.0,1.0,0.0,0.0,1.0,1.0,1.0,4.0,36978.0,0\\n',\n",
       " '31.0,1.0,1.0,18.0,3.0,1.0,2.0,3.0,1.0,3.0,0.0,1.0,1.0,4.0,0.0,1.0,2.0,20855.0,0\\n',\n",
       " '50.0,1.0,3.0,34.0,3.0,2.0,2.0,4.0,3.0,5.0,1.0,5.0,1.0,5.0,0.0,0.0,3.0,25854.0,1\\n',\n",
       " '39.0,1.0,2.0,9.0,2.0,1.0,2.0,1.0,1.0,4.0,1.0,1.0,0.0,1.0,0.0,0.0,2.0,21389.0,0\\n',\n",
       " '43.0,0.0,1.0,12.0,2.0,2.0,4.0,4.0,0.0,3.0,0.0,6.0,0.0,3.0,1.0,1.0,1.0,20771.0,0\\n',\n",
       " '42.0,0.0,2.0,14.0,2.0,1.0,3.0,4.0,0.0,3.0,1.0,7.0,0.0,5.0,1.0,1.0,1.0,32861.0,1\\n',\n",
       " '55.0,0.0,3.0,8.0,2.0,0.0,2.0,4.0,0.0,3.0,2.0,1.0,0.0,5.0,0.0,0.0,1.0,28577.0,1\\n',\n",
       " '25.0,0.0,1.0,14.0,2.0,1.0,3.0,4.0,0.0,3.0,1.0,3.0,1.0,4.0,0.0,1.0,1.0,21564.0,1\\n',\n",
       " '28.0,0.0,1.0,31.0,2.0,2.0,4.0,5.0,0.0,3.0,2.0,3.0,1.0,3.0,1.0,2.0,1.0,21212.0,1\\n',\n",
       " '29.0,1.0,1.0,12.0,1.0,2.0,3.0,4.0,0.0,3.0,3.0,3.0,1.0,1.0,0.0,1.0,1.0,22119.0,1\\n',\n",
       " '45.0,1.0,3.0,10.0,2.0,1.0,1.0,4.0,1.0,5.0,1.0,5.0,1.0,4.0,0.0,0.0,2.0,20006.0,0\\n',\n",
       " '32.0,1.0,1.0,18.0,3.0,2.0,4.0,4.0,1.0,5.0,0.0,3.0,1.0,2.0,0.0,3.0,2.0,25511.0,0\\n',\n",
       " '30.0,1.0,1.0,13.0,3.0,2.0,2.0,4.0,0.0,4.0,1.0,2.0,0.0,5.0,0.0,0.0,1.0,17141.0,0\\n',\n",
       " '52.0,1.0,1.0,15.0,2.0,2.0,3.0,5.0,3.0,4.0,1.0,7.0,0.0,3.0,1.0,2.0,3.0,31168.0,0\\n',\n",
       " '29.0,0.0,1.0,9.0,3.0,2.0,3.0,5.0,0.0,5.0,2.0,2.0,0.0,4.0,0.0,1.0,1.0,21239.0,1\\n',\n",
       " '24.0,1.0,1.0,23.0,2.0,1.0,3.0,3.0,0.0,4.0,0.0,2.0,0.0,2.0,0.0,1.0,1.0,17210.0,1\\n',\n",
       " '51.0,1.0,3.0,10.0,3.0,2.0,3.0,5.0,0.0,3.0,0.0,3.0,1.0,4.0,0.0,1.0,1.0,21361.0,1\\n',\n",
       " '18.0,0.0,1.0,14.0,3.0,2.0,3.0,3.0,0.0,3.0,2.0,2.0,0.0,5.0,1.0,0.0,1.0,16904.0,1\\n',\n",
       " '38.0,1.0,1.0,6.0,2.0,2.0,3.0,4.0,0.0,3.0,2.0,1.0,1.0,5.0,1.0,0.0,1.0,22347.0,1\\n',\n",
       " '46.0,1.0,1.0,9.0,2.0,1.0,3.0,5.0,1.0,3.0,1.0,3.0,0.0,4.0,1.0,2.0,2.0,24448.0,0\\n',\n",
       " '38.0,1.0,1.0,11.0,1.0,2.0,2.0,3.0,0.0,3.0,2.0,2.0,1.0,1.0,0.0,0.0,1.0,18441.0,1\\n',\n",
       " '38.0,0.0,1.0,7.0,3.0,1.0,4.0,4.0,3.0,3.0,1.0,4.0,1.0,3.0,0.0,1.0,3.0,32281.0,0\\n',\n",
       " '57.0,1.0,3.0,23.0,2.0,1.0,4.0,4.0,3.0,3.0,2.0,4.0,1.0,5.0,1.0,3.0,3.0,38395.0,1\\n',\n",
       " '24.0,0.0,3.0,19.0,2.0,1.0,3.0,3.0,0.0,4.0,0.0,2.0,0.0,1.0,0.0,0.0,1.0,17033.0,0\\n',\n",
       " '36.0,1.0,1.0,14.0,2.0,2.0,4.0,4.0,0.0,4.0,3.0,3.0,1.0,3.0,1.0,2.0,1.0,24041.0,1\\n',\n",
       " '33.0,1.0,1.0,20.0,3.0,2.0,2.0,3.0,0.0,3.0,1.0,6.0,1.0,1.0,1.0,1.0,1.0,17436.0,1\\n',\n",
       " '21.0,0.0,1.0,13.0,2.0,1.0,4.0,5.0,0.0,3.0,3.0,3.0,1.0,1.0,0.0,1.0,1.0,21604.0,1\\n',\n",
       " '21.0,0.0,1.0,13.0,2.0,1.0,4.0,5.0,0.0,3.0,3.0,3.0,1.0,2.0,1.0,2.0,1.0,21604.0,1\\n',\n",
       " '28.0,0.0,3.0,6.0,1.0,2.0,3.0,3.0,0.0,3.0,0.0,4.0,0.0,3.0,1.0,0.0,1.0,17909.0,1\\n',\n",
       " '56.0,1.0,3.0,22.0,2.0,1.0,3.0,3.0,3.0,5.0,2.0,3.0,1.0,5.0,1.0,1.0,3.0,34717.0,1\\n',\n",
       " '41.0,1.0,3.0,9.0,3.0,1.0,4.0,4.0,1.0,4.0,1.0,5.0,0.0,3.0,1.0,2.0,2.0,24355.0,0\\n',\n",
       " '50.0,0.0,3.0,6.0,2.0,2.0,3.0,3.0,1.0,3.0,1.0,1.0,0.0,3.0,1.0,1.0,2.0,21728.0,1\\n',\n",
       " '33.0,1.0,1.0,9.0,2.0,2.0,4.0,4.0,0.0,4.0,2.0,3.0,0.0,3.0,1.0,2.0,1.0,20071.0,1\\n',\n",
       " '26.0,1.0,3.0,15.0,2.0,1.0,3.0,4.0,1.0,3.0,1.0,2.0,1.0,1.0,1.0,2.0,2.0,23585.0,0\\n',\n",
       " '29.0,1.0,1.0,9.0,2.0,2.0,4.0,5.0,0.0,4.0,0.0,2.0,0.0,2.0,0.0,3.0,1.0,21879.0,0\\n',\n",
       " '36.0,0.0,3.0,25.0,2.0,2.0,4.0,4.0,3.0,5.0,0.0,3.0,0.0,4.0,1.0,1.0,3.0,27747.0,0\\n',\n",
       " '35.0,0.0,3.0,30.0,3.0,2.0,4.0,4.0,1.0,3.0,3.0,2.0,0.0,5.0,0.0,2.0,2.0,23246.0,0\\n',\n",
       " '35.0,1.0,3.0,10.0,3.0,1.0,4.0,5.0,1.0,3.0,1.0,5.0,1.0,3.0,0.0,1.0,2.0,26781.0,0\\n',\n",
       " '29.0,1.0,1.0,7.0,2.0,1.0,4.0,6.0,0.0,4.0,2.0,2.0,1.0,1.0,1.0,3.0,1.0,20894.0,1\\n',\n",
       " '34.0,1.0,3.0,13.0,1.0,2.0,2.0,3.0,0.0,3.0,1.0,1.0,1.0,1.0,0.0,1.0,1.0,17308.0,0\\n',\n",
       " '56.0,1.0,3.0,20.0,3.0,2.0,3.0,2.0,4.0,3.0,2.0,8.0,1.0,3.0,1.0,2.0,0.0,32373.0,1\\n',\n",
       " '43.0,1.0,1.0,21.0,2.0,2.0,3.0,4.0,4.0,3.0,1.0,2.0,0.0,3.0,1.0,1.0,0.0,32603.0,0\\n',\n",
       " '56.0,1.0,1.0,15.0,3.0,1.0,3.0,4.0,4.0,3.0,1.0,4.0,1.0,3.0,1.0,2.0,0.0,33434.0,0\\n',\n",
       " '30.0,1.0,1.0,8.0,2.0,1.0,2.0,5.0,1.0,3.0,2.0,3.0,0.0,2.0,0.0,1.0,2.0,21091.0,0\\n',\n",
       " '32.0,0.0,1.0,7.0,2.0,1.0,4.0,4.0,1.0,5.0,0.0,3.0,0.0,5.0,1.0,3.0,2.0,22826.0,0\\n',\n",
       " '34.0,1.0,1.0,12.0,3.0,2.0,2.0,3.0,0.0,5.0,2.0,3.0,0.0,2.0,1.0,1.0,1.0,17960.0,1\\n',\n",
       " '52.0,1.0,1.0,14.0,2.0,1.0,2.0,3.0,0.0,5.0,0.0,1.0,0.0,1.0,1.0,1.0,1.0,17950.0,0\\n',\n",
       " '29.0,0.0,3.0,20.0,1.0,1.0,3.0,4.0,1.0,4.0,3.0,7.0,0.0,3.0,1.0,1.0,2.0,22545.0,1\\n',\n",
       " '44.0,1.0,1.0,9.0,2.0,2.0,2.0,3.0,2.0,3.0,0.0,5.0,1.0,2.0,1.0,0.0,4.0,34513.0,0\\n',\n",
       " '38.0,1.0,1.0,19.0,2.0,1.0,2.0,3.0,0.0,3.0,2.0,4.0,0.0,3.0,1.0,0.0,1.0,18452.0,0\\n',\n",
       " '30.0,1.0,3.0,11.0,2.0,1.0,2.0,3.0,3.0,3.0,1.0,3.0,0.0,4.0,1.0,1.0,3.0,24419.0,0\\n',\n",
       " '42.0,1.0,3.0,27.0,3.0,1.0,4.0,4.0,0.0,4.0,3.0,3.0,1.0,4.0,0.0,3.0,1.0,21818.0,1\\n',\n",
       " '34.0,1.0,1.0,8.0,2.0,2.0,3.0,4.0,0.0,3.0,1.0,4.0,0.0,5.0,1.0,2.0,1.0,17768.0,0\\n',\n",
       " '28.0,1.0,3.0,19.0,3.0,0.0,2.0,3.0,1.0,3.0,3.0,4.0,1.0,5.0,1.0,1.0,2.0,24854.0,1\\n',\n",
       " '57.0,1.0,1.0,31.0,2.0,2.0,4.0,4.0,0.0,3.0,2.0,3.0,0.0,3.0,0.0,1.0,1.0,21265.0,1\\n',\n",
       " '38.0,1.0,2.0,13.0,2.0,2.0,4.0,4.0,0.0,5.0,1.0,6.0,1.0,2.0,1.0,1.0,1.0,20751.0,1\\n',\n",
       " '47.0,1.0,1.0,10.0,2.0,1.0,3.0,4.0,3.0,4.0,1.0,1.0,1.0,4.0,1.0,2.0,3.0,25333.0,0\\n',\n",
       " '54.0,0.0,1.0,13.0,2.0,1.0,2.0,3.0,1.0,3.0,2.0,4.0,0.0,4.0,0.0,1.0,2.0,19869.0,0\\n',\n",
       " '44.0,1.0,3.0,11.0,3.0,1.0,3.0,5.0,3.0,3.0,2.0,5.0,0.0,3.0,1.0,1.0,3.0,28909.0,0\\n',\n",
       " '42.0,0.0,1.0,29.0,2.0,1.0,4.0,4.0,1.0,3.0,1.0,5.0,1.0,5.0,0.0,1.0,2.0,24145.0,0\\n',\n",
       " '50.0,0.0,1.0,15.0,2.0,2.0,4.0,5.0,1.0,4.0,0.0,3.0,0.0,3.0,1.0,3.0,2.0,23808.0,0\\n',\n",
       " '27.0,1.0,1.0,8.0,2.0,1.0,2.0,3.0,1.0,3.0,0.0,1.0,0.0,5.0,0.0,1.0,2.0,22347.0,0\\n',\n",
       " '35.0,1.0,1.0,6.0,3.0,2.0,1.0,4.0,0.0,3.0,2.0,2.0,0.0,4.0,1.0,0.0,1.0,17859.0,0\\n',\n",
       " '51.0,1.0,3.0,10.0,3.0,2.0,3.0,5.0,0.0,3.0,0.0,3.0,1.0,4.0,0.0,1.0,1.0,21361.0,1\\n',\n",
       " '27.0,0.0,1.0,9.0,3.0,2.0,3.0,4.0,0.0,3.0,1.0,2.0,1.0,1.0,0.0,2.0,1.0,17566.0,0\\n',\n",
       " '30.0,0.0,3.0,18.0,2.0,2.0,3.0,4.0,0.0,5.0,1.0,2.0,0.0,5.0,1.0,2.0,1.0,17033.0,1\\n',\n",
       " '30.0,1.0,1.0,16.0,3.0,1.0,3.0,4.0,0.0,3.0,1.0,2.0,0.0,5.0,1.0,2.0,1.0,21652.0,0\\n',\n",
       " '51.0,1.0,1.0,10.0,2.0,2.0,2.0,3.0,0.0,3.0,0.0,1.0,1.0,2.0,1.0,1.0,1.0,17461.0,1\\n',\n",
       " '27.0,0.0,1.0,9.0,2.0,2.0,3.0,4.0,0.0,5.0,1.0,8.0,1.0,5.0,0.0,1.0,1.0,20720.0,1\\n',\n",
       " '37.0,1.0,1.0,9.0,3.0,2.0,4.0,4.0,0.0,3.0,2.0,6.0,0.0,5.0,1.0,2.0,1.0,21197.0,0\\n',\n",
       " '34.0,0.0,1.0,10.0,2.0,1.0,3.0,4.0,0.0,3.0,0.0,3.0,1.0,5.0,1.0,2.0,1.0,21587.0,0\\n',\n",
       " '50.0,0.0,1.0,26.0,3.0,2.0,2.0,3.0,4.0,3.0,1.0,3.0,1.0,4.0,1.0,1.0,0.0,26245.0,0\\n',\n",
       " '48.0,1.0,1.0,9.0,3.0,1.0,3.0,4.0,4.0,3.0,0.0,0.0,0.0,5.0,1.0,1.0,0.0,35847.0,0\\n',\n",
       " '38.0,1.0,1.0,6.0,2.0,2.0,3.0,4.0,0.0,3.0,2.0,1.0,1.0,5.0,1.0,0.0,1.0,22347.0,1\\n',\n",
       " '33.0,1.0,3.0,11.0,3.0,1.0,2.0,3.0,0.0,3.0,2.0,2.0,1.0,2.0,1.0,0.0,1.0,17851.0,1\\n',\n",
       " '33.0,1.0,1.0,9.0,3.0,2.0,3.0,4.0,1.0,4.0,1.0,6.0,0.0,4.0,1.0,2.0,2.0,23561.0,1\\n',\n",
       " '38.0,1.0,2.0,14.0,2.0,2.0,2.0,3.0,1.0,4.0,1.0,3.0,0.0,3.0,1.0,1.0,2.0,22347.0,0\\n',\n",
       " '29.0,1.0,1.0,16.0,3.0,2.0,4.0,4.0,0.0,3.0,0.0,3.0,0.0,2.0,1.0,2.0,1.0,20748.0,0\\n',\n",
       " '30.0,0.0,2.0,14.0,2.0,1.0,3.0,4.0,0.0,3.0,1.0,7.0,0.0,5.0,1.0,2.0,1.0,17180.0,1\\n',\n",
       " '35.0,0.0,3.0,13.0,3.0,1.0,3.0,6.0,0.0,3.0,1.0,2.0,0.0,4.0,1.0,2.0,1.0,21029.0,1\\n',\n",
       " '41.0,1.0,1.0,23.0,2.0,0.0,3.0,4.0,3.0,3.0,3.0,8.0,1.0,4.0,1.0,1.0,3.0,26623.0,0\\n',\n",
       " '43.0,1.0,3.0,31.0,3.0,2.0,3.0,4.0,3.0,3.0,1.0,6.0,0.0,4.0,1.0,1.0,3.0,25798.0,0\\n',\n",
       " '55.0,1.0,1.0,6.0,2.0,1.0,3.0,4.0,1.0,3.0,3.0,2.0,0.0,1.0,0.0,1.0,2.0,22458.0,0\\n',\n",
       " '43.0,0.0,1.0,6.0,2.0,1.0,2.0,3.0,1.0,3.0,1.0,5.0,0.0,1.0,1.0,1.0,2.0,20562.0,0\\n',\n",
       " '32.0,0.0,1.0,22.0,3.0,2.0,4.0,4.0,0.0,3.0,1.0,3.0,0.0,4.0,1.0,1.0,1.0,21288.0,1\\n',\n",
       " '29.0,1.0,3.0,20.0,3.0,0.0,3.0,4.0,1.0,3.0,3.0,5.0,1.0,5.0,1.0,2.0,2.0,28532.0,1\\n',\n",
       " '43.0,1.0,1.0,11.0,1.0,2.0,3.0,4.0,2.0,3.0,0.0,0.0,0.0,2.0,0.0,2.0,4.0,37910.0,0\\n',\n",
       " '50.0,1.0,1.0,10.0,3.0,1.0,3.0,5.0,1.0,5.0,0.0,6.0,0.0,3.0,1.0,2.0,2.0,23467.0,0\\n',\n",
       " '59.0,0.0,1.0,9.0,2.0,2.0,3.0,5.0,0.0,3.0,1.0,2.0,1.0,1.0,1.0,1.0,1.0,21058.0,1\\n',\n",
       " '35.0,1.0,3.0,14.0,2.0,1.0,3.0,3.0,0.0,3.0,1.0,2.0,0.0,3.0,1.0,2.0,1.0,17572.0,0\\n',\n",
       " '41.0,1.0,3.0,17.0,3.0,2.0,4.0,5.0,3.0,4.0,1.0,4.0,0.0,4.0,0.0,1.0,3.0,28383.0,0\\n',\n",
       " '41.0,1.0,1.0,25.0,2.0,2.0,2.0,3.0,1.0,5.0,1.0,3.0,0.0,1.0,0.0,0.0,2.0,18072.0,0\\n',\n",
       " '23.0,1.0,1.0,10.0,2.0,1.0,3.0,4.0,1.0,3.0,1.0,2.0,1.0,5.0,1.0,2.0,2.0,22849.0,1\\n',\n",
       " '32.0,1.0,1.0,14.0,3.0,1.0,3.0,4.0,1.0,5.0,0.0,3.0,0.0,2.0,1.0,1.0,2.0,22984.0,0\\n',\n",
       " '46.0,0.0,1.0,9.0,3.0,2.0,4.0,5.0,4.0,3.0,0.0,2.0,0.0,4.0,1.0,1.0,0.0,35470.0,0\\n',\n",
       " '40.0,1.0,3.0,16.0,1.0,1.0,2.0,4.0,1.0,4.0,1.0,1.0,0.0,5.0,1.0,1.0,2.0,21852.0,0\\n',\n",
       " '22.0,0.0,3.0,7.0,1.0,1.0,3.0,5.0,0.0,4.0,2.0,3.0,1.0,5.0,1.0,2.0,1.0,20852.0,1\\n',\n",
       " '42.0,1.0,3.0,27.0,3.0,1.0,4.0,4.0,0.0,4.0,3.0,3.0,1.0,4.0,0.0,3.0,1.0,21818.0,1\\n',\n",
       " '19.0,1.0,3.0,27.0,2.0,2.0,2.0,4.0,0.0,4.0,2.0,2.0,1.0,2.0,0.0,1.0,1.0,17121.0,1\\n',\n",
       " '38.0,0.0,1.0,17.0,3.0,2.0,4.0,4.0,3.0,3.0,1.0,8.0,0.0,3.0,0.0,3.0,3.0,28726.0,1\\n',\n",
       " '24.0,1.0,3.0,14.0,2.0,2.0,3.0,4.0,0.0,3.0,1.0,3.0,1.0,1.0,1.0,1.0,1.0,20953.0,1\\n',\n",
       " '33.0,0.0,3.0,16.0,3.0,2.0,3.0,6.0,1.0,3.0,1.0,2.0,0.0,2.0,0.0,2.0,2.0,23346.0,0\\n',\n",
       " '26.0,1.0,1.0,23.0,3.0,2.0,3.0,5.0,0.0,3.0,1.0,2.0,0.0,3.0,0.0,2.0,1.0,17305.0,0\\n',\n",
       " '35.0,1.0,1.0,29.0,3.0,2.0,3.0,5.0,0.0,3.0,1.0,1.0,0.0,1.0,1.0,0.0,1.0,17705.0,0\\n',\n",
       " '24.0,1.0,1.0,15.0,3.0,2.0,4.0,5.0,0.0,3.0,3.0,3.0,1.0,4.0,1.0,3.0,1.0,22667.0,1\\n',\n",
       " '37.0,1.0,2.0,12.0,2.0,2.0,3.0,3.0,0.0,5.0,1.0,5.0,1.0,1.0,0.0,2.0,1.0,17073.0,1\\n',\n",
       " '30.0,1.0,1.0,22.0,2.0,2.0,2.0,3.0,0.0,3.0,1.0,2.0,0.0,1.0,0.0,0.0,1.0,17862.0,0\\n',\n",
       " '36.0,1.0,3.0,16.0,3.0,2.0,2.0,4.0,3.0,5.0,1.0,1.0,0.0,5.0,0.0,0.0,3.0,22094.0,1\\n',\n",
       " '51.0,0.0,1.0,29.0,3.0,2.0,3.0,6.0,4.0,3.0,2.0,3.0,1.0,1.0,1.0,2.0,0.0,33089.0,0\\n',\n",
       " '38.0,1.0,1.0,6.0,2.0,2.0,3.0,4.0,0.0,3.0,2.0,1.0,1.0,5.0,0.0,2.0,1.0,22347.0,1\\n',\n",
       " '33.0,1.0,1.0,12.0,2.0,2.0,4.0,3.0,0.0,4.0,1.0,2.0,1.0,2.0,1.0,1.0,1.0,21976.0,0\\n',\n",
       " '38.0,1.0,1.0,7.0,2.0,1.0,3.0,4.0,0.0,3.0,2.0,3.0,0.0,1.0,1.0,1.0,1.0,20793.0,0\\n',\n",
       " '38.0,1.0,2.0,6.0,2.0,1.0,2.0,3.0,0.0,5.0,2.0,7.0,0.0,5.0,1.0,0.0,1.0,18423.0,0\\n',\n",
       " '32.0,0.0,3.0,9.0,2.0,1.0,3.0,5.0,0.0,3.0,3.0,2.0,0.0,5.0,0.0,2.0,1.0,21463.0,1\\n',\n",
       " '24.0,1.0,3.0,14.0,2.0,2.0,3.0,4.0,0.0,3.0,1.0,3.0,1.0,1.0,1.0,1.0,1.0,20953.0,1\\n',\n",
       " '38.0,1.0,1.0,14.0,3.0,2.0,3.0,4.0,0.0,3.0,2.0,2.0,1.0,4.0,1.0,2.0,1.0,22347.0,1\\n',\n",
       " '31.0,1.0,1.0,10.0,1.0,1.0,3.0,4.0,0.0,5.0,3.0,7.0,1.0,4.0,0.0,1.0,1.0,21335.0,1\\n',\n",
       " '27.0,1.0,2.0,27.0,3.0,1.0,4.0,4.0,0.0,4.0,1.0,2.0,1.0,3.0,0.0,2.0,1.0,20826.0,1\\n',\n",
       " '34.0,1.0,1.0,7.0,2.0,2.0,4.0,4.0,0.0,3.0,3.0,3.0,1.0,3.0,1.0,1.0,1.0,21364.0,1\\n',\n",
       " '45.0,0.0,1.0,31.0,2.0,2.0,3.0,4.0,0.0,3.0,1.0,5.0,1.0,5.0,0.0,2.0,1.0,21839.0,1\\n',\n",
       " '40.0,0.0,3.0,30.0,2.0,0.0,3.0,1.0,4.0,4.0,3.0,5.0,1.0,3.0,1.0,2.0,0.0,28194.0,1\\n',\n",
       " '20.0,0.0,1.0,17.0,3.0,1.0,4.0,5.0,0.0,4.0,2.0,3.0,1.0,5.0,1.0,2.0,1.0,20537.0,1\\n',\n",
       " '29.0,1.0,3.0,8.0,3.0,2.0,3.0,4.0,1.0,4.0,0.0,3.0,0.0,4.0,0.0,1.0,2.0,21644.0,0\\n',\n",
       " '26.0,1.0,1.0,29.0,2.0,1.0,2.0,3.0,0.0,3.0,1.0,2.0,0.0,3.0,0.0,0.0,1.0,17886.0,0\\n',\n",
       " '27.0,1.0,1.0,23.0,3.0,2.0,3.0,4.0,0.0,4.0,1.0,4.0,1.0,2.0,1.0,2.0,1.0,21051.0,1\\n',\n",
       " '31.0,0.0,3.0,26.0,3.0,1.0,2.0,3.0,1.0,3.0,1.0,2.0,0.0,1.0,1.0,1.0,2.0,21932.0,0\\n',\n",
       " '38.0,1.0,1.0,9.0,2.0,2.0,4.0,5.0,0.0,3.0,2.0,8.0,1.0,3.0,0.0,3.0,1.0,20768.0,1\\n',\n",
       " '27.0,1.0,1.0,13.0,2.0,1.0,4.0,4.0,0.0,3.0,0.0,3.0,1.0,2.0,0.0,1.0,1.0,21337.0,0\\n',\n",
       " '36.0,0.0,1.0,10.0,2.0,2.0,3.0,4.0,0.0,3.0,0.0,3.0,0.0,2.0,1.0,2.0,1.0,19959.0,0\\n',\n",
       " '35.0,0.0,3.0,11.0,3.0,1.0,4.0,4.0,1.0,3.0,0.0,2.0,0.0,2.0,1.0,1.0,2.0,25216.0,0\\n',\n",
       " '57.0,1.0,1.0,7.0,2.0,1.0,3.0,4.0,0.0,5.0,0.0,4.0,0.0,5.0,1.0,2.0,1.0,20744.0,0\\n',\n",
       " '29.0,1.0,1.0,12.0,1.0,2.0,3.0,4.0,0.0,3.0,3.0,3.0,1.0,1.0,0.0,1.0,1.0,22119.0,1\\n',\n",
       " '27.0,1.0,1.0,32.0,2.0,2.0,3.0,6.0,0.0,3.0,2.0,3.0,0.0,2.0,1.0,2.0,1.0,20971.0,1\\n',\n",
       " '41.0,1.0,3.0,26.0,3.0,1.0,3.0,3.0,0.0,4.0,2.0,2.0,1.0,4.0,0.0,2.0,1.0,18140.0,1\\n',\n",
       " '32.0,0.0,3.0,13.0,2.0,2.0,2.0,1.0,1.0,3.0,1.0,1.0,0.0,3.0,1.0,0.0,2.0,19707.0,1\\n',\n",
       " '54.0,1.0,1.0,9.0,1.0,1.0,4.0,5.0,3.0,3.0,1.0,2.0,0.0,5.0,1.0,3.0,3.0,28847.0,1\\n',\n",
       " '29.0,1.0,3.0,33.0,3.0,1.0,2.0,3.0,3.0,3.0,0.0,2.0,0.0,3.0,1.0,1.0,3.0,22639.0,1\\n',\n",
       " '35.0,1.0,1.0,14.0,2.0,2.0,4.0,4.0,1.0,3.0,1.0,3.0,0.0,3.0,0.0,1.0,2.0,21263.0,1\\n',\n",
       " '42.0,0.0,2.0,8.0,3.0,2.0,3.0,1.0,1.0,5.0,0.0,1.0,0.0,2.0,0.0,2.0,2.0,21272.0,0\\n',\n",
       " '38.0,1.0,1.0,29.0,3.0,2.0,3.0,3.0,0.0,5.0,2.0,1.0,0.0,3.0,0.0,2.0,1.0,22347.0,1\\n',\n",
       " '38.0,1.0,2.0,13.0,2.0,2.0,4.0,4.0,0.0,5.0,1.0,6.0,1.0,1.0,0.0,3.0,1.0,20751.0,1\\n',\n",
       " '36.0,1.0,3.0,16.0,1.0,1.0,3.0,4.0,1.0,3.0,1.0,2.0,1.0,1.0,1.0,2.0,2.0,20673.0,0\\n',\n",
       " '38.0,0.0,1.0,17.0,3.0,2.0,4.0,4.0,3.0,3.0,1.0,8.0,0.0,3.0,0.0,3.0,3.0,28726.0,1\\n',\n",
       " '42.0,0.0,1.0,12.0,2.0,2.0,4.0,5.0,0.0,5.0,1.0,8.0,0.0,3.0,1.0,1.0,1.0,20785.0,1\\n',\n",
       " '32.0,1.0,1.0,16.0,2.0,2.0,3.0,5.0,0.0,4.0,3.0,2.0,1.0,3.0,1.0,1.0,1.0,21335.0,0\\n',\n",
       " '40.0,1.0,3.0,10.0,3.0,1.0,3.0,4.0,1.0,3.0,1.0,6.0,1.0,4.0,1.0,2.0,2.0,23916.0,1\\n',\n",
       " '32.0,1.0,3.0,13.0,2.0,2.0,4.0,6.0,1.0,3.0,0.0,6.0,1.0,3.0,1.0,2.0,2.0,24850.0,1\\n',\n",
       " '46.0,1.0,1.0,14.0,3.0,1.0,3.0,4.0,0.0,3.0,0.0,6.0,1.0,3.0,1.0,1.0,1.0,23155.0,0\\n',\n",
       " '44.0,1.0,3.0,7.0,2.0,2.0,2.0,5.0,1.0,4.0,2.0,7.0,0.0,3.0,0.0,1.0,2.0,17362.0,1\\n',\n",
       " '38.0,1.0,1.0,10.0,3.0,1.0,3.0,1.0,0.0,3.0,1.0,1.0,0.0,5.0,1.0,2.0,1.0,22347.0,0\\n',\n",
       " '40.0,1.0,3.0,12.0,1.0,2.0,3.0,4.0,1.0,3.0,0.0,5.0,0.0,2.0,0.0,2.0,2.0,20764.0,1\\n',\n",
       " '37.0,1.0,3.0,10.0,2.0,2.0,3.0,5.0,3.0,3.0,0.0,3.0,1.0,2.0,1.0,1.0,3.0,29003.0,1\\n',\n",
       " '28.0,1.0,1.0,21.0,2.0,2.0,3.0,4.0,0.0,5.0,0.0,3.0,1.0,4.0,1.0,1.0,1.0,20913.0,0\\n',\n",
       " '20.0,0.0,1.0,12.0,2.0,1.0,3.0,4.0,0.0,3.0,2.0,2.0,1.0,2.0,1.0,1.0,1.0,17926.0,1\\n',\n",
       " '27.0,1.0,1.0,6.0,2.0,1.0,3.0,3.0,3.0,5.0,1.0,2.0,0.0,4.0,0.0,2.0,3.0,22412.0,0\\n',\n",
       " '43.0,0.0,3.0,19.0,2.0,2.0,3.0,4.0,4.0,5.0,2.0,2.0,1.0,5.0,1.0,2.0,0.0,32436.0,1\\n',\n",
       " '39.0,1.0,1.0,16.0,2.0,2.0,4.0,4.0,0.0,3.0,1.0,4.0,0.0,1.0,1.0,2.0,1.0,23449.0,0\\n',\n",
       " '47.0,0.0,3.0,15.0,2.0,2.0,2.0,5.0,4.0,3.0,1.0,1.0,0.0,5.0,1.0,1.0,0.0,27936.0,1\\n',\n",
       " '50.0,0.0,3.0,14.0,1.0,2.0,2.0,3.0,1.0,3.0,1.0,4.0,1.0,5.0,0.0,0.0,2.0,21796.0,1\\n',\n",
       " '33.0,1.0,3.0,22.0,3.0,1.0,3.0,3.0,1.0,5.0,2.0,6.0,0.0,3.0,1.0,0.0,2.0,20324.0,1\\n',\n",
       " '52.0,1.0,3.0,8.0,3.0,1.0,2.0,5.0,2.0,3.0,0.0,2.0,0.0,3.0,1.0,1.0,4.0,34845.0,1\\n',\n",
       " '19.0,1.0,3.0,27.0,2.0,2.0,2.0,4.0,0.0,4.0,2.0,2.0,1.0,1.0,1.0,1.0,1.0,17121.0,1\\n',\n",
       " '36.0,0.0,1.0,32.0,2.0,1.0,4.0,4.0,0.0,4.0,1.0,3.0,1.0,3.0,0.0,1.0,1.0,20700.0,1\\n',\n",
       " '31.0,1.0,3.0,13.0,2.0,1.0,3.0,5.0,1.0,3.0,1.0,4.0,1.0,3.0,0.0,2.0,2.0,19559.0,1\\n',\n",
       " '37.0,1.0,2.0,20.0,2.0,2.0,3.0,5.0,0.0,5.0,1.0,6.0,1.0,5.0,1.0,2.0,1.0,23317.0,1\\n',\n",
       " '51.0,1.0,1.0,9.0,3.0,2.0,4.0,4.0,4.0,3.0,0.0,0.0,0.0,2.0,0.0,2.0,0.0,36317.0,0\\n',\n",
       " '32.0,0.0,1.0,36.0,3.0,2.0,4.0,5.0,0.0,4.0,3.0,2.0,0.0,3.0,0.0,3.0,1.0,22157.0,1\\n',\n",
       " '22.0,0.0,3.0,7.0,1.0,1.0,4.0,5.0,0.0,4.0,2.0,3.0,1.0,5.0,1.0,3.0,1.0,20852.0,1\\n',\n",
       " '33.0,1.0,3.0,26.0,2.0,2.0,4.0,6.0,3.0,3.0,1.0,5.0,0.0,3.0,1.0,3.0,3.0,28288.0,0\\n',\n",
       " '38.0,1.0,1.0,19.0,2.0,1.0,2.0,3.0,0.0,3.0,2.0,4.0,0.0,3.0,1.0,0.0,1.0,18452.0,0\\n',\n",
       " '48.0,0.0,3.0,30.0,2.0,2.0,3.0,5.0,0.0,3.0,2.0,2.0,1.0,1.0,1.0,2.0,1.0,17559.0,1\\n',\n",
       " '29.0,1.0,1.0,9.0,3.0,2.0,3.0,6.0,0.0,3.0,1.0,7.0,1.0,3.0,1.0,2.0,1.0,22142.0,1\\n',\n",
       " '30.0,0.0,1.0,10.0,1.0,2.0,2.0,3.0,0.0,3.0,2.0,19.0,1.0,4.0,1.0,1.0,1.0,17285.0,1\\n',\n",
       " '44.0,0.0,1.0,8.0,3.0,2.0,2.0,3.0,3.0,3.0,3.0,6.0,1.0,1.0,0.0,1.0,3.0,25209.0,0\\n',\n",
       " '21.0,1.0,3.0,9.0,3.0,1.0,3.0,5.0,0.0,3.0,2.0,3.0,0.0,4.0,1.0,1.0,1.0,20722.0,1\\n',\n",
       " '30.0,0.0,1.0,7.0,2.0,2.0,4.0,6.0,0.0,3.0,1.0,3.0,0.0,2.0,1.0,1.0,1.0,21398.0,0\\n',\n",
       " '27.0,0.0,1.0,30.0,2.0,2.0,3.0,4.0,0.0,3.0,2.0,2.0,1.0,3.0,1.0,1.0,1.0,17534.0,1\\n',\n",
       " '38.0,0.0,1.0,9.0,2.0,2.0,2.0,3.0,0.0,3.0,0.0,4.0,0.0,3.0,1.0,1.0,1.0,17821.0,0\\n',\n",
       " '43.0,1.0,3.0,31.0,3.0,2.0,3.0,4.0,3.0,3.0,1.0,6.0,0.0,4.0,1.0,1.0,3.0,25798.0,0\\n',\n",
       " '53.0,1.0,1.0,11.0,2.0,1.0,2.0,3.0,2.0,3.0,1.0,5.0,0.0,5.0,0.0,1.0,4.0,34094.0,0\\n',\n",
       " '41.0,1.0,3.0,8.0,2.0,2.0,2.0,3.0,4.0,4.0,2.0,2.0,0.0,3.0,1.0,1.0,0.0,31015.0,0\\n',\n",
       " '28.0,1.0,1.0,9.0,1.0,2.0,3.0,4.0,0.0,4.0,1.0,3.0,0.0,4.0,1.0,2.0,1.0,20904.0,0\\n',\n",
       " '24.0,1.0,3.0,13.0,2.0,1.0,3.0,3.0,1.0,3.0,2.0,1.0,0.0,2.0,1.0,0.0,2.0,19577.0,1\\n',\n",
       " '47.0,0.0,3.0,15.0,2.0,2.0,2.0,5.0,4.0,3.0,1.0,1.0,0.0,5.0,1.0,1.0,0.0,27936.0,1\\n',\n",
       " '33.0,1.0,1.0,32.0,2.0,2.0,3.0,4.0,0.0,3.0,3.0,3.0,1.0,5.0,0.0,1.0,1.0,21473.0,1\\n',\n",
       " '31.0,0.0,1.0,26.0,2.0,2.0,3.0,3.0,3.0,3.0,1.0,4.0,0.0,3.0,1.0,0.0,3.0,24824.0,1\\n',\n",
       " '21.0,0.0,3.0,16.0,3.0,1.0,3.0,4.0,0.0,3.0,2.0,3.0,1.0,4.0,1.0,1.0,1.0,21001.0,1\\n',\n",
       " '29.0,1.0,3.0,9.0,3.0,1.0,3.0,3.0,1.0,3.0,0.0,2.0,0.0,2.0,0.0,0.0,2.0,20561.0,0\\n',\n",
       " '42.0,0.0,1.0,17.0,2.0,2.0,4.0,5.0,4.0,5.0,1.0,0.0,0.0,1.0,1.0,1.0,0.0,35859.0,0\\n',\n",
       " '46.0,1.0,1.0,27.0,3.0,1.0,3.0,3.0,1.0,4.0,1.0,5.0,0.0,3.0,1.0,2.0,2.0,23926.0,1\\n',\n",
       " '39.0,1.0,1.0,16.0,2.0,1.0,4.0,4.0,0.0,3.0,2.0,3.0,0.0,2.0,1.0,2.0,1.0,20966.0,0\\n',\n",
       " '38.0,1.0,1.0,6.0,3.0,2.0,2.0,4.0,0.0,5.0,0.0,2.0,0.0,3.0,0.0,1.0,1.0,22347.0,0\\n',\n",
       " '20.0,1.0,3.0,8.0,3.0,1.0,2.0,4.0,0.0,3.0,2.0,2.0,0.0,4.0,0.0,1.0,1.0,17044.0,1\\n',\n",
       " '26.0,1.0,3.0,34.0,3.0,2.0,3.0,3.0,1.0,4.0,1.0,2.0,0.0,3.0,0.0,0.0,2.0,21272.0,0\\n',\n",
       " '35.0,0.0,1.0,9.0,2.0,2.0,2.0,4.0,0.0,3.0,1.0,2.0,0.0,1.0,1.0,1.0,1.0,16281.0,0\\n',\n",
       " '25.0,0.0,1.0,16.0,3.0,2.0,3.0,4.0,0.0,5.0,3.0,4.0,1.0,3.0,0.0,2.0,1.0,21850.0,1\\n',\n",
       " '33.0,0.0,1.0,36.0,3.0,1.0,4.0,4.0,0.0,3.0,3.0,2.0,0.0,3.0,1.0,1.0,1.0,22703.0,0\\n',\n",
       " '52.0,1.0,3.0,17.0,2.0,1.0,4.0,4.0,3.0,4.0,1.0,7.0,0.0,1.0,1.0,3.0,3.0,31820.0,1\\n',\n",
       " '35.0,0.0,3.0,13.0,3.0,1.0,3.0,6.0,0.0,3.0,1.0,2.0,0.0,4.0,1.0,2.0,1.0,21029.0,1\\n',\n",
       " '27.0,1.0,1.0,15.0,3.0,1.0,2.0,3.0,0.0,4.0,2.0,2.0,0.0,3.0,1.0,0.0,1.0,17279.0,0\\n',\n",
       " '38.0,1.0,3.0,22.0,3.0,2.0,3.0,3.0,3.0,3.0,1.0,3.0,0.0,5.0,0.0,1.0,3.0,18544.0,1\\n',\n",
       " '37.0,1.0,1.0,13.0,2.0,2.0,3.0,4.0,0.0,3.0,1.0,2.0,0.0,5.0,1.0,2.0,1.0,21888.0,0\\n',\n",
       " '50.0,1.0,3.0,34.0,3.0,2.0,2.0,4.0,3.0,5.0,1.0,5.0,1.0,5.0,0.0,0.0,3.0,25854.0,1\\n',\n",
       " '28.0,1.0,1.0,30.0,2.0,2.0,2.0,4.0,0.0,3.0,2.0,6.0,1.0,2.0,0.0,0.0,1.0,17028.0,1\\n',\n",
       " '29.0,1.0,1.0,31.0,1.0,1.0,3.0,4.0,0.0,4.0,1.0,6.0,0.0,3.0,1.0,2.0,1.0,17546.0,1\\n',\n",
       " '34.0,0.0,1.0,28.0,2.0,2.0,2.0,4.0,1.0,3.0,1.0,2.0,1.0,1.0,1.0,0.0,2.0,20747.0,0\\n',\n",
       " '32.0,1.0,3.0,10.0,3.0,2.0,2.0,5.0,3.0,3.0,1.0,2.0,0.0,1.0,1.0,0.0,3.0,25400.0,1\\n',\n",
       " '31.0,1.0,3.0,23.0,2.0,2.0,4.0,4.0,1.0,3.0,0.0,2.0,0.0,3.0,0.0,3.0,2.0,23979.0,0\\n',\n",
       " '39.0,0.0,1.0,13.0,3.0,1.0,4.0,6.0,1.0,3.0,1.0,2.0,1.0,2.0,0.0,3.0,2.0,24007.0,0\\n',\n",
       " '45.0,1.0,3.0,15.0,3.0,2.0,3.0,3.0,3.0,5.0,1.0,5.0,1.0,2.0,1.0,0.0,3.0,25761.0,0\\n',\n",
       " '38.0,1.0,3.0,21.0,3.0,2.0,2.0,5.0,1.0,3.0,1.0,7.0,1.0,1.0,0.0,1.0,2.0,18423.0,1\\n',\n",
       " '40.0,0.0,1.0,16.0,2.0,2.0,3.0,4.0,2.0,3.0,2.0,0.0,0.0,4.0,0.0,2.0,4.0,38109.0,0\\n',\n",
       " '30.0,1.0,1.0,17.0,2.0,1.0,4.0,5.0,0.0,5.0,2.0,8.0,1.0,5.0,1.0,2.0,1.0,21082.0,1\\n',\n",
       " '29.0,1.0,1.0,7.0,2.0,2.0,3.0,4.0,0.0,3.0,1.0,3.0,0.0,1.0,0.0,1.0,1.0,20722.0,0\\n',\n",
       " '38.0,0.0,1.0,8.0,2.0,1.0,2.0,4.0,0.0,5.0,2.0,3.0,1.0,3.0,0.0,0.0,1.0,18506.0,1\\n',\n",
       " '53.0,1.0,3.0,8.0,2.0,1.0,3.0,4.0,4.0,3.0,0.0,3.0,0.0,3.0,1.0,0.0,0.0,30427.0,0\\n',\n",
       " '43.0,0.0,3.0,8.0,2.0,2.0,3.0,3.0,1.0,3.0,1.0,2.0,0.0,3.0,1.0,2.0,2.0,20675.0,0\\n',\n",
       " '33.0,1.0,1.0,21.0,3.0,2.0,2.0,3.0,3.0,3.0,1.0,1.0,1.0,5.0,1.0,0.0,3.0,28610.0,1\\n',\n",
       " '31.0,1.0,1.0,13.0,1.0,2.0,2.0,3.0,0.0,3.0,1.0,1.0,1.0,4.0,1.0,0.0,1.0,19821.0,0\\n',\n",
       " '37.0,1.0,1.0,16.0,3.0,2.0,3.0,5.0,1.0,4.0,1.0,4.0,1.0,4.0,1.0,1.0,2.0,27525.0,0\\n',\n",
       " '33.0,1.0,3.0,11.0,2.0,1.0,3.0,4.0,0.0,4.0,1.0,4.0,0.0,3.0,1.0,2.0,1.0,22609.0,0\\n',\n",
       " '24.0,1.0,3.0,14.0,2.0,2.0,3.0,4.0,0.0,3.0,1.0,3.0,1.0,1.0,1.0,1.0,1.0,20953.0,1\\n',\n",
       " '42.0,1.0,1.0,10.0,1.0,2.0,2.0,3.0,2.0,3.0,0.0,2.0,0.0,2.0,0.0,1.0,4.0,34232.0,0\\n',\n",
       " '38.0,0.0,1.0,22.0,2.0,2.0,3.0,3.0,0.0,3.0,1.0,1.0,0.0,3.0,1.0,2.0,1.0,18544.0,0\\n',\n",
       " '33.0,1.0,1.0,9.0,3.0,2.0,3.0,4.0,1.0,4.0,1.0,6.0,0.0,4.0,1.0,2.0,2.0,23561.0,1\\n',\n",
       " '52.0,0.0,1.0,31.0,3.0,1.0,2.0,4.0,4.0,3.0,0.0,4.0,0.0,5.0,0.0,1.0,0.0,28826.0,0\\n',\n",
       " '57.0,1.0,1.0,21.0,2.0,1.0,4.0,4.0,0.0,4.0,0.0,2.0,1.0,5.0,1.0,2.0,1.0,23641.0,1\\n',\n",
       " '51.0,0.0,2.0,10.0,3.0,2.0,3.0,4.0,2.0,4.0,0.0,0.0,0.0,2.0,1.0,1.0,4.0,36878.0,0\\n',\n",
       " '38.0,0.0,1.0,29.0,2.0,2.0,2.0,4.0,3.0,3.0,3.0,1.0,0.0,3.0,1.0,0.0,3.0,24526.0,0\\n',\n",
       " '31.0,1.0,2.0,16.0,2.0,2.0,3.0,4.0,1.0,3.0,1.0,2.0,1.0,3.0,1.0,2.0,2.0,25025.0,0\\n',\n",
       " '40.0,1.0,1.0,8.0,3.0,2.0,3.0,3.0,0.0,3.0,1.0,3.0,0.0,1.0,0.0,0.0,1.0,17345.0,0\\n',\n",
       " '37.0,0.0,1.0,10.0,1.0,2.0,3.0,4.0,0.0,4.0,0.0,3.0,0.0,3.0,1.0,2.0,1.0,22370.0,0\\n',\n",
       " '43.0,0.0,1.0,26.0,3.0,2.0,3.0,2.0,0.0,3.0,1.0,8.0,1.0,3.0,0.0,1.0,1.0,21437.0,1\\n',\n",
       " '44.0,1.0,2.0,6.0,3.0,2.0,3.0,4.0,3.0,5.0,0.0,1.0,0.0,4.0,1.0,0.0,3.0,25482.0,1\\n',\n",
       " '41.0,0.0,2.0,10.0,2.0,2.0,2.0,5.0,1.0,4.0,1.0,7.0,0.0,5.0,0.0,1.0,2.0,21430.0,0\\n',\n",
       " '52.0,1.0,3.0,8.0,3.0,1.0,2.0,5.0,2.0,3.0,1.0,2.0,0.0,3.0,1.0,1.0,4.0,34845.0,1\\n',\n",
       " '29.0,1.0,1.0,16.0,3.0,2.0,4.0,4.0,0.0,3.0,1.0,3.0,0.0,1.0,1.0,1.0,1.0,20748.0,0\\n',\n",
       " '39.0,1.0,1.0,9.0,3.0,2.0,4.0,4.0,0.0,3.0,1.0,8.0,1.0,4.0,0.0,3.0,1.0,21735.0,0\\n',\n",
       " '45.0,1.0,1.0,17.0,2.0,2.0,4.0,4.0,0.0,3.0,3.0,3.0,1.0,3.0,1.0,3.0,1.0,21614.0,1\\n',\n",
       " '52.0,1.0,1.0,11.0,2.0,2.0,3.0,4.0,0.0,3.0,1.0,2.0,1.0,1.0,0.0,1.0,1.0,21139.0,1\\n',\n",
       " '35.0,0.0,1.0,8.0,3.0,2.0,3.0,4.0,0.0,3.0,2.0,1.0,1.0,3.0,1.0,0.0,1.0,19930.0,0\\n',\n",
       " '52.0,1.0,3.0,31.0,3.0,1.0,3.0,5.0,1.0,4.0,3.0,2.0,1.0,5.0,1.0,2.0,2.0,21516.0,1\\n',\n",
       " '28.0,1.0,1.0,30.0,2.0,2.0,2.0,4.0,0.0,3.0,2.0,6.0,1.0,2.0,0.0,0.0,1.0,17028.0,1\\n',\n",
       " '44.0,0.0,3.0,22.0,2.0,2.0,3.0,5.0,1.0,3.0,1.0,5.0,0.0,5.0,1.0,1.0,2.0,25482.0,0\\n',\n",
       " '26.0,0.0,1.0,12.0,2.0,2.0,3.0,1.0,0.0,3.0,1.0,1.0,0.0,4.0,1.0,1.0,1.0,17544.0,0\\n',\n",
       " '47.0,0.0,3.0,15.0,2.0,2.0,2.0,5.0,4.0,3.0,1.0,1.0,0.0,5.0,1.0,1.0,0.0,27936.0,1\\n',\n",
       " '35.0,1.0,3.0,13.0,3.0,2.0,2.0,3.0,1.0,3.0,1.0,1.0,0.0,3.0,0.0,1.0,2.0,19717.0,0\\n',\n",
       " '58.0,1.0,1.0,8.0,2.0,2.0,2.0,3.0,2.0,4.0,2.0,1.0,1.0,3.0,1.0,0.0,4.0,34246.0,1\\n',\n",
       " '29.0,1.0,3.0,26.0,3.0,2.0,2.0,3.0,1.0,3.0,1.0,3.0,0.0,2.0,1.0,1.0,2.0,21931.0,0\\n',\n",
       " '49.0,0.0,3.0,8.0,3.0,2.0,3.0,4.0,1.0,4.0,1.0,3.0,0.0,3.0,1.0,2.0,2.0,20390.0,0\\n',\n",
       " '29.0,1.0,1.0,31.0,1.0,1.0,3.0,4.0,0.0,4.0,0.0,6.0,0.0,3.0,0.0,2.0,1.0,17546.0,1\\n',\n",
       " '33.0,1.0,1.0,8.0,2.0,2.0,2.0,3.0,0.0,3.0,2.0,1.0,0.0,3.0,0.0,1.0,1.0,17500.0,0\\n',\n",
       " '42.0,1.0,1.0,26.0,2.0,2.0,3.0,4.0,1.0,5.0,1.0,4.0,0.0,2.0,1.0,1.0,2.0,21750.0,0\\n',\n",
       " '32.0,0.0,3.0,13.0,2.0,2.0,2.0,1.0,1.0,3.0,1.0,1.0,0.0,3.0,1.0,0.0,2.0,19707.0,1\\n',\n",
       " '55.0,1.0,3.0,9.0,2.0,1.0,3.0,5.0,3.0,3.0,1.0,8.0,0.0,5.0,1.0,2.0,3.0,29364.0,0\\n',\n",
       " '29.0,1.0,3.0,9.0,3.0,1.0,3.0,4.0,1.0,4.0,1.0,3.0,1.0,3.0,1.0,2.0,2.0,23457.0,0\\n',\n",
       " '42.0,0.0,3.0,18.0,2.0,2.0,2.0,3.0,4.0,5.0,2.0,1.0,1.0,5.0,1.0,1.0,0.0,28758.0,1\\n',\n",
       " '29.0,1.0,1.0,6.0,2.0,1.0,2.0,4.0,0.0,5.0,1.0,2.0,1.0,1.0,0.0,0.0,1.0,17319.0,1\\n',\n",
       " '57.0,1.0,1.0,30.0,2.0,2.0,2.0,1.0,3.0,3.0,1.0,4.0,1.0,4.0,1.0,0.0,3.0,24439.0,0\\n',\n",
       " '28.0,1.0,1.0,14.0,2.0,1.0,2.0,4.0,0.0,4.0,2.0,2.0,0.0,4.0,0.0,1.0,1.0,17154.0,1\\n',\n",
       " '51.0,1.0,1.0,17.0,1.0,2.0,4.0,5.0,3.0,3.0,2.0,8.0,0.0,5.0,1.0,2.0,3.0,29174.0,0\\n',\n",
       " '38.0,1.0,1.0,16.0,2.0,2.0,2.0,3.0,1.0,4.0,2.0,3.0,1.0,5.0,0.0,1.0,2.0,22347.0,0\\n',\n",
       " '28.0,1.0,3.0,18.0,3.0,1.0,4.0,2.0,0.0,3.0,0.0,2.0,0.0,3.0,1.0,2.0,1.0,21212.0,0\\n',\n",
       " '31.0,1.0,1.0,29.0,2.0,1.0,3.0,4.0,0.0,3.0,1.0,6.0,1.0,1.0,0.0,1.0,1.0,20810.0,1\\n',\n",
       " '32.0,0.0,1.0,31.0,1.0,0.0,2.0,4.0,1.0,3.0,3.0,4.0,0.0,1.0,1.0,1.0,2.0,23916.0,0\\n',\n",
       " '51.0,0.0,3.0,8.0,3.0,2.0,2.0,3.0,3.0,4.0,0.0,3.0,0.0,4.0,0.0,0.0,3.0,25596.0,0\\n',\n",
       " '36.0,0.0,1.0,9.0,3.0,2.0,4.0,5.0,0.0,3.0,3.0,2.0,1.0,3.0,1.0,1.0,1.0,23608.0,0\\n',\n",
       " '47.0,0.0,1.0,6.0,3.0,1.0,3.0,3.0,3.0,4.0,1.0,1.0,0.0,5.0,0.0,0.0,3.0,26957.0,0\\n',\n",
       " '47.0,1.0,1.0,28.0,3.0,1.0,4.0,4.0,1.0,4.0,1.0,6.0,0.0,3.0,1.0,3.0,2.0,27604.0,1\\n',\n",
       " '30.0,1.0,1.0,7.0,1.0,2.0,4.0,5.0,0.0,5.0,2.0,8.0,0.0,3.0,0.0,3.0,1.0,21040.0,1\\n',\n",
       " '25.0,1.0,1.0,9.0,2.0,2.0,2.0,3.0,0.0,5.0,1.0,5.0,0.0,5.0,1.0,0.0,1.0,16118.0,1\\n',\n",
       " '51.0,1.0,3.0,33.0,2.0,2.0,2.0,3.0,1.0,3.0,2.0,2.0,1.0,5.0,1.0,1.0,2.0,29026.0,1\\n',\n",
       " '28.0,1.0,3.0,11.0,3.0,2.0,2.0,3.0,1.0,5.0,3.0,1.0,0.0,1.0,1.0,0.0,2.0,23463.0,0\\n',\n",
       " '28.0,1.0,1.0,13.0,2.0,2.0,3.0,3.0,0.0,5.0,3.0,4.0,1.0,3.0,0.0,2.0,1.0,21674.0,1\\n',\n",
       " '29.0,1.0,3.0,25.0,2.0,2.0,3.0,4.0,1.0,3.0,1.0,2.0,0.0,4.0,1.0,0.0,2.0,23620.0,0\\n',\n",
       " '45.0,1.0,1.0,9.0,2.0,1.0,4.0,2.0,0.0,3.0,1.0,3.0,0.0,4.0,1.0,3.0,1.0,20689.0,0\\n',\n",
       " '34.0,0.0,1.0,16.0,1.0,2.0,3.0,4.0,1.0,3.0,1.0,2.0,0.0,4.0,1.0,1.0,2.0,20063.0,0\\n',\n",
       " '29.0,1.0,1.0,13.0,1.0,1.0,2.0,3.0,0.0,3.0,1.0,4.0,1.0,4.0,1.0,0.0,1.0,31124.0,1\\n',\n",
       " '51.0,1.0,3.0,35.0,3.0,2.0,3.0,5.0,3.0,5.0,1.0,6.0,1.0,5.0,0.0,1.0,3.0,29532.0,1\\n',\n",
       " '38.0,1.0,1.0,9.0,0.0,2.0,4.0,5.0,0.0,3.0,2.0,8.0,1.0,3.0,0.0,1.0,1.0,20768.0,1\\n',\n",
       " '35.0,1.0,1.0,13.0,2.0,2.0,3.0,3.0,0.0,4.0,2.0,2.0,1.0,3.0,1.0,1.0,1.0,20363.0,1\\n',\n",
       " '38.0,1.0,1.0,20.0,3.0,2.0,3.0,4.0,1.0,3.0,1.0,3.0,0.0,1.0,0.0,1.0,2.0,22963.0,0\\n',\n",
       " '22.0,1.0,3.0,12.0,3.0,2.0,3.0,4.0,0.0,5.0,2.0,3.0,1.0,1.0,1.0,1.0,1.0,21058.0,0\\n',\n",
       " '23.0,1.0,1.0,7.0,2.0,2.0,3.0,5.0,1.0,3.0,1.0,8.0,0.0,1.0,1.0,2.0,2.0,23453.0,0\\n',\n",
       " '40.0,1.0,3.0,14.0,2.0,2.0,4.0,4.0,0.0,3.0,1.0,3.0,1.0,1.0,1.0,3.0,1.0,23212.0,1\\n',\n",
       " '24.0,1.0,1.0,23.0,2.0,1.0,3.0,3.0,0.0,4.0,1.0,2.0,0.0,1.0,1.0,2.0,1.0,17210.0,1\\n',\n",
       " '28.0,1.0,1.0,13.0,3.0,2.0,2.0,3.0,0.0,3.0,2.0,7.0,0.0,3.0,1.0,1.0,1.0,22347.0,1\\n',\n",
       " '44.0,1.0,1.0,29.0,3.0,2.0,3.0,3.0,0.0,5.0,2.0,1.0,0.0,3.0,0.0,2.0,1.0,33213.0,1\\n',\n",
       " '51.0,1.0,1.0,17.0,1.0,0.0,2.0,4.0,4.0,4.0,3.0,4.0,0.0,1.0,0.0,1.0,0.0,28142.0,0\\n',\n",
       " '40.0,0.0,3.0,30.0,2.0,0.0,3.0,1.0,4.0,4.0,3.0,5.0,1.0,3.0,1.0,2.0,0.0,28194.0,1\\n',\n",
       " '21.0,1.0,3.0,9.0,3.0,1.0,3.0,5.0,0.0,3.0,2.0,3.0,0.0,4.0,0.0,2.0,1.0,20722.0,1\\n',\n",
       " '37.0,1.0,1.0,9.0,2.0,1.0,4.0,4.0,0.0,3.0,1.0,6.0,0.0,5.0,1.0,1.0,1.0,21221.0,0\\n',\n",
       " '34.0,1.0,1.0,32.0,3.0,2.0,3.0,5.0,0.0,4.0,2.0,6.0,1.0,4.0,1.0,1.0,1.0,20991.0,1\\n',\n",
       " '38.0,1.0,1.0,9.0,2.0,1.0,2.0,3.0,1.0,4.0,2.0,4.0,0.0,4.0,1.0,0.0,2.0,22347.0,0\\n',\n",
       " '52.0,0.0,1.0,15.0,2.0,2.0,3.0,6.0,3.0,3.0,2.0,4.0,0.0,2.0,0.0,2.0,3.0,29328.0,1\\n',\n",
       " '26.0,1.0,1.0,12.0,2.0,1.0,2.0,4.0,0.0,4.0,1.0,2.0,0.0,3.0,1.0,1.0,1.0,17368.0,0\\n',\n",
       " '30.0,1.0,2.0,13.0,3.0,2.0,3.0,5.0,0.0,4.0,1.0,3.0,0.0,3.0,1.0,2.0,1.0,21482.0,0\\n',\n",
       " '50.0,1.0,3.0,18.0,3.0,1.0,3.0,4.0,3.0,3.0,0.0,3.0,0.0,4.0,0.0,2.0,3.0,26332.0,1\\n',\n",
       " '25.0,1.0,3.0,10.0,2.0,1.0,4.0,4.0,1.0,3.0,3.0,2.0,0.0,1.0,1.0,2.0,2.0,23255.0,1\\n',\n",
       " '41.0,0.0,1.0,11.0,2.0,2.0,3.0,4.0,0.0,5.0,1.0,7.0,0.0,3.0,1.0,0.0,1.0,17107.0,1\\n',\n",
       " '41.0,1.0,1.0,8.0,2.0,1.0,2.0,5.0,0.0,3.0,1.0,5.0,1.0,3.0,0.0,1.0,1.0,17778.0,1\\n',\n",
       " '34.0,1.0,1.0,13.0,3.0,1.0,2.0,4.0,0.0,5.0,2.0,2.0,0.0,1.0,1.0,0.0,1.0,22347.0,0\\n',\n",
       " '25.0,1.0,3.0,10.0,2.0,1.0,4.0,4.0,1.0,3.0,3.0,2.0,0.0,1.0,1.0,2.0,2.0,23255.0,1\\n',\n",
       " '58.0,1.0,1.0,13.0,3.0,1.0,2.0,4.0,3.0,5.0,0.0,1.0,1.0,4.0,1.0,0.0,3.0,25008.0,1\\n',\n",
       " '34.0,0.0,3.0,25.0,3.0,2.0,3.0,2.0,1.0,3.0,2.0,1.0,1.0,2.0,1.0,2.0,2.0,20304.0,1\\n',\n",
       " '29.0,1.0,1.0,14.0,2.0,2.0,4.0,4.0,0.0,5.0,3.0,5.0,1.0,3.0,0.0,3.0,1.0,25352.0,1\\n',\n",
       " '52.0,0.0,1.0,15.0,2.0,2.0,3.0,6.0,3.0,3.0,2.0,4.0,0.0,2.0,0.0,2.0,3.0,29328.0,1\\n',\n",
       " '30.0,1.0,1.0,15.0,2.0,2.0,4.0,6.0,0.0,5.0,0.0,3.0,1.0,3.0,1.0,2.0,1.0,20797.0,1\\n',\n",
       " '26.0,1.0,1.0,13.0,2.0,2.0,3.0,4.0,0.0,5.0,1.0,6.0,0.0,5.0,1.0,1.0,1.0,19796.0,1\\n',\n",
       " '32.0,0.0,1.0,21.0,3.0,1.0,2.0,3.0,1.0,3.0,1.0,6.0,0.0,3.0,0.0,1.0,2.0,21667.0,0\\n',\n",
       " '45.0,0.0,1.0,24.0,2.0,2.0,4.0,6.0,0.0,3.0,2.0,4.0,0.0,4.0,1.0,2.0,1.0,20968.0,0\\n',\n",
       " '35.0,0.0,3.0,13.0,3.0,1.0,3.0,6.0,0.0,3.0,1.0,2.0,0.0,4.0,1.0,2.0,1.0,21029.0,1\\n',\n",
       " '36.0,1.0,3.0,11.0,1.0,2.0,3.0,4.0,3.0,5.0,3.0,2.0,1.0,4.0,1.0,2.0,3.0,28260.0,1\\n',\n",
       " '24.0,1.0,1.0,13.0,2.0,2.0,4.0,2.0,0.0,5.0,0.0,3.0,1.0,3.0,1.0,3.0,1.0,20279.0,1\\n',\n",
       " '36.0,0.0,1.0,9.0,3.0,2.0,1.0,3.0,0.0,4.0,2.0,5.0,0.0,4.0,1.0,0.0,1.0,17088.0,0\\n',\n",
       " '54.0,0.0,1.0,7.0,3.0,1.0,3.0,5.0,4.0,3.0,1.0,6.0,1.0,1.0,0.0,1.0,0.0,31643.0,0\\n',\n",
       " '34.0,0.0,3.0,12.0,2.0,2.0,4.0,4.0,1.0,3.0,0.0,8.0,0.0,1.0,1.0,3.0,2.0,28676.0,0\\n',\n",
       " '51.0,1.0,1.0,14.0,3.0,1.0,3.0,5.0,2.0,3.0,1.0,0.0,1.0,4.0,1.0,2.0,4.0,37418.0,0\\n',\n",
       " '40.0,1.0,3.0,28.0,3.0,2.0,3.0,4.0,1.0,3.0,1.0,3.0,1.0,3.0,1.0,0.0,2.0,21380.0,1\\n',\n",
       " '20.0,1.0,3.0,29.0,3.0,2.0,3.0,4.0,0.0,3.0,2.0,3.0,1.0,1.0,1.0,1.0,1.0,20353.0,1\\n',\n",
       " '50.0,0.0,3.0,6.0,2.0,2.0,3.0,3.0,1.0,3.0,1.0,1.0,0.0,3.0,1.0,1.0,2.0,21728.0,1\\n',\n",
       " '35.0,1.0,2.0,10.0,2.0,2.0,3.0,4.0,0.0,3.0,0.0,2.0,0.0,2.0,1.0,2.0,1.0,22415.0,0\\n',\n",
       " '37.0,1.0,1.0,7.0,2.0,1.0,3.0,4.0,1.0,4.0,1.0,2.0,0.0,5.0,1.0,2.0,2.0,23906.0,0\\n',\n",
       " '47.0,0.0,3.0,33.0,2.0,1.0,3.0,1.0,1.0,3.0,3.0,5.0,1.0,4.0,0.0,1.0,2.0,21397.0,1\\n',\n",
       " '30.0,0.0,3.0,9.0,2.0,2.0,3.0,4.0,1.0,3.0,3.0,3.0,0.0,2.0,0.0,1.0,2.0,23232.0,0\\n',\n",
       " '38.0,0.0,3.0,19.0,1.0,1.0,2.0,3.0,1.0,4.0,2.0,6.0,0.0,3.0,1.0,0.0,2.0,22347.0,1\\n',\n",
       " '52.0,0.0,1.0,34.0,3.0,1.0,2.0,1.0,4.0,3.0,0.0,3.0,1.0,4.0,0.0,0.0,0.0,28247.0,0\\n',\n",
       " '56.0,0.0,1.0,15.0,3.0,1.0,3.0,3.0,0.0,3.0,0.0,3.0,0.0,2.0,0.0,0.0,1.0,17942.0,0\\n',\n",
       " '20.0,1.0,2.0,9.0,1.0,2.0,3.0,5.0,0.0,3.0,2.0,3.0,0.0,3.0,1.0,2.0,1.0,21242.0,1\\n',\n",
       " '29.0,1.0,2.0,19.0,2.0,2.0,2.0,4.0,0.0,5.0,1.0,5.0,1.0,5.0,1.0,1.0,1.0,17335.0,1\\n',\n",
       " '33.0,0.0,3.0,14.0,2.0,1.0,2.0,4.0,0.0,3.0,2.0,1.0,0.0,1.0,0.0,1.0,1.0,17342.0,0\\n',\n",
       " '26.0,1.0,3.0,15.0,2.0,2.0,3.0,3.0,1.0,4.0,0.0,2.0,0.0,4.0,0.0,1.0,2.0,23529.0,0\\n',\n",
       " '38.0,1.0,3.0,9.0,2.0,2.0,3.0,3.0,1.0,5.0,0.0,2.0,1.0,4.0,1.0,0.0,2.0,22347.0,0\\n',\n",
       " '27.0,1.0,1.0,13.0,2.0,1.0,4.0,4.0,0.0,3.0,1.0,3.0,1.0,1.0,0.0,2.0,1.0,21337.0,0\\n',\n",
       " '27.0,0.0,3.0,6.0,3.0,2.0,3.0,3.0,1.0,4.0,0.0,1.0,1.0,2.0,0.0,2.0,2.0,21349.0,0\\n',\n",
       " '32.0,0.0,3.0,33.0,3.0,2.0,4.0,4.0,1.0,3.0,1.0,3.0,1.0,3.0,0.0,2.0,2.0,24295.0,1\\n',\n",
       " '52.0,1.0,3.0,31.0,3.0,1.0,3.0,5.0,1.0,4.0,3.0,2.0,1.0,5.0,1.0,2.0,2.0,21516.0,1\\n',\n",
       " '38.0,0.0,3.0,26.0,3.0,2.0,3.0,4.0,3.0,4.0,3.0,3.0,1.0,5.0,0.0,1.0,3.0,26320.0,0\\n',\n",
       " '33.0,0.0,3.0,18.0,2.0,2.0,3.0,3.0,1.0,3.0,0.0,2.0,0.0,3.0,1.0,2.0,2.0,23385.0,1\\n',\n",
       " '32.0,1.0,1.0,13.0,2.0,2.0,3.0,3.0,1.0,3.0,0.0,2.0,0.0,3.0,1.0,1.0,2.0,19883.0,1\\n',\n",
       " '41.0,1.0,1.0,18.0,1.0,1.0,2.0,3.0,2.0,3.0,0.0,2.0,0.0,4.0,1.0,0.0,4.0,34545.0,1\\n',\n",
       " '18.0,0.0,1.0,14.0,3.0,2.0,3.0,3.0,0.0,3.0,2.0,2.0,0.0,5.0,0.0,0.0,1.0,16904.0,1\\n',\n",
       " '24.0,0.0,1.0,13.0,2.0,1.0,2.0,3.0,0.0,3.0,0.0,2.0,1.0,4.0,0.0,0.0,1.0,17886.0,1\\n',\n",
       " '57.0,1.0,3.0,23.0,2.0,1.0,4.0,4.0,3.0,3.0,2.0,4.0,1.0,5.0,1.0,3.0,3.0,38395.0,1\\n',\n",
       " '33.0,0.0,1.0,10.0,2.0,0.0,3.0,4.0,0.0,3.0,3.0,3.0,0.0,4.0,1.0,1.0,1.0,24887.0,1\\n',\n",
       " '32.0,0.0,1.0,8.0,2.0,2.0,3.0,3.0,0.0,3.0,2.0,1.0,0.0,5.0,1.0,1.0,1.0,18068.0,0\\n',\n",
       " '38.0,1.0,1.0,18.0,3.0,1.0,4.0,6.0,1.0,4.0,1.0,7.0,0.0,4.0,1.0,1.0,2.0,23455.0,1\\n',\n",
       " '59.0,1.0,1.0,30.0,2.0,2.0,3.0,4.0,0.0,3.0,1.0,3.0,0.0,3.0,1.0,2.0,1.0,21050.0,0\\n',\n",
       " '33.0,1.0,3.0,31.0,3.0,2.0,2.0,4.0,3.0,4.0,3.0,3.0,1.0,5.0,1.0,0.0,3.0,23380.0,1\\n',\n",
       " '37.0,1.0,1.0,12.0,2.0,2.0,4.0,4.0,1.0,4.0,3.0,2.0,0.0,1.0,1.0,2.0,2.0,24592.0,0\\n',\n",
       " '21.0,0.0,3.0,24.0,3.0,1.0,3.0,3.0,1.0,3.0,1.0,1.0,1.0,5.0,0.0,1.0,2.0,17625.0,1\\n',\n",
       " '29.0,1.0,1.0,9.0,3.0,2.0,3.0,4.0,3.0,3.0,1.0,2.0,0.0,1.0,0.0,2.0,3.0,26935.0,0\\n',\n",
       " '33.0,1.0,1.0,13.0,2.0,2.0,2.0,4.0,1.0,4.0,2.0,2.0,0.0,1.0,0.0,1.0,2.0,22347.0,0\\n',\n",
       " '49.0,1.0,3.0,9.0,3.0,1.0,3.0,4.0,1.0,3.0,0.0,4.0,0.0,5.0,1.0,1.0,2.0,22729.0,0\\n',\n",
       " '36.0,0.0,1.0,8.0,3.0,2.0,4.0,4.0,0.0,4.0,1.0,3.0,1.0,3.0,1.0,1.0,1.0,22927.0,1\\n',\n",
       " '49.0,0.0,3.0,31.0,2.0,2.0,4.0,6.0,0.0,3.0,2.0,3.0,1.0,1.0,1.0,3.0,1.0,21237.0,1\\n',\n",
       " '29.0,1.0,1.0,9.0,3.0,2.0,3.0,6.0,0.0,3.0,1.0,7.0,1.0,3.0,1.0,2.0,1.0,22142.0,1\\n',\n",
       " '38.0,1.0,1.0,10.0,1.0,2.0,2.0,3.0,0.0,3.0,0.0,2.0,1.0,3.0,1.0,0.0,1.0,18691.0,1\\n',\n",
       " '29.0,1.0,1.0,9.0,2.0,2.0,4.0,4.0,0.0,3.0,3.0,4.0,0.0,4.0,0.0,2.0,1.0,22163.0,1\\n',\n",
       " '40.0,1.0,1.0,31.0,3.0,2.0,3.0,4.0,0.0,4.0,1.0,3.0,1.0,1.0,0.0,1.0,1.0,22582.0,1\\n',\n",
       " '43.0,0.0,1.0,33.0,3.0,1.0,3.0,4.0,3.0,5.0,0.0,5.0,1.0,3.0,0.0,2.0,3.0,31869.0,0\\n',\n",
       " '60.0,1.0,1.0,25.0,3.0,2.0,4.0,4.0,3.0,3.0,2.0,8.0,0.0,3.0,1.0,2.0,3.0,29190.0,0\\n',\n",
       " '23.0,1.0,1.0,10.0,2.0,1.0,3.0,4.0,1.0,3.0,1.0,2.0,1.0,5.0,1.0,2.0,2.0,22849.0,1\\n',\n",
       " '45.0,1.0,1.0,17.0,2.0,2.0,4.0,4.0,0.0,3.0,3.0,3.0,1.0,3.0,1.0,3.0,1.0,21614.0,1\\n',\n",
       " '21.0,0.0,1.0,13.0,2.0,1.0,4.0,5.0,0.0,3.0,3.0,3.0,1.0,1.0,0.0,1.0,1.0,21604.0,1\\n',\n",
       " '34.0,1.0,1.0,17.0,3.0,2.0,3.0,6.0,0.0,3.0,1.0,2.0,0.0,5.0,0.0,1.0,1.0,22086.0,1\\n',\n",
       " '42.0,1.0,3.0,6.0,2.0,2.0,2.0,3.0,1.0,3.0,0.0,2.0,0.0,3.0,1.0,0.0,2.0,19907.0,0\\n',\n",
       " '60.0,1.0,3.0,22.0,3.0,2.0,2.0,3.0,1.0,5.0,2.0,1.0,0.0,4.0,1.0,0.0,2.0,20405.0,0\\n',\n",
       " '48.0,1.0,1.0,6.0,2.0,2.0,3.0,4.0,3.0,3.0,2.0,1.0,1.0,5.0,0.0,2.0,3.0,20381.0,1\\n',\n",
       " '22.0,0.0,1.0,17.0,2.0,1.0,3.0,5.0,0.0,3.0,3.0,3.0,0.0,4.0,1.0,1.0,1.0,21303.0,1\\n',\n",
       " '29.0,1.0,3.0,13.0,3.0,2.0,4.0,4.0,0.0,4.0,1.0,3.0,0.0,5.0,0.0,3.0,1.0,19730.0,0\\n',\n",
       " '28.0,0.0,3.0,15.0,3.0,2.0,3.0,4.0,1.0,3.0,1.0,2.0,0.0,3.0,1.0,2.0,2.0,23020.0,0\\n',\n",
       " '40.0,0.0,3.0,30.0,2.0,0.0,3.0,1.0,4.0,4.0,3.0,5.0,1.0,3.0,1.0,0.0,0.0,28194.0,1\\n',\n",
       " '34.0,1.0,1.0,22.0,3.0,2.0,3.0,4.0,3.0,3.0,0.0,2.0,1.0,5.0,0.0,1.0,3.0,32288.0,1\\n',\n",
       " '32.0,0.0,3.0,12.0,3.0,1.0,3.0,4.0,0.0,4.0,1.0,3.0,0.0,3.0,0.0,2.0,1.0,21467.0,0\\n',\n",
       " '32.0,0.0,1.0,7.0,2.0,0.0,4.0,2.0,3.0,4.0,3.0,3.0,0.0,3.0,1.0,3.0,3.0,26124.0,1\\n',\n",
       " '29.0,0.0,3.0,20.0,1.0,1.0,3.0,4.0,1.0,4.0,3.0,7.0,0.0,3.0,1.0,1.0,2.0,22545.0,1\\n',\n",
       " '34.0,1.0,1.0,11.0,3.0,1.0,3.0,5.0,0.0,4.0,0.0,2.0,0.0,1.0,0.0,1.0,1.0,22516.0,0\\n',\n",
       " '20.0,1.0,2.0,9.0,1.0,2.0,3.0,5.0,0.0,3.0,2.0,3.0,0.0,3.0,1.0,2.0,1.0,21242.0,1\\n',\n",
       " '34.0,1.0,1.0,21.0,3.0,2.0,3.0,4.0,0.0,3.0,0.0,7.0,1.0,2.0,0.0,2.0,1.0,21114.0,1\\n',\n",
       " '44.0,1.0,3.0,15.0,2.0,2.0,3.0,4.0,0.0,5.0,1.0,4.0,0.0,1.0,1.0,2.0,1.0,34190.0,1\\n',\n",
       " '37.0,1.0,1.0,8.0,2.0,2.0,3.0,4.0,0.0,3.0,2.0,7.0,1.0,3.0,0.0,2.0,1.0,17090.0,1\\n',\n",
       " '38.0,0.0,1.0,18.0,2.0,2.0,3.0,4.0,3.0,3.0,1.0,3.0,1.0,3.0,1.0,2.0,3.0,30863.0,0\\n',\n",
       " '29.0,1.0,1.0,31.0,2.0,2.0,3.0,5.0,0.0,3.0,2.0,7.0,1.0,1.0,0.0,1.0,1.0,20706.0,1\\n',\n",
       " '43.0,1.0,1.0,24.0,2.0,0.0,3.0,2.0,1.0,5.0,3.0,5.0,1.0,1.0,1.0,2.0,2.0,25223.0,0\\n',\n",
       " '58.0,1.0,1.0,8.0,2.0,2.0,2.0,3.0,2.0,4.0,2.0,1.0,1.0,3.0,1.0,0.0,4.0,34246.0,1\\n',\n",
       " '49.0,1.0,3.0,36.0,3.0,1.0,4.0,4.0,3.0,3.0,1.0,5.0,0.0,4.0,0.0,2.0,3.0,31182.0,0\\n',\n",
       " '56.0,1.0,1.0,15.0,3.0,2.0,2.0,3.0,4.0,3.0,0.0,1.0,0.0,4.0,0.0,0.0,0.0,26103.0,0\\n',\n",
       " '37.0,1.0,1.0,12.0,2.0,2.0,4.0,4.0,1.0,4.0,3.0,2.0,0.0,2.0,0.0,3.0,2.0,24592.0,0\\n',\n",
       " '46.0,1.0,1.0,15.0,2.0,2.0,4.0,4.0,1.0,3.0,1.0,2.0,0.0,3.0,1.0,1.0,2.0,22375.0,0\\n',\n",
       " '31.0,0.0,1.0,21.0,3.0,2.0,3.0,3.0,0.0,3.0,0.0,2.0,0.0,4.0,1.0,2.0,1.0,17610.0,1\\n',\n",
       " '33.0,1.0,1.0,16.0,2.0,1.0,4.0,4.0,1.0,3.0,1.0,3.0,1.0,5.0,1.0,3.0,2.0,25000.0,0\\n',\n",
       " '29.0,1.0,1.0,13.0,2.0,2.0,2.0,3.0,1.0,3.0,1.0,2.0,1.0,3.0,0.0,0.0,2.0,21623.0,0\\n',\n",
       " '43.0,1.0,3.0,11.0,3.0,2.0,3.0,4.0,1.0,5.0,3.0,2.0,0.0,5.0,1.0,1.0,2.0,23833.0,0\\n',\n",
       " '46.0,0.0,3.0,33.0,2.0,1.0,4.0,4.0,1.0,5.0,1.0,4.0,0.0,1.0,0.0,3.0,2.0,22964.0,1\\n',\n",
       " '34.0,1.0,3.0,16.0,3.0,0.0,4.0,4.0,1.0,5.0,3.0,2.0,1.0,3.0,0.0,1.0,2.0,26902.0,1\\n',\n",
       " '32.0,1.0,1.0,31.0,2.0,2.0,2.0,3.0,0.0,3.0,2.0,2.0,1.0,5.0,0.0,0.0,1.0,17795.0,1\\n',\n",
       " '38.0,0.0,1.0,17.0,3.0,2.0,4.0,4.0,3.0,3.0,1.0,8.0,0.0,3.0,0.0,3.0,3.0,28726.0,1\\n',\n",
       " '33.0,1.0,1.0,11.0,2.0,1.0,3.0,4.0,0.0,3.0,0.0,2.0,0.0,2.0,0.0,2.0,1.0,17911.0,0\\n',\n",
       " '34.0,1.0,2.0,15.0,1.0,1.0,2.0,3.0,0.0,3.0,0.0,2.0,0.0,1.0,1.0,0.0,1.0,17742.0,1\\n',\n",
       " '34.0,1.0,1.0,12.0,3.0,2.0,2.0,3.0,0.0,5.0,2.0,3.0,0.0,4.0,0.0,0.0,1.0,17960.0,1\\n',\n",
       " '33.0,0.0,1.0,31.0,2.0,2.0,4.0,4.0,1.0,3.0,0.0,3.0,0.0,4.0,1.0,1.0,2.0,23987.0,0\\n',\n",
       " '58.0,0.0,1.0,8.0,2.0,2.0,2.0,4.0,0.0,3.0,1.0,1.0,1.0,1.0,1.0,0.0,1.0,17380.0,1\\n',\n",
       " '32.0,0.0,3.0,7.0,2.0,1.0,3.0,4.0,0.0,3.0,2.0,3.0,0.0,3.0,1.0,2.0,1.0,20037.0,1\\n',\n",
       " '55.0,1.0,1.0,14.0,3.0,1.0,4.0,4.0,1.0,3.0,1.0,6.0,0.0,3.0,1.0,2.0,2.0,25532.0,0\\n',\n",
       " '27.0,1.0,1.0,22.0,1.0,1.0,2.0,3.0,0.0,4.0,1.0,1.0,0.0,1.0,1.0,0.0,1.0,17811.0,0\\n',\n",
       " '45.0,1.0,3.0,8.0,3.0,1.0,3.0,5.0,2.0,4.0,2.0,3.0,1.0,5.0,0.0,2.0,4.0,33824.0,1\\n',\n",
       " '26.0,1.0,3.0,15.0,2.0,2.0,3.0,2.0,1.0,4.0,1.0,2.0,0.0,4.0,1.0,1.0,2.0,23529.0,0\\n',\n",
       " '41.0,0.0,1.0,11.0,2.0,2.0,3.0,4.0,0.0,5.0,1.0,7.0,0.0,3.0,0.0,1.0,1.0,17107.0,1\\n',\n",
       " '52.0,0.0,1.0,35.0,2.0,2.0,4.0,5.0,1.0,3.0,2.0,5.0,0.0,3.0,0.0,1.0,2.0,38525.0,1\\n',\n",
       " '41.0,0.0,1.0,11.0,2.0,2.0,3.0,4.0,0.0,5.0,1.0,7.0,0.0,3.0,1.0,0.0,1.0,17107.0,1\\n',\n",
       " '27.0,0.0,1.0,15.0,3.0,2.0,2.0,3.0,0.0,4.0,1.0,7.0,0.0,3.0,1.0,1.0,1.0,17024.0,0\\n',\n",
       " '22.0,0.0,3.0,7.0,1.0,1.0,3.0,5.0,0.0,4.0,2.0,3.0,1.0,5.0,1.0,2.0,1.0,20852.0,1\\n',\n",
       " '35.0,1.0,3.0,9.0,2.0,2.0,3.0,4.0,1.0,3.0,3.0,3.0,0.0,5.0,0.0,2.0,2.0,24952.0,0\\n',\n",
       " '38.0,0.0,1.0,9.0,2.0,2.0,3.0,3.0,0.0,5.0,2.0,2.0,1.0,5.0,1.0,0.0,1.0,18348.0,1\\n',\n",
       " '43.0,1.0,3.0,15.0,3.0,1.0,2.0,5.0,1.0,3.0,2.0,1.0,0.0,2.0,1.0,1.0,2.0,20346.0,1\\n',\n",
       " '24.0,1.0,1.0,13.0,2.0,2.0,2.0,4.0,1.0,3.0,2.0,2.0,0.0,3.0,1.0,1.0,2.0,19617.0,0\\n',\n",
       " '56.0,1.0,1.0,10.0,1.0,1.0,3.0,3.0,2.0,5.0,1.0,5.0,0.0,4.0,0.0,1.0,4.0,34943.0,0\\n',\n",
       " '30.0,1.0,1.0,7.0,1.0,2.0,4.0,5.0,0.0,5.0,2.0,8.0,0.0,3.0,0.0,3.0,1.0,21040.0,1\\n',\n",
       " '23.0,1.0,1.0,10.0,3.0,1.0,2.0,3.0,0.0,4.0,2.0,2.0,0.0,3.0,1.0,1.0,1.0,18295.0,0\\n',\n",
       " '54.0,1.0,1.0,11.0,3.0,2.0,2.0,3.0,2.0,5.0,1.0,5.0,0.0,4.0,1.0,0.0,4.0,34406.0,0\\n',\n",
       " '52.0,1.0,3.0,8.0,3.0,1.0,2.0,5.0,2.0,3.0,0.0,2.0,0.0,3.0,1.0,1.0,4.0,34845.0,1\\n',\n",
       " '42.0,1.0,1.0,19.0,1.0,1.0,3.0,4.0,2.0,3.0,0.0,3.0,0.0,4.0,1.0,1.0,4.0,38223.0,1\\n',\n",
       " '38.0,1.0,1.0,8.0,2.0,2.0,3.0,3.0,0.0,3.0,2.0,3.0,0.0,4.0,0.0,1.0,1.0,18485.0,1\\n',\n",
       " '26.0,1.0,3.0,17.0,2.0,2.0,3.0,4.0,1.0,3.0,3.0,2.0,0.0,1.0,1.0,1.0,2.0,23628.0,0\\n',\n",
       " '34.0,1.0,1.0,13.0,3.0,2.0,2.0,1.0,1.0,3.0,1.0,3.0,0.0,3.0,0.0,1.0,2.0,22347.0,0\\n',\n",
       " '44.0,1.0,1.0,14.0,2.0,2.0,3.0,1.0,0.0,3.0,0.0,3.0,1.0,3.0,1.0,2.0,1.0,17818.0,0\\n',\n",
       " '34.0,1.0,1.0,22.0,3.0,2.0,3.0,4.0,3.0,3.0,1.0,2.0,1.0,5.0,1.0,1.0,3.0,32288.0,1\\n',\n",
       " '24.0,1.0,3.0,9.0,1.0,2.0,4.0,4.0,0.0,5.0,1.0,5.0,0.0,3.0,1.0,2.0,1.0,21000.0,0\\n',\n",
       " '29.0,1.0,1.0,31.0,1.0,1.0,3.0,4.0,0.0,4.0,1.0,6.0,0.0,3.0,1.0,2.0,1.0,17546.0,1\\n',\n",
       " '56.0,0.0,1.0,9.0,3.0,2.0,3.0,5.0,4.0,5.0,2.0,2.0,0.0,3.0,1.0,1.0,0.0,35434.0,0\\n',\n",
       " '40.0,1.0,2.0,9.0,2.0,1.0,3.0,5.0,1.0,3.0,0.0,2.0,0.0,3.0,0.0,1.0,2.0,23882.0,0\\n',\n",
       " '56.0,1.0,3.0,9.0,3.0,2.0,3.0,4.0,1.0,3.0,3.0,6.0,0.0,1.0,1.0,1.0,2.0,23838.0,1\\n',\n",
       " '35.0,0.0,1.0,24.0,1.0,2.0,3.0,5.0,0.0,3.0,1.0,2.0,1.0,5.0,1.0,2.0,1.0,27178.0,1\\n',\n",
       " '44.0,1.0,1.0,21.0,3.0,1.0,3.0,3.0,3.0,3.0,0.0,2.0,0.0,3.0,0.0,1.0,3.0,22978.0,1\\n',\n",
       " '20.0,0.0,1.0,12.0,2.0,1.0,3.0,4.0,0.0,3.0,2.0,2.0,1.0,2.0,1.0,1.0,1.0,17926.0,1\\n',\n",
       " '40.0,1.0,1.0,20.0,3.0,1.0,4.0,5.0,4.0,4.0,1.0,0.0,1.0,3.0,1.0,3.0,0.0,35801.0,0\\n',\n",
       " '41.0,1.0,1.0,14.0,2.0,2.0,4.0,4.0,0.0,5.0,2.0,5.0,1.0,3.0,0.0,2.0,1.0,20844.0,1\\n',\n",
       " '31.0,1.0,3.0,8.0,2.0,2.0,3.0,3.0,1.0,3.0,3.0,5.0,1.0,5.0,1.0,1.0,2.0,21582.0,0\\n',\n",
       " '49.0,1.0,3.0,17.0,3.0,1.0,2.0,3.0,3.0,3.0,0.0,2.0,0.0,4.0,0.0,1.0,3.0,22654.0,1\\n',\n",
       " '24.0,1.0,1.0,33.0,2.0,2.0,3.0,4.0,0.0,3.0,1.0,3.0,0.0,1.0,0.0,2.0,1.0,21582.0,0\\n',\n",
       " '41.0,1.0,3.0,6.0,2.0,1.0,3.0,3.0,1.0,3.0,2.0,1.0,1.0,4.0,0.0,2.0,2.0,20993.0,1\\n',\n",
       " '41.0,1.0,1.0,31.0,1.0,2.0,4.0,4.0,1.0,3.0,1.0,3.0,0.0,3.0,1.0,2.0,2.0,21997.0,0\\n',\n",
       " '45.0,0.0,1.0,31.0,3.0,2.0,3.0,6.0,0.0,3.0,3.0,4.0,0.0,3.0,0.0,2.0,1.0,22386.0,0\\n',\n",
       " '46.0,1.0,3.0,8.0,3.0,1.0,3.0,3.0,4.0,5.0,0.0,1.0,0.0,2.0,1.0,0.0,0.0,32048.0,0\\n',\n",
       " '26.0,0.0,1.0,8.0,2.0,2.0,2.0,3.0,0.0,5.0,1.0,7.0,1.0,5.0,0.0,0.0,1.0,17042.0,1\\n',\n",
       " '43.0,0.0,1.0,8.0,2.0,1.0,4.0,2.0,3.0,4.0,2.0,3.0,0.0,3.0,1.0,1.0,3.0,21050.0,1\\n',\n",
       " '27.0,1.0,3.0,36.0,3.0,2.0,3.0,4.0,1.0,3.0,1.0,7.0,0.0,5.0,0.0,1.0,2.0,22984.0,0\\n',\n",
       " '32.0,0.0,3.0,8.0,2.0,1.0,3.0,3.0,0.0,5.0,1.0,2.0,0.0,3.0,1.0,0.0,1.0,17827.0,0\\n',\n",
       " '29.0,1.0,1.0,14.0,2.0,2.0,3.0,5.0,0.0,5.0,1.0,2.0,1.0,3.0,0.0,1.0,1.0,17119.0,1\\n',\n",
       " '47.0,0.0,3.0,33.0,2.0,2.0,4.0,5.0,1.0,4.0,3.0,2.0,0.0,4.0,1.0,3.0,2.0,26669.0,0\\n',\n",
       " '23.0,1.0,1.0,12.0,2.0,2.0,3.0,3.0,0.0,4.0,1.0,3.0,1.0,4.0,0.0,1.0,1.0,21006.0,0\\n',\n",
       " '26.0,1.0,1.0,30.0,1.0,2.0,3.0,5.0,0.0,3.0,2.0,2.0,1.0,3.0,1.0,2.0,1.0,17340.0,1\\n',\n",
       " '30.0,1.0,3.0,30.0,2.0,1.0,3.0,5.0,3.0,5.0,0.0,3.0,0.0,3.0,0.0,1.0,3.0,26014.0,1\\n',\n",
       " '36.0,0.0,1.0,9.0,3.0,1.0,3.0,4.0,1.0,4.0,3.0,7.0,0.0,2.0,1.0,1.0,2.0,23103.0,0\\n',\n",
       " '51.0,0.0,1.0,12.0,3.0,1.0,2.0,4.0,0.0,3.0,2.0,1.0,0.0,5.0,1.0,1.0,1.0,17838.0,0\\n',\n",
       " '38.0,1.0,3.0,20.0,2.0,2.0,3.0,3.0,1.0,4.0,1.0,1.0,0.0,5.0,1.0,2.0,2.0,24924.0,0\\n',\n",
       " '38.0,1.0,3.0,7.0,2.0,2.0,3.0,5.0,3.0,3.0,0.0,7.0,0.0,2.0,1.0,2.0,3.0,29287.0,1\\n',\n",
       " '41.0,1.0,3.0,29.0,3.0,2.0,4.0,5.0,1.0,3.0,0.0,4.0,1.0,3.0,1.0,2.0,2.0,25058.0,1\\n',\n",
       " '39.0,1.0,3.0,9.0,3.0,1.0,2.0,3.0,1.0,3.0,0.0,5.0,1.0,4.0,1.0,1.0,2.0,20238.0,1\\n',\n",
       " '29.0,1.0,1.0,16.0,2.0,1.0,3.0,4.0,0.0,5.0,2.0,7.0,1.0,5.0,1.0,1.0,1.0,17404.0,1\\n',\n",
       " '33.0,1.0,3.0,11.0,3.0,1.0,2.0,3.0,0.0,3.0,2.0,2.0,1.0,2.0,1.0,0.0,1.0,17851.0,1\\n',\n",
       " '21.0,1.0,1.0,18.0,3.0,1.0,4.0,5.0,0.0,5.0,3.0,3.0,1.0,3.0,1.0,3.0,1.0,21278.0,1\\n',\n",
       " '24.0,1.0,1.0,15.0,3.0,2.0,4.0,5.0,0.0,3.0,3.0,3.0,1.0,4.0,1.0,3.0,1.0,22667.0,1\\n',\n",
       " '31.0,1.0,3.0,14.0,3.0,1.0,4.0,4.0,1.0,5.0,1.0,2.0,0.0,3.0,1.0,1.0,2.0,23457.0,0\\n',\n",
       " '52.0,1.0,1.0,8.0,2.0,1.0,2.0,4.0,0.0,3.0,2.0,1.0,0.0,3.0,1.0,0.0,1.0,18212.0,0\\n',\n",
       " '60.0,1.0,1.0,10.0,3.0,1.0,3.0,3.0,0.0,5.0,0.0,6.0,1.0,2.0,1.0,2.0,1.0,21348.0,0\\n',\n",
       " '30.0,1.0,1.0,8.0,2.0,1.0,4.0,4.0,0.0,3.0,1.0,3.0,0.0,1.0,1.0,3.0,1.0,22438.0,0\\n',\n",
       " '26.0,1.0,3.0,12.0,3.0,2.0,3.0,5.0,1.0,3.0,3.0,3.0,1.0,3.0,0.0,2.0,2.0,24422.0,1\\n',\n",
       " '47.0,1.0,1.0,9.0,2.0,2.0,3.0,4.0,4.0,3.0,0.0,0.0,0.0,5.0,0.0,1.0,0.0,36539.0,0\\n',\n",
       " '33.0,0.0,3.0,8.0,3.0,1.0,3.0,3.0,1.0,4.0,2.0,1.0,0.0,1.0,0.0,0.0,2.0,20147.0,0\\n',\n",
       " '33.0,0.0,1.0,9.0,2.0,1.0,2.0,3.0,0.0,3.0,1.0,2.0,1.0,1.0,1.0,1.0,1.0,17909.0,0\\n',\n",
       " '37.0,1.0,2.0,12.0,2.0,2.0,3.0,3.0,0.0,5.0,1.0,5.0,1.0,2.0,1.0,0.0,1.0,17073.0,1\\n',\n",
       " '37.0,0.0,3.0,18.0,1.0,1.0,4.0,4.0,3.0,3.0,0.0,2.0,0.0,5.0,0.0,1.0,3.0,28416.0,0\\n',\n",
       " '53.0,1.0,1.0,29.0,2.0,1.0,3.0,3.0,4.0,3.0,2.0,7.0,0.0,5.0,1.0,1.0,0.0,29275.0,0\\n',\n",
       " '18.0,0.0,3.0,11.0,3.0,2.0,3.0,3.0,0.0,4.0,2.0,2.0,1.0,4.0,1.0,2.0,1.0,16878.0,1\\n',\n",
       " '43.0,0.0,1.0,13.0,3.0,2.0,2.0,2.0,0.0,3.0,1.0,5.0,0.0,4.0,0.0,1.0,1.0,17089.0,0\\n',\n",
       " '38.0,0.0,1.0,12.0,2.0,2.0,3.0,4.0,1.0,3.0,1.0,3.0,0.0,4.0,1.0,1.0,2.0,20321.0,0\\n',\n",
       " '25.0,0.0,3.0,30.0,2.0,2.0,3.0,5.0,0.0,3.0,2.0,2.0,1.0,1.0,1.0,1.0,1.0,16118.0,1\\n',\n",
       " '46.0,0.0,3.0,33.0,2.0,1.0,4.0,4.0,1.0,5.0,1.0,4.0,0.0,1.0,0.0,3.0,2.0,22964.0,1\\n',\n",
       " '22.0,1.0,3.0,14.0,3.0,2.0,3.0,4.0,0.0,4.0,3.0,3.0,0.0,5.0,1.0,2.0,1.0,21357.0,1\\n',\n",
       " '45.0,0.0,3.0,13.0,2.0,1.0,3.0,3.0,1.0,5.0,1.0,3.0,0.0,1.0,0.0,2.0,2.0,22347.0,1\\n',\n",
       " '55.0,1.0,3.0,15.0,3.0,1.0,2.0,5.0,0.0,4.0,2.0,2.0,0.0,1.0,1.0,1.0,1.0,34187.0,1\\n',\n",
       " '18.0,0.0,3.0,9.0,3.0,1.0,3.0,3.0,0.0,3.0,2.0,2.0,1.0,5.0,0.0,1.0,1.0,16569.0,1\\n',\n",
       " '33.0,1.0,1.0,16.0,3.0,1.0,3.0,4.0,0.0,5.0,3.0,2.0,0.0,4.0,1.0,1.0,1.0,22878.0,1\\n',\n",
       " '20.0,1.0,3.0,8.0,3.0,1.0,2.0,4.0,0.0,3.0,2.0,2.0,0.0,4.0,0.0,1.0,1.0,17044.0,1\\n',\n",
       " '52.0,1.0,1.0,16.0,2.0,2.0,4.0,4.0,0.0,3.0,1.0,5.0,0.0,3.0,1.0,1.0,1.0,20753.0,0\\n',\n",
       " '47.0,0.0,3.0,9.0,3.0,1.0,2.0,3.0,4.0,3.0,1.0,1.0,1.0,5.0,1.0,1.0,0.0,28770.0,0\\n',\n",
       " '38.0,0.0,1.0,26.0,3.0,2.0,2.0,3.0,0.0,3.0,1.0,2.0,0.0,3.0,1.0,1.0,1.0,22347.0,0\\n',\n",
       " '38.0,1.0,1.0,27.0,2.0,1.0,2.0,3.0,1.0,3.0,0.0,2.0,1.0,3.0,0.0,1.0,2.0,22347.0,0\\n',\n",
       " '28.0,1.0,1.0,10.0,3.0,2.0,3.0,5.0,0.0,3.0,2.0,2.0,0.0,1.0,1.0,2.0,1.0,20723.0,0\\n',\n",
       " '30.0,1.0,3.0,16.0,3.0,1.0,3.0,6.0,0.0,4.0,3.0,3.0,0.0,1.0,1.0,2.0,1.0,21438.0,1\\n',\n",
       " '56.0,1.0,1.0,9.0,2.0,1.0,4.0,4.0,4.0,3.0,2.0,4.0,1.0,5.0,0.0,1.0,0.0,35337.0,0\\n',\n",
       " '31.0,1.0,3.0,17.0,3.0,2.0,4.0,5.0,1.0,3.0,1.0,3.0,0.0,1.0,0.0,2.0,2.0,25256.0,0\\n',\n",
       " '34.0,1.0,1.0,7.0,2.0,2.0,4.0,4.0,0.0,3.0,3.0,3.0,1.0,3.0,1.0,1.0,1.0,21364.0,1\\n',\n",
       " '39.0,1.0,1.0,16.0,3.0,2.0,3.0,3.0,1.0,5.0,1.0,3.0,0.0,5.0,1.0,2.0,2.0,20377.0,0\\n',\n",
       " '40.0,1.0,1.0,7.0,3.0,2.0,3.0,3.0,3.0,3.0,1.0,2.0,0.0,3.0,1.0,1.0,3.0,28291.0,0\\n',\n",
       " '36.0,1.0,3.0,34.0,2.0,2.0,3.0,4.0,1.0,3.0,3.0,3.0,1.0,5.0,0.0,1.0,2.0,24491.0,1\\n',\n",
       " '38.0,1.0,1.0,7.0,3.0,1.0,3.0,5.0,0.0,5.0,1.0,4.0,0.0,4.0,0.0,2.0,1.0,22598.0,0\\n',\n",
       " '41.0,0.0,1.0,13.0,2.0,1.0,2.0,5.0,2.0,3.0,1.0,2.0,0.0,4.0,1.0,1.0,4.0,34973.0,0\\n',\n",
       " '31.0,1.0,1.0,9.0,3.0,0.0,3.0,5.0,1.0,3.0,3.0,7.0,1.0,1.0,1.0,2.0,2.0,25555.0,0\\n',\n",
       " '41.0,1.0,3.0,26.0,3.0,1.0,3.0,3.0,0.0,4.0,2.0,2.0,1.0,4.0,0.0,2.0,1.0,18140.0,1\\n',\n",
       " '19.0,1.0,1.0,10.0,3.0,2.0,3.0,4.0,0.0,3.0,2.0,3.0,0.0,4.0,1.0,1.0,1.0,20098.0,1\\n',\n",
       " '22.0,1.0,3.0,19.0,2.0,1.0,3.0,3.0,0.0,4.0,3.0,3.0,0.0,5.0,0.0,2.0,1.0,21394.0,1\\n',\n",
       " '29.0,0.0,1.0,8.0,2.0,1.0,3.0,3.0,0.0,4.0,0.0,1.0,0.0,5.0,0.0,2.0,1.0,18180.0,0\\n',\n",
       " '26.0,1.0,2.0,26.0,3.0,1.0,3.0,3.0,0.0,4.0,1.0,1.0,1.0,3.0,0.0,1.0,1.0,17148.0,1\\n',\n",
       " '25.0,1.0,3.0,34.0,2.0,2.0,2.0,4.0,1.0,3.0,1.0,3.0,0.0,4.0,1.0,1.0,2.0,23639.0,0\\n',\n",
       " '29.0,0.0,3.0,20.0,1.0,1.0,3.0,4.0,1.0,4.0,3.0,7.0,0.0,3.0,1.0,1.0,2.0,22545.0,1\\n',\n",
       " '37.0,1.0,2.0,12.0,2.0,2.0,3.0,3.0,0.0,5.0,1.0,5.0,1.0,1.0,0.0,2.0,1.0,17073.0,1\\n',\n",
       " '38.0,1.0,1.0,11.0,1.0,2.0,2.0,3.0,0.0,3.0,2.0,2.0,1.0,2.0,1.0,0.0,1.0,18441.0,1\\n',\n",
       " '30.0,1.0,1.0,30.0,2.0,2.0,3.0,2.0,0.0,3.0,1.0,3.0,0.0,1.0,1.0,2.0,1.0,21378.0,0\\n',\n",
       " '38.0,1.0,3.0,13.0,3.0,2.0,4.0,4.0,1.0,3.0,0.0,6.0,0.0,3.0,0.0,1.0,2.0,25180.0,0\\n',\n",
       " '34.0,0.0,1.0,13.0,2.0,2.0,3.0,5.0,1.0,3.0,2.0,2.0,1.0,5.0,1.0,1.0,2.0,21074.0,1\\n',\n",
       " '35.0,1.0,1.0,7.0,2.0,2.0,3.0,4.0,0.0,3.0,1.0,3.0,0.0,3.0,1.0,2.0,1.0,21369.0,0\\n',\n",
       " '36.0,1.0,1.0,22.0,2.0,1.0,2.0,1.0,0.0,5.0,2.0,2.0,0.0,1.0,1.0,0.0,1.0,17743.0,1\\n',\n",
       " '29.0,1.0,3.0,6.0,3.0,1.0,2.0,4.0,0.0,3.0,1.0,7.0,1.0,1.0,1.0,1.0,1.0,17800.0,1\\n',\n",
       " '30.0,1.0,3.0,10.0,3.0,1.0,3.0,4.0,1.0,4.0,1.0,2.0,1.0,3.0,1.0,1.0,2.0,20209.0,0\\n',\n",
       " '38.0,0.0,1.0,17.0,3.0,2.0,4.0,4.0,3.0,3.0,1.0,8.0,0.0,3.0,1.0,3.0,3.0,28726.0,1\\n',\n",
       " '51.0,1.0,3.0,10.0,3.0,2.0,3.0,5.0,0.0,3.0,1.0,3.0,1.0,4.0,1.0,2.0,1.0,21361.0,1\\n',\n",
       " '22.0,1.0,1.0,25.0,2.0,1.0,4.0,4.0,0.0,3.0,3.0,3.0,0.0,3.0,1.0,2.0,1.0,21371.0,1\\n',\n",
       " '42.0,1.0,1.0,29.0,2.0,1.0,2.0,3.0,4.0,3.0,2.0,3.0,0.0,3.0,0.0,0.0,0.0,30992.0,0\\n',\n",
       " '35.0,1.0,3.0,23.0,2.0,2.0,3.0,3.0,1.0,5.0,0.0,4.0,1.0,3.0,1.0,1.0,2.0,23966.0,0\\n',\n",
       " '41.0,1.0,3.0,8.0,2.0,1.0,3.0,3.0,4.0,5.0,0.0,1.0,0.0,5.0,1.0,1.0,0.0,31595.0,0\\n',\n",
       " '48.0,0.0,3.0,34.0,2.0,0.0,4.0,2.0,1.0,3.0,3.0,6.0,1.0,4.0,1.0,3.0,2.0,25075.0,1\\n',\n",
       " '34.0,0.0,1.0,13.0,2.0,2.0,3.0,5.0,1.0,3.0,2.0,2.0,1.0,5.0,1.0,1.0,2.0,21074.0,1\\n',\n",
       " '34.0,1.0,2.0,15.0,1.0,1.0,2.0,3.0,0.0,3.0,0.0,2.0,0.0,1.0,1.0,0.0,1.0,17742.0,1\\n',\n",
       " '40.0,1.0,1.0,8.0,3.0,2.0,2.0,3.0,2.0,3.0,1.0,1.0,0.0,5.0,1.0,0.0,4.0,34436.0,0\\n',\n",
       " '29.0,0.0,1.0,31.0,1.0,2.0,4.0,5.0,3.0,5.0,3.0,3.0,0.0,2.0,0.0,1.0,3.0,27400.0,1\\n',\n",
       " '47.0,1.0,1.0,7.0,3.0,2.0,3.0,4.0,2.0,3.0,1.0,2.0,0.0,5.0,1.0,1.0,4.0,38305.0,0\\n',\n",
       " '27.0,1.0,3.0,13.0,3.0,2.0,2.0,3.0,1.0,3.0,1.0,1.0,0.0,3.0,1.0,1.0,2.0,22347.0,0\\n',\n",
       " '43.0,0.0,1.0,33.0,2.0,1.0,2.0,3.0,3.0,5.0,1.0,1.0,0.0,4.0,1.0,0.0,3.0,25820.0,0\\n',\n",
       " '20.0,1.0,3.0,27.0,3.0,2.0,2.0,1.0,0.0,3.0,2.0,2.0,0.0,3.0,1.0,1.0,1.0,17678.0,0\\n',\n",
       " '51.0,1.0,1.0,16.0,2.0,2.0,4.0,4.0,0.0,3.0,0.0,6.0,0.0,5.0,1.0,1.0,1.0,21058.0,0\\n',\n",
       " '40.0,1.0,2.0,24.0,2.0,2.0,2.0,1.0,0.0,5.0,1.0,1.0,0.0,1.0,1.0,1.0,1.0,17387.0,1\\n',\n",
       " '45.0,0.0,3.0,12.0,3.0,0.0,2.0,4.0,3.0,3.0,3.0,7.0,0.0,4.0,1.0,0.0,3.0,23865.0,0\\n',\n",
       " '40.0,0.0,1.0,9.0,2.0,1.0,3.0,5.0,0.0,5.0,3.0,4.0,1.0,3.0,0.0,1.0,1.0,22324.0,1\\n',\n",
       " '23.0,0.0,1.0,23.0,3.0,2.0,4.0,3.0,0.0,3.0,1.0,3.0,1.0,3.0,0.0,1.0,1.0,21613.0,0\\n',\n",
       " '42.0,0.0,3.0,18.0,2.0,2.0,2.0,3.0,4.0,5.0,2.0,1.0,1.0,5.0,1.0,1.0,0.0,28758.0,1\\n',\n",
       " '19.0,1.0,1.0,15.0,2.0,2.0,2.0,3.0,0.0,5.0,2.0,2.0,0.0,3.0,0.0,1.0,1.0,17552.0,0\\n',\n",
       " '30.0,0.0,1.0,13.0,3.0,1.0,3.0,3.0,1.0,3.0,2.0,1.0,1.0,3.0,1.0,2.0,2.0,19695.0,0\\n',\n",
       " '26.0,1.0,3.0,11.0,2.0,1.0,1.0,4.0,0.0,3.0,2.0,1.0,0.0,1.0,0.0,0.0,1.0,17966.0,0\\n',\n",
       " '31.0,0.0,1.0,26.0,2.0,2.0,3.0,3.0,3.0,3.0,1.0,4.0,0.0,3.0,1.0,0.0,3.0,24824.0,1\\n',\n",
       " '33.0,0.0,3.0,18.0,2.0,2.0,3.0,2.0,1.0,3.0,1.0,2.0,0.0,3.0,1.0,1.0,2.0,23385.0,1\\n',\n",
       " '49.0,1.0,1.0,13.0,2.0,2.0,4.0,5.0,1.0,3.0,3.0,4.0,0.0,2.0,0.0,1.0,2.0,22918.0,0\\n',\n",
       " '28.0,1.0,1.0,8.0,2.0,2.0,3.0,4.0,0.0,4.0,0.0,1.0,0.0,2.0,0.0,2.0,1.0,18201.0,0\\n',\n",
       " '40.0,1.0,3.0,32.0,3.0,2.0,3.0,3.0,1.0,5.0,0.0,2.0,0.0,2.0,1.0,1.0,2.0,23396.0,0\\n',\n",
       " '36.0,0.0,1.0,24.0,2.0,2.0,3.0,3.0,1.0,3.0,3.0,3.0,0.0,3.0,1.0,0.0,2.0,22779.0,0\\n',\n",
       " '28.0,1.0,1.0,9.0,3.0,1.0,3.0,3.0,3.0,4.0,1.0,1.0,0.0,4.0,0.0,0.0,3.0,22655.0,0\\n',\n",
       " '30.0,1.0,3.0,22.0,2.0,2.0,3.0,3.0,1.0,3.0,0.0,1.0,0.0,3.0,0.0,2.0,2.0,20301.0,0\\n',\n",
       " '42.0,1.0,3.0,7.0,2.0,0.0,4.0,4.0,1.0,3.0,3.0,2.0,1.0,2.0,1.0,1.0,2.0,24671.0,1\\n',\n",
       " '21.0,0.0,3.0,16.0,3.0,1.0,3.0,4.0,0.0,3.0,2.0,3.0,1.0,4.0,1.0,1.0,1.0,21001.0,1\\n',\n",
       " '43.0,1.0,1.0,12.0,2.0,2.0,2.0,4.0,4.0,3.0,1.0,5.0,1.0,3.0,1.0,0.0,0.0,31627.0,0\\n',\n",
       " '27.0,0.0,1.0,9.0,3.0,2.0,2.0,3.0,0.0,3.0,1.0,2.0,0.0,1.0,0.0,0.0,1.0,16706.0,0\\n',\n",
       " '48.0,0.0,1.0,21.0,1.0,2.0,4.0,4.0,1.0,4.0,1.0,2.0,0.0,3.0,0.0,3.0,2.0,24145.0,0\\n',\n",
       " '43.0,1.0,3.0,22.0,3.0,1.0,3.0,3.0,4.0,3.0,1.0,6.0,1.0,3.0,0.0,0.0,0.0,31064.0,0\\n',\n",
       " '31.0,1.0,3.0,22.0,3.0,2.0,3.0,3.0,3.0,3.0,1.0,3.0,0.0,5.0,1.0,0.0,3.0,23161.0,1\\n',\n",
       " '52.0,1.0,1.0,6.0,2.0,2.0,3.0,4.0,2.0,3.0,0.0,1.0,0.0,2.0,1.0,1.0,4.0,34999.0,0\\n',\n",
       " '32.0,1.0,1.0,8.0,1.0,2.0,2.0,4.0,1.0,5.0,2.0,5.0,0.0,4.0,0.0,1.0,2.0,17176.0,0\\n',\n",
       " '29.0,1.0,1.0,24.0,3.0,2.0,2.0,4.0,0.0,3.0,2.0,2.0,1.0,3.0,0.0,0.0,1.0,17389.0,1\\n',\n",
       " '54.0,0.0,1.0,7.0,2.0,1.0,2.0,3.0,3.0,3.0,1.0,1.0,0.0,5.0,0.0,1.0,3.0,25502.0,0\\n',\n",
       " '31.0,1.0,1.0,13.0,2.0,1.0,3.0,3.0,1.0,3.0,2.0,2.0,0.0,5.0,0.0,1.0,2.0,22347.0,0\\n',\n",
       " '46.0,1.0,3.0,15.0,3.0,2.0,3.0,4.0,3.0,3.0,3.0,2.0,0.0,5.0,1.0,2.0,3.0,24619.0,1\\n',\n",
       " '36.0,0.0,3.0,7.0,3.0,0.0,4.0,4.0,3.0,3.0,3.0,3.0,0.0,5.0,1.0,1.0,3.0,27467.0,0\\n',\n",
       " '60.0,1.0,3.0,7.0,1.0,2.0,4.0,4.0,3.0,3.0,0.0,5.0,1.0,2.0,0.0,2.0,3.0,30582.0,0\\n',\n",
       " '40.0,1.0,3.0,10.0,3.0,1.0,3.0,4.0,1.0,3.0,0.0,6.0,1.0,4.0,1.0,2.0,2.0,23916.0,1\\n',\n",
       " '41.0,1.0,3.0,17.0,3.0,2.0,4.0,5.0,3.0,4.0,1.0,4.0,0.0,4.0,1.0,2.0,3.0,28383.0,0\\n',\n",
       " '30.0,1.0,1.0,15.0,2.0,2.0,4.0,6.0,0.0,5.0,1.0,3.0,1.0,3.0,0.0,2.0,1.0,20797.0,1\\n',\n",
       " '58.0,0.0,1.0,8.0,2.0,2.0,2.0,4.0,0.0,3.0,1.0,1.0,1.0,1.0,1.0,0.0,1.0,17380.0,1\\n']"
      ]
     },
     "execution_count": 132,
     "metadata": {},
     "output_type": "execute_result"
    }
   ],
   "source": [
    "f = open(r'C:\\Users\\wasim\\tourism_package\\packagePrediction\\data\\test_df.csv','r')\n",
    "lines = f.readlines()[1:]\n",
    "for i in lines:\n",
    "    df = pd.DataFrame()\n",
    "    i = i.split(',')\n",
    "    y = i[-1]\n",
    "    df.loc[0] = i[:-1]\n",
    "\n",
    "    print(clf.predict(df), y)\n",
    "\n",
    "lines"
   ]
  },
  {
   "cell_type": "code",
   "execution_count": 133,
   "id": "cfca0d04",
   "metadata": {},
   "outputs": [],
   "source": [
    "import pickle\n",
    "\n",
    "pickle.dump(clf, open(r\"C:\\Users\\wasim\\tourism_package\\saved_models\\model.pkl\", 'wb'))"
   ]
  },
  {
   "cell_type": "code",
   "execution_count": 134,
   "id": "b8c2ed4d",
   "metadata": {},
   "outputs": [
    {
     "data": {
      "text/plain": [
       "'0.24.2'"
      ]
     },
     "execution_count": 134,
     "metadata": {},
     "output_type": "execute_result"
    }
   ],
   "source": [
    "import sklearn\n",
    "\n",
    "\n",
    "sklearn.__version__"
   ]
  },
  {
   "cell_type": "code",
   "execution_count": 135,
   "metadata": {},
   "outputs": [],
   "source": [
    "os.chdir(r'c:\\\\Users\\\\wasim\\\\tourism_package')"
   ]
  },
  {
   "cell_type": "code",
   "execution_count": 136,
   "id": "e12d7d51",
   "metadata": {},
   "outputs": [],
   "source": [
    "from packagePrediction.entity.config_entity import DataIngestionConfig\n"
   ]
  },
  {
   "cell_type": "code",
   "execution_count": 137,
   "id": "cbfd3aab",
   "metadata": {},
   "outputs": [],
   "source": [
    "import os\n",
    "\n",
    "os.chdir(r\"C:\\Users\\wasim\\tourism_package\")"
   ]
  },
  {
   "cell_type": "code",
   "execution_count": 138,
   "id": "4624fe5e",
   "metadata": {},
   "outputs": [],
   "source": [
    "import sys\n",
    "import mysql.connector as conn\n",
    "import pandas as pd\n",
    "\n",
    "from packagePrediction.entity.config_entity import DataIngestionConfig\n",
    "from packagePrediction.logger import logging\n",
    "from packagePrediction.exception import PackageException\n",
    "from packagePrediction.config.configuration import Configuartion\n",
    "\n",
    "class DataIngestion:\n",
    "    def __init__(self,data_ingestion_config:DataIngestionConfig ):\n",
    "        try:\n",
    "            logging.info(f\"{'>>'*20}Data Ingestion log started.{'<<'*20} \")\n",
    "            self.data_ingestion_config = data_ingestion_config\n",
    "\n",
    "        except Exception as e:\n",
    "            raise PackageException(e,sys)\n",
    "\n",
    "    def get_raw_data(self):\n",
    "\n",
    "        mydb = conn.connect(\n",
    "        host=\"localhost\",\n",
    "        user=\"root\",\n",
    "        password=\"password\"\n",
    "        )\n",
    "\n",
    "        cursor = mydb.cursor()\n",
    "        cursor.execute(\"select * from tourist_package.test_df1\")\n",
    "        df = pd.DataFrame(cursor.fetchall())    \n",
    "\n",
    "        raw_data_dir = self.data_ingestion_config.raw_data_dir\n",
    "\n",
    "        if os.path.exists(raw_data_dir):\n",
    "            os.remove(raw_data_dir)\n",
    "\n",
    "        os.makedirs(raw_data_dir,exist_ok=True)\n",
    "\n",
    "        df.to_csv(os.path.join(raw_data_dir, 'data.csv'))"
   ]
  },
  {
   "cell_type": "code",
   "execution_count": 139,
   "id": "6a866d37",
   "metadata": {},
   "outputs": [],
   "source": [
    "config = Configuartion()\n",
    "data_ingestion = DataIngestion(data_ingestion_config=config.get_data_ingestion_config())\n",
    "data_ingestion.get_raw_data()"
   ]
  },
  {
   "cell_type": "code",
   "execution_count": 140,
   "id": "de8d847a",
   "metadata": {},
   "outputs": [],
   "source": [
    "from packagePrediction.util.util import ConnectDatabase"
   ]
  }
 ],
 "metadata": {
  "kernelspec": {
   "display_name": "Python 3.9.12 ('base')",
   "language": "python",
   "name": "python3"
  },
  "language_info": {
   "codemirror_mode": {
    "name": "ipython",
    "version": 3
   },
   "file_extension": ".py",
   "mimetype": "text/x-python",
   "name": "python",
   "nbconvert_exporter": "python",
   "pygments_lexer": "ipython3",
   "version": "3.9.12"
  },
  "vscode": {
   "interpreter": {
    "hash": "6d34d7917548ee640d847486ced19568f6502c47845734a38c6d6fef27e006ff"
   }
  }
 },
 "nbformat": 4,
 "nbformat_minor": 5
}
