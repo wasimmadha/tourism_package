{
 "cells": [
  {
   "cell_type": "code",
   "execution_count": null,
   "id": "70766037",
   "metadata": {},
   "outputs": [
    {
     "ename": "",
     "evalue": "",
     "output_type": "error",
     "traceback": [
      "\u001b[1;31mRunning cells with 'Python 3.9.12 ('myenv1')' requires ipykernel package.\n",
      "\u001b[1;31mRun the following command to install 'ipykernel' into the Python environment. \n",
      "\u001b[1;31mCommand: 'conda install -n myenv1 ipykernel --update-deps --force-reinstall'"
     ]
    }
   ],
   "source": [
    "import pandas as pd\n",
    "import numpy as np\n",
    "import matplotlib.pyplot as plt\n",
    "import seaborn as sns\n",
    "import plotly.express as px\n",
    "import warnings\n",
    "\n",
    "from sklearn.naive_bayes import GaussianNB\n",
    "from sklearn.ensemble import RandomForestClassifier, GradientBoostingClassifier, AdaBoostClassifier\n",
    "from sklearn.linear_model import LogisticRegression\n",
    "from sklearn.neighbors import KNeighborsClassifier\n",
    "from sklearn.metrics import accuracy_score, classification_report,ConfusionMatrixDisplay, \\\n",
    "                            precision_score, recall_score, f1_score, confusion_matrix\n",
    "from sklearn.svm import SVC\n",
    "from sklearn.tree import DecisionTreeClassifier\n",
    "from xgboost import XGBClassifier\n",
    "from catboost import CatBoostClassifier\n",
    "from sklearn.model_selection import train_test_split, GridSearchCV,cross_val_score\n",
    "from sklearn.compose import ColumnTransformer, make_column_transformer\n",
    "from sklearn.pipeline import Pipeline\n",
    "\n",
    "\n",
    "warnings.filterwarnings(\"ignore\")\n",
    "\n",
    "%matplotlib inline"
   ]
  },
  {
   "cell_type": "code",
   "execution_count": null,
   "id": "14ec7a34",
   "metadata": {},
   "outputs": [
    {
     "ename": "",
     "evalue": "",
     "output_type": "error",
     "traceback": [
      "\u001b[1;31mRunning cells with 'Python 3.9.12 ('myenv1')' requires ipykernel package.\n",
      "\u001b[1;31mRun the following command to install 'ipykernel' into the Python environment. \n",
      "\u001b[1;31mCommand: 'conda install -n myenv1 ipykernel --update-deps --force-reinstall'"
     ]
    }
   ],
   "source": [
    "df = pd.read_csv(r\"C:\\Users\\wasim\\tourism_package\\packagePrediction\\data\\Travel.csv\")"
   ]
  },
  {
   "cell_type": "code",
   "execution_count": null,
   "id": "06956938",
   "metadata": {
    "scrolled": true
   },
   "outputs": [
    {
     "ename": "",
     "evalue": "",
     "output_type": "error",
     "traceback": [
      "\u001b[1;31mRunning cells with 'Python 3.9.12 ('myenv1')' requires ipykernel package.\n",
      "\u001b[1;31mRun the following command to install 'ipykernel' into the Python environment. \n",
      "\u001b[1;31mCommand: 'conda install -n myenv1 ipykernel --update-deps --force-reinstall'"
     ]
    }
   ],
   "source": [
    "df.shape"
   ]
  },
  {
   "cell_type": "code",
   "execution_count": null,
   "id": "4ef0dab1",
   "metadata": {},
   "outputs": [
    {
     "ename": "",
     "evalue": "",
     "output_type": "error",
     "traceback": [
      "\u001b[1;31mRunning cells with 'Python 3.9.12 ('myenv1')' requires ipykernel package.\n",
      "\u001b[1;31mRun the following command to install 'ipykernel' into the Python environment. \n",
      "\u001b[1;31mCommand: 'conda install -n myenv1 ipykernel --update-deps --force-reinstall'"
     ]
    }
   ],
   "source": [
    "percentage = df.ProdTaken.value_counts(normalize=True)*100\n",
    "pielabels = [\"Not-Bought\",\"Bought\"]\n",
    "\n",
    "# Plot PieChart with Ploty library\n",
    "f1 = px.pie(values= percentage, names= pielabels, title=\"Percentage of package bought and not bought\")\n",
    "f1.update_traces(textposition=\"inside\", textinfo=\"percent+label\")\n",
    "f1.update_layout(margin={\"r\":50,\"t\":50,\"l\":50,\"b\":50})\n",
    "f1.show()"
   ]
  },
  {
   "cell_type": "code",
   "execution_count": null,
   "id": "0b0f5833",
   "metadata": {},
   "outputs": [
    {
     "ename": "",
     "evalue": "",
     "output_type": "error",
     "traceback": [
      "\u001b[1;31mRunning cells with 'Python 3.9.12 ('myenv1')' requires ipykernel package.\n",
      "\u001b[1;31mRun the following command to install 'ipykernel' into the Python environment. \n",
      "\u001b[1;31mCommand: 'conda install -n myenv1 ipykernel --update-deps --force-reinstall'"
     ]
    }
   ],
   "source": [
    "# Age\n",
    "df['Age'].fillna(df['Age'].mean(), inplace=True)\n",
    "\n",
    "# TypeofContact\n",
    "df['TypeofContact'].fillna(df['TypeofContact'].mode()[0], inplace=True)\n",
    "\n",
    "# DurationOfPitch\n",
    "df['DurationOfPitch'].fillna(df['DurationOfPitch'].median(), inplace=True)\n",
    "\n",
    "# NumberOfFollowups\n",
    "df['NumberOfFollowups'].fillna(df['NumberOfFollowups'].mode()[0], inplace=True)\n",
    "\n",
    "# PreferredPropertyStar\n",
    "df['PreferredPropertyStar'].fillna(df['PreferredPropertyStar'].mode()[0], inplace=True)\n",
    "\n",
    "# NumberOfTrips\n",
    "df['NumberOfTrips'].fillna(0, inplace=True)\n",
    "\n",
    "# NumberOfChildrenVisiting\n",
    "df['NumberOfChildrenVisiting'].fillna(df['NumberOfChildrenVisiting'].mode()[0], inplace=True)\n",
    "\n",
    "# MonthlyIncome\n",
    "df['MonthlyIncome'].fillna(df['MonthlyIncome'].median(), inplace=True)"
   ]
  },
  {
   "cell_type": "code",
   "execution_count": null,
   "id": "c9c05ab3",
   "metadata": {},
   "outputs": [
    {
     "ename": "",
     "evalue": "",
     "output_type": "error",
     "traceback": [
      "\u001b[1;31mRunning cells with 'Python 3.9.12 ('myenv1')' requires ipykernel package.\n",
      "\u001b[1;31mRun the following command to install 'ipykernel' into the Python environment. \n",
      "\u001b[1;31mCommand: 'conda install -n myenv1 ipykernel --update-deps --force-reinstall'"
     ]
    }
   ],
   "source": [
    "from sklearn.preprocessing import OneHotEncoder, OrdinalEncoder\n",
    "\n",
    "\n",
    "numerical_columns = ['Age', 'TypeofContact', 'CityTier',\n",
    "                            'DurationOfPitch', 'NumberOfPersonVisiting',\n",
    "                            'NumberOfFollowups', 'PreferredPropertyStar',\n",
    "                            'NumberOfTrips', 'Passport', 'PitchSatisfactionScore',\n",
    "                            'OwnCar', 'NumberOfChildrenVisiting', 'MonthlyIncome']\n",
    "categorical_columns = ['TypeofContact', 'Occupation', 'Gender', 'ProductPitched',\n",
    "                 'MaritalStatus', 'Designation']\n",
    "\n",
    "continuous_columns = [i for i in df.columns if df[i].nunique() > 8]\n",
    "continuous_columns.remove(\"CustomerID\")\n",
    "\n",
    "enc = OrdinalEncoder()\n",
    "df[categorical_columns] = enc.fit_transform(df[categorical_columns])\n",
    "\n",
    "print(numerical_columns)"
   ]
  },
  {
   "cell_type": "code",
   "execution_count": null,
   "id": "d7364d34",
   "metadata": {},
   "outputs": [
    {
     "ename": "",
     "evalue": "",
     "output_type": "error",
     "traceback": [
      "\u001b[1;31mRunning cells with 'Python 3.9.12 ('myenv1')' requires ipykernel package.\n",
      "\u001b[1;31mRun the following command to install 'ipykernel' into the Python environment. \n",
      "\u001b[1;31mCommand: 'conda install -n myenv1 ipykernel --update-deps --force-reinstall'"
     ]
    }
   ],
   "source": [
    "from collections import Counter\n",
    "from imblearn.over_sampling import SMOTE, RandomOverSampler  \n",
    "\n",
    "X = df.drop(columns=['ProdTaken', 'CustomerID'], axis=1)\n",
    "y = df['ProdTaken']\n",
    "\n",
    "# summarize class distribution\n",
    "counter = Counter(y)\n",
    "print(counter)\n",
    "# define pipeline\n",
    "over = RandomOverSampler(random_state=42)\n",
    "\n",
    "# transform the dataset\n",
    "X, y = over.fit_resample(X, y)\n",
    "# summarize the new class distribution\n",
    "counter = Counter(y)\n",
    "print(counter)\n",
    "\n",
    "X.shape, y.shape"
   ]
  },
  {
   "cell_type": "code",
   "execution_count": null,
   "id": "b943e8b9",
   "metadata": {},
   "outputs": [
    {
     "ename": "",
     "evalue": "",
     "output_type": "error",
     "traceback": [
      "\u001b[1;31mRunning cells with 'Python 3.9.12 ('myenv1')' requires ipykernel package.\n",
      "\u001b[1;31mRun the following command to install 'ipykernel' into the Python environment. \n",
      "\u001b[1;31mCommand: 'conda install -n myenv1 ipykernel --update-deps --force-reinstall'"
     ]
    }
   ],
   "source": [
    "import math\n",
    "from sklearn.model_selection import StratifiedShuffleSplit\n",
    "\n",
    "X[X.columns] = X[X.columns].apply(np.ceil) \n",
    "sss = StratifiedShuffleSplit(n_splits=10, test_size=0.1, random_state=42)\n",
    "for train_index, test_index in sss.split(X, y):\n",
    "    X_train, X_test = X.iloc[train_index], X.iloc[test_index]\n",
    "    y_train, y_test = y.iloc[train_index], y.iloc[test_index]\n",
    "\n",
    "print(X_train.shape, X_test.shape)\n",
    "\n",
    "df = pd.concat([X_train, y_train], axis=1)\n",
    "\n",
    "test_df = pd.concat([X_test, y_test], axis=1)\n",
    "test_df.to_csv(r'C:\\Users\\wasim\\tourism_package\\packagePrediction\\data\\test_df.csv', index=False)"
   ]
  },
  {
   "cell_type": "markdown",
   "id": "eea0e8ff",
   "metadata": {},
   "source": [
    "### Column Information\n",
    "- TypeofContact: How customer was contacted (Company Invited or Self Inquiry)\n",
    "- DurationOfPitch: Duration of the pitch by a salesperson to the customer\n",
    "- NumberOfFollowups: Total number of follow-ups has been done by the salesperson after the sales pitch\n",
    "- ProductPitched: Product pitched by the salesperson\n",
    "- PreferredPropertyStar: Preferred hotel property rating by customer"
   ]
  },
  {
   "cell_type": "markdown",
   "id": "1f8a606d",
   "metadata": {},
   "source": [
    "# Exploratory Data Analysis "
   ]
  },
  {
   "cell_type": "markdown",
   "id": "09c31718",
   "metadata": {},
   "source": [
    "## Descriptive Analysis\n",
    "- Number of rows and columns\n",
    "- Data type of features and does it makes sense\n",
    "- Distribution\n",
    "- Outliers?\n",
    "- Mean and variance\n",
    "- Understand Values"
   ]
  },
  {
   "cell_type": "code",
   "execution_count": null,
   "id": "e4b62664",
   "metadata": {},
   "outputs": [
    {
     "ename": "",
     "evalue": "",
     "output_type": "error",
     "traceback": [
      "\u001b[1;31mRunning cells with 'Python 3.9.12 ('myenv1')' requires ipykernel package.\n",
      "\u001b[1;31mRun the following command to install 'ipykernel' into the Python environment. \n",
      "\u001b[1;31mCommand: 'conda install -n myenv1 ipykernel --update-deps --force-reinstall'"
     ]
    }
   ],
   "source": [
    "df.shape"
   ]
  },
  {
   "cell_type": "code",
   "execution_count": null,
   "id": "c49cf8e8",
   "metadata": {},
   "outputs": [
    {
     "ename": "",
     "evalue": "",
     "output_type": "error",
     "traceback": [
      "\u001b[1;31mRunning cells with 'Python 3.9.12 ('myenv1')' requires ipykernel package.\n",
      "\u001b[1;31mRun the following command to install 'ipykernel' into the Python environment. \n",
      "\u001b[1;31mCommand: 'conda install -n myenv1 ipykernel --update-deps --force-reinstall'"
     ]
    }
   ],
   "source": [
    "df.dtypes"
   ]
  },
  {
   "cell_type": "markdown",
   "id": "c91a1971",
   "metadata": {},
   "source": [
    "**Note: All the floats values can be converted to the int as it does not have any values after decimal point**"
   ]
  },
  {
   "cell_type": "code",
   "execution_count": null,
   "id": "167ee616",
   "metadata": {},
   "outputs": [
    {
     "ename": "",
     "evalue": "",
     "output_type": "error",
     "traceback": [
      "\u001b[1;31mRunning cells with 'Python 3.9.12 ('myenv1')' requires ipykernel package.\n",
      "\u001b[1;31mRun the following command to install 'ipykernel' into the Python environment. \n",
      "\u001b[1;31mCommand: 'conda install -n myenv1 ipykernel --update-deps --force-reinstall'"
     ]
    }
   ],
   "source": [
    "df.isnull().sum()"
   ]
  },
  {
   "cell_type": "markdown",
   "id": "0d5e36aa",
   "metadata": {},
   "source": [
    "\n",
    "**Note: There are 8 columns which has null values, so it will be fun to handle them**"
   ]
  },
  {
   "cell_type": "markdown",
   "id": "0d345c0c",
   "metadata": {},
   "source": [
    "### Distribution and skewness"
   ]
  },
  {
   "cell_type": "code",
   "execution_count": null,
   "id": "62c150a3",
   "metadata": {},
   "outputs": [
    {
     "ename": "",
     "evalue": "",
     "output_type": "error",
     "traceback": [
      "\u001b[1;31mRunning cells with 'Python 3.9.12 ('myenv1')' requires ipykernel package.\n",
      "\u001b[1;31mRun the following command to install 'ipykernel' into the Python environment. \n",
      "\u001b[1;31mCommand: 'conda install -n myenv1 ipykernel --update-deps --force-reinstall'"
     ]
    }
   ],
   "source": [
    "print(continuous_columns)\n",
    "# plt.figure(figsize=(17,75))\n",
    "\n",
    "# for i in range(len(continuous_columns)):\n",
    "#     plt.subplot(18,1,i+1)\n",
    "#     sns.distplot(df[continuous_columns[i]])\n",
    "#     plt.tight_layout()\n",
    "#     plt.title(continuous_columns[i],fontsize=25)\n",
    "    \n",
    "# plt.show()\n"
   ]
  },
  {
   "cell_type": "code",
   "execution_count": null,
   "id": "d040429b",
   "metadata": {},
   "outputs": [
    {
     "ename": "",
     "evalue": "",
     "output_type": "error",
     "traceback": [
      "\u001b[1;31mRunning cells with 'Python 3.9.12 ('myenv1')' requires ipykernel package.\n",
      "\u001b[1;31mRun the following command to install 'ipykernel' into the Python environment. \n",
      "\u001b[1;31mCommand: 'conda install -n myenv1 ipykernel --update-deps --force-reinstall'"
     ]
    }
   ],
   "source": [
    "for col in continuous_columns:\n",
    "    print(col,df[col].skew())"
   ]
  },
  {
   "cell_type": "markdown",
   "id": "16ad1181",
   "metadata": {},
   "source": [
    "- Positiviely Skewed : DurationOfPitch, NumberOfTrips"
   ]
  },
  {
   "cell_type": "code",
   "execution_count": null,
   "id": "560871d8",
   "metadata": {},
   "outputs": [
    {
     "ename": "",
     "evalue": "",
     "output_type": "error",
     "traceback": [
      "\u001b[1;31mRunning cells with 'Python 3.9.12 ('myenv1')' requires ipykernel package.\n",
      "\u001b[1;31mRun the following command to install 'ipykernel' into the Python environment. \n",
      "\u001b[1;31mCommand: 'conda install -n myenv1 ipykernel --update-deps --force-reinstall'"
     ]
    }
   ],
   "source": [
    "df.describe()"
   ]
  },
  {
   "cell_type": "markdown",
   "id": "5d5dd3bb",
   "metadata": {},
   "source": [
    "### Exploration of Values"
   ]
  },
  {
   "cell_type": "code",
   "execution_count": null,
   "id": "8cdad335",
   "metadata": {},
   "outputs": [
    {
     "ename": "",
     "evalue": "",
     "output_type": "error",
     "traceback": [
      "\u001b[1;31mRunning cells with 'Python 3.9.12 ('myenv1')' requires ipykernel package.\n",
      "\u001b[1;31mRun the following command to install 'ipykernel' into the Python environment. \n",
      "\u001b[1;31mCommand: 'conda install -n myenv1 ipykernel --update-deps --force-reinstall'"
     ]
    }
   ],
   "source": [
    "ranges = [18, 25, 35, 45, 55, 60]\n",
    "\n",
    "not_taken_data = df[df['ProdTaken'] == 1]\n",
    "print(not_taken_data.shape)\n",
    "\n",
    "not_taken_cancelled = not_taken_data[\"ProdTaken\"].groupby(pd.cut(df.Age, ranges)).count()\n",
    "age_range_total = df[\"ProdTaken\"].groupby(pd.cut(df.Age, ranges)).count()\n",
    "\n",
    "not_taken_cancelled/age_range_total"
   ]
  },
  {
   "cell_type": "markdown",
   "id": "ae35d8af",
   "metadata": {},
   "source": [
    "#### Note: \n",
    "- Age group of 18 to 25 buy most package\n",
    "- Age between  35 to 55 is lowest, as in these age groups mostly there"
   ]
  },
  {
   "cell_type": "code",
   "execution_count": null,
   "id": "69586e49",
   "metadata": {},
   "outputs": [
    {
     "ename": "",
     "evalue": "",
     "output_type": "error",
     "traceback": [
      "\u001b[1;31mRunning cells with 'Python 3.9.12 ('myenv1')' requires ipykernel package.\n",
      "\u001b[1;31mRun the following command to install 'ipykernel' into the Python environment. \n",
      "\u001b[1;31mCommand: 'conda install -n myenv1 ipykernel --update-deps --force-reinstall'"
     ]
    }
   ],
   "source": [
    "plt.subplots(figsize=(13,7))\n",
    "sns.countplot(x=\"TypeofContact\",hue=\"ProdTaken\", data= df,ec = \"black\",palette=\"rainbow_r\")\n",
    "plt.title(\"TypeofContact vs Package taken?\", weight=\"bold\",fontsize=20, pad=20)\n",
    "plt.ylabel(\"Package Count\", weight=\"bold\", fontsize=20)\n",
    "plt.xlabel(\"TypeofContact?\", weight=\"bold\", fontsize=16)\n",
    "plt.show()"
   ]
  },
  {
   "cell_type": "markdown",
   "id": "984d1bc0",
   "metadata": {},
   "source": [
    "**Note:**\n",
    "- The Self inquiry are much more than Company Invited, company just need to capitalized on self inquiry"
   ]
  },
  {
   "cell_type": "code",
   "execution_count": null,
   "id": "088f18b0",
   "metadata": {},
   "outputs": [
    {
     "ename": "",
     "evalue": "",
     "output_type": "error",
     "traceback": [
      "\u001b[1;31mRunning cells with 'Python 3.9.12 ('myenv1')' requires ipykernel package.\n",
      "\u001b[1;31mRun the following command to install 'ipykernel' into the Python environment. \n",
      "\u001b[1;31mCommand: 'conda install -n myenv1 ipykernel --update-deps --force-reinstall'"
     ]
    }
   ],
   "source": [
    "df['CityTier'].value_counts()"
   ]
  },
  {
   "cell_type": "code",
   "execution_count": null,
   "id": "4e02f0e3",
   "metadata": {},
   "outputs": [
    {
     "ename": "",
     "evalue": "",
     "output_type": "error",
     "traceback": [
      "\u001b[1;31mRunning cells with 'Python 3.9.12 ('myenv1')' requires ipykernel package.\n",
      "\u001b[1;31mRun the following command to install 'ipykernel' into the Python environment. \n",
      "\u001b[1;31mCommand: 'conda install -n myenv1 ipykernel --update-deps --force-reinstall'"
     ]
    }
   ],
   "source": [
    "plt.subplots(figsize=(13,7))\n",
    "sns.countplot(x=\"CityTier\",hue=\"ProdTaken\", data= df,ec = \"black\",palette=\"rainbow_r\")\n",
    "plt.title(\"CityTier vs Package taken?\", weight=\"bold\",fontsize=20, pad=20)\n",
    "plt.ylabel(\"Package Count\", weight=\"bold\", fontsize=20)\n",
    "plt.xlabel(\"CityTier\", weight=\"bold\", fontsize=16)\n",
    "plt.show()"
   ]
  },
  {
   "cell_type": "markdown",
   "id": "2fc55830",
   "metadata": {},
   "source": [
    "- Intresting to see that, there are more package taken from the third tier than second tier.\n",
    "- It shows how middle class lives"
   ]
  },
  {
   "cell_type": "code",
   "execution_count": null,
   "id": "2a1653b7",
   "metadata": {},
   "outputs": [
    {
     "ename": "",
     "evalue": "",
     "output_type": "error",
     "traceback": [
      "\u001b[1;31mRunning cells with 'Python 3.9.12 ('myenv1')' requires ipykernel package.\n",
      "\u001b[1;31mRun the following command to install 'ipykernel' into the Python environment. \n",
      "\u001b[1;31mCommand: 'conda install -n myenv1 ipykernel --update-deps --force-reinstall'"
     ]
    }
   ],
   "source": [
    "pitch_less_10_and_taken = (df.loc[(df['DurationOfPitch']<10) & (df['ProdTaken'] == 1 )]).shape[0]\n",
    "pitch_less_10_and_not_taken = (df.loc[(df['DurationOfPitch']<10) & (df['ProdTaken'] == 0 )]).shape[0]\n",
    "\n",
    "pitch_between_10_30_and_taken = df.loc[(df['DurationOfPitch']<30) & (df['ProdTaken'] == 1 ) & (df['DurationOfPitch']>10)].shape[0]\n",
    "pitch_between_10_30_and_not_taken = df.loc[(df['DurationOfPitch']<30) & (df['ProdTaken'] == 0) & (df['DurationOfPitch']>10)].shape[0]\n",
    "\n",
    "pitch_more_than_30_and_taken = df.loc[(df['DurationOfPitch']>30) & (df['ProdTaken'] == 1 )].shape[0]\n",
    "pitch_more_than_30_and_not_taken = df.loc[(df['DurationOfPitch']>30) & (df['ProdTaken'] == 0)].shape[0]\n",
    "\n",
    "\n",
    "total_package_taken = (df.loc[(df['ProdTaken'] == 1 )]).shape[0]\n",
    "\n",
    "print(f\"Total {pitch_less_10_and_taken + pitch_less_10_and_not_taken} talks for less than 10 minutes and only {pitch_less_10_and_taken} were bought which is about {pitch_less_10_and_taken/(pitch_less_10_and_taken + pitch_less_10_and_not_taken)}\")\n",
    "print(f\"Total {pitch_between_10_30_and_taken + pitch_between_10_30_and_not_taken} talks for between 10 and 30 minutes and only {pitch_between_10_30_and_taken} were bought which is about {pitch_between_10_30_and_taken/(pitch_between_10_30_and_taken + pitch_between_10_30_and_not_taken)}\")\n",
    "print(f\"Total {pitch_more_than_30_and_taken + pitch_more_than_30_and_not_taken} talks for more than 30 minutes and only {pitch_more_than_30_and_taken} were bought which is about {pitch_more_than_30_and_taken/(pitch_more_than_30_and_taken + pitch_more_than_30_and_not_taken)}\")\n",
    "print('\\n')\n",
    "print(f\"Out of total {total_package_taken} packages, {pitch_less_10_and_taken/total_package_taken} comes from talking less than 10 minutes, {pitch_between_10_30_and_taken/total_package_taken} comes from talking between 10 minutes and 30 minutes, and {pitch_more_than_30_and_taken/total_package_taken} comes from talking more than 30 minutes\")"
   ]
  },
  {
   "cell_type": "markdown",
   "id": "6c66f7f2",
   "metadata": {},
   "source": [
    "**Note:**\n",
    "- It's obvious to see very few people talk more than 30 minutes and still they are talking more than 30 minutes, buying ratio is same\n",
    "- Most people talk between 10 minutes, in which most might be genuine customer and this pitch time range covers more than 50% of total package taken "
   ]
  },
  {
   "cell_type": "code",
   "execution_count": null,
   "id": "97fbee8d",
   "metadata": {},
   "outputs": [
    {
     "ename": "",
     "evalue": "",
     "output_type": "error",
     "traceback": [
      "\u001b[1;31mRunning cells with 'Python 3.9.12 ('myenv1')' requires ipykernel package.\n",
      "\u001b[1;31mRun the following command to install 'ipykernel' into the Python environment. \n",
      "\u001b[1;31mCommand: 'conda install -n myenv1 ipykernel --update-deps --force-reinstall'"
     ]
    }
   ],
   "source": [
    "plt.subplots(figsize=(13,7))\n",
    "sns.countplot(x=\"Occupation\",hue=\"ProdTaken\", data= df,ec = \"black\",palette=\"rainbow_r\")\n",
    "plt.title(\"Occupation vs Package taken?\", weight=\"bold\",fontsize=20, pad=20)\n",
    "plt.ylabel(\"Package Count\", weight=\"bold\", fontsize=20)\n",
    "plt.xlabel(\"Occupation\", weight=\"bold\", fontsize=16)\n",
    "plt.show()"
   ]
  },
  {
   "cell_type": "markdown",
   "id": "b20151cf",
   "metadata": {},
   "source": [
    "**Note:**\n",
    "- All these results, seems like we have seen them in real life\n",
    "- Salaried people are most, as they are secured and want some break\n",
    "- We all know most of the small business owner have the policy of earn and live a life\n",
    "- In the Large Business, there are very few package taken, but they seems to be sorted and their ratio of total inquiry seems to be more\n",
    "- Company is lacking Freelancer inquiries, really need to work on that"
   ]
  },
  {
   "cell_type": "code",
   "execution_count": null,
   "id": "11f818fe",
   "metadata": {},
   "outputs": [
    {
     "ename": "",
     "evalue": "",
     "output_type": "error",
     "traceback": [
      "\u001b[1;31mRunning cells with 'Python 3.9.12 ('myenv1')' requires ipykernel package.\n",
      "\u001b[1;31mRun the following command to install 'ipykernel' into the Python environment. \n",
      "\u001b[1;31mCommand: 'conda install -n myenv1 ipykernel --update-deps --force-reinstall'"
     ]
    }
   ],
   "source": [
    "\"\"\"\n",
    "I don't think gender would have more bias on buying package, but let's check\n",
    "\"\"\"\n",
    "\n",
    "plt.subplots(figsize=(13,7))\n",
    "sns.countplot(x=\"Gender\",hue=\"ProdTaken\", data= df,ec = \"black\",palette=\"rainbow_r\")\n",
    "plt.title(\"Gender vs Package taken?\", weight=\"bold\",fontsize=20, pad=20)\n",
    "plt.ylabel(\"Package Count\", weight=\"bold\", fontsize=20)\n",
    "plt.xlabel(\"Gender\", weight=\"bold\", fontsize=16)\n",
    "plt.show()"
   ]
  },
  {
   "cell_type": "markdown",
   "id": "d1e5492e",
   "metadata": {},
   "source": [
    "- For female, it seem that it has two values, need to replace it and then replot it "
   ]
  },
  {
   "cell_type": "code",
   "execution_count": null,
   "id": "a3fc06ea",
   "metadata": {},
   "outputs": [
    {
     "ename": "",
     "evalue": "",
     "output_type": "error",
     "traceback": [
      "\u001b[1;31mRunning cells with 'Python 3.9.12 ('myenv1')' requires ipykernel package.\n",
      "\u001b[1;31mRun the following command to install 'ipykernel' into the Python environment. \n",
      "\u001b[1;31mCommand: 'conda install -n myenv1 ipykernel --update-deps --force-reinstall'"
     ]
    }
   ],
   "source": [
    "df['Gender'].replace({'Fe Male': 'Female'}, inplace=True)"
   ]
  },
  {
   "cell_type": "code",
   "execution_count": null,
   "id": "4430821d",
   "metadata": {},
   "outputs": [
    {
     "ename": "",
     "evalue": "",
     "output_type": "error",
     "traceback": [
      "\u001b[1;31mRunning cells with 'Python 3.9.12 ('myenv1')' requires ipykernel package.\n",
      "\u001b[1;31mRun the following command to install 'ipykernel' into the Python environment. \n",
      "\u001b[1;31mCommand: 'conda install -n myenv1 ipykernel --update-deps --force-reinstall'"
     ]
    }
   ],
   "source": [
    "plt.subplots(figsize=(13,7))\n",
    "sns.countplot(x=\"Gender\",hue=\"ProdTaken\", data= df,ec = \"black\",palette=\"rainbow_r\")\n",
    "plt.title(\"Gender vs Package taken?\", weight=\"bold\",fontsize=20, pad=20)\n",
    "plt.ylabel(\"Package Count\", weight=\"bold\", fontsize=20)\n",
    "plt.xlabel(\"Gender\", weight=\"bold\", fontsize=16)\n",
    "plt.show()"
   ]
  },
  {
   "cell_type": "markdown",
   "id": "20dd6f11",
   "metadata": {},
   "source": [
    "**Note:**\n",
    "- As it can be seen, there doesn't seem to difference in ration of package bought by male or female\n",
    "- But we can see, amount of inquiry by female is less than male, sexism "
   ]
  },
  {
   "cell_type": "code",
   "execution_count": null,
   "id": "7374851b",
   "metadata": {},
   "outputs": [
    {
     "ename": "",
     "evalue": "",
     "output_type": "error",
     "traceback": [
      "\u001b[1;31mRunning cells with 'Python 3.9.12 ('myenv1')' requires ipykernel package.\n",
      "\u001b[1;31mRun the following command to install 'ipykernel' into the Python environment. \n",
      "\u001b[1;31mCommand: 'conda install -n myenv1 ipykernel --update-deps --force-reinstall'"
     ]
    }
   ],
   "source": [
    "df['NumberOfPersonVisiting'].value_counts()"
   ]
  },
  {
   "cell_type": "code",
   "execution_count": null,
   "id": "a31708b2",
   "metadata": {},
   "outputs": [
    {
     "ename": "",
     "evalue": "",
     "output_type": "error",
     "traceback": [
      "\u001b[1;31mRunning cells with 'Python 3.9.12 ('myenv1')' requires ipykernel package.\n",
      "\u001b[1;31mRun the following command to install 'ipykernel' into the Python environment. \n",
      "\u001b[1;31mCommand: 'conda install -n myenv1 ipykernel --update-deps --force-reinstall'"
     ]
    }
   ],
   "source": [
    "plt.subplots(figsize=(13,7))\n",
    "sns.countplot(x=\"NumberOfPersonVisiting\",hue=\"ProdTaken\", data= df,ec = \"black\",palette=\"rainbow_r\")\n",
    "plt.title(\"NumberOfPersonVisiting vs Package taken?\", weight=\"bold\",fontsize=20, pad=20)\n",
    "plt.ylabel(\"Package Count\", weight=\"bold\", fontsize=20)\n",
    "plt.xlabel(\"Number Of Person Visiting\", weight=\"bold\", fontsize=16)\n",
    "plt.show()"
   ]
  },
  {
   "cell_type": "markdown",
   "id": "731b7d77",
   "metadata": {},
   "source": [
    "**Note:**\n",
    "- This data also shows that most inquiries has 3 people, really need to control Population.\n",
    "- Out of more than 4500 records, only 39 people has one child "
   ]
  },
  {
   "cell_type": "code",
   "execution_count": null,
   "id": "0dae9c8b",
   "metadata": {},
   "outputs": [
    {
     "ename": "",
     "evalue": "",
     "output_type": "error",
     "traceback": [
      "\u001b[1;31mRunning cells with 'Python 3.9.12 ('myenv1')' requires ipykernel package.\n",
      "\u001b[1;31mRun the following command to install 'ipykernel' into the Python environment. \n",
      "\u001b[1;31mCommand: 'conda install -n myenv1 ipykernel --update-deps --force-reinstall'"
     ]
    }
   ],
   "source": [
    "plt.subplots(figsize=(17,8))\n",
    "sns.countplot(x=\"NumberOfFollowups\",hue=\"ProdTaken\", data= df,ec = \"black\",palette=\"rainbow_r\")\n",
    "plt.title(\"NumberOfFollowups vs Package taken?\", weight=\"bold\",fontsize=20, pad=20)\n",
    "plt.ylabel(\"Package Count\", weight=\"bold\", fontsize=20)\n",
    "plt.xlabel(\"Number Of Followups by Sales Person\", weight=\"bold\", fontsize=16)\n",
    "plt.show()"
   ]
  },
  {
   "cell_type": "markdown",
   "id": "adfcc685",
   "metadata": {},
   "source": [
    "I want to see like if sales person is making 4 follow ups, then Is the ratio of buying is more and graph unable to show that"
   ]
  },
  {
   "cell_type": "code",
   "execution_count": null,
   "id": "6c8c1394",
   "metadata": {},
   "outputs": [
    {
     "ename": "",
     "evalue": "",
     "output_type": "error",
     "traceback": [
      "\u001b[1;31mRunning cells with 'Python 3.9.12 ('myenv1')' requires ipykernel package.\n",
      "\u001b[1;31mRun the following command to install 'ipykernel' into the Python environment. \n",
      "\u001b[1;31mCommand: 'conda install -n myenv1 ipykernel --update-deps --force-reinstall'"
     ]
    }
   ],
   "source": [
    "for i in range(1, 7):\n",
    "    followup_taken = df.loc[(df['NumberOfFollowups'] == i) & (df['ProdTaken'] == 1)].shape[0]\n",
    "    followup_all= df.loc[(df['NumberOfFollowups'] == i)].shape[0]\n",
    "\n",
    "    followup_ratio = followup_taken/followup_all\n",
    "\n",
    "    print(f\"For the follow up {i}, total number is {followup_all} and ratio is {followup_ratio}\")\n"
   ]
  },
  {
   "cell_type": "markdown",
   "id": "bf2a01e7",
   "metadata": {},
   "source": [
    "**Note:**\n",
    "- Very Few inquiries has been followed for 6 times, and they have the highest ratio\n",
    "- It seem like in the second followups, people confused people has said no\n",
    "- It really good to see very few people went after just 1 follow up, it shows sales team is working well"
   ]
  },
  {
   "cell_type": "markdown",
   "id": "fb48fe71",
   "metadata": {},
   "source": []
  },
  {
   "cell_type": "code",
   "execution_count": null,
   "id": "7bccb5c5",
   "metadata": {},
   "outputs": [
    {
     "ename": "",
     "evalue": "",
     "output_type": "error",
     "traceback": [
      "\u001b[1;31mRunning cells with 'Python 3.9.12 ('myenv1')' requires ipykernel package.\n",
      "\u001b[1;31mRun the following command to install 'ipykernel' into the Python environment. \n",
      "\u001b[1;31mCommand: 'conda install -n myenv1 ipykernel --update-deps --force-reinstall'"
     ]
    }
   ],
   "source": [
    "plt.subplots(figsize=(17,8))\n",
    "sns.countplot(x=\"ProductPitched\",hue=\"ProdTaken\", data= df,ec = \"black\",palette=\"rainbow_r\")\n",
    "plt.title(\"Product Pitched vs Package taken?\", weight=\"bold\",fontsize=20, pad=20)\n",
    "plt.ylabel(\"Package Count\", weight=\"bold\", fontsize=20)\n",
    "plt.xlabel(\"Product Pitched\", weight=\"bold\", fontsize=16)\n",
    "plt.show()"
   ]
  },
  {
   "cell_type": "markdown",
   "id": "b5a10f57",
   "metadata": {},
   "source": [
    "**Note:**\n",
    "- Super Deluxe and King are pitched very less and their buying count seems to be very low, need to work on this\n",
    "- Deluxe is pitched maximum but not bought and Basic is pitched less and count of buying is also good.\n",
    "- So, need to pitched more standard, super Deluxe and King. And less focus on Deluxe"
   ]
  },
  {
   "cell_type": "code",
   "execution_count": null,
   "id": "2f81f4e0",
   "metadata": {},
   "outputs": [
    {
     "ename": "",
     "evalue": "",
     "output_type": "error",
     "traceback": [
      "\u001b[1;31mRunning cells with 'Python 3.9.12 ('myenv1')' requires ipykernel package.\n",
      "\u001b[1;31mRun the following command to install 'ipykernel' into the Python environment. \n",
      "\u001b[1;31mCommand: 'conda install -n myenv1 ipykernel --update-deps --force-reinstall'"
     ]
    }
   ],
   "source": [
    "plt.subplots(figsize=(17,8))\n",
    "sns.countplot(x=\"PreferredPropertyStar\",hue=\"ProdTaken\", data= df,ec = \"black\",palette=\"rainbow_r\")\n",
    "plt.title(\"Preferred Property Star vs Package taken?\", weight=\"bold\",fontsize=20, pad=20)\n",
    "plt.ylabel(\"Package Count\", weight=\"bold\", fontsize=20)\n",
    "plt.xlabel(\"Preferred Property Star\", weight=\"bold\", fontsize=16)\n",
    "plt.show()"
   ]
  },
  {
   "cell_type": "markdown",
   "id": "4abb41cd",
   "metadata": {},
   "source": [
    "One thing one can do is compare preferred property star and product pitched"
   ]
  },
  {
   "cell_type": "code",
   "execution_count": null,
   "id": "71d61084",
   "metadata": {},
   "outputs": [
    {
     "ename": "",
     "evalue": "",
     "output_type": "error",
     "traceback": [
      "\u001b[1;31mRunning cells with 'Python 3.9.12 ('myenv1')' requires ipykernel package.\n",
      "\u001b[1;31mRun the following command to install 'ipykernel' into the Python environment. \n",
      "\u001b[1;31mCommand: 'conda install -n myenv1 ipykernel --update-deps --force-reinstall'"
     ]
    }
   ],
   "source": [
    "for i in range(3, 6):\n",
    "    property_count = df['ProductPitched'].loc[(df['PreferredPropertyStar'] == i)]\n",
    "    print(f\"Product pitched for property {i}\")\n",
    "    print(property_count.value_counts()) \n",
    "    print('\\n')"
   ]
  },
  {
   "cell_type": "markdown",
   "id": "7428a3b7",
   "metadata": {},
   "source": [
    "**Note:**\n",
    "- One thing I am finding strange is suggesting Basic and deluxe\n",
    "- For business to improve, need to suggest Super Deluxe and King to the client who prefer 5 stars"
   ]
  },
  {
   "cell_type": "code",
   "execution_count": null,
   "id": "213f8796",
   "metadata": {},
   "outputs": [
    {
     "ename": "",
     "evalue": "",
     "output_type": "error",
     "traceback": [
      "\u001b[1;31mRunning cells with 'Python 3.9.12 ('myenv1')' requires ipykernel package.\n",
      "\u001b[1;31mRun the following command to install 'ipykernel' into the Python environment. \n",
      "\u001b[1;31mCommand: 'conda install -n myenv1 ipykernel --update-deps --force-reinstall'"
     ]
    }
   ],
   "source": [
    "plt.subplots(figsize=(17,8))\n",
    "sns.countplot(x=\"MaritalStatus\",hue=\"ProdTaken\", data= df,ec = \"black\",palette=\"rainbow_r\")\n",
    "plt.title(\"Marital Status vs Package taken?\", weight=\"bold\",fontsize=20, pad=20)\n",
    "plt.ylabel(\"Package Count\", weight=\"bold\", fontsize=20)\n",
    "plt.xlabel(\"Marital Status\", weight=\"bold\", fontsize=16)\n",
    "plt.show()"
   ]
  },
  {
   "cell_type": "markdown",
   "id": "28e6245e",
   "metadata": {},
   "source": [
    "**Note:**\n",
    "- Single person with job is an ideal inquirer \n",
    "- Married person seemed to be confused and so they are inquiring but don't buy it\n",
    "- Sales team need to work on to handle married inquirer "
   ]
  },
  {
   "cell_type": "code",
   "execution_count": null,
   "id": "26c9caf4",
   "metadata": {},
   "outputs": [
    {
     "ename": "",
     "evalue": "",
     "output_type": "error",
     "traceback": [
      "\u001b[1;31mRunning cells with 'Python 3.9.12 ('myenv1')' requires ipykernel package.\n",
      "\u001b[1;31mRun the following command to install 'ipykernel' into the Python environment. \n",
      "\u001b[1;31mCommand: 'conda install -n myenv1 ipykernel --update-deps --force-reinstall'"
     ]
    }
   ],
   "source": [
    "plt.subplots(figsize=(17,8))\n",
    "sns.countplot(x=\"Passport\",hue=\"ProdTaken\", data= df,ec = \"black\",palette=\"rainbow_r\")\n",
    "plt.title(\"Passport vs Package taken?\", weight=\"bold\",fontsize=20, pad=20)\n",
    "plt.ylabel(\"Package Count\", weight=\"bold\", fontsize=20)\n",
    "plt.xlabel(\"Passport\", weight=\"bold\", fontsize=16)\n",
    "plt.show()"
   ]
  },
  {
   "cell_type": "markdown",
   "id": "5ef2e5f3",
   "metadata": {},
   "source": [
    "**Note:**\n",
    "- Some outliers can be seen from this graph\n",
    "- Company seems to be new as very few seems to be taken trips more than 5\n",
    "- And they are achieving the customers, so 2 and 3 number of trips taken are more"
   ]
  },
  {
   "cell_type": "code",
   "execution_count": null,
   "id": "c1083707",
   "metadata": {},
   "outputs": [
    {
     "ename": "",
     "evalue": "",
     "output_type": "error",
     "traceback": [
      "\u001b[1;31mRunning cells with 'Python 3.9.12 ('myenv1')' requires ipykernel package.\n",
      "\u001b[1;31mRun the following command to install 'ipykernel' into the Python environment. \n",
      "\u001b[1;31mCommand: 'conda install -n myenv1 ipykernel --update-deps --force-reinstall'"
     ]
    }
   ],
   "source": [
    "plt.subplots(figsize=(17,8))\n",
    "sns.countplot(x=\"PitchSatisfactionScore\",hue=\"ProdTaken\", data= df,ec = \"black\",palette=\"rainbow_r\")\n",
    "plt.title(\"Pitch Satisfaction Score vs Package taken?\", weight=\"bold\",fontsize=20, pad=20)\n",
    "plt.ylabel(\"Package Count\", weight=\"bold\", fontsize=20)\n",
    "plt.xlabel(\"Pitch Satisfaction Score\", weight=\"bold\", fontsize=16)\n",
    "plt.show()\n"
   ]
  },
  {
   "cell_type": "markdown",
   "id": "724c6959",
   "metadata": {},
   "source": [
    "Many customers are giving pitch score less than or equal to three, need to understand more about it"
   ]
  },
  {
   "cell_type": "code",
   "execution_count": null,
   "id": "67325e5c",
   "metadata": {},
   "outputs": [
    {
     "ename": "",
     "evalue": "",
     "output_type": "error",
     "traceback": [
      "\u001b[1;31mRunning cells with 'Python 3.9.12 ('myenv1')' requires ipykernel package.\n",
      "\u001b[1;31mRun the following command to install 'ipykernel' into the Python environment. \n",
      "\u001b[1;31mCommand: 'conda install -n myenv1 ipykernel --update-deps --force-reinstall'"
     ]
    }
   ],
   "source": [
    "pitch_score_less_equal_3_taken = df.loc[(df['PitchSatisfactionScore'] <= 2) & (df['ProdTaken'] == 1)].shape[0]\n",
    "pitch_score_less_equal_3_all = df.loc[(df['PitchSatisfactionScore'] <= 2)].shape[0]\n",
    "\n",
    "pitch_score_more_3_taken = df.loc[(df['PitchSatisfactionScore'] >= 3) & (df['ProdTaken'] == 1)].shape[0]\n",
    "pitch_score_more_3_all = df.loc[(df['PitchSatisfactionScore'] >= 3)].shape[0]\n",
    "\n",
    "print(f\"Ratio for the person with pitch less than or equal to 2 pitch rating score and buying package is {pitch_score_less_equal_3_taken/pitch_score_less_equal_3_all}\")\n",
    "print(f\"Ratio for the person with pitch more than or equal to 3 pitch rating score and buying package is {pitch_score_more_3_taken/pitch_score_more_3_all}\")\n"
   ]
  },
  {
   "cell_type": "markdown",
   "id": "0e71d1bd",
   "metadata": {},
   "source": [
    "**Note:**\n",
    "- There are many ratings score less than or equal to 2, and there is difference of around 5% in the buying ration\n",
    "- Sales team really need to put on efforts"
   ]
  },
  {
   "cell_type": "code",
   "execution_count": null,
   "id": "843e6051",
   "metadata": {},
   "outputs": [
    {
     "ename": "",
     "evalue": "",
     "output_type": "error",
     "traceback": [
      "\u001b[1;31mRunning cells with 'Python 3.9.12 ('myenv1')' requires ipykernel package.\n",
      "\u001b[1;31mRun the following command to install 'ipykernel' into the Python environment. \n",
      "\u001b[1;31mCommand: 'conda install -n myenv1 ipykernel --update-deps --force-reinstall'"
     ]
    }
   ],
   "source": [
    "plt.subplots(figsize=(17,8))\n",
    "sns.countplot(x=\"OwnCar\",hue=\"ProdTaken\", data= df,ec = \"black\",palette=\"rainbow_r\")\n",
    "plt.title(\"Own Car vs Package taken?\", weight=\"bold\",fontsize=20, pad=20)\n",
    "plt.ylabel(\"Package Count\", weight=\"bold\", fontsize=20)\n",
    "plt.xlabel(\"Own Car\", weight=\"bold\", fontsize=16)\n",
    "plt.show()\n"
   ]
  },
  {
   "cell_type": "markdown",
   "id": "25db852a",
   "metadata": {},
   "source": [
    "**Note:**\n",
    "- There has been many inquiries from the customer who can afford car, but we are unable to capitalized on them "
   ]
  },
  {
   "cell_type": "code",
   "execution_count": null,
   "id": "6ad259fe",
   "metadata": {},
   "outputs": [
    {
     "ename": "",
     "evalue": "",
     "output_type": "error",
     "traceback": [
      "\u001b[1;31mRunning cells with 'Python 3.9.12 ('myenv1')' requires ipykernel package.\n",
      "\u001b[1;31mRun the following command to install 'ipykernel' into the Python environment. \n",
      "\u001b[1;31mCommand: 'conda install -n myenv1 ipykernel --update-deps --force-reinstall'"
     ]
    }
   ],
   "source": [
    "plt.subplots(figsize=(17,8))\n",
    "sns.countplot(x=\"NumberOfChildrenVisiting\",hue=\"ProdTaken\", data= df,ec = \"black\",palette=\"rainbow_r\")\n",
    "plt.title(\"Number Of Children Planning vs Package taken?\", weight=\"bold\",fontsize=20, pad=20)\n",
    "plt.ylabel(\"Package Count\", weight=\"bold\", fontsize=20)\n",
    "plt.xlabel(\"Number Of Children Visiting\", weight=\"bold\", fontsize=16)\n",
    "plt.show()"
   ]
  },
  {
   "cell_type": "markdown",
   "id": "009eb352",
   "metadata": {},
   "source": [
    "**Note:**\n",
    "- Don't think the number of children visiting affect the person buying the package, but will try to analyse more in correlation part"
   ]
  },
  {
   "cell_type": "code",
   "execution_count": null,
   "id": "80f1047e",
   "metadata": {},
   "outputs": [
    {
     "ename": "",
     "evalue": "",
     "output_type": "error",
     "traceback": [
      "\u001b[1;31mRunning cells with 'Python 3.9.12 ('myenv1')' requires ipykernel package.\n",
      "\u001b[1;31mRun the following command to install 'ipykernel' into the Python environment. \n",
      "\u001b[1;31mCommand: 'conda install -n myenv1 ipykernel --update-deps --force-reinstall'"
     ]
    }
   ],
   "source": [
    "plt.subplots(figsize=(17,8))\n",
    "sns.countplot(x=\"Designation\",hue=\"ProdTaken\", data= df,ec = \"black\",palette=\"rainbow_r\")\n",
    "plt.title(\"Designation vs Package taken?\", weight=\"bold\",fontsize=20, pad=20)\n",
    "plt.ylabel(\"Package Count\", weight=\"bold\", fontsize=20)\n",
    "plt.xlabel(\"Designation\", weight=\"bold\", fontsize=16)\n",
    "plt.show()"
   ]
  },
  {
   "cell_type": "code",
   "execution_count": null,
   "id": "64ca308a",
   "metadata": {},
   "outputs": [
    {
     "ename": "",
     "evalue": "",
     "output_type": "error",
     "traceback": [
      "\u001b[1;31mRunning cells with 'Python 3.9.12 ('myenv1')' requires ipykernel package.\n",
      "\u001b[1;31mRun the following command to install 'ipykernel' into the Python environment. \n",
      "\u001b[1;31mCommand: 'conda install -n myenv1 ipykernel --update-deps --force-reinstall'"
     ]
    }
   ],
   "source": []
  },
  {
   "cell_type": "markdown",
   "id": "67b38f09",
   "metadata": {},
   "source": [
    "**Note:**\n",
    "- Company is getting the most inquiries from Manager and executive. "
   ]
  },
  {
   "cell_type": "code",
   "execution_count": null,
   "id": "948c28c3",
   "metadata": {},
   "outputs": [
    {
     "ename": "",
     "evalue": "",
     "output_type": "error",
     "traceback": [
      "\u001b[1;31mRunning cells with 'Python 3.9.12 ('myenv1')' requires ipykernel package.\n",
      "\u001b[1;31mRun the following command to install 'ipykernel' into the Python environment. \n",
      "\u001b[1;31mCommand: 'conda install -n myenv1 ipykernel --update-deps --force-reinstall'"
     ]
    }
   ],
   "source": [
    "import seaborn as sns\n",
    "    \n",
    "plt.figure(figsize=(20,10))\n",
    "ax = sns.heatmap(df.corr(), annot=True)"
   ]
  },
  {
   "cell_type": "code",
   "execution_count": null,
   "id": "a63c42ed",
   "metadata": {},
   "outputs": [
    {
     "ename": "",
     "evalue": "",
     "output_type": "error",
     "traceback": [
      "\u001b[1;31mRunning cells with 'Python 3.9.12 ('myenv1')' requires ipykernel package.\n",
      "\u001b[1;31mRun the following command to install 'ipykernel' into the Python environment. \n",
      "\u001b[1;31mCommand: 'conda install -n myenv1 ipykernel --update-deps --force-reinstall'"
     ]
    }
   ],
   "source": [
    "from statsmodels.stats.outliers_influence import variance_inflation_factor\n",
    "def compute_vif(considered_features, df):\n",
    "    \n",
    "    X = df[considered_features]\n",
    "    # the calculation of variance inflation requires a constant\n",
    "    X['intercept'] = 1\n",
    "    \n",
    "    # create dataframe to store vif values\n",
    "    vif = pd.DataFrame()\n",
    "    vif[\"Variable\"] = X.columns\n",
    "    vif[\"VIF\"] = [variance_inflation_factor(X.values, i) for i in range(X.shape[1])]\n",
    "    vif = vif[vif['Variable']!='intercept']\n",
    "    return vif"
   ]
  },
  {
   "cell_type": "code",
   "execution_count": null,
   "id": "22052402",
   "metadata": {},
   "outputs": [
    {
     "ename": "",
     "evalue": "",
     "output_type": "error",
     "traceback": [
      "\u001b[1;31mRunning cells with 'Python 3.9.12 ('myenv1')' requires ipykernel package.\n",
      "\u001b[1;31mRun the following command to install 'ipykernel' into the Python environment. \n",
      "\u001b[1;31mCommand: 'conda install -n myenv1 ipykernel --update-deps --force-reinstall'"
     ]
    }
   ],
   "source": [
    "compute_vif(df.columns, df)"
   ]
  },
  {
   "cell_type": "code",
   "execution_count": null,
   "id": "cfa18699",
   "metadata": {},
   "outputs": [
    {
     "ename": "",
     "evalue": "",
     "output_type": "error",
     "traceback": [
      "\u001b[1;31mRunning cells with 'Python 3.9.12 ('myenv1')' requires ipykernel package.\n",
      "\u001b[1;31mRun the following command to install 'ipykernel' into the Python environment. \n",
      "\u001b[1;31mCommand: 'conda install -n myenv1 ipykernel --update-deps --force-reinstall'"
     ]
    }
   ],
   "source": [
    "true_df = df.loc[df['ProdTaken'] == 0]\n",
    "true_df.drop(columns=['ProdTaken'], inplace=True)\n",
    "\n",
    "true_df.to_csv('colGan_False.csv', index=False)"
   ]
  },
  {
   "cell_type": "code",
   "execution_count": null,
   "id": "73a1f429",
   "metadata": {},
   "outputs": [
    {
     "ename": "",
     "evalue": "",
     "output_type": "error",
     "traceback": [
      "\u001b[1;31mRunning cells with 'Python 3.9.12 ('myenv1')' requires ipykernel package.\n",
      "\u001b[1;31mRun the following command to install 'ipykernel' into the Python environment. \n",
      "\u001b[1;31mCommand: 'conda install -n myenv1 ipykernel --update-deps --force-reinstall'"
     ]
    }
   ],
   "source": [
    "X = df.drop(columns=['ProdTaken'], axis=1)\n",
    "y = df['ProdTaken']\n",
    "X.shape, y.shape"
   ]
  },
  {
   "cell_type": "code",
   "execution_count": null,
   "id": "93b959f2",
   "metadata": {},
   "outputs": [
    {
     "ename": "",
     "evalue": "",
     "output_type": "error",
     "traceback": [
      "\u001b[1;31mRunning cells with 'Python 3.9.12 ('myenv1')' requires ipykernel package.\n",
      "\u001b[1;31mRun the following command to install 'ipykernel' into the Python environment. \n",
      "\u001b[1;31mCommand: 'conda install -n myenv1 ipykernel --update-deps --force-reinstall'"
     ]
    }
   ],
   "source": [
    "from sklearn.naive_bayes import GaussianNB\n",
    "from sklearn.ensemble import RandomForestClassifier, GradientBoostingClassifier, AdaBoostClassifier\n",
    "from sklearn.linear_model import LogisticRegression\n",
    "from sklearn.neighbors import KNeighborsClassifier\n",
    "from sklearn.metrics import accuracy_score, classification_report,ConfusionMatrixDisplay, \\\n",
    "                            precision_score, recall_score, f1_score\n",
    "from sklearn.svm import SVC\n",
    "from sklearn.tree import DecisionTreeClassifier\n",
    "from xgboost import XGBClassifier\n",
    "from catboost import CatBoostClassifier\n",
    "from sklearn.model_selection import train_test_split\n",
    "from sklearn.preprocessing import StandardScaler\n",
    "\n",
    "# separate dataset into train and test\n",
    "X_train, X_test, y_train, y_test = train_test_split(X,y,test_size=0.1,random_state=36)\n",
    "X_train.shape, X_test.shape\n",
    "\n",
    "scaler = StandardScaler()\n",
    "X_train = scaler.fit_transform(X_train)\n",
    "X_test = scaler.transform(X_test)\n",
    "\n",
    "print(df.shape)"
   ]
  },
  {
   "cell_type": "code",
   "execution_count": null,
   "id": "92f3fa95",
   "metadata": {},
   "outputs": [
    {
     "ename": "",
     "evalue": "",
     "output_type": "error",
     "traceback": [
      "\u001b[1;31mRunning cells with 'Python 3.9.12 ('myenv1')' requires ipykernel package.\n",
      "\u001b[1;31mRun the following command to install 'ipykernel' into the Python environment. \n",
      "\u001b[1;31mCommand: 'conda install -n myenv1 ipykernel --update-deps --force-reinstall'"
     ]
    }
   ],
   "source": [
    "models = {\n",
    "    \"Random Forest\": RandomForestClassifier(n_estimators=1000, min_samples_split=2, max_features= 'auto', max_depth= 20),\n",
    "    \"Naive Bayes\": GaussianNB(),\n",
    "    \"Gradient Boosting\": GradientBoostingClassifier(),\n",
    "    \"Logistic Regression\": LogisticRegression(),\n",
    "    \"K-Neighbors Classifier\": KNeighborsClassifier(),\n",
    "    \"XGBClassifier\": XGBClassifier(), \n",
    "    \"CatBoosting Classifier\": CatBoostClassifier(verbose=False),\n",
    "    \"Support Vector Classifier\": SVC(),\n",
    "    \"AdaBoost Classifier\": AdaBoostClassifier()\n",
    "}\n",
    "\n",
    "for i in range(len(list(models))):\n",
    "    model = list(models.values())[i]\n",
    "    model.fit(X_train, y_train) # Train model\n",
    "    \n",
    "    # Make predictions\n",
    "    y_train_pred = model.predict(X_train)\n",
    "    y_test_pred = model.predict(X_test)\n",
    "\n",
    "    # Training set performance\n",
    "    model_train_accuracy = accuracy_score(y_train, y_train_pred) # Calculate Accuracy\n",
    "    model_train_f1 = f1_score(y_train, y_train_pred, average='weighted') # Calculate F1-score\n",
    "    model_train_precision = precision_score(y_train, y_train_pred) # Calculate Precision\n",
    "    model_train_recall = recall_score(y_train, y_train_pred) # Calculate Recall\n",
    "\n",
    "\n",
    "    # Test set performance\n",
    "    model_test_accuracy = accuracy_score(y_test, y_test_pred) # Calculate Accuracy\n",
    "    model_test_f1 = f1_score(y_test, y_test_pred, average='weighted') # Calculate F1-score\n",
    "    model_test_precision = precision_score(y_test, y_test_pred) # Calculate Precision\n",
    "    model_test_recall = recall_score(y_test, y_test_pred) # Calculate Recall\n",
    "\n",
    "\n",
    "    print(list(models.keys())[i])\n",
    "    \n",
    "    print('Model performance for Training set')\n",
    "    print(\"- Accuracy: {:.4f}\".format(model_train_accuracy))\n",
    "    print('- F1 score: {:.4f}'.format(model_train_f1))\n",
    "    print('- Precision: {:.4f}'.format(model_train_precision))\n",
    "    print('- Recall: {:.4f}'.format(model_train_recall))\n",
    "    \n",
    "    print('----------------------------------')\n",
    "    \n",
    "    print('Model performance for Test set')\n",
    "    print('- Accuracy: {:.4f}'.format(model_test_accuracy))\n",
    "    print('- F1 score: {:.4f}'.format(model_test_f1))\n",
    "    print('- Precision: {:.4f}'.format(model_test_precision))\n",
    "    print('- Recall: {:.4f}'.format(model_test_recall))\n",
    "\n",
    "    print(classification_report(y_test, y_test_pred))\n",
    "    print(cross_val_score(model, X, y, cv=3))\n",
    "    \n",
    "    print('='*35)\n",
    "    print('\\n')"
   ]
  },
  {
   "cell_type": "code",
   "execution_count": null,
   "id": "e6296875",
   "metadata": {},
   "outputs": [
    {
     "ename": "",
     "evalue": "",
     "output_type": "error",
     "traceback": [
      "\u001b[1;31mRunning cells with 'Python 3.9.12 ('myenv1')' requires ipykernel package.\n",
      "\u001b[1;31mRun the following command to install 'ipykernel' into the Python environment. \n",
      "\u001b[1;31mCommand: 'conda install -n myenv1 ipykernel --update-deps --force-reinstall'"
     ]
    }
   ],
   "source": [
    "X_train.shape "
   ]
  },
  {
   "cell_type": "code",
   "execution_count": null,
   "id": "dabf0130",
   "metadata": {},
   "outputs": [
    {
     "ename": "",
     "evalue": "",
     "output_type": "error",
     "traceback": [
      "\u001b[1;31mRunning cells with 'Python 3.9.12 ('myenv1')' requires ipykernel package.\n",
      "\u001b[1;31mRun the following command to install 'ipykernel' into the Python environment. \n",
      "\u001b[1;31mCommand: 'conda install -n myenv1 ipykernel --update-deps --force-reinstall'"
     ]
    }
   ],
   "source": [
    "X_train, X_test, y_train, y_test = train_test_split(X,y,test_size=0.1,random_state=36)\n",
    "X_train.shape, X_test.shape\n",
    "\n",
    "numeric_transformer = StandardScaler()\n",
    "oh_transformer = OneHotEncoder()\n",
    "\n",
    "preprocessor = make_column_transformer(\n",
    "    (StandardScaler(), numerical_columns),\n",
    "    (OneHotEncoder(), categorical_columns)\n",
    ")\n",
    "\n",
    "clf = Pipeline(\n",
    "    steps=[(\"preprocessor\", preprocessor), (\"classifier\", RandomForestClassifier())]\n",
    ")\n",
    "\n",
    "\n",
    "clf.fit(X_train, y_train)\n",
    "# print(\"model score: %.3f\" % clf.score(X_test, y_test))\n",
    "\n",
    "print(categorical_columns)"
   ]
  },
  {
   "cell_type": "code",
   "execution_count": null,
   "id": "4d64a724",
   "metadata": {},
   "outputs": [
    {
     "ename": "",
     "evalue": "",
     "output_type": "error",
     "traceback": [
      "\u001b[1;31mRunning cells with 'Python 3.9.12 ('myenv1')' requires ipykernel package.\n",
      "\u001b[1;31mRun the following command to install 'ipykernel' into the Python environment. \n",
      "\u001b[1;31mCommand: 'conda install -n myenv1 ipykernel --update-deps --force-reinstall'"
     ]
    }
   ],
   "source": [
    "df_test = pd.read_csv(r'C:\\Users\\wasim\\tourism_package\\packagePrediction\\data\\test_df.csv')"
   ]
  },
  {
   "cell_type": "code",
   "execution_count": null,
   "id": "a702aa11",
   "metadata": {},
   "outputs": [
    {
     "ename": "",
     "evalue": "",
     "output_type": "error",
     "traceback": [
      "\u001b[1;31mRunning cells with 'Python 3.9.12 ('myenv1')' requires ipykernel package.\n",
      "\u001b[1;31mRun the following command to install 'ipykernel' into the Python environment. \n",
      "\u001b[1;31mCommand: 'conda install -n myenv1 ipykernel --update-deps --force-reinstall'"
     ]
    }
   ],
   "source": [
    "df_test.columns\n",
    "\n",
    "X_test_raw = df.drop(columns=['ProdTaken'])\n",
    "y_test_raw = df['ProdTaken']\n",
    "\n",
    "X_test.iloc[[0]]"
   ]
  },
  {
   "cell_type": "code",
   "execution_count": null,
   "id": "41a3301c",
   "metadata": {},
   "outputs": [
    {
     "ename": "",
     "evalue": "",
     "output_type": "error",
     "traceback": [
      "\u001b[1;31mRunning cells with 'Python 3.9.12 ('myenv1')' requires ipykernel package.\n",
      "\u001b[1;31mRun the following command to install 'ipykernel' into the Python environment. \n",
      "\u001b[1;31mCommand: 'conda install -n myenv1 ipykernel --update-deps --force-reinstall'"
     ]
    }
   ],
   "source": [
    "clf.score(X_test_raw, y_test_raw)"
   ]
  },
  {
   "cell_type": "code",
   "execution_count": null,
   "id": "1dbdba23",
   "metadata": {},
   "outputs": [
    {
     "ename": "",
     "evalue": "",
     "output_type": "error",
     "traceback": [
      "\u001b[1;31mRunning cells with 'Python 3.9.12 ('myenv1')' requires ipykernel package.\n",
      "\u001b[1;31mRun the following command to install 'ipykernel' into the Python environment. \n",
      "\u001b[1;31mCommand: 'conda install -n myenv1 ipykernel --update-deps --force-reinstall'"
     ]
    }
   ],
   "source": [
    "df = pd.DataFrame(columns=X_train.columns)\n",
    "df.loc[0] = [46.0,1.0,1.0,13.0,2.0,1.0,3.0,4.0,1.0,5.0,1.0,1.0,1.0,2.0,1.0,2.0,2.0,19615.0]\n"
   ]
  },
  {
   "cell_type": "code",
   "execution_count": null,
   "id": "93370e15",
   "metadata": {},
   "outputs": [
    {
     "ename": "",
     "evalue": "",
     "output_type": "error",
     "traceback": [
      "\u001b[1;31mRunning cells with 'Python 3.9.12 ('myenv1')' requires ipykernel package.\n",
      "\u001b[1;31mRun the following command to install 'ipykernel' into the Python environment. \n",
      "\u001b[1;31mCommand: 'conda install -n myenv1 ipykernel --update-deps --force-reinstall'"
     ]
    }
   ],
   "source": [
    "df"
   ]
  },
  {
   "cell_type": "code",
   "execution_count": null,
   "id": "929dea12",
   "metadata": {},
   "outputs": [
    {
     "ename": "",
     "evalue": "",
     "output_type": "error",
     "traceback": [
      "\u001b[1;31mRunning cells with 'Python 3.9.12 ('myenv1')' requires ipykernel package.\n",
      "\u001b[1;31mRun the following command to install 'ipykernel' into the Python environment. \n",
      "\u001b[1;31mCommand: 'conda install -n myenv1 ipykernel --update-deps --force-reinstall'"
     ]
    }
   ],
   "source": [
    "print(pd.__version__)"
   ]
  },
  {
   "cell_type": "code",
   "execution_count": null,
   "id": "c9ddd80a",
   "metadata": {},
   "outputs": [
    {
     "ename": "",
     "evalue": "",
     "output_type": "error",
     "traceback": [
      "\u001b[1;31mRunning cells with 'Python 3.9.12 ('myenv1')' requires ipykernel package.\n",
      "\u001b[1;31mRun the following command to install 'ipykernel' into the Python environment. \n",
      "\u001b[1;31mCommand: 'conda install -n myenv1 ipykernel --update-deps --force-reinstall'"
     ]
    }
   ],
   "source": [
    "f = open(r'C:\\Users\\wasim\\tourism_package\\packagePrediction\\data\\test_df.csv','r')\n",
    "lines = f.readlines()[1:]\n",
    "# for i in lines:\n",
    "#     df = pd.DataFrame()\n",
    "#     i = i.split(',')\n",
    "#     y = i[-1]\n",
    "#     df.loc[0] = i[:-1]\n",
    "\n",
    "#     print(clf.predict(df), y)\n",
    "\n",
    "df = pd.DataFrame(columns=X_train.columns)\n",
    "i = lines[0]\n",
    "i = i.split(',')\n",
    "y = i[-1]\n",
    "df.loc[0] = i[:-1]\n",
    "\n",
    "print(clf.predict(df), y)"
   ]
  },
  {
   "cell_type": "code",
   "execution_count": null,
   "id": "cfca0d04",
   "metadata": {},
   "outputs": [
    {
     "ename": "",
     "evalue": "",
     "output_type": "error",
     "traceback": [
      "\u001b[1;31mRunning cells with 'Python 3.9.12 ('myenv1')' requires ipykernel package.\n",
      "\u001b[1;31mRun the following command to install 'ipykernel' into the Python environment. \n",
      "\u001b[1;31mCommand: 'conda install -n myenv1 ipykernel --update-deps --force-reinstall'"
     ]
    }
   ],
   "source": [
    "import pickle\n",
    "\n",
    "pickle.dump(clf, open(r\"C:\\Users\\wasim\\tourism_package\\saved_models\\model.pkl\", 'wb'))"
   ]
  },
  {
   "cell_type": "code",
   "execution_count": null,
   "id": "b8c2ed4d",
   "metadata": {},
   "outputs": [
    {
     "ename": "",
     "evalue": "",
     "output_type": "error",
     "traceback": [
      "\u001b[1;31mRunning cells with 'Python 3.9.12 ('myenv1')' requires ipykernel package.\n",
      "\u001b[1;31mRun the following command to install 'ipykernel' into the Python environment. \n",
      "\u001b[1;31mCommand: 'conda install -n myenv1 ipykernel --update-deps --force-reinstall'"
     ]
    }
   ],
   "source": [
    "import sklearn\n",
    "\n",
    "\n",
    "sklearn.__version__"
   ]
  },
  {
   "cell_type": "code",
   "execution_count": null,
   "metadata": {},
   "outputs": [
    {
     "ename": "",
     "evalue": "",
     "output_type": "error",
     "traceback": [
      "\u001b[1;31mRunning cells with 'Python 3.9.12 ('myenv1')' requires ipykernel package.\n",
      "\u001b[1;31mRun the following command to install 'ipykernel' into the Python environment. \n",
      "\u001b[1;31mCommand: 'conda install -n myenv1 ipykernel --update-deps --force-reinstall'"
     ]
    }
   ],
   "source": [
    "os.chdir(r'c:\\\\Users\\\\wasim\\\\tourism_package')"
   ]
  },
  {
   "cell_type": "code",
   "execution_count": null,
   "id": "e12d7d51",
   "metadata": {},
   "outputs": [
    {
     "ename": "",
     "evalue": "",
     "output_type": "error",
     "traceback": [
      "\u001b[1;31mRunning cells with 'Python 3.9.12 ('myenv1')' requires ipykernel package.\n",
      "\u001b[1;31mRun the following command to install 'ipykernel' into the Python environment. \n",
      "\u001b[1;31mCommand: 'conda install -n myenv1 ipykernel --update-deps --force-reinstall'"
     ]
    }
   ],
   "source": [
    "from packagePrediction.entity.config_entity import DataIngestionConfig\n"
   ]
  },
  {
   "cell_type": "code",
   "execution_count": null,
   "id": "cbfd3aab",
   "metadata": {},
   "outputs": [
    {
     "ename": "",
     "evalue": "",
     "output_type": "error",
     "traceback": [
      "\u001b[1;31mRunning cells with 'Python 3.9.12 ('myenv1')' requires ipykernel package.\n",
      "\u001b[1;31mRun the following command to install 'ipykernel' into the Python environment. \n",
      "\u001b[1;31mCommand: 'conda install -n myenv1 ipykernel --update-deps --force-reinstall'"
     ]
    }
   ],
   "source": [
    "import os\n",
    "\n",
    "os.chdir(r\"C:\\Users\\wasim\\tourism_package\")"
   ]
  },
  {
   "cell_type": "code",
   "execution_count": null,
   "id": "4624fe5e",
   "metadata": {},
   "outputs": [
    {
     "ename": "",
     "evalue": "",
     "output_type": "error",
     "traceback": [
      "\u001b[1;31mRunning cells with 'Python 3.9.12 ('myenv1')' requires ipykernel package.\n",
      "\u001b[1;31mRun the following command to install 'ipykernel' into the Python environment. \n",
      "\u001b[1;31mCommand: 'conda install -n myenv1 ipykernel --update-deps --force-reinstall'"
     ]
    }
   ],
   "source": [
    "import sys\n",
    "import mysql.connector as conn\n",
    "import pandas as pd\n",
    "\n",
    "from packagePrediction.entity.config_entity import DataIngestionConfig\n",
    "from packagePrediction.logger import logging\n",
    "from packagePrediction.exception import PackageException\n",
    "from packagePrediction.config.configuration import Configuartion\n",
    "\n",
    "class DataIngestion:\n",
    "    def __init__(self,data_ingestion_config:DataIngestionConfig ):\n",
    "        try:\n",
    "            logging.info(f\"{'>>'*20}Data Ingestion log started.{'<<'*20} \")\n",
    "            self.data_ingestion_config = data_ingestion_config\n",
    "\n",
    "        except Exception as e:\n",
    "            raise PackageException(e,sys)\n",
    "\n",
    "    def get_raw_data(self):\n",
    "\n",
    "        mydb = conn.connect(\n",
    "        host=\"localhost\",\n",
    "        user=\"root\",\n",
    "        password=\"password\"\n",
    "        )\n",
    "\n",
    "        cursor = mydb.cursor()\n",
    "        cursor.execute(\"select * from tourist_package.test_df1\")\n",
    "        df = pd.DataFrame(cursor.fetchall())    \n",
    "\n",
    "        raw_data_dir = self.data_ingestion_config.raw_data_dir\n",
    "\n",
    "        if os.path.exists(raw_data_dir):\n",
    "            os.remove(raw_data_dir)\n",
    "\n",
    "        os.makedirs(raw_data_dir,exist_ok=True)\n",
    "\n",
    "        df.to_csv(os.path.join(raw_data_dir, 'data.csv'))"
   ]
  },
  {
   "cell_type": "code",
   "execution_count": null,
   "id": "6a866d37",
   "metadata": {},
   "outputs": [
    {
     "ename": "",
     "evalue": "",
     "output_type": "error",
     "traceback": [
      "\u001b[1;31mRunning cells with 'Python 3.9.12 ('myenv1')' requires ipykernel package.\n",
      "\u001b[1;31mRun the following command to install 'ipykernel' into the Python environment. \n",
      "\u001b[1;31mCommand: 'conda install -n myenv1 ipykernel --update-deps --force-reinstall'"
     ]
    }
   ],
   "source": [
    "config = Configuartion()\n",
    "data_ingestion = DataIngestion(data_ingestion_config=config.get_data_ingestion_config())\n",
    "data_ingestion.get_raw_data()"
   ]
  },
  {
   "cell_type": "code",
   "execution_count": null,
   "id": "de8d847a",
   "metadata": {},
   "outputs": [
    {
     "ename": "",
     "evalue": "",
     "output_type": "error",
     "traceback": [
      "\u001b[1;31mRunning cells with 'Python 3.9.12 ('myenv1')' requires ipykernel package.\n",
      "\u001b[1;31mRun the following command to install 'ipykernel' into the Python environment. \n",
      "\u001b[1;31mCommand: 'conda install -n myenv1 ipykernel --update-deps --force-reinstall'"
     ]
    }
   ],
   "source": [
    "from packagePrediction.util.util import ConnectDatabase"
   ]
  },
  {
   "cell_type": "code",
   "execution_count": null,
   "id": "a3af2390",
   "metadata": {},
   "outputs": [
    {
     "ename": "",
     "evalue": "",
     "output_type": "error",
     "traceback": [
      "\u001b[1;31mRunning cells with 'Python 3.9.12 ('myenv1')' requires ipykernel package.\n",
      "\u001b[1;31mRun the following command to install 'ipykernel' into the Python environment. \n",
      "\u001b[1;31mCommand: 'conda install -n myenv1 ipykernel --update-deps --force-reinstall'"
     ]
    }
   ],
   "source": [
    "cursor = connect_database()"
   ]
  },
  {
   "cell_type": "code",
   "execution_count": null,
   "id": "2fd60d3b",
   "metadata": {},
   "outputs": [
    {
     "ename": "",
     "evalue": "",
     "output_type": "error",
     "traceback": [
      "\u001b[1;31mRunning cells with 'Python 3.9.12 ('myenv1')' requires ipykernel package.\n",
      "\u001b[1;31mRun the following command to install 'ipykernel' into the Python environment. \n",
      "\u001b[1;31mCommand: 'conda install -n myenv1 ipykernel --update-deps --force-reinstall'"
     ]
    }
   ],
   "source": [
    "cursor = connect_database()\n",
    "cursor.execute(\"select * from tourist_package.test_df1\")\n",
    "df = pd.DataFrame(cursor.fetchall(), columns=['Age', 'TypeofContact', 'CityTier', 'DurationOfPitch', 'Occupation',\n",
    "'Gender', 'NumberOfPersonVisiting', 'NumberOfFollowups',\n",
    "'ProductPitched', 'PreferredPropertyStar', 'MaritalStatus',\n",
    "'NumberOfTrips', 'Passport', 'PitchSatisfactionScore', 'OwnCar',\n",
    "'NumberOfChildrenVisiting', 'Designation', 'MonthlyIncome',\n",
    "'ProdTaken'])    \n",
    "\n"
   ]
  },
  {
   "cell_type": "code",
   "execution_count": null,
   "id": "02e1209b",
   "metadata": {},
   "outputs": [
    {
     "ename": "",
     "evalue": "",
     "output_type": "error",
     "traceback": [
      "\u001b[1;31mRunning cells with 'Python 3.9.12 ('myenv1')' requires ipykernel package.\n",
      "\u001b[1;31mRun the following command to install 'ipykernel' into the Python environment. \n",
      "\u001b[1;31mCommand: 'conda install -n myenv1 ipykernel --update-deps --force-reinstall'"
     ]
    }
   ],
   "source": []
  },
  {
   "cell_type": "code",
   "execution_count": null,
   "id": "51a2c734",
   "metadata": {},
   "outputs": [
    {
     "ename": "",
     "evalue": "",
     "output_type": "error",
     "traceback": [
      "\u001b[1;31mRunning cells with 'Python 3.9.12 ('myenv1')' requires ipykernel package.\n",
      "\u001b[1;31mRun the following command to install 'ipykernel' into the Python environment. \n",
      "\u001b[1;31mCommand: 'conda install -n myenv1 ipykernel --update-deps --force-reinstall'"
     ]
    }
   ],
   "source": []
  },
  {
   "cell_type": "code",
   "execution_count": null,
   "id": "98529225",
   "metadata": {},
   "outputs": [
    {
     "ename": "",
     "evalue": "",
     "output_type": "error",
     "traceback": [
      "\u001b[1;31mRunning cells with 'Python 3.9.12 ('myenv1')' requires ipykernel package.\n",
      "\u001b[1;31mRun the following command to install 'ipykernel' into the Python environment. \n",
      "\u001b[1;31mCommand: 'conda install -n myenv1 ipykernel --update-deps --force-reinstall'"
     ]
    }
   ],
   "source": []
  },
  {
   "cell_type": "code",
   "execution_count": null,
   "id": "a1097749",
   "metadata": {},
   "outputs": [
    {
     "ename": "",
     "evalue": "",
     "output_type": "error",
     "traceback": [
      "\u001b[1;31mRunning cells with 'Python 3.9.12 ('myenv1')' requires ipykernel package.\n",
      "\u001b[1;31mRun the following command to install 'ipykernel' into the Python environment. \n",
      "\u001b[1;31mCommand: 'conda install -n myenv1 ipykernel --update-deps --force-reinstall'"
     ]
    }
   ],
   "source": []
  }
 ],
 "metadata": {
  "kernelspec": {
   "display_name": "Python 3.9.12 ('myenv1')",
   "language": "python",
   "name": "python3"
  },
  "language_info": {
   "codemirror_mode": {
    "name": "ipython",
    "version": 3
   },
   "file_extension": ".py",
   "mimetype": "text/x-python",
   "name": "python",
   "nbconvert_exporter": "python",
   "pygments_lexer": "ipython3",
   "version": "3.9.12"
  },
  "vscode": {
   "interpreter": {
    "hash": "7d2e35dd3cbbe2dbb0b1ee0e9e4e90602f816edf952382a5080ae801ed6e9c92"
   }
  }
 },
 "nbformat": 4,
 "nbformat_minor": 5
}
