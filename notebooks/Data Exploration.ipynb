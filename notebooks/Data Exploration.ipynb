{
 "cells": [
  {
   "cell_type": "code",
   "execution_count": 289,
   "id": "70766037",
   "metadata": {},
   "outputs": [],
   "source": [
    "import pandas as pd\n",
    "import numpy as np\n",
    "import matplotlib.pyplot as plt\n",
    "import seaborn as sns\n",
    "import plotly.express as px\n",
    "import warnings\n",
    "\n",
    "from sklearn.naive_bayes import GaussianNB\n",
    "from sklearn.ensemble import RandomForestClassifier, GradientBoostingClassifier, AdaBoostClassifier\n",
    "from sklearn.linear_model import LogisticRegression\n",
    "from sklearn.neighbors import KNeighborsClassifier\n",
    "from sklearn.metrics import accuracy_score, classification_report,ConfusionMatrixDisplay, \\\n",
    "                            precision_score, recall_score, f1_score\n",
    "from sklearn.svm import SVC\n",
    "from sklearn.tree import DecisionTreeClassifier\n",
    "from xgboost import XGBClassifier\n",
    "from catboost import CatBoostClassifier\n",
    "from sklearn.model_selection import train_test_split\n",
    "\n",
    "warnings.filterwarnings(\"ignore\")\n",
    "\n",
    "%matplotlib inline"
   ]
  },
  {
   "cell_type": "code",
   "execution_count": 290,
   "id": "14ec7a34",
   "metadata": {},
   "outputs": [],
   "source": [
    "df = pd.read_csv(r\"C:\\Users\\wasim\\tourism_package\\data\\Travel.csv\")"
   ]
  },
  {
   "cell_type": "code",
   "execution_count": 291,
   "id": "06956938",
   "metadata": {
    "scrolled": true
   },
   "outputs": [
    {
     "data": {
      "text/plain": [
       "(4888, 20)"
      ]
     },
     "execution_count": 291,
     "metadata": {},
     "output_type": "execute_result"
    }
   ],
   "source": [
    "df.shape"
   ]
  },
  {
   "cell_type": "code",
   "execution_count": 292,
   "id": "4ef0dab1",
   "metadata": {},
   "outputs": [
    {
     "data": {
      "application/vnd.plotly.v1+json": {
       "config": {
        "plotlyServerURL": "https://plot.ly"
       },
       "data": [
        {
         "domain": {
          "x": [
           0,
           1
          ],
          "y": [
           0,
           1
          ]
         },
         "hovertemplate": "label=%{label}<br>value=%{value}<extra></extra>",
         "labels": [
          "Bought",
          "Not-Bought"
         ],
         "legendgroup": "",
         "name": "",
         "showlegend": true,
         "textinfo": "percent+label",
         "textposition": "inside",
         "type": "pie",
         "values": [
          81.17839607201309,
          18.821603927986907
         ]
        }
       ],
       "layout": {
        "legend": {
         "tracegroupgap": 0
        },
        "margin": {
         "b": 50,
         "l": 50,
         "r": 50,
         "t": 50
        },
        "template": {
         "data": {
          "bar": [
           {
            "error_x": {
             "color": "#2a3f5f"
            },
            "error_y": {
             "color": "#2a3f5f"
            },
            "marker": {
             "line": {
              "color": "#E5ECF6",
              "width": 0.5
             },
             "pattern": {
              "fillmode": "overlay",
              "size": 10,
              "solidity": 0.2
             }
            },
            "type": "bar"
           }
          ],
          "barpolar": [
           {
            "marker": {
             "line": {
              "color": "#E5ECF6",
              "width": 0.5
             },
             "pattern": {
              "fillmode": "overlay",
              "size": 10,
              "solidity": 0.2
             }
            },
            "type": "barpolar"
           }
          ],
          "carpet": [
           {
            "aaxis": {
             "endlinecolor": "#2a3f5f",
             "gridcolor": "white",
             "linecolor": "white",
             "minorgridcolor": "white",
             "startlinecolor": "#2a3f5f"
            },
            "baxis": {
             "endlinecolor": "#2a3f5f",
             "gridcolor": "white",
             "linecolor": "white",
             "minorgridcolor": "white",
             "startlinecolor": "#2a3f5f"
            },
            "type": "carpet"
           }
          ],
          "choropleth": [
           {
            "colorbar": {
             "outlinewidth": 0,
             "ticks": ""
            },
            "type": "choropleth"
           }
          ],
          "contour": [
           {
            "colorbar": {
             "outlinewidth": 0,
             "ticks": ""
            },
            "colorscale": [
             [
              0,
              "#0d0887"
             ],
             [
              0.1111111111111111,
              "#46039f"
             ],
             [
              0.2222222222222222,
              "#7201a8"
             ],
             [
              0.3333333333333333,
              "#9c179e"
             ],
             [
              0.4444444444444444,
              "#bd3786"
             ],
             [
              0.5555555555555556,
              "#d8576b"
             ],
             [
              0.6666666666666666,
              "#ed7953"
             ],
             [
              0.7777777777777778,
              "#fb9f3a"
             ],
             [
              0.8888888888888888,
              "#fdca26"
             ],
             [
              1,
              "#f0f921"
             ]
            ],
            "type": "contour"
           }
          ],
          "contourcarpet": [
           {
            "colorbar": {
             "outlinewidth": 0,
             "ticks": ""
            },
            "type": "contourcarpet"
           }
          ],
          "heatmap": [
           {
            "colorbar": {
             "outlinewidth": 0,
             "ticks": ""
            },
            "colorscale": [
             [
              0,
              "#0d0887"
             ],
             [
              0.1111111111111111,
              "#46039f"
             ],
             [
              0.2222222222222222,
              "#7201a8"
             ],
             [
              0.3333333333333333,
              "#9c179e"
             ],
             [
              0.4444444444444444,
              "#bd3786"
             ],
             [
              0.5555555555555556,
              "#d8576b"
             ],
             [
              0.6666666666666666,
              "#ed7953"
             ],
             [
              0.7777777777777778,
              "#fb9f3a"
             ],
             [
              0.8888888888888888,
              "#fdca26"
             ],
             [
              1,
              "#f0f921"
             ]
            ],
            "type": "heatmap"
           }
          ],
          "heatmapgl": [
           {
            "colorbar": {
             "outlinewidth": 0,
             "ticks": ""
            },
            "colorscale": [
             [
              0,
              "#0d0887"
             ],
             [
              0.1111111111111111,
              "#46039f"
             ],
             [
              0.2222222222222222,
              "#7201a8"
             ],
             [
              0.3333333333333333,
              "#9c179e"
             ],
             [
              0.4444444444444444,
              "#bd3786"
             ],
             [
              0.5555555555555556,
              "#d8576b"
             ],
             [
              0.6666666666666666,
              "#ed7953"
             ],
             [
              0.7777777777777778,
              "#fb9f3a"
             ],
             [
              0.8888888888888888,
              "#fdca26"
             ],
             [
              1,
              "#f0f921"
             ]
            ],
            "type": "heatmapgl"
           }
          ],
          "histogram": [
           {
            "marker": {
             "pattern": {
              "fillmode": "overlay",
              "size": 10,
              "solidity": 0.2
             }
            },
            "type": "histogram"
           }
          ],
          "histogram2d": [
           {
            "colorbar": {
             "outlinewidth": 0,
             "ticks": ""
            },
            "colorscale": [
             [
              0,
              "#0d0887"
             ],
             [
              0.1111111111111111,
              "#46039f"
             ],
             [
              0.2222222222222222,
              "#7201a8"
             ],
             [
              0.3333333333333333,
              "#9c179e"
             ],
             [
              0.4444444444444444,
              "#bd3786"
             ],
             [
              0.5555555555555556,
              "#d8576b"
             ],
             [
              0.6666666666666666,
              "#ed7953"
             ],
             [
              0.7777777777777778,
              "#fb9f3a"
             ],
             [
              0.8888888888888888,
              "#fdca26"
             ],
             [
              1,
              "#f0f921"
             ]
            ],
            "type": "histogram2d"
           }
          ],
          "histogram2dcontour": [
           {
            "colorbar": {
             "outlinewidth": 0,
             "ticks": ""
            },
            "colorscale": [
             [
              0,
              "#0d0887"
             ],
             [
              0.1111111111111111,
              "#46039f"
             ],
             [
              0.2222222222222222,
              "#7201a8"
             ],
             [
              0.3333333333333333,
              "#9c179e"
             ],
             [
              0.4444444444444444,
              "#bd3786"
             ],
             [
              0.5555555555555556,
              "#d8576b"
             ],
             [
              0.6666666666666666,
              "#ed7953"
             ],
             [
              0.7777777777777778,
              "#fb9f3a"
             ],
             [
              0.8888888888888888,
              "#fdca26"
             ],
             [
              1,
              "#f0f921"
             ]
            ],
            "type": "histogram2dcontour"
           }
          ],
          "mesh3d": [
           {
            "colorbar": {
             "outlinewidth": 0,
             "ticks": ""
            },
            "type": "mesh3d"
           }
          ],
          "parcoords": [
           {
            "line": {
             "colorbar": {
              "outlinewidth": 0,
              "ticks": ""
             }
            },
            "type": "parcoords"
           }
          ],
          "pie": [
           {
            "automargin": true,
            "type": "pie"
           }
          ],
          "scatter": [
           {
            "marker": {
             "colorbar": {
              "outlinewidth": 0,
              "ticks": ""
             }
            },
            "type": "scatter"
           }
          ],
          "scatter3d": [
           {
            "line": {
             "colorbar": {
              "outlinewidth": 0,
              "ticks": ""
             }
            },
            "marker": {
             "colorbar": {
              "outlinewidth": 0,
              "ticks": ""
             }
            },
            "type": "scatter3d"
           }
          ],
          "scattercarpet": [
           {
            "marker": {
             "colorbar": {
              "outlinewidth": 0,
              "ticks": ""
             }
            },
            "type": "scattercarpet"
           }
          ],
          "scattergeo": [
           {
            "marker": {
             "colorbar": {
              "outlinewidth": 0,
              "ticks": ""
             }
            },
            "type": "scattergeo"
           }
          ],
          "scattergl": [
           {
            "marker": {
             "colorbar": {
              "outlinewidth": 0,
              "ticks": ""
             }
            },
            "type": "scattergl"
           }
          ],
          "scattermapbox": [
           {
            "marker": {
             "colorbar": {
              "outlinewidth": 0,
              "ticks": ""
             }
            },
            "type": "scattermapbox"
           }
          ],
          "scatterpolar": [
           {
            "marker": {
             "colorbar": {
              "outlinewidth": 0,
              "ticks": ""
             }
            },
            "type": "scatterpolar"
           }
          ],
          "scatterpolargl": [
           {
            "marker": {
             "colorbar": {
              "outlinewidth": 0,
              "ticks": ""
             }
            },
            "type": "scatterpolargl"
           }
          ],
          "scatterternary": [
           {
            "marker": {
             "colorbar": {
              "outlinewidth": 0,
              "ticks": ""
             }
            },
            "type": "scatterternary"
           }
          ],
          "surface": [
           {
            "colorbar": {
             "outlinewidth": 0,
             "ticks": ""
            },
            "colorscale": [
             [
              0,
              "#0d0887"
             ],
             [
              0.1111111111111111,
              "#46039f"
             ],
             [
              0.2222222222222222,
              "#7201a8"
             ],
             [
              0.3333333333333333,
              "#9c179e"
             ],
             [
              0.4444444444444444,
              "#bd3786"
             ],
             [
              0.5555555555555556,
              "#d8576b"
             ],
             [
              0.6666666666666666,
              "#ed7953"
             ],
             [
              0.7777777777777778,
              "#fb9f3a"
             ],
             [
              0.8888888888888888,
              "#fdca26"
             ],
             [
              1,
              "#f0f921"
             ]
            ],
            "type": "surface"
           }
          ],
          "table": [
           {
            "cells": {
             "fill": {
              "color": "#EBF0F8"
             },
             "line": {
              "color": "white"
             }
            },
            "header": {
             "fill": {
              "color": "#C8D4E3"
             },
             "line": {
              "color": "white"
             }
            },
            "type": "table"
           }
          ]
         },
         "layout": {
          "annotationdefaults": {
           "arrowcolor": "#2a3f5f",
           "arrowhead": 0,
           "arrowwidth": 1
          },
          "autotypenumbers": "strict",
          "coloraxis": {
           "colorbar": {
            "outlinewidth": 0,
            "ticks": ""
           }
          },
          "colorscale": {
           "diverging": [
            [
             0,
             "#8e0152"
            ],
            [
             0.1,
             "#c51b7d"
            ],
            [
             0.2,
             "#de77ae"
            ],
            [
             0.3,
             "#f1b6da"
            ],
            [
             0.4,
             "#fde0ef"
            ],
            [
             0.5,
             "#f7f7f7"
            ],
            [
             0.6,
             "#e6f5d0"
            ],
            [
             0.7,
             "#b8e186"
            ],
            [
             0.8,
             "#7fbc41"
            ],
            [
             0.9,
             "#4d9221"
            ],
            [
             1,
             "#276419"
            ]
           ],
           "sequential": [
            [
             0,
             "#0d0887"
            ],
            [
             0.1111111111111111,
             "#46039f"
            ],
            [
             0.2222222222222222,
             "#7201a8"
            ],
            [
             0.3333333333333333,
             "#9c179e"
            ],
            [
             0.4444444444444444,
             "#bd3786"
            ],
            [
             0.5555555555555556,
             "#d8576b"
            ],
            [
             0.6666666666666666,
             "#ed7953"
            ],
            [
             0.7777777777777778,
             "#fb9f3a"
            ],
            [
             0.8888888888888888,
             "#fdca26"
            ],
            [
             1,
             "#f0f921"
            ]
           ],
           "sequentialminus": [
            [
             0,
             "#0d0887"
            ],
            [
             0.1111111111111111,
             "#46039f"
            ],
            [
             0.2222222222222222,
             "#7201a8"
            ],
            [
             0.3333333333333333,
             "#9c179e"
            ],
            [
             0.4444444444444444,
             "#bd3786"
            ],
            [
             0.5555555555555556,
             "#d8576b"
            ],
            [
             0.6666666666666666,
             "#ed7953"
            ],
            [
             0.7777777777777778,
             "#fb9f3a"
            ],
            [
             0.8888888888888888,
             "#fdca26"
            ],
            [
             1,
             "#f0f921"
            ]
           ]
          },
          "colorway": [
           "#636efa",
           "#EF553B",
           "#00cc96",
           "#ab63fa",
           "#FFA15A",
           "#19d3f3",
           "#FF6692",
           "#B6E880",
           "#FF97FF",
           "#FECB52"
          ],
          "font": {
           "color": "#2a3f5f"
          },
          "geo": {
           "bgcolor": "white",
           "lakecolor": "white",
           "landcolor": "#E5ECF6",
           "showlakes": true,
           "showland": true,
           "subunitcolor": "white"
          },
          "hoverlabel": {
           "align": "left"
          },
          "hovermode": "closest",
          "mapbox": {
           "style": "light"
          },
          "paper_bgcolor": "white",
          "plot_bgcolor": "#E5ECF6",
          "polar": {
           "angularaxis": {
            "gridcolor": "white",
            "linecolor": "white",
            "ticks": ""
           },
           "bgcolor": "#E5ECF6",
           "radialaxis": {
            "gridcolor": "white",
            "linecolor": "white",
            "ticks": ""
           }
          },
          "scene": {
           "xaxis": {
            "backgroundcolor": "#E5ECF6",
            "gridcolor": "white",
            "gridwidth": 2,
            "linecolor": "white",
            "showbackground": true,
            "ticks": "",
            "zerolinecolor": "white"
           },
           "yaxis": {
            "backgroundcolor": "#E5ECF6",
            "gridcolor": "white",
            "gridwidth": 2,
            "linecolor": "white",
            "showbackground": true,
            "ticks": "",
            "zerolinecolor": "white"
           },
           "zaxis": {
            "backgroundcolor": "#E5ECF6",
            "gridcolor": "white",
            "gridwidth": 2,
            "linecolor": "white",
            "showbackground": true,
            "ticks": "",
            "zerolinecolor": "white"
           }
          },
          "shapedefaults": {
           "line": {
            "color": "#2a3f5f"
           }
          },
          "ternary": {
           "aaxis": {
            "gridcolor": "white",
            "linecolor": "white",
            "ticks": ""
           },
           "baxis": {
            "gridcolor": "white",
            "linecolor": "white",
            "ticks": ""
           },
           "bgcolor": "#E5ECF6",
           "caxis": {
            "gridcolor": "white",
            "linecolor": "white",
            "ticks": ""
           }
          },
          "title": {
           "x": 0.05
          },
          "xaxis": {
           "automargin": true,
           "gridcolor": "white",
           "linecolor": "white",
           "ticks": "",
           "title": {
            "standoff": 15
           },
           "zerolinecolor": "white",
           "zerolinewidth": 2
          },
          "yaxis": {
           "automargin": true,
           "gridcolor": "white",
           "linecolor": "white",
           "ticks": "",
           "title": {
            "standoff": 15
           },
           "zerolinecolor": "white",
           "zerolinewidth": 2
          }
         }
        },
        "title": {
         "text": "Percentage of package bought and not bought"
        }
       }
      }
     },
     "metadata": {},
     "output_type": "display_data"
    }
   ],
   "source": [
    "percentage = df.ProdTaken.value_counts(normalize=True)*100\n",
    "pielabels = [\"Bought\",\"Not-Bought\"]\n",
    "\n",
    "# Plot PieChart with Ploty library\n",
    "f1 = px.pie(values= percentage, names= pielabels, title=\"Percentage of package bought and not bought\")\n",
    "f1.update_traces(textposition=\"inside\", textinfo=\"percent+label\")\n",
    "f1.update_layout(margin={\"r\":50,\"t\":50,\"l\":50,\"b\":50})\n",
    "f1.show()"
   ]
  },
  {
   "cell_type": "code",
   "execution_count": 293,
   "id": "0b0f5833",
   "metadata": {},
   "outputs": [],
   "source": [
    "# Age\n",
    "df['Age'].fillna(df['Age'].mean(), inplace=True)\n",
    "\n",
    "# TypeofContact\n",
    "df['TypeofContact'].fillna(df['TypeofContact'].mode()[0], inplace=True)\n",
    "\n",
    "# DurationOfPitch\n",
    "df['DurationOfPitch'].fillna(df['DurationOfPitch'].median(), inplace=True)\n",
    "\n",
    "# NumberOfFollowups\n",
    "df['NumberOfFollowups'].fillna(df['NumberOfFollowups'].mode()[0], inplace=True)\n",
    "\n",
    "# PreferredPropertyStar\n",
    "df['PreferredPropertyStar'].fillna(df['PreferredPropertyStar'].mode()[0], inplace=True)\n",
    "\n",
    "# NumberOfTrips\n",
    "df['NumberOfTrips'].fillna(0, inplace=True)\n",
    "\n",
    "# NumberOfChildrenVisiting\n",
    "df['NumberOfChildrenVisiting'].fillna(df['NumberOfChildrenVisiting'].mode()[0], inplace=True)\n",
    "\n",
    "# MonthlyIncome\n",
    "df['MonthlyIncome'].fillna(df['MonthlyIncome'].median(), inplace=True)"
   ]
  },
  {
   "cell_type": "code",
   "execution_count": 294,
   "id": "c9c05ab3",
   "metadata": {},
   "outputs": [],
   "source": [
    "from sklearn.preprocessing import OneHotEncoder, OrdinalEncoder\n",
    "\n",
    "\n",
    "categorical_columns = df.select_dtypes(include=['object']).columns\n",
    "\n",
    "enc = OrdinalEncoder()\n",
    "df[categorical_columns] = enc.fit_transform(df[categorical_columns])"
   ]
  },
  {
   "cell_type": "code",
   "execution_count": 295,
   "id": "d7364d34",
   "metadata": {},
   "outputs": [
    {
     "name": "stdout",
     "output_type": "stream",
     "text": [
      "Counter({0: 3968, 1: 920})\n",
      "Counter({1: 3968, 0: 3968})\n"
     ]
    },
    {
     "data": {
      "text/plain": [
       "((7936, 18), (7936,))"
      ]
     },
     "execution_count": 295,
     "metadata": {},
     "output_type": "execute_result"
    }
   ],
   "source": [
    "from collections import Counter\n",
    "from imblearn.over_sampling import RandomOverSampler  \n",
    "\n",
    "X = df.drop(columns=['ProdTaken', 'CustomerID'], axis=1)\n",
    "y = df['ProdTaken']\n",
    "\n",
    "# summarize class distribution\n",
    "counter = Counter(y)\n",
    "print(counter)\n",
    "# define pipeline\n",
    "over = RandomOverSampler(random_state=42)\n",
    "\n",
    "# transform the dataset\n",
    "X, y = over.fit_resample(X, y)\n",
    "# summarize the new class distribution\n",
    "counter = Counter(y)\n",
    "print(counter)\n",
    "\n",
    "X.shape, y.shape"
   ]
  },
  {
   "cell_type": "code",
   "execution_count": 296,
   "id": "b943e8b9",
   "metadata": {},
   "outputs": [
    {
     "name": "stdout",
     "output_type": "stream",
     "text": [
      "(7142, 18) (794, 18)\n"
     ]
    }
   ],
   "source": [
    "import math\n",
    "from sklearn.model_selection import StratifiedShuffleSplit\n",
    "\n",
    "X[X.columns] = X[X.columns].apply(np.ceil) \n",
    "sss = StratifiedShuffleSplit(n_splits=10, test_size=0.1, random_state=42)\n",
    "for train_index, test_index in sss.split(X, y):\n",
    "    X_train, X_test = X.iloc[train_index], X.iloc[test_index]\n",
    "    y_train, y_test = y.iloc[train_index], y.iloc[test_index]\n",
    "\n",
    "print(X_train.shape, X_test.shape)\n",
    "\n",
    "df = pd.concat([X_train, y_train], axis=1)\n",
    "\n",
    "test_df = pd.concat([X_test, y_test], axis=1)\n",
    "test_df.to_csv(r'C:\\Users\\wasim\\tourism_package\\data\\test_df.csv', index=False)\n"
   ]
  },
  {
   "cell_type": "markdown",
   "id": "eea0e8ff",
   "metadata": {},
   "source": [
    "### Column Information\n",
    "- TypeofContact: How customer was contacted (Company Invited or Self Inquiry)\n",
    "- DurationOfPitch: Duration of the pitch by a salesperson to the customer\n",
    "- NumberOfFollowups: Total number of follow-ups has been done by the salesperson after the sales pitch\n",
    "- ProductPitched: Product pitched by the salesperson\n",
    "- PreferredPropertyStar: Preferred hotel property rating by customer"
   ]
  },
  {
   "cell_type": "markdown",
   "id": "1f8a606d",
   "metadata": {},
   "source": [
    "# Exploratory Data Analysis "
   ]
  },
  {
   "cell_type": "markdown",
   "id": "09c31718",
   "metadata": {},
   "source": [
    "## Descriptive Analysis\n",
    "- Number of rows and columns\n",
    "- Data type of features and does it makes sense\n",
    "- Distribution\n",
    "- Outliers?\n",
    "- Mean and variance\n",
    "- Understand Values"
   ]
  },
  {
   "cell_type": "code",
   "execution_count": 297,
   "id": "e4b62664",
   "metadata": {},
   "outputs": [
    {
     "data": {
      "text/plain": [
       "(7142, 19)"
      ]
     },
     "execution_count": 297,
     "metadata": {},
     "output_type": "execute_result"
    }
   ],
   "source": [
    "df.shape"
   ]
  },
  {
   "cell_type": "code",
   "execution_count": 298,
   "id": "c49cf8e8",
   "metadata": {},
   "outputs": [
    {
     "data": {
      "text/plain": [
       "Age                         float64\n",
       "TypeofContact               float64\n",
       "CityTier                    float64\n",
       "DurationOfPitch             float64\n",
       "Occupation                  float64\n",
       "Gender                      float64\n",
       "NumberOfPersonVisiting      float64\n",
       "NumberOfFollowups           float64\n",
       "ProductPitched              float64\n",
       "PreferredPropertyStar       float64\n",
       "MaritalStatus               float64\n",
       "NumberOfTrips               float64\n",
       "Passport                    float64\n",
       "PitchSatisfactionScore      float64\n",
       "OwnCar                      float64\n",
       "NumberOfChildrenVisiting    float64\n",
       "Designation                 float64\n",
       "MonthlyIncome               float64\n",
       "ProdTaken                     int64\n",
       "dtype: object"
      ]
     },
     "execution_count": 298,
     "metadata": {},
     "output_type": "execute_result"
    }
   ],
   "source": [
    "df.dtypes"
   ]
  },
  {
   "cell_type": "markdown",
   "id": "c91a1971",
   "metadata": {},
   "source": [
    "**Note: All the floats values can be converted to the int as it does not have any values after decimal point**"
   ]
  },
  {
   "cell_type": "code",
   "execution_count": 299,
   "id": "167ee616",
   "metadata": {},
   "outputs": [
    {
     "data": {
      "text/plain": [
       "Age                         0\n",
       "TypeofContact               0\n",
       "CityTier                    0\n",
       "DurationOfPitch             0\n",
       "Occupation                  0\n",
       "Gender                      0\n",
       "NumberOfPersonVisiting      0\n",
       "NumberOfFollowups           0\n",
       "ProductPitched              0\n",
       "PreferredPropertyStar       0\n",
       "MaritalStatus               0\n",
       "NumberOfTrips               0\n",
       "Passport                    0\n",
       "PitchSatisfactionScore      0\n",
       "OwnCar                      0\n",
       "NumberOfChildrenVisiting    0\n",
       "Designation                 0\n",
       "MonthlyIncome               0\n",
       "ProdTaken                   0\n",
       "dtype: int64"
      ]
     },
     "execution_count": 299,
     "metadata": {},
     "output_type": "execute_result"
    }
   ],
   "source": [
    "df.isnull().sum()"
   ]
  },
  {
   "cell_type": "markdown",
   "id": "0d5e36aa",
   "metadata": {},
   "source": [
    "\n",
    "**Note: There are 8 columns which has null values, so it will be fun to handle them**"
   ]
  },
  {
   "cell_type": "markdown",
   "id": "0d345c0c",
   "metadata": {},
   "source": [
    "### Distribution and skewness"
   ]
  },
  {
   "cell_type": "code",
   "execution_count": 300,
   "id": "2882b0e5",
   "metadata": {},
   "outputs": [],
   "source": [
    "# Seperate the numerical and categorical columns\n",
    "\n",
    "numerical_columns = X.select_dtypes(include=['int', 'float']).columns\n",
    "categorical_columns = X.select_dtypes(include=['object']).columns\n",
    "\n",
    "continuous_columns = [i for i in X.columns if X[i].nunique() > 8]\n",
    "\n"
   ]
  },
  {
   "cell_type": "code",
   "execution_count": 301,
   "id": "62c150a3",
   "metadata": {},
   "outputs": [
    {
     "data": {
      "image/png": "[encoded data removed]",
      "text/plain": [
       "<Figure size 1224x5400 with 4 Axes>"
      ]
     },
     "metadata": {
      "needs_background": "light"
     },
     "output_type": "display_data"
    }
   ],
   "source": [
    "plt.figure(figsize=(17,75))\n",
    "\n",
    "\n",
    "for i in range(len(continuous_columns)):\n",
    "    plt.subplot(18,1,i+1)\n",
    "    sns.distplot(df[continuous_columns[i]])\n",
    "    plt.tight_layout()\n",
    "    plt.title(continuous_columns[i],fontsize=25)\n",
    "    \n",
    "plt.show()\n"
   ]
  },
  {
   "cell_type": "code",
   "execution_count": 302,
   "id": "d040429b",
   "metadata": {},
   "outputs": [
    {
     "name": "stdout",
     "output_type": "stream",
     "text": [
      "Age 0.42317275924986236\n",
      "DurationOfPitch 1.4354214812471655\n",
      "NumberOfTrips 1.492917528287139\n",
      "MonthlyIncome 1.9543882477065895\n"
     ]
    }
   ],
   "source": [
    "for col in continuous_columns:\n",
    "    print(col,df[col].skew())"
   ]
  },
  {
   "cell_type": "markdown",
   "id": "16ad1181",
   "metadata": {},
   "source": [
    "- Positiviely Skewed : DurationOfPitch, NumberOfTrips"
   ]
  },
  {
   "cell_type": "code",
   "execution_count": 303,
   "id": "560871d8",
   "metadata": {},
   "outputs": [
    {
     "data": {
      "text/html": [
       "<div>\n",
       "<style scoped>\n",
       "    .dataframe tbody tr th:only-of-type {\n",
       "        vertical-align: middle;\n",
       "    }\n",
       "\n",
       "    .dataframe tbody tr th {\n",
       "        vertical-align: top;\n",
       "    }\n",
       "\n",
       "    .dataframe thead th {\n",
       "        text-align: right;\n",
       "    }\n",
       "</style>\n",
       "<table border=\"1\" class=\"dataframe\">\n",
       "  <thead>\n",
       "    <tr style=\"text-align: right;\">\n",
       "      <th></th>\n",
       "      <th>Age</th>\n",
       "      <th>TypeofContact</th>\n",
       "      <th>CityTier</th>\n",
       "      <th>DurationOfPitch</th>\n",
       "      <th>Occupation</th>\n",
       "      <th>Gender</th>\n",
       "      <th>NumberOfPersonVisiting</th>\n",
       "      <th>NumberOfFollowups</th>\n",
       "      <th>ProductPitched</th>\n",
       "      <th>PreferredPropertyStar</th>\n",
       "      <th>MaritalStatus</th>\n",
       "      <th>NumberOfTrips</th>\n",
       "      <th>Passport</th>\n",
       "      <th>PitchSatisfactionScore</th>\n",
       "      <th>OwnCar</th>\n",
       "      <th>NumberOfChildrenVisiting</th>\n",
       "      <th>Designation</th>\n",
       "      <th>MonthlyIncome</th>\n",
       "      <th>ProdTaken</th>\n",
       "    </tr>\n",
       "  </thead>\n",
       "  <tbody>\n",
       "    <tr>\n",
       "      <th>count</th>\n",
       "      <td>7142.000000</td>\n",
       "      <td>7142.000000</td>\n",
       "      <td>7142.000000</td>\n",
       "      <td>7142.000000</td>\n",
       "      <td>7142.000000</td>\n",
       "      <td>7142.000000</td>\n",
       "      <td>7142.000000</td>\n",
       "      <td>7142.000000</td>\n",
       "      <td>7142.000000</td>\n",
       "      <td>7142.000000</td>\n",
       "      <td>7142.000000</td>\n",
       "      <td>7142.000000</td>\n",
       "      <td>7142.000000</td>\n",
       "      <td>7142.000000</td>\n",
       "      <td>7142.000000</td>\n",
       "      <td>7142.000000</td>\n",
       "      <td>7142.000000</td>\n",
       "      <td>7142.000000</td>\n",
       "      <td>7142.000000</td>\n",
       "    </tr>\n",
       "    <tr>\n",
       "      <th>mean</th>\n",
       "      <td>36.501960</td>\n",
       "      <td>0.696864</td>\n",
       "      <td>1.707925</td>\n",
       "      <td>15.836320</td>\n",
       "      <td>2.315878</td>\n",
       "      <td>1.574209</td>\n",
       "      <td>2.912069</td>\n",
       "      <td>3.795435</td>\n",
       "      <td>1.001960</td>\n",
       "      <td>3.649258</td>\n",
       "      <td>1.384206</td>\n",
       "      <td>3.182162</td>\n",
       "      <td>0.382946</td>\n",
       "      <td>3.126575</td>\n",
       "      <td>0.614814</td>\n",
       "      <td>1.187623</td>\n",
       "      <td>1.643517</td>\n",
       "      <td>22941.156679</td>\n",
       "      <td>0.500000</td>\n",
       "    </tr>\n",
       "    <tr>\n",
       "      <th>std</th>\n",
       "      <td>9.523734</td>\n",
       "      <td>0.459646</td>\n",
       "      <td>0.932142</td>\n",
       "      <td>8.353498</td>\n",
       "      <td>0.656251</td>\n",
       "      <td>0.554819</td>\n",
       "      <td>0.715208</td>\n",
       "      <td>1.004829</td>\n",
       "      <td>1.234112</td>\n",
       "      <td>0.827715</td>\n",
       "      <td>0.942971</td>\n",
       "      <td>1.961612</td>\n",
       "      <td>0.486139</td>\n",
       "      <td>1.356370</td>\n",
       "      <td>0.486673</td>\n",
       "      <td>0.858786</td>\n",
       "      <td>0.907298</td>\n",
       "      <td>5024.354622</td>\n",
       "      <td>0.500035</td>\n",
       "    </tr>\n",
       "    <tr>\n",
       "      <th>min</th>\n",
       "      <td>18.000000</td>\n",
       "      <td>0.000000</td>\n",
       "      <td>1.000000</td>\n",
       "      <td>5.000000</td>\n",
       "      <td>0.000000</td>\n",
       "      <td>0.000000</td>\n",
       "      <td>1.000000</td>\n",
       "      <td>1.000000</td>\n",
       "      <td>0.000000</td>\n",
       "      <td>3.000000</td>\n",
       "      <td>0.000000</td>\n",
       "      <td>0.000000</td>\n",
       "      <td>0.000000</td>\n",
       "      <td>1.000000</td>\n",
       "      <td>0.000000</td>\n",
       "      <td>0.000000</td>\n",
       "      <td>0.000000</td>\n",
       "      <td>1000.000000</td>\n",
       "      <td>0.000000</td>\n",
       "    </tr>\n",
       "    <tr>\n",
       "      <th>25%</th>\n",
       "      <td>30.000000</td>\n",
       "      <td>0.000000</td>\n",
       "      <td>1.000000</td>\n",
       "      <td>9.000000</td>\n",
       "      <td>2.000000</td>\n",
       "      <td>1.000000</td>\n",
       "      <td>2.000000</td>\n",
       "      <td>3.000000</td>\n",
       "      <td>0.000000</td>\n",
       "      <td>3.000000</td>\n",
       "      <td>1.000000</td>\n",
       "      <td>2.000000</td>\n",
       "      <td>0.000000</td>\n",
       "      <td>2.000000</td>\n",
       "      <td>0.000000</td>\n",
       "      <td>1.000000</td>\n",
       "      <td>1.000000</td>\n",
       "      <td>19941.000000</td>\n",
       "      <td>0.000000</td>\n",
       "    </tr>\n",
       "    <tr>\n",
       "      <th>50%</th>\n",
       "      <td>36.000000</td>\n",
       "      <td>1.000000</td>\n",
       "      <td>1.000000</td>\n",
       "      <td>13.000000</td>\n",
       "      <td>2.000000</td>\n",
       "      <td>2.000000</td>\n",
       "      <td>3.000000</td>\n",
       "      <td>4.000000</td>\n",
       "      <td>1.000000</td>\n",
       "      <td>3.000000</td>\n",
       "      <td>1.000000</td>\n",
       "      <td>3.000000</td>\n",
       "      <td>0.000000</td>\n",
       "      <td>3.000000</td>\n",
       "      <td>1.000000</td>\n",
       "      <td>1.000000</td>\n",
       "      <td>1.000000</td>\n",
       "      <td>21804.000000</td>\n",
       "      <td>0.500000</td>\n",
       "    </tr>\n",
       "    <tr>\n",
       "      <th>75%</th>\n",
       "      <td>42.000000</td>\n",
       "      <td>1.000000</td>\n",
       "      <td>3.000000</td>\n",
       "      <td>21.000000</td>\n",
       "      <td>3.000000</td>\n",
       "      <td>2.000000</td>\n",
       "      <td>3.000000</td>\n",
       "      <td>4.000000</td>\n",
       "      <td>1.000000</td>\n",
       "      <td>4.000000</td>\n",
       "      <td>2.000000</td>\n",
       "      <td>4.000000</td>\n",
       "      <td>1.000000</td>\n",
       "      <td>4.000000</td>\n",
       "      <td>1.000000</td>\n",
       "      <td>2.000000</td>\n",
       "      <td>2.000000</td>\n",
       "      <td>24850.000000</td>\n",
       "      <td>1.000000</td>\n",
       "    </tr>\n",
       "    <tr>\n",
       "      <th>max</th>\n",
       "      <td>61.000000</td>\n",
       "      <td>1.000000</td>\n",
       "      <td>3.000000</td>\n",
       "      <td>127.000000</td>\n",
       "      <td>3.000000</td>\n",
       "      <td>2.000000</td>\n",
       "      <td>5.000000</td>\n",
       "      <td>6.000000</td>\n",
       "      <td>4.000000</td>\n",
       "      <td>5.000000</td>\n",
       "      <td>3.000000</td>\n",
       "      <td>22.000000</td>\n",
       "      <td>1.000000</td>\n",
       "      <td>5.000000</td>\n",
       "      <td>1.000000</td>\n",
       "      <td>3.000000</td>\n",
       "      <td>4.000000</td>\n",
       "      <td>98678.000000</td>\n",
       "      <td>1.000000</td>\n",
       "    </tr>\n",
       "  </tbody>\n",
       "</table>\n",
       "</div>"
      ],
      "text/plain": [
       "               Age  TypeofContact     CityTier  DurationOfPitch   Occupation  \\\n",
       "count  7142.000000    7142.000000  7142.000000      7142.000000  7142.000000   \n",
       "mean     36.501960       0.696864     1.707925        15.836320     2.315878   \n",
       "std       9.523734       0.459646     0.932142         8.353498     0.656251   \n",
       "min      18.000000       0.000000     1.000000         5.000000     0.000000   \n",
       "25%      30.000000       0.000000     1.000000         9.000000     2.000000   \n",
       "50%      36.000000       1.000000     1.000000        13.000000     2.000000   \n",
       "75%      42.000000       1.000000     3.000000        21.000000     3.000000   \n",
       "max      61.000000       1.000000     3.000000       127.000000     3.000000   \n",
       "\n",
       "            Gender  NumberOfPersonVisiting  NumberOfFollowups  ProductPitched  \\\n",
       "count  7142.000000             7142.000000        7142.000000     7142.000000   \n",
       "mean      1.574209                2.912069           3.795435        1.001960   \n",
       "std       0.554819                0.715208           1.004829        1.234112   \n",
       "min       0.000000                1.000000           1.000000        0.000000   \n",
       "25%       1.000000                2.000000           3.000000        0.000000   \n",
       "50%       2.000000                3.000000           4.000000        1.000000   \n",
       "75%       2.000000                3.000000           4.000000        1.000000   \n",
       "max       2.000000                5.000000           6.000000        4.000000   \n",
       "\n",
       "       PreferredPropertyStar  MaritalStatus  NumberOfTrips     Passport  \\\n",
       "count            7142.000000    7142.000000    7142.000000  7142.000000   \n",
       "mean                3.649258       1.384206       3.182162     0.382946   \n",
       "std                 0.827715       0.942971       1.961612     0.486139   \n",
       "min                 3.000000       0.000000       0.000000     0.000000   \n",
       "25%                 3.000000       1.000000       2.000000     0.000000   \n",
       "50%                 3.000000       1.000000       3.000000     0.000000   \n",
       "75%                 4.000000       2.000000       4.000000     1.000000   \n",
       "max                 5.000000       3.000000      22.000000     1.000000   \n",
       "\n",
       "       PitchSatisfactionScore       OwnCar  NumberOfChildrenVisiting  \\\n",
       "count             7142.000000  7142.000000               7142.000000   \n",
       "mean                 3.126575     0.614814                  1.187623   \n",
       "std                  1.356370     0.486673                  0.858786   \n",
       "min                  1.000000     0.000000                  0.000000   \n",
       "25%                  2.000000     0.000000                  1.000000   \n",
       "50%                  3.000000     1.000000                  1.000000   \n",
       "75%                  4.000000     1.000000                  2.000000   \n",
       "max                  5.000000     1.000000                  3.000000   \n",
       "\n",
       "       Designation  MonthlyIncome    ProdTaken  \n",
       "count  7142.000000    7142.000000  7142.000000  \n",
       "mean      1.643517   22941.156679     0.500000  \n",
       "std       0.907298    5024.354622     0.500035  \n",
       "min       0.000000    1000.000000     0.000000  \n",
       "25%       1.000000   19941.000000     0.000000  \n",
       "50%       1.000000   21804.000000     0.500000  \n",
       "75%       2.000000   24850.000000     1.000000  \n",
       "max       4.000000   98678.000000     1.000000  "
      ]
     },
     "execution_count": 303,
     "metadata": {},
     "output_type": "execute_result"
    }
   ],
   "source": [
    "df.describe()"
   ]
  },
  {
   "cell_type": "markdown",
   "id": "5d5dd3bb",
   "metadata": {},
   "source": [
    "### Exploration of Values"
   ]
  },
  {
   "cell_type": "code",
   "execution_count": 304,
   "id": "8cdad335",
   "metadata": {},
   "outputs": [
    {
     "name": "stdout",
     "output_type": "stream",
     "text": [
      "(3571, 19)\n"
     ]
    },
    {
     "data": {
      "text/plain": [
       "Age\n",
       "(18, 25]    0.754795\n",
       "(25, 35]    0.547542\n",
       "(35, 45]    0.394483\n",
       "(45, 55]    0.390293\n",
       "(55, 60]    0.566225\n",
       "Name: ProdTaken, dtype: float64"
      ]
     },
     "execution_count": 304,
     "metadata": {},
     "output_type": "execute_result"
    }
   ],
   "source": [
    "ranges = [18, 25, 35, 45, 55, 60]\n",
    "\n",
    "not_taken_data = df[df['ProdTaken'] == 1]\n",
    "print(not_taken_data.shape)\n",
    "\n",
    "not_taken_cancelled = not_taken_data[\"ProdTaken\"].groupby(pd.cut(df.Age, ranges)).count()\n",
    "age_range_total = df[\"ProdTaken\"].groupby(pd.cut(df.Age, ranges)).count()\n",
    "\n",
    "not_taken_cancelled/age_range_total"
   ]
  },
  {
   "cell_type": "markdown",
   "id": "ae35d8af",
   "metadata": {},
   "source": [
    "#### Note: \n",
    "- Age group of 18 to 25 buy most package\n",
    "- Age between  35 to 55 is lowest, as in these age groups mostly there"
   ]
  },
  {
   "cell_type": "code",
   "execution_count": 305,
   "id": "69586e49",
   "metadata": {},
   "outputs": [
    {
     "data": {
      "image/png": "[encoded data removed]",
      "text/plain": [
       "<Figure size 936x504 with 1 Axes>"
      ]
     },
     "metadata": {
      "needs_background": "light"
     },
     "output_type": "display_data"
    }
   ],
   "source": [
    "plt.subplots(figsize=(13,7))\n",
    "sns.countplot(x=\"TypeofContact\",hue=\"ProdTaken\", data= df,ec = \"black\",palette=\"rainbow_r\")\n",
    "plt.title(\"TypeofContact vs Package taken?\", weight=\"bold\",fontsize=20, pad=20)\n",
    "plt.ylabel(\"Package Count\", weight=\"bold\", fontsize=20)\n",
    "plt.xlabel(\"TypeofContact?\", weight=\"bold\", fontsize=16)\n",
    "plt.show()"
   ]
  },
  {
   "cell_type": "markdown",
   "id": "984d1bc0",
   "metadata": {},
   "source": [
    "**Note:**\n",
    "- The Self inquiry are much more than Company Invited, company just need to capitalized on self inquiry"
   ]
  },
  {
   "cell_type": "code",
   "execution_count": 306,
   "id": "088f18b0",
   "metadata": {},
   "outputs": [
    {
     "data": {
      "text/plain": [
       "1.0    4450\n",
       "3.0    2364\n",
       "2.0     328\n",
       "Name: CityTier, dtype: int64"
      ]
     },
     "execution_count": 306,
     "metadata": {},
     "output_type": "execute_result"
    }
   ],
   "source": [
    "df['CityTier'].value_counts()"
   ]
  },
  {
   "cell_type": "code",
   "execution_count": 307,
   "id": "4e02f0e3",
   "metadata": {},
   "outputs": [
    {
     "data": {
      "image/png": "[encoded data removed]",
      "text/plain": [
       "<Figure size 936x504 with 1 Axes>"
      ]
     },
     "metadata": {
      "needs_background": "light"
     },
     "output_type": "display_data"
    }
   ],
   "source": [
    "plt.subplots(figsize=(13,7))\n",
    "sns.countplot(x=\"CityTier\",hue=\"ProdTaken\", data= df,ec = \"black\",palette=\"rainbow_r\")\n",
    "plt.title(\"CityTier vs Package taken?\", weight=\"bold\",fontsize=20, pad=20)\n",
    "plt.ylabel(\"Package Count\", weight=\"bold\", fontsize=20)\n",
    "plt.xlabel(\"CityTier\", weight=\"bold\", fontsize=16)\n",
    "plt.show()"
   ]
  },
  {
   "cell_type": "markdown",
   "id": "2fc55830",
   "metadata": {},
   "source": [
    "- Intresting to see that, there are more package taken from the third tier than second tier.\n",
    "- It shows how middle class lives"
   ]
  },
  {
   "cell_type": "code",
   "execution_count": 308,
   "id": "2a1653b7",
   "metadata": {},
   "outputs": [
    {
     "name": "stdout",
     "output_type": "stream",
     "text": [
      "Total 2018 talks for less than 10 minutes and only 898 were bought which is about 0.4449950445986125\n",
      "Total 4024 talks for between 10 and 30 minutes and only 2074 were bought which is about 0.5154075546719682\n",
      "Total 568 talks for more than 30 minutes and only 304 were bought which is about 0.5352112676056338\n",
      "\n",
      "\n",
      "Out of total 3571 packages, 0.25147017642117053 comes from talking less than 10 minutes, 0.5807896947633716 comes from talking between 10 minutes and 30 minutes, and 0.08513021562587511 comes from talking more than 30 minutes\n"
     ]
    }
   ],
   "source": [
    "pitch_less_10_and_taken = (df.loc[(df['DurationOfPitch']<10) & (df['ProdTaken'] == 1 )]).shape[0]\n",
    "pitch_less_10_and_not_taken = (df.loc[(df['DurationOfPitch']<10) & (df['ProdTaken'] == 0 )]).shape[0]\n",
    "\n",
    "pitch_between_10_30_and_taken = df.loc[(df['DurationOfPitch']<30) & (df['ProdTaken'] == 1 ) & (df['DurationOfPitch']>10)].shape[0]\n",
    "pitch_between_10_30_and_not_taken = df.loc[(df['DurationOfPitch']<30) & (df['ProdTaken'] == 0) & (df['DurationOfPitch']>10)].shape[0]\n",
    "\n",
    "pitch_more_than_30_and_taken = df.loc[(df['DurationOfPitch']>30) & (df['ProdTaken'] == 1 )].shape[0]\n",
    "pitch_more_than_30_and_not_taken = df.loc[(df['DurationOfPitch']>30) & (df['ProdTaken'] == 0)].shape[0]\n",
    "\n",
    "\n",
    "total_package_taken = (df.loc[(df['ProdTaken'] == 1 )]).shape[0]\n",
    "\n",
    "print(f\"Total {pitch_less_10_and_taken + pitch_less_10_and_not_taken} talks for less than 10 minutes and only {pitch_less_10_and_taken} were bought which is about {pitch_less_10_and_taken/(pitch_less_10_and_taken + pitch_less_10_and_not_taken)}\")\n",
    "print(f\"Total {pitch_between_10_30_and_taken + pitch_between_10_30_and_not_taken} talks for between 10 and 30 minutes and only {pitch_between_10_30_and_taken} were bought which is about {pitch_between_10_30_and_taken/(pitch_between_10_30_and_taken + pitch_between_10_30_and_not_taken)}\")\n",
    "print(f\"Total {pitch_more_than_30_and_taken + pitch_more_than_30_and_not_taken} talks for more than 30 minutes and only {pitch_more_than_30_and_taken} were bought which is about {pitch_more_than_30_and_taken/(pitch_more_than_30_and_taken + pitch_more_than_30_and_not_taken)}\")\n",
    "print('\\n')\n",
    "print(f\"Out of total {total_package_taken} packages, {pitch_less_10_and_taken/total_package_taken} comes from talking less than 10 minutes, {pitch_between_10_30_and_taken/total_package_taken} comes from talking between 10 minutes and 30 minutes, and {pitch_more_than_30_and_taken/total_package_taken} comes from talking more than 30 minutes\")"
   ]
  },
  {
   "cell_type": "markdown",
   "id": "6c66f7f2",
   "metadata": {},
   "source": [
    "**Note:**\n",
    "- It's obvious to see very few people talk more than 30 minutes and still they are talking more than 30 minutes, buying ratio is same\n",
    "- Most people talk between 10 minutes, in which most might be genuine customer and this pitch time range covers more than 50% of total package taken "
   ]
  },
  {
   "cell_type": "code",
   "execution_count": 309,
   "id": "97fbee8d",
   "metadata": {},
   "outputs": [
    {
     "data": {
      "image/png": "[encoded data removed]",
      "text/plain": [
       "<Figure size 936x504 with 1 Axes>"
      ]
     },
     "metadata": {
      "needs_background": "light"
     },
     "output_type": "display_data"
    }
   ],
   "source": [
    "plt.subplots(figsize=(13,7))\n",
    "sns.countplot(x=\"Occupation\",hue=\"ProdTaken\", data= df,ec = \"black\",palette=\"rainbow_r\")\n",
    "plt.title(\"Occupation vs Package taken?\", weight=\"bold\",fontsize=20, pad=20)\n",
    "plt.ylabel(\"Package Count\", weight=\"bold\", fontsize=20)\n",
    "plt.xlabel(\"Occupation\", weight=\"bold\", fontsize=16)\n",
    "plt.show()"
   ]
  },
  {
   "cell_type": "markdown",
   "id": "b20151cf",
   "metadata": {},
   "source": [
    "**Note:**\n",
    "- All these results, seems like we have seen them in real life\n",
    "- Salaried people are most, as they are secured and want some break\n",
    "- We all know most of the small business owner have the policy of earn and live a life\n",
    "- In the Large Business, there are very few package taken, but they seems to be sorted and their ratio of total inquiry seems to be more\n",
    "- Company is lacking Freelancer inquiries, really need to work on that"
   ]
  },
  {
   "cell_type": "code",
   "execution_count": 310,
   "id": "11f818fe",
   "metadata": {},
   "outputs": [
    {
     "data": {
      "image/png": "[encoded data removed]",
      "text/plain": [
       "<Figure size 936x504 with 1 Axes>"
      ]
     },
     "metadata": {
      "needs_background": "light"
     },
     "output_type": "display_data"
    }
   ],
   "source": [
    "\"\"\"\n",
    "I don't think gender would have more bias on buying package, but let's check\n",
    "\"\"\"\n",
    "\n",
    "plt.subplots(figsize=(13,7))\n",
    "sns.countplot(x=\"Gender\",hue=\"ProdTaken\", data= df,ec = \"black\",palette=\"rainbow_r\")\n",
    "plt.title(\"Gender vs Package taken?\", weight=\"bold\",fontsize=20, pad=20)\n",
    "plt.ylabel(\"Package Count\", weight=\"bold\", fontsize=20)\n",
    "plt.xlabel(\"Gender\", weight=\"bold\", fontsize=16)\n",
    "plt.show()"
   ]
  },
  {
   "cell_type": "markdown",
   "id": "d1e5492e",
   "metadata": {},
   "source": [
    "- For female, it seem that it has two values, need to replace it and then replot it "
   ]
  },
  {
   "cell_type": "code",
   "execution_count": 311,
   "id": "a3fc06ea",
   "metadata": {},
   "outputs": [],
   "source": [
    "df['Gender'].replace({'Fe Male': 'Female'}, inplace=True)"
   ]
  },
  {
   "cell_type": "code",
   "execution_count": 312,
   "id": "4430821d",
   "metadata": {},
   "outputs": [
    {
     "data": {
      "image/png": "[encoded data removed]",
      "text/plain": [
       "<Figure size 936x504 with 1 Axes>"
      ]
     },
     "metadata": {
      "needs_background": "light"
     },
     "output_type": "display_data"
    }
   ],
   "source": [
    "plt.subplots(figsize=(13,7))\n",
    "sns.countplot(x=\"Gender\",hue=\"ProdTaken\", data= df,ec = \"black\",palette=\"rainbow_r\")\n",
    "plt.title(\"Gender vs Package taken?\", weight=\"bold\",fontsize=20, pad=20)\n",
    "plt.ylabel(\"Package Count\", weight=\"bold\", fontsize=20)\n",
    "plt.xlabel(\"Gender\", weight=\"bold\", fontsize=16)\n",
    "plt.show()"
   ]
  },
  {
   "cell_type": "markdown",
   "id": "20dd6f11",
   "metadata": {},
   "source": [
    "**Note:**\n",
    "- As it can be seen, there doesn't seem to difference in ration of package bought by male or female\n",
    "- But we can see, amount of inquiry by female is less than male, sexism "
   ]
  },
  {
   "cell_type": "code",
   "execution_count": 313,
   "id": "7374851b",
   "metadata": {},
   "outputs": [
    {
     "data": {
      "text/plain": [
       "3.0    3542\n",
       "2.0    2066\n",
       "4.0    1498\n",
       "1.0      33\n",
       "5.0       3\n",
       "Name: NumberOfPersonVisiting, dtype: int64"
      ]
     },
     "execution_count": 313,
     "metadata": {},
     "output_type": "execute_result"
    }
   ],
   "source": [
    "df['NumberOfPersonVisiting'].value_counts()"
   ]
  },
  {
   "cell_type": "code",
   "execution_count": 314,
   "id": "a31708b2",
   "metadata": {},
   "outputs": [
    {
     "data": {
      "image/png": "[encoded data removed]",
      "text/plain": [
       "<Figure size 936x504 with 1 Axes>"
      ]
     },
     "metadata": {
      "needs_background": "light"
     },
     "output_type": "display_data"
    }
   ],
   "source": [
    "plt.subplots(figsize=(13,7))\n",
    "sns.countplot(x=\"NumberOfPersonVisiting\",hue=\"ProdTaken\", data= df,ec = \"black\",palette=\"rainbow_r\")\n",
    "plt.title(\"NumberOfPersonVisiting vs Package taken?\", weight=\"bold\",fontsize=20, pad=20)\n",
    "plt.ylabel(\"Package Count\", weight=\"bold\", fontsize=20)\n",
    "plt.xlabel(\"Number Of Person Visiting\", weight=\"bold\", fontsize=16)\n",
    "plt.show()"
   ]
  },
  {
   "cell_type": "markdown",
   "id": "731b7d77",
   "metadata": {},
   "source": [
    "**Note:**\n",
    "- This data also shows that most inquiries has 3 people, really need to control Population.\n",
    "- Out of more than 4500 records, only 39 people has one child "
   ]
  },
  {
   "cell_type": "code",
   "execution_count": 315,
   "id": "0dae9c8b",
   "metadata": {},
   "outputs": [
    {
     "data": {
      "image/png": "[encoded data removed]",
      "text/plain": [
       "<Figure size 1224x576 with 1 Axes>"
      ]
     },
     "metadata": {
      "needs_background": "light"
     },
     "output_type": "display_data"
    }
   ],
   "source": [
    "plt.subplots(figsize=(17,8))\n",
    "sns.countplot(x=\"NumberOfFollowups\",hue=\"ProdTaken\", data= df,ec = \"black\",palette=\"rainbow_r\")\n",
    "plt.title(\"NumberOfFollowups vs Package taken?\", weight=\"bold\",fontsize=20, pad=20)\n",
    "plt.ylabel(\"Package Count\", weight=\"bold\", fontsize=20)\n",
    "plt.xlabel(\"Number Of Followups by Sales Person\", weight=\"bold\", fontsize=16)\n",
    "plt.show()"
   ]
  },
  {
   "cell_type": "markdown",
   "id": "adfcc685",
   "metadata": {},
   "source": [
    "I want to see like if sales person is making 4 follow ups, then Is the ratio of buying is more and graph unable to show that"
   ]
  },
  {
   "cell_type": "code",
   "execution_count": 316,
   "id": "6c8c1394",
   "metadata": {},
   "outputs": [
    {
     "name": "stdout",
     "output_type": "stream",
     "text": [
      "For the follow up 1, total number is 220 and ratio is 0.34545454545454546\n",
      "For the follow up 2, total number is 279 and ratio is 0.30824372759856633\n",
      "For the follow up 3, total number is 2062 and ratio is 0.4684772065955383\n",
      "For the follow up 4, total number is 3028 and ratio is 0.4914134742404227\n",
      "For the follow up 5, total number is 1287 and ratio is 0.5928515928515928\n",
      "For the follow up 6, total number is 266 and ratio is 0.7218045112781954\n"
     ]
    }
   ],
   "source": [
    "for i in range(1, 7):\n",
    "    followup_taken = df.loc[(df['NumberOfFollowups'] == i) & (df['ProdTaken'] == 1)].shape[0]\n",
    "    followup_all= df.loc[(df['NumberOfFollowups'] == i)].shape[0]\n",
    "\n",
    "    followup_ratio = followup_taken/followup_all\n",
    "\n",
    "    print(f\"For the follow up {i}, total number is {followup_all} and ratio is {followup_ratio}\")\n"
   ]
  },
  {
   "cell_type": "markdown",
   "id": "bf2a01e7",
   "metadata": {},
   "source": [
    "**Note:**\n",
    "- Very Few inquiries has been followed for 6 times, and they have the highest ratio\n",
    "- It seem like in the second followups, people confused people has said no\n",
    "- It really good to see very few people went after just 1 follow up, it shows sales team is working well"
   ]
  },
  {
   "cell_type": "markdown",
   "id": "fb48fe71",
   "metadata": {},
   "source": []
  },
  {
   "cell_type": "code",
   "execution_count": 317,
   "id": "7bccb5c5",
   "metadata": {},
   "outputs": [
    {
     "data": {
      "image/png": "[encoded data removed]",
      "text/plain": [
       "<Figure size 1224x576 with 1 Axes>"
      ]
     },
     "metadata": {
      "needs_background": "light"
     },
     "output_type": "display_data"
    }
   ],
   "source": [
    "plt.subplots(figsize=(17,8))\n",
    "sns.countplot(x=\"ProductPitched\",hue=\"ProdTaken\", data= df,ec = \"black\",palette=\"rainbow_r\")\n",
    "plt.title(\"Product Pitched vs Package taken?\", weight=\"bold\",fontsize=20, pad=20)\n",
    "plt.ylabel(\"Package Count\", weight=\"bold\", fontsize=20)\n",
    "plt.xlabel(\"Product Pitched\", weight=\"bold\", fontsize=16)\n",
    "plt.show()"
   ]
  },
  {
   "cell_type": "markdown",
   "id": "b5a10f57",
   "metadata": {},
   "source": [
    "**Note:**\n",
    "- Super Deluxe and King are pitched very less and their buying count seems to be very low, need to work on this\n",
    "- Deluxe is pitched maximum but not bought and Basic is pitched less and count of buying is also good.\n",
    "- So, need to pitched more standard, super Deluxe and King. And less focus on Deluxe"
   ]
  },
  {
   "cell_type": "code",
   "execution_count": 318,
   "id": "2f81f4e0",
   "metadata": {},
   "outputs": [
    {
     "data": {
      "image/png": "[encoded data removed]",
      "text/plain": [
       "<Figure size 1224x576 with 1 Axes>"
      ]
     },
     "metadata": {
      "needs_background": "light"
     },
     "output_type": "display_data"
    }
   ],
   "source": [
    "plt.subplots(figsize=(17,8))\n",
    "sns.countplot(x=\"PreferredPropertyStar\",hue=\"ProdTaken\", data= df,ec = \"black\",palette=\"rainbow_r\")\n",
    "plt.title(\"Preferred Property Star vs Package taken?\", weight=\"bold\",fontsize=20, pad=20)\n",
    "plt.ylabel(\"Package Count\", weight=\"bold\", fontsize=20)\n",
    "plt.xlabel(\"Preferred Property Star\", weight=\"bold\", fontsize=16)\n",
    "plt.show()"
   ]
  },
  {
   "cell_type": "markdown",
   "id": "4abb41cd",
   "metadata": {},
   "source": [
    "One thing one can do is compare preferred property star and product pitched"
   ]
  },
  {
   "cell_type": "code",
   "execution_count": 319,
   "id": "71d61084",
   "metadata": {},
   "outputs": [
    {
     "name": "stdout",
     "output_type": "stream",
     "text": [
      "Product pitched for property 3\n",
      "0.0    1833\n",
      "1.0    1340\n",
      "3.0     587\n",
      "4.0     215\n",
      "2.0     163\n",
      "Name: ProductPitched, dtype: int64\n",
      "\n",
      "\n",
      "Product pitched for property 4\n",
      "0.0    695\n",
      "1.0    386\n",
      "3.0    166\n",
      "4.0     67\n",
      "2.0     57\n",
      "Name: ProductPitched, dtype: int64\n",
      "\n",
      "\n",
      "Product pitched for property 5\n",
      "0.0    812\n",
      "1.0    454\n",
      "3.0    261\n",
      "4.0     77\n",
      "2.0     29\n",
      "Name: ProductPitched, dtype: int64\n",
      "\n",
      "\n"
     ]
    }
   ],
   "source": [
    "for i in range(3, 6):\n",
    "    property_count = df['ProductPitched'].loc[(df['PreferredPropertyStar'] == i)]\n",
    "    print(f\"Product pitched for property {i}\")\n",
    "    print(property_count.value_counts()) \n",
    "    print('\\n')"
   ]
  },
  {
   "cell_type": "markdown",
   "id": "7428a3b7",
   "metadata": {},
   "source": [
    "**Note:**\n",
    "- One thing I am finding strange is suggesting Basic and deluxe\n",
    "- For business to improve, need to suggest Super Deluxe and King to the client who prefer 5 stars"
   ]
  },
  {
   "cell_type": "code",
   "execution_count": 320,
   "id": "213f8796",
   "metadata": {},
   "outputs": [
    {
     "data": {
      "image/png": "[encoded data removed]",
      "text/plain": [
       "<Figure size 1224x576 with 1 Axes>"
      ]
     },
     "metadata": {
      "needs_background": "light"
     },
     "output_type": "display_data"
    }
   ],
   "source": [
    "plt.subplots(figsize=(17,8))\n",
    "sns.countplot(x=\"MaritalStatus\",hue=\"ProdTaken\", data= df,ec = \"black\",palette=\"rainbow_r\")\n",
    "plt.title(\"Marital Status vs Package taken?\", weight=\"bold\",fontsize=20, pad=20)\n",
    "plt.ylabel(\"Package Count\", weight=\"bold\", fontsize=20)\n",
    "plt.xlabel(\"Marital Status\", weight=\"bold\", fontsize=16)\n",
    "plt.show()"
   ]
  },
  {
   "cell_type": "markdown",
   "id": "28e6245e",
   "metadata": {},
   "source": [
    "**Note:**\n",
    "- Single person with job is an ideal inquirer \n",
    "- Married person seemed to be confused and so they are inquiring but don't buy it\n",
    "- Sales team need to work on to handle married inquirer "
   ]
  },
  {
   "cell_type": "code",
   "execution_count": 321,
   "id": "26c9caf4",
   "metadata": {},
   "outputs": [
    {
     "data": {
      "image/png": "[encoded data removed]",
      "text/plain": [
       "<Figure size 1224x576 with 1 Axes>"
      ]
     },
     "metadata": {
      "needs_background": "light"
     },
     "output_type": "display_data"
    }
   ],
   "source": [
    "plt.subplots(figsize=(17,8))\n",
    "sns.countplot(x=\"Passport\",hue=\"ProdTaken\", data= df,ec = \"black\",palette=\"rainbow_r\")\n",
    "plt.title(\"Passport vs Package taken?\", weight=\"bold\",fontsize=20, pad=20)\n",
    "plt.ylabel(\"Package Count\", weight=\"bold\", fontsize=20)\n",
    "plt.xlabel(\"Passport\", weight=\"bold\", fontsize=16)\n",
    "plt.show()"
   ]
  },
  {
   "cell_type": "markdown",
   "id": "5ef2e5f3",
   "metadata": {},
   "source": [
    "**Note:**\n",
    "- Some outliers can be seen from this graph\n",
    "- Company seems to be new as very few seems to be taken trips more than 5\n",
    "- And they are achieving the customers, so 2 and 3 number of trips taken are more"
   ]
  },
  {
   "cell_type": "code",
   "execution_count": 322,
   "id": "c1083707",
   "metadata": {},
   "outputs": [
    {
     "data": {
      "image/png": "[encoded data removed]",
      "text/plain": [
       "<Figure size 1224x576 with 1 Axes>"
      ]
     },
     "metadata": {
      "needs_background": "light"
     },
     "output_type": "display_data"
    }
   ],
   "source": [
    "plt.subplots(figsize=(17,8))\n",
    "sns.countplot(x=\"PitchSatisfactionScore\",hue=\"ProdTaken\", data= df,ec = \"black\",palette=\"rainbow_r\")\n",
    "plt.title(\"Pitch Satisfaction Score vs Package taken?\", weight=\"bold\",fontsize=20, pad=20)\n",
    "plt.ylabel(\"Package Count\", weight=\"bold\", fontsize=20)\n",
    "plt.xlabel(\"Pitch Satisfaction Score\", weight=\"bold\", fontsize=16)\n",
    "plt.show()\n"
   ]
  },
  {
   "cell_type": "markdown",
   "id": "724c6959",
   "metadata": {},
   "source": [
    "Many customers are giving pitch score less than or equal to three, need to understand more about it"
   ]
  },
  {
   "cell_type": "code",
   "execution_count": 323,
   "id": "67325e5c",
   "metadata": {},
   "outputs": [
    {
     "name": "stdout",
     "output_type": "stream",
     "text": [
      "Ratio for the person with pitch less than or equal to 2 pitch rating score and buying package is 0.4444973797046212\n",
      "Ratio for the person with pitch more than or equal to 3 pitch rating score and buying package is 0.5231013285742614\n"
     ]
    }
   ],
   "source": [
    "pitch_score_less_equal_3_taken = df.loc[(df['PitchSatisfactionScore'] <= 2) & (df['ProdTaken'] == 1)].shape[0]\n",
    "pitch_score_less_equal_3_all = df.loc[(df['PitchSatisfactionScore'] <= 2)].shape[0]\n",
    "\n",
    "pitch_score_more_3_taken = df.loc[(df['PitchSatisfactionScore'] >= 3) & (df['ProdTaken'] == 1)].shape[0]\n",
    "pitch_score_more_3_all = df.loc[(df['PitchSatisfactionScore'] >= 3)].shape[0]\n",
    "\n",
    "print(f\"Ratio for the person with pitch less than or equal to 2 pitch rating score and buying package is {pitch_score_less_equal_3_taken/pitch_score_less_equal_3_all}\")\n",
    "print(f\"Ratio for the person with pitch more than or equal to 3 pitch rating score and buying package is {pitch_score_more_3_taken/pitch_score_more_3_all}\")\n"
   ]
  },
  {
   "cell_type": "markdown",
   "id": "0e71d1bd",
   "metadata": {},
   "source": [
    "**Note:**\n",
    "- There are many ratings score less than or equal to 2, and there is difference of around 5% in the buying ration\n",
    "- Sales team really need to put on efforts"
   ]
  },
  {
   "cell_type": "code",
   "execution_count": 324,
   "id": "843e6051",
   "metadata": {},
   "outputs": [
    {
     "data": {
      "image/png": "[encoded data removed]",
      "text/plain": [
       "<Figure size 1224x576 with 1 Axes>"
      ]
     },
     "metadata": {
      "needs_background": "light"
     },
     "output_type": "display_data"
    }
   ],
   "source": [
    "plt.subplots(figsize=(17,8))\n",
    "sns.countplot(x=\"OwnCar\",hue=\"ProdTaken\", data= df,ec = \"black\",palette=\"rainbow_r\")\n",
    "plt.title(\"Own Car vs Package taken?\", weight=\"bold\",fontsize=20, pad=20)\n",
    "plt.ylabel(\"Package Count\", weight=\"bold\", fontsize=20)\n",
    "plt.xlabel(\"Own Car\", weight=\"bold\", fontsize=16)\n",
    "plt.show()\n"
   ]
  },
  {
   "cell_type": "markdown",
   "id": "25db852a",
   "metadata": {},
   "source": [
    "**Note:**\n",
    "- There has been many inquiries from the customer who can afford car, but we are unable to capitalized on them "
   ]
  },
  {
   "cell_type": "code",
   "execution_count": 325,
   "id": "6ad259fe",
   "metadata": {},
   "outputs": [
    {
     "data": {
      "image/png": "[encoded data removed]",
      "text/plain": [
       "<Figure size 1224x576 with 1 Axes>"
      ]
     },
     "metadata": {
      "needs_background": "light"
     },
     "output_type": "display_data"
    }
   ],
   "source": [
    "plt.subplots(figsize=(17,8))\n",
    "sns.countplot(x=\"NumberOfChildrenVisiting\",hue=\"ProdTaken\", data= df,ec = \"black\",palette=\"rainbow_r\")\n",
    "plt.title(\"Number Of Children Planning vs Package taken?\", weight=\"bold\",fontsize=20, pad=20)\n",
    "plt.ylabel(\"Package Count\", weight=\"bold\", fontsize=20)\n",
    "plt.xlabel(\"Number Of Children Visiting\", weight=\"bold\", fontsize=16)\n",
    "plt.show()"
   ]
  },
  {
   "cell_type": "markdown",
   "id": "009eb352",
   "metadata": {},
   "source": [
    "**Note:**\n",
    "- Don't think the number of children visiting affect the person buying the package, but will try to analyse more in correlation part"
   ]
  },
  {
   "cell_type": "code",
   "execution_count": 326,
   "id": "80f1047e",
   "metadata": {},
   "outputs": [
    {
     "data": {
      "image/png": "[encoded data removed]",
      "text/plain": [
       "<Figure size 1224x576 with 1 Axes>"
      ]
     },
     "metadata": {
      "needs_background": "light"
     },
     "output_type": "display_data"
    }
   ],
   "source": [
    "plt.subplots(figsize=(17,8))\n",
    "sns.countplot(x=\"Designation\",hue=\"ProdTaken\", data= df,ec = \"black\",palette=\"rainbow_r\")\n",
    "plt.title(\"Designation vs Package taken?\", weight=\"bold\",fontsize=20, pad=20)\n",
    "plt.ylabel(\"Package Count\", weight=\"bold\", fontsize=20)\n",
    "plt.xlabel(\"Designation\", weight=\"bold\", fontsize=16)\n",
    "plt.show()"
   ]
  },
  {
   "cell_type": "markdown",
   "id": "67b38f09",
   "metadata": {},
   "source": [
    "**Note:**\n",
    "- Company is getting the most inquiries from Manager and executive. "
   ]
  },
  {
   "cell_type": "markdown",
   "id": "d6644acb",
   "metadata": {},
   "source": [
    "## Null and duplicate Values  \n",
    "- If there are null values, how you will handle it"
   ]
  },
  {
   "cell_type": "markdown",
   "id": "babfba99",
   "metadata": {},
   "source": [
    "Let's see the how many null values and duplicate values are there"
   ]
  },
  {
   "cell_type": "code",
   "execution_count": 327,
   "id": "ddc3d285",
   "metadata": {},
   "outputs": [
    {
     "data": {
      "text/plain": [
       "Age                         0\n",
       "TypeofContact               0\n",
       "CityTier                    0\n",
       "DurationOfPitch             0\n",
       "Occupation                  0\n",
       "Gender                      0\n",
       "NumberOfPersonVisiting      0\n",
       "NumberOfFollowups           0\n",
       "ProductPitched              0\n",
       "PreferredPropertyStar       0\n",
       "MaritalStatus               0\n",
       "NumberOfTrips               0\n",
       "Passport                    0\n",
       "PitchSatisfactionScore      0\n",
       "OwnCar                      0\n",
       "NumberOfChildrenVisiting    0\n",
       "Designation                 0\n",
       "MonthlyIncome               0\n",
       "ProdTaken                   0\n",
       "dtype: int64"
      ]
     },
     "execution_count": 327,
     "metadata": {},
     "output_type": "execute_result"
    }
   ],
   "source": [
    "df.isnull().sum()"
   ]
  },
  {
   "cell_type": "markdown",
   "id": "c072650f",
   "metadata": {},
   "source": [
    "## Outliers\n",
    "- If there are outliers, how you will handle it"
   ]
  },
  {
   "cell_type": "code",
   "execution_count": null,
   "id": "da52a076",
   "metadata": {},
   "outputs": [],
   "source": []
  },
  {
   "cell_type": "code",
   "execution_count": 328,
   "id": "73a1f429",
   "metadata": {},
   "outputs": [
    {
     "data": {
      "text/plain": [
       "(7936,)"
      ]
     },
     "execution_count": 328,
     "metadata": {},
     "output_type": "execute_result"
    }
   ],
   "source": [
    "X.shape\n",
    "y.shape"
   ]
  },
  {
   "cell_type": "code",
   "execution_count": 329,
   "id": "93b959f2",
   "metadata": {},
   "outputs": [
    {
     "data": {
      "text/plain": [
       "((6427, 18), (715, 18))"
      ]
     },
     "execution_count": 329,
     "metadata": {},
     "output_type": "execute_result"
    }
   ],
   "source": [
    "from sklearn.naive_bayes import GaussianNB\n",
    "from sklearn.ensemble import RandomForestClassifier, GradientBoostingClassifier, AdaBoostClassifier\n",
    "from sklearn.linear_model import LogisticRegression\n",
    "from sklearn.neighbors import KNeighborsClassifier\n",
    "from sklearn.metrics import accuracy_score, classification_report,ConfusionMatrixDisplay, \\\n",
    "                            precision_score, recall_score, f1_score\n",
    "from sklearn.svm import SVC\n",
    "from sklearn.tree import DecisionTreeClassifier\n",
    "from xgboost import XGBClassifier\n",
    "from catboost import CatBoostClassifier\n",
    "from sklearn.model_selection import train_test_split\n",
    "\n",
    "# separate dataset into train and test\n",
    "X_train, X_test, y_train, y_test = train_test_split(X_train,y_train,test_size=0.1,random_state=36)\n",
    "X_train.shape, X_test.shape"
   ]
  },
  {
   "cell_type": "code",
   "execution_count": 330,
   "id": "92f3fa95",
   "metadata": {},
   "outputs": [
    {
     "name": "stdout",
     "output_type": "stream",
     "text": [
      "Random Forest\n",
      "Model performance for Training set\n",
      "- Accuracy: 1.0000\n",
      "- F1 score: 1.0000\n",
      "- Precision: 1.0000\n",
      "- Recall: 1.0000\n",
      "----------------------------------\n",
      "Model performance for Test set\n",
      "- Accuracy: 0.9846\n",
      "- F1 score: 0.9846\n",
      "- Precision: 0.9729\n",
      "- Recall: 0.9972\n",
      "===================================\n",
      "\n",
      "\n",
      "Naive Bayes\n",
      "Model performance for Training set\n",
      "- Accuracy: 0.6796\n",
      "- F1 score: 0.6781\n",
      "- Precision: 0.6574\n",
      "- Recall: 0.7493\n",
      "----------------------------------\n",
      "Model performance for Test set\n",
      "- Accuracy: 0.6615\n",
      "- F1 score: 0.6582\n",
      "- Precision: 0.6379\n",
      "- Recall: 0.7583\n",
      "===================================\n",
      "\n",
      "\n",
      "Gradient Boosting\n",
      "Model performance for Training set\n",
      "- Accuracy: 0.8298\n",
      "- F1 score: 0.8297\n",
      "- Precision: 0.8454\n",
      "- Recall: 0.8069\n",
      "----------------------------------\n",
      "Model performance for Test set\n",
      "- Accuracy: 0.8224\n",
      "- F1 score: 0.8224\n",
      "- Precision: 0.8209\n",
      "- Recall: 0.8278\n",
      "===================================\n",
      "\n",
      "\n",
      "Logistic Regression\n",
      "Model performance for Training set\n",
      "- Accuracy: 0.6406\n",
      "- F1 score: 0.6396\n",
      "- Precision: 0.6270\n",
      "- Recall: 0.6926\n",
      "----------------------------------\n",
      "Model performance for Test set\n",
      "- Accuracy: 0.6140\n",
      "- F1 score: 0.6119\n",
      "- Precision: 0.6024\n",
      "- Recall: 0.6861\n",
      "===================================\n",
      "\n",
      "\n",
      "K-Neighbors Classifier\n",
      "Model performance for Training set\n",
      "- Accuracy: 0.8807\n",
      "- F1 score: 0.8797\n",
      "- Precision: 0.8238\n",
      "- Recall: 0.9682\n",
      "----------------------------------\n",
      "Model performance for Test set\n",
      "- Accuracy: 0.8252\n",
      "- F1 score: 0.8232\n",
      "- Precision: 0.7714\n",
      "- Recall: 0.9278\n",
      "===================================\n",
      "\n",
      "\n",
      "XGBClassifier\n",
      "Model performance for Training set\n",
      "- Accuracy: 1.0000\n",
      "- F1 score: 1.0000\n",
      "- Precision: 1.0000\n",
      "- Recall: 1.0000\n",
      "----------------------------------\n",
      "Model performance for Test set\n",
      "- Accuracy: 0.9706\n",
      "- F1 score: 0.9706\n",
      "- Precision: 0.9472\n",
      "- Recall: 0.9972\n",
      "===================================\n",
      "\n",
      "\n",
      "CatBoosting Classifier\n",
      "Model performance for Training set\n",
      "- Accuracy: 0.9919\n",
      "- F1 score: 0.9919\n",
      "- Precision: 0.9901\n",
      "- Recall: 0.9938\n",
      "----------------------------------\n",
      "Model performance for Test set\n",
      "- Accuracy: 0.9650\n",
      "- F1 score: 0.9650\n",
      "- Precision: 0.9491\n",
      "- Recall: 0.9833\n",
      "===================================\n",
      "\n",
      "\n",
      "Support Vector Classifier\n",
      "Model performance for Training set\n",
      "- Accuracy: 0.5955\n",
      "- F1 score: 0.5944\n",
      "- Precision: 0.6058\n",
      "- Recall: 0.5447\n",
      "----------------------------------\n",
      "Model performance for Test set\n",
      "- Accuracy: 0.6084\n",
      "- F1 score: 0.6077\n",
      "- Precision: 0.6220\n",
      "- Recall: 0.5667\n",
      "===================================\n",
      "\n",
      "\n",
      "AdaBoost Classifier\n",
      "Model performance for Training set\n",
      "- Accuracy: 0.7540\n",
      "- F1 score: 0.7540\n",
      "- Precision: 0.7545\n",
      "- Recall: 0.7524\n",
      "----------------------------------\n",
      "Model performance for Test set\n",
      "- Accuracy: 0.7580\n",
      "- F1 score: 0.7580\n",
      "- Precision: 0.7520\n",
      "- Recall: 0.7750\n",
      "===================================\n",
      "\n",
      "\n"
     ]
    }
   ],
   "source": [
    "models = {\n",
    "    \"Random Forest\": RandomForestClassifier(n_estimators=1000, min_samples_split=2, max_features= 'auto', max_depth= 20),\n",
    "    \"Naive Bayes\": GaussianNB(),\n",
    "    \"Gradient Boosting\": GradientBoostingClassifier(),\n",
    "    \"Logistic Regression\": LogisticRegression(),\n",
    "    \"K-Neighbors Classifier\": KNeighborsClassifier(),\n",
    "    \"XGBClassifier\": XGBClassifier(), \n",
    "    \"CatBoosting Classifier\": CatBoostClassifier(verbose=False),\n",
    "    \"Support Vector Classifier\": SVC(),\n",
    "    \"AdaBoost Classifier\": AdaBoostClassifier()\n",
    "}\n",
    "\n",
    "for i in range(len(list(models))):\n",
    "    model = list(models.values())[i]\n",
    "    model.fit(X_train, y_train) # Train model\n",
    "\n",
    "    # Make predictions\n",
    "    y_train_pred = model.predict(X_train)\n",
    "    y_test_pred = model.predict(X_test)\n",
    "\n",
    "    # Training set performance\n",
    "    model_train_accuracy = accuracy_score(y_train, y_train_pred) # Calculate Accuracy\n",
    "    model_train_f1 = f1_score(y_train, y_train_pred, average='weighted') # Calculate F1-score\n",
    "    model_train_precision = precision_score(y_train, y_train_pred) # Calculate Precision\n",
    "    model_train_recall = recall_score(y_train, y_train_pred) # Calculate Recall\n",
    "\n",
    "\n",
    "    # Test set performance\n",
    "    model_test_accuracy = accuracy_score(y_test, y_test_pred) # Calculate Accuracy\n",
    "    model_test_f1 = f1_score(y_test, y_test_pred, average='weighted') # Calculate F1-score\n",
    "    model_test_precision = precision_score(y_test, y_test_pred) # Calculate Precision\n",
    "    model_test_recall = recall_score(y_test, y_test_pred) # Calculate Recall\n",
    "\n",
    "\n",
    "    print(list(models.keys())[i])\n",
    "    \n",
    "    print('Model performance for Training set')\n",
    "    print(\"- Accuracy: {:.4f}\".format(model_train_accuracy))\n",
    "    print('- F1 score: {:.4f}'.format(model_train_f1))\n",
    "    print('- Precision: {:.4f}'.format(model_train_precision))\n",
    "    print('- Recall: {:.4f}'.format(model_train_recall))\n",
    "    \n",
    "    print('----------------------------------')\n",
    "    \n",
    "    print('Model performance for Test set')\n",
    "    print('- Accuracy: {:.4f}'.format(model_test_accuracy))\n",
    "    print('- F1 score: {:.4f}'.format(model_test_f1))\n",
    "    print('- Precision: {:.4f}'.format(model_test_precision))\n",
    "    print('- Recall: {:.4f}'.format(model_test_recall))\n",
    "    \n",
    "    print('='*35)\n",
    "    print('\\n')"
   ]
  },
  {
   "cell_type": "code",
   "execution_count": 331,
   "id": "ecc6c004",
   "metadata": {},
   "outputs": [],
   "source": [
    "knn_params = {\"n_neighbors\": [2, 3, 10, 20, 40, 50]}\n",
    "\n",
    "rf_params = {\"max_depth\": [5, 8, 15, None, 10],\n",
    "             \"max_features\": [5, 7, \"auto\", 8],\n",
    "             \"min_samples_split\": [2, 8, 15, 20],\n",
    "             \"n_estimators\": [100, 200, 500, 1000]}\n",
    "\n",
    "xgboost_params = {\"learning_rate\": [0.1, 0.01],\n",
    "                  \"max_depth\": [5, 8, 12, 20, 30],\n",
    "                  \"n_estimators\": [100, 200, 300],\n",
    "                  \"colsample_bytree\": [0.5, 0.8, 1, 0.3, 0.4]}\n",
    "\n",
    "cat_params = {\"learning_rate\": [0.1, 0.01],\n",
    "              \"max_depth\": [5, 8, 12, 20, 30]}"
   ]
  },
  {
   "cell_type": "code",
   "execution_count": 332,
   "id": "ba020f99",
   "metadata": {},
   "outputs": [],
   "source": [
    "randomcv_models = [('KNN', KNeighborsClassifier(), knn_params),\n",
    "                   (\"RF\", RandomForestClassifier(), rf_params),\n",
    "                   ('XGBoost', XGBClassifier(), xgboost_params),\n",
    "                   ('CatBoost', CatBoostClassifier(verbose=False), cat_params)\n",
    "                ]\n",
    "\n",
    "from sklearn.model_selection import GridSearchCV\n",
    "\n",
    "model_param = {}\n",
    "for name, model, params in randomcv_models:\n",
    "    rf_random = GridSearchCV(estimator=model, param_grid=params)\n",
    "    rf_random.fit(X_train, y_train)\n",
    "    model_param[name] = rf_random. best_params_\n",
    "\n",
    "for model_name in model_param:\n",
    "    print(f\"---------------- Best Params for {model_name} -------------------\")\n",
    "    print(model_param[model_name])"
   ]
  },
  {
   "cell_type": "code",
   "execution_count": null,
   "id": "b97c6b47",
   "metadata": {},
   "outputs": [
    {
     "name": "stdout",
     "output_type": "stream",
     "text": [
      "Model performance for Training set\n",
      "- Accuracy: 1.0000\n",
      "- F1 score: 1.0000\n",
      "- Precision: 1.0000\n",
      "- Recall: 1.0000\n",
      "----------------------------------\n",
      "Model performance for Test set\n",
      "- Accuracy: 0.9460\n",
      "- F1 score: 0.9452\n",
      "- Precision: 0.9568\n",
      "- Recall: 0.8636\n",
      "===================================\n",
      "\n",
      "\n"
     ]
    }
   ],
   "source": [
    "model = XGBClassifier(colsample_bytree= 0.5, learning_rate= 0.1, max_depth= 12, n_estimators=300)\n",
    "model.fit(X_train, y_train) # Train model\n",
    "\n",
    "    # Make predictions\n",
    "y_train_pred = model.predict(X_train)\n",
    "y_test_pred = model.predict(X_test)\n",
    "\n",
    "    # Training set performance\n",
    "model_train_accuracy = accuracy_score(y_train, y_train_pred) # Calculate Accuracy\n",
    "model_train_f1 = f1_score(y_train, y_train_pred, average='weighted') # Calculate F1-score\n",
    "model_train_precision = precision_score(y_train, y_train_pred) # Calculate Precision\n",
    "model_train_recall = recall_score(y_train, y_train_pred) # Calculate Recall\n",
    "\n",
    "\n",
    "    # Test set performance\n",
    "model_test_accuracy = accuracy_score(y_test, y_test_pred) # Calculate Accuracy\n",
    "model_test_f1 = f1_score(y_test, y_test_pred, average='weighted') # Calculate F1-score\n",
    "model_test_precision = precision_score(y_test, y_test_pred) # Calculate Precision\n",
    "model_test_recall = recall_score(y_test, y_test_pred) # Calculate Recall\n",
    "\n",
    "   \n",
    "print('Model performance for Training set')\n",
    "print(\"- Accuracy: {:.4f}\".format(model_train_accuracy))\n",
    "print('- F1 score: {:.4f}'.format(model_train_f1))\n",
    "print('- Precision: {:.4f}'.format(model_train_precision))\n",
    "print('- Recall: {:.4f}'.format(model_train_recall))\n",
    "    \n",
    "print('----------------------------------')\n",
    "    \n",
    "print('Model performance for Test set')\n",
    "print('- Accuracy: {:.4f}'.format(model_test_accuracy))\n",
    "print('- F1 score: {:.4f}'.format(model_test_f1))\n",
    "print('- Precision: {:.4f}'.format(model_test_precision))\n",
    "print('- Recall: {:.4f}'.format(model_test_recall))\n",
    "    \n",
    "print('='*35)\n",
    "print('\\n')"
   ]
  },
  {
   "cell_type": "code",
   "execution_count": null,
   "id": "36598176",
   "metadata": {},
   "outputs": [],
   "source": []
  }
 ],
 "metadata": {
  "kernelspec": {
   "display_name": "Python 3 (ipykernel)",
   "language": "python",
   "name": "python3"
  },
  "language_info": {
   "codemirror_mode": {
    "name": "ipython",
    "version": 3
   },
   "file_extension": ".py",
   "mimetype": "text/x-python",
   "name": "python",
   "nbconvert_exporter": "python",
   "pygments_lexer": "ipython3",
   "version": "3.9.12"
  },
  "vscode": {
   "interpreter": {
    "hash": "6d34d7917548ee640d847486ced19568f6502c47845734a38c6d6fef27e006ff"
   }
  }
 },
 "nbformat": 4,
 "nbformat_minor": 5
}
